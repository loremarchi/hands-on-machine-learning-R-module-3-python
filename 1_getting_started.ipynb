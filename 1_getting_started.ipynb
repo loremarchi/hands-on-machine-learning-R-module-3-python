{
 "cells": [
  {
   "cell_type": "markdown",
   "metadata": {},
   "source": [
    "# 1. Getting started"
   ]
  },
  {
   "cell_type": "markdown",
   "metadata": {},
   "source": [
    "**TensorFlow** is an end-to-end open source platform for machine learning. It has a comprehensive, flexible ecosystem of tools, libraries and community resources that lets researchers push the state-of-the-art in ML and developers easily build and deploy ML powered applications."
   ]
  },
  {
   "cell_type": "markdown",
   "metadata": {},
   "source": [
    "**Keras** is a high-level neural networks library that is running on the top of TensorFlow. Using Keras in deep learning allows for easy and fast prototyping as well as running seamlessly on CPU and GPU. This framework is written in Python code which is easy to debug and allows ease for extensibility."
   ]
  },
  {
   "cell_type": "markdown",
   "metadata": {},
   "source": [
    "In a big data world with structured and unstructured data, our input can be:\n",
    "* a single time series: 1-dimensional, with 1 axis\n",
    "* one sound fragment: 2-dimensional, with 2 axes\n",
    "* one image in color: 3-dimensional, with 3 axes\n",
    "* one movie: 4-dimensional, with 4 axes"
   ]
  },
  {
   "cell_type": "markdown",
   "metadata": {},
   "source": [
    "We require a framework that can flexibly adjust to all these data structures!"
   ]
  },
  {
   "cell_type": "markdown",
   "metadata": {},
   "source": [
    "TensorFlow is this flexible framework which consists of highly optimized functions based on tensors. What is a tensor?\n",
    "* **1-dimensional tensor** is a vector (e.g. closing daily stock price during 250 days)\n",
    "<img src=\"./imgs/tensor1.png\" alt=\"autoencoder_schema\" style=\"width: 300px;\"/>\n",
    "* **2-dimensional tensor** is a matrix (e.g. a tabular data set with observations and features)\n",
    "<img src=\"./imgs/tensor2.png\" alt=\"autoencoder_schema\" style=\"width: 300px;\"/>\n",
    "* **3-dimensional tensor**, e.g. stock price dataset where one year of data can then be stored in a 3D tensor **(samples, timesteps, features)**, here **(250, 390, 3)**\n",
    "    * each minute we record the current price, lowest price and highest price\n",
    "    * a trading day has 390 minutes and a trading year has 250 days.\n",
    "<figure>\n",
    "<img src=\"./imgs/tensor3.png\" alt=\"autoencoder_schema\" style=\"width: 400px;\"/>\n",
    "<figcaption><center>Source: <a href=\"https://github.com/rstudio-conf-2020/dl-keras-tf\">Bradley Boehmke</a>.<p></p></center></figcaption>\n",
    "</figure>\n",
    "* **4-dimensional tensor**, e.g. picture an image data set where\n",
    "    * each image has a specific height and width\n",
    "    * three color channels (Red, Green, Blue) are registered\n",
    "    * a collection of images are stored in the structure **(samples, height, width, channels)**\n",
    "<figure>\n",
    "<img src=\"./imgs/tensor4.png\" alt=\"autoencoder_schema\" style=\"width: 400px;\"/>\n",
    "<figcaption><center>Source: <a href=\"https://github.com/rstudio-conf-2020/dl-keras-tf\">Bradley Boehmke</a>.<p></p></center></figcaption>\n",
    "</figure>\n",
    "* **5-dimensional tensor**, e.g. Let's picture an video data set where\n",
    "    * each video sample is one minute long and has anumber of frames per second (e.g. 4 frames persecond)\n",
    "    * each frame has a specific height (e.g. 256 pixels) andwidth (e.g. 144 pixels)\n",
    "    * three color channels (Red, Green, Blue)\n",
    "    * multiple images ( samples ) are stored.\n",
    "    * a collection of images can be stored in a 4D tensor(samples, frames, height, width, channels) whichbecomes here (samples, 240, 256, 144, 3) .\n",
    "<figure>\n",
    "<img src=\"./imgs/tensor5.png\" alt=\"autoencoder_schema\" style=\"width: 400px;\"/>\n",
    "<figcaption><center>Source: <a href=\"https://github.com/rstudio-conf-2020/dl-keras-tf\">Bradley Boehmke</a>.<p></p></center></figcaption>\n",
    "</figure>"
   ]
  },
  {
   "cell_type": "code",
   "execution_count": 3,
   "metadata": {},
   "outputs": [],
   "source": [
    "# import libs\n",
    "import tensorflow as tf\n",
    "import numpy as np"
   ]
  },
  {
   "cell_type": "code",
   "execution_count": 6,
   "metadata": {},
   "outputs": [
    {
     "data": {
      "text/plain": [
       "<tf.Tensor: id=2, shape=(3, 2), dtype=float32, numpy=\n",
       "array([[1., 2.],\n",
       "       [3., 4.],\n",
       "       [5., 6.]], dtype=float32)>"
      ]
     },
     "execution_count": 6,
     "metadata": {},
     "output_type": "execute_result"
    }
   ],
   "source": [
    "# create 2D tensor (3x2) with custom values\n",
    "x = tf.constant([1,2,3,4,5,6], shape = [3,2], dtype=tf.float32); x"
   ]
  },
  {
   "cell_type": "code",
   "execution_count": 7,
   "metadata": {},
   "outputs": [
    {
     "data": {
      "text/plain": [
       "<tf.Tensor: id=5, shape=(2, 2), dtype=float32, numpy=\n",
       "array([[1., 1.],\n",
       "       [1., 1.]], dtype=float32)>"
      ]
     },
     "execution_count": 7,
     "metadata": {},
     "output_type": "execute_result"
    }
   ],
   "source": [
    "# create 2D tensor (2x2) with only unit values\n",
    "ones = tf.ones(shape=[2,2], dtype=tf.float32); ones"
   ]
  },
  {
   "cell_type": "code",
   "execution_count": 15,
   "metadata": {},
   "outputs": [
    {
     "data": {
      "text/plain": [
       "<tf.Tensor: id=11, shape=(2,), dtype=float32, numpy=array([3., 4.], dtype=float32)>"
      ]
     },
     "execution_count": 15,
     "metadata": {},
     "output_type": "execute_result"
    }
   ],
   "source": [
    "# column-wise mean\n",
    "tf.math.reduce_mean(x, axis = 0)"
   ]
  },
  {
   "cell_type": "code",
   "execution_count": 16,
   "metadata": {},
   "outputs": [
    {
     "data": {
      "text/plain": [
       "<tf.Tensor: id=13, shape=(3,), dtype=float32, numpy=array([1.5, 3.5, 5.5], dtype=float32)>"
      ]
     },
     "execution_count": 16,
     "metadata": {},
     "output_type": "execute_result"
    }
   ],
   "source": [
    "# row-wise mean\n",
    "tf.math.reduce_mean(x, axis = 1)"
   ]
  },
  {
   "cell_type": "markdown",
   "metadata": {},
   "source": [
    "**Note that** Object x is also numpy-compatible, so it is possible to calculate the mean using _np.mean_. _tf.reduce_mean_ is multi-threaded, typically calculated on your GPU. _np.mean_ is calculated on a single CPU."
   ]
  },
  {
   "cell_type": "code",
   "execution_count": 22,
   "metadata": {},
   "outputs": [
    {
     "data": {
      "text/plain": [
       "array([1.5, 3.5, 5.5], dtype=float32)"
      ]
     },
     "execution_count": 22,
     "metadata": {},
     "output_type": "execute_result"
    }
   ],
   "source": [
    "# row-wise mean\n",
    "np.mean(x, axis = 1)"
   ]
  },
  {
   "cell_type": "code",
   "execution_count": 23,
   "metadata": {},
   "outputs": [
    {
     "data": {
      "text/plain": [
       "array([3., 4.], dtype=float32)"
      ]
     },
     "execution_count": 23,
     "metadata": {},
     "output_type": "execute_result"
    }
   ],
   "source": [
    "# column-wise mean\n",
    "np.mean(x, axis = 0)"
   ]
  },
  {
   "cell_type": "code",
   "execution_count": 24,
   "metadata": {},
   "outputs": [
    {
     "data": {
      "text/plain": [
       "3.5"
      ]
     },
     "execution_count": 24,
     "metadata": {},
     "output_type": "execute_result"
    }
   ],
   "source": [
    "# general matrix mean\n",
    "np.mean(x)"
   ]
  },
  {
   "cell_type": "markdown",
   "metadata": {},
   "source": [
    "**Question 1:** Create a 3-dimensional tensor with values 1,...,12 and shape (2,3,2)"
   ]
  },
  {
   "cell_type": "code",
   "execution_count": 25,
   "metadata": {},
   "outputs": [
    {
     "data": {
      "text/plain": [
       "<tf.Tensor: id=16, shape=(2, 3, 2), dtype=float32, numpy=\n",
       "array([[[ 1.,  2.],\n",
       "        [ 3.,  4.],\n",
       "        [ 5.,  6.]],\n",
       "\n",
       "       [[ 7.,  8.],\n",
       "        [ 9., 10.],\n",
       "        [11., 12.]]], dtype=float32)>"
      ]
     },
     "execution_count": 25,
     "metadata": {},
     "output_type": "execute_result"
    }
   ],
   "source": [
    "x = tf.constant([i+1 for i in range(12)], shape=(2,3,2), dtype = tf.float32); x"
   ]
  },
  {
   "cell_type": "markdown",
   "metadata": {},
   "source": [
    "**Question 2:** Calculate the logarithm"
   ]
  },
  {
   "cell_type": "code",
   "execution_count": 27,
   "metadata": {},
   "outputs": [
    {
     "data": {
      "text/plain": [
       "<tf.Tensor: id=18, shape=(2, 3, 2), dtype=float32, numpy=\n",
       "array([[[0.       , 0.6931472],\n",
       "        [1.0986123, 1.3862944],\n",
       "        [1.609438 , 1.7917595]],\n",
       "\n",
       "       [[1.9459102, 2.0794415],\n",
       "        [2.1972246, 2.3025851],\n",
       "        [2.3978953, 2.4849067]]], dtype=float32)>"
      ]
     },
     "execution_count": 27,
     "metadata": {},
     "output_type": "execute_result"
    }
   ],
   "source": [
    "log_x = tf.math.log(x); log_x"
   ]
  },
  {
   "cell_type": "markdown",
   "metadata": {},
   "source": [
    "**Question 3:** Calculate the logarithm"
   ]
  },
  {
   "cell_type": "code",
   "execution_count": 30,
   "metadata": {},
   "outputs": [
    {
     "data": {
      "text/plain": [
       "<tf.Tensor: id=22, shape=(2, 3), dtype=float32, numpy=\n",
       "array([[ 1.5,  3.5,  5.5],\n",
       "       [ 7.5,  9.5, 11.5]], dtype=float32)>"
      ]
     },
     "execution_count": 30,
     "metadata": {},
     "output_type": "execute_result"
    }
   ],
   "source": [
    "mean_x_ax3 = tf.math.reduce_mean(x, axis = 2); mean_x_ax3"
   ]
  }
 ],
 "metadata": {
  "kernelspec": {
   "display_name": "Python 3",
   "language": "python",
   "name": "python3"
  },
  "language_info": {
   "codemirror_mode": {
    "name": "ipython",
    "version": 3
   },
   "file_extension": ".py",
   "mimetype": "text/x-python",
   "name": "python",
   "nbconvert_exporter": "python",
   "pygments_lexer": "ipython3",
   "version": "3.7.6"
  }
 },
 "nbformat": 4,
 "nbformat_minor": 4
}
