{
 "cells": [
  {
   "cell_type": "markdown",
   "metadata": {},
   "source": [
    "# 2. Fundamentals"
   ]
  },
  {
   "cell_type": "markdown",
   "metadata": {},
   "source": [
    "# 2.1 Data sets in use"
   ]
  },
  {
   "cell_type": "markdown",
   "metadata": {},
   "source": [
    "### 2.1.1 Data sets used in this course - MTPL"
   ]
  },
  {
   "cell_type": "markdown",
   "metadata": {},
   "source": [
    "We will (once again) use the Motor Third Party Liability data set. There are 163,231 policyholders in this data set."
   ]
  },
  {
   "cell_type": "markdown",
   "metadata": {},
   "source": [
    "The frequency of claiming ( nclaims ) and corresponding severity ( avg , the amount paid on average per claim reported by a\n",
    "policyholder) are the target variables in this data set."
   ]
  },
  {
   "cell_type": "markdown",
   "metadata": {},
   "source": [
    "Predictor variables are:\n",
    "* the exposure-to-risk, the duration of the insurance coverage (max. 1 year)\n",
    "* factor variables, e.g. gender, coverage, fuel\n",
    "* continuous, numeric variables, e.g. age of the policyholder, age of the car\n",
    "* spatial information: postal code (in Belgium) of the municipality where the policyholder resides.  \n",
    "\n",
    "More details in [Henckaerts et al. (2018, Scandinavian Actuarial Journal)](https://katrienantonio.github.io/projects/2019/06/13/machine-learning/#data-driven) and [Henckaerts et al. (2019, arxiv)](https://katrienantonio.github.io/projects/2019/06/13/machine-learning/#tree-based-pricing)."
   ]
  },
  {
   "cell_type": "markdown",
   "metadata": {},
   "source": [
    "### 2.1.2 Data sets used in this course - MNIST"
   ]
  },
  {
   "cell_type": "markdown",
   "metadata": {},
   "source": [
    "As discussed, not all data are in tabular format. We analyze an image database from the Modified National Institute of Standards and Technology, short MNIST."
   ]
  },
  {
   "cell_type": "markdown",
   "metadata": {},
   "source": [
    "Working with MNIST will learn us how machine learning methods can be used to work with new data sources, such as images.\n",
    "* Large database of 70,000 labeled images of\n",
    "handwritten digits, see\n",
    "http://yann.lecun.com/exdb/mnist/\n",
    "* Images are preprocessed, i.e. scaled and centered.\n",
    "* Classic test case for machine learning classification\n",
    "algorithms. Current models achieve an accuracy of\n",
    "[more than 99.5%](https://en.wikipedia.org/wiki/MNIST_database).\n"
   ]
  },
  {
   "cell_type": "markdown",
   "metadata": {},
   "source": [
    "The images are in grayscale. Each image is stored as a 28x28 intensity matrix, with intensity expressed on a scale from 0-255.\n",
    "<img src=\"./imgs/mnist_1.png\" width=\"300\" height=\"300\" align=\"center\"/>"
   ]
  },
  {
   "cell_type": "markdown",
   "metadata": {},
   "source": [
    "Recognizing that the images below all represent the digit 8 is trivial for humans, but difficult for computers.\n",
    "<img src=\"./imgs/mnist_2.png\" width=\"350\" height=\"350\" align=\"center\"/>\n",
    "Neural networks are ideal for situations where the relation between the input (here: intensity matrix) and the output (here: 0-9) is complicated.\n"
   ]
  },
  {
   "cell_type": "code",
   "execution_count": 35,
   "metadata": {},
   "outputs": [],
   "source": [
    "import os\n",
    "import random\n",
    "import pandas as pd\n",
    "import numpy as np\n",
    "import tensorflow as tf\n",
    "from tensorflow import keras\n",
    "import matplotlib.pyplot as plt\n",
    "from keras.datasets import mnist\n",
    "from IPython.display import clear_output\n",
    "from tensorflow.keras.utils import plot_model\n",
    "from keras import backend as K\n",
    "\n",
    "session_conf = tf.compat.v1.ConfigProto(intra_op_parallelism_threads=1, inter_op_parallelism_threads=1)\n",
    "sess = tf.compat.v1.keras.backend.set_session(session_conf)\n",
    "\n",
    "seed = 123\n",
    "\n",
    "def reset_random_seeds(seed):\n",
    "    os.environ['PYTHONHASHSEED']=str(seed)\n",
    "    tf.random.set_seed(seed)\n",
    "    np.random.seed(seed)\n",
    "    random.seed(seed)\n",
    "    \n",
    "reset_random_seeds(seed)"
   ]
  },
  {
   "cell_type": "code",
   "execution_count": 37,
   "metadata": {},
   "outputs": [],
   "source": [
    "#load mnist data\n",
    "(x_train, y_train), (x_test, y_test) = tf.keras.datasets.mnist.load_data()"
   ]
  },
  {
   "cell_type": "code",
   "execution_count": 38,
   "metadata": {},
   "outputs": [
    {
     "name": "stdout",
     "output_type": "stream",
     "text": [
      "x_train:(60000, 28, 28), y_train:(60000,), x_test:(10000, 28, 28), y_test:(10000,)\n"
     ]
    }
   ],
   "source": [
    "# validate dimension\n",
    "print(f'x_train:{x_train.shape}, y_train:{y_train.shape}, x_test:{x_test.shape}, y_test:{y_test.shape}')"
   ]
  },
  {
   "cell_type": "code",
   "execution_count": 39,
   "metadata": {},
   "outputs": [
    {
     "data": {
      "text/plain": [
       "array([[  0,   0,   0,   0,   0,   0,   0,   0,   0,   0,   0,   0,   0,\n",
       "          0,   0,   0,   0,   0,   0,   0,   0,   0,   0,   0,   0,   0,\n",
       "          0,   0],\n",
       "       [  0,   0,   0,   0,   0,   0,   0,   0,   0,   0,   0,   0,   0,\n",
       "          0,   0,   0,   0,   0,   0,   0,   0,   0,   0,   0,   0,   0,\n",
       "          0,   0],\n",
       "       [  0,   0,   0,   0,   0,   0,   0,   0,   0,   0,   0,   0,   0,\n",
       "          0,   0,   0,   0,   0,   0,   0,   0,   0,   0,   0,   0,   0,\n",
       "          0,   0],\n",
       "       [  0,   0,   0,   0,   0,   0,   0,   0,   0,   0,   0,   0,   0,\n",
       "          0,   0,   0,   0,   0,   0,   0,   0,   0,   0,   0,   0,   0,\n",
       "          0,   0],\n",
       "       [  0,   0,   0,   0,   0,   0,   0,   0,   0,   0,   0,   0,   0,\n",
       "          0,   0,   0,   0,   0,   0,   0,   0,   0,   0,   0,   0,   0,\n",
       "          0,   0],\n",
       "       [  0,   0,   0,   0,   0,   0,   0,   0,   0,   0,   0,   0,   3,\n",
       "         18,  18,  18, 126, 136, 175,  26, 166, 255, 247, 127,   0,   0,\n",
       "          0,   0],\n",
       "       [  0,   0,   0,   0,   0,   0,   0,   0,  30,  36,  94, 154, 170,\n",
       "        253, 253, 253, 253, 253, 225, 172, 253, 242, 195,  64,   0,   0,\n",
       "          0,   0],\n",
       "       [  0,   0,   0,   0,   0,   0,   0,  49, 238, 253, 253, 253, 253,\n",
       "        253, 253, 253, 253, 251,  93,  82,  82,  56,  39,   0,   0,   0,\n",
       "          0,   0],\n",
       "       [  0,   0,   0,   0,   0,   0,   0,  18, 219, 253, 253, 253, 253,\n",
       "        253, 198, 182, 247, 241,   0,   0,   0,   0,   0,   0,   0,   0,\n",
       "          0,   0],\n",
       "       [  0,   0,   0,   0,   0,   0,   0,   0,  80, 156, 107, 253, 253,\n",
       "        205,  11,   0,  43, 154,   0,   0,   0,   0,   0,   0,   0,   0,\n",
       "          0,   0],\n",
       "       [  0,   0,   0,   0,   0,   0,   0,   0,   0,  14,   1, 154, 253,\n",
       "         90,   0,   0,   0,   0,   0,   0,   0,   0,   0,   0,   0,   0,\n",
       "          0,   0],\n",
       "       [  0,   0,   0,   0,   0,   0,   0,   0,   0,   0,   0, 139, 253,\n",
       "        190,   2,   0,   0,   0,   0,   0,   0,   0,   0,   0,   0,   0,\n",
       "          0,   0],\n",
       "       [  0,   0,   0,   0,   0,   0,   0,   0,   0,   0,   0,  11, 190,\n",
       "        253,  70,   0,   0,   0,   0,   0,   0,   0,   0,   0,   0,   0,\n",
       "          0,   0],\n",
       "       [  0,   0,   0,   0,   0,   0,   0,   0,   0,   0,   0,   0,  35,\n",
       "        241, 225, 160, 108,   1,   0,   0,   0,   0,   0,   0,   0,   0,\n",
       "          0,   0],\n",
       "       [  0,   0,   0,   0,   0,   0,   0,   0,   0,   0,   0,   0,   0,\n",
       "         81, 240, 253, 253, 119,  25,   0,   0,   0,   0,   0,   0,   0,\n",
       "          0,   0],\n",
       "       [  0,   0,   0,   0,   0,   0,   0,   0,   0,   0,   0,   0,   0,\n",
       "          0,  45, 186, 253, 253, 150,  27,   0,   0,   0,   0,   0,   0,\n",
       "          0,   0],\n",
       "       [  0,   0,   0,   0,   0,   0,   0,   0,   0,   0,   0,   0,   0,\n",
       "          0,   0,  16,  93, 252, 253, 187,   0,   0,   0,   0,   0,   0,\n",
       "          0,   0],\n",
       "       [  0,   0,   0,   0,   0,   0,   0,   0,   0,   0,   0,   0,   0,\n",
       "          0,   0,   0,   0, 249, 253, 249,  64,   0,   0,   0,   0,   0,\n",
       "          0,   0],\n",
       "       [  0,   0,   0,   0,   0,   0,   0,   0,   0,   0,   0,   0,   0,\n",
       "          0,  46, 130, 183, 253, 253, 207,   2,   0,   0,   0,   0,   0,\n",
       "          0,   0],\n",
       "       [  0,   0,   0,   0,   0,   0,   0,   0,   0,   0,   0,   0,  39,\n",
       "        148, 229, 253, 253, 253, 250, 182,   0,   0,   0,   0,   0,   0,\n",
       "          0,   0],\n",
       "       [  0,   0,   0,   0,   0,   0,   0,   0,   0,   0,  24, 114, 221,\n",
       "        253, 253, 253, 253, 201,  78,   0,   0,   0,   0,   0,   0,   0,\n",
       "          0,   0],\n",
       "       [  0,   0,   0,   0,   0,   0,   0,   0,  23,  66, 213, 253, 253,\n",
       "        253, 253, 198,  81,   2,   0,   0,   0,   0,   0,   0,   0,   0,\n",
       "          0,   0],\n",
       "       [  0,   0,   0,   0,   0,   0,  18, 171, 219, 253, 253, 253, 253,\n",
       "        195,  80,   9,   0,   0,   0,   0,   0,   0,   0,   0,   0,   0,\n",
       "          0,   0],\n",
       "       [  0,   0,   0,   0,  55, 172, 226, 253, 253, 253, 253, 244, 133,\n",
       "         11,   0,   0,   0,   0,   0,   0,   0,   0,   0,   0,   0,   0,\n",
       "          0,   0],\n",
       "       [  0,   0,   0,   0, 136, 253, 253, 253, 212, 135, 132,  16,   0,\n",
       "          0,   0,   0,   0,   0,   0,   0,   0,   0,   0,   0,   0,   0,\n",
       "          0,   0],\n",
       "       [  0,   0,   0,   0,   0,   0,   0,   0,   0,   0,   0,   0,   0,\n",
       "          0,   0,   0,   0,   0,   0,   0,   0,   0,   0,   0,   0,   0,\n",
       "          0,   0],\n",
       "       [  0,   0,   0,   0,   0,   0,   0,   0,   0,   0,   0,   0,   0,\n",
       "          0,   0,   0,   0,   0,   0,   0,   0,   0,   0,   0,   0,   0,\n",
       "          0,   0],\n",
       "       [  0,   0,   0,   0,   0,   0,   0,   0,   0,   0,   0,   0,   0,\n",
       "          0,   0,   0,   0,   0,   0,   0,   0,   0,   0,   0,   0,   0,\n",
       "          0,   0]], dtype=uint8)"
      ]
     },
     "execution_count": 39,
     "metadata": {},
     "output_type": "execute_result"
    }
   ],
   "source": [
    "# stop at the first matrix \"in the dimension depth\"\n",
    "x_train[0,:,:]"
   ]
  },
  {
   "cell_type": "markdown",
   "metadata": {},
   "source": [
    "The image data (28x28) is flattened into a vector of length 784:"
   ]
  },
  {
   "cell_type": "code",
   "execution_count": 40,
   "metadata": {},
   "outputs": [],
   "source": [
    "# reshape x_train(flatten the tensor as ANN takes vector data as input)\n",
    "vec_x_train = tf.reshape(x_train, shape = [x_train.shape[0], x_train.shape[1]*x_train.shape[1]])\n",
    "proto_tensor = tf.make_tensor_proto(vec_x_train)\n",
    "arr_vec_x_train = tf.make_ndarray(proto_tensor)/255"
   ]
  },
  {
   "cell_type": "markdown",
   "metadata": {},
   "source": [
    "In the following matrix, each row corresponds to one (flattened) image:"
   ]
  },
  {
   "cell_type": "code",
   "execution_count": 41,
   "metadata": {},
   "outputs": [
    {
     "data": {
      "text/plain": [
       "<tf.Tensor: id=34248, shape=(60000, 784), dtype=uint8, numpy=\n",
       "array([[0, 0, 0, ..., 0, 0, 0],\n",
       "       [0, 0, 0, ..., 0, 0, 0],\n",
       "       [0, 0, 0, ..., 0, 0, 0],\n",
       "       ...,\n",
       "       [0, 0, 0, ..., 0, 0, 0],\n",
       "       [0, 0, 0, ..., 0, 0, 0],\n",
       "       [0, 0, 0, ..., 0, 0, 0]], dtype=uint8)>"
      ]
     },
     "execution_count": 41,
     "metadata": {},
     "output_type": "execute_result"
    }
   ],
   "source": [
    "vec_x_train #tf.Tensor object"
   ]
  },
  {
   "cell_type": "code",
   "execution_count": 42,
   "metadata": {},
   "outputs": [
    {
     "data": {
      "text/plain": [
       "array([[0., 0., 0., ..., 0., 0., 0.],\n",
       "       [0., 0., 0., ..., 0., 0., 0.],\n",
       "       [0., 0., 0., ..., 0., 0., 0.],\n",
       "       ...,\n",
       "       [0., 0., 0., ..., 0., 0., 0.],\n",
       "       [0., 0., 0., ..., 0., 0., 0.],\n",
       "       [0., 0., 0., ..., 0., 0., 0.]])"
      ]
     },
     "execution_count": 42,
     "metadata": {},
     "output_type": "execute_result"
    }
   ],
   "source": [
    "arr_vec_x_train #np.array object"
   ]
  },
  {
   "cell_type": "code",
   "execution_count": 43,
   "metadata": {},
   "outputs": [
    {
     "name": "stdout",
     "output_type": "stream",
     "text": [
      "min:0.0, max:1.0\n"
     ]
    }
   ],
   "source": [
    "# Image values in train_x vector have been normalized\n",
    "print(f'min:{np.min(arr_vec_x_train)}, max:{np.max(arr_vec_x_train)}')"
   ]
  },
  {
   "cell_type": "code",
   "execution_count": 44,
   "metadata": {},
   "outputs": [],
   "source": [
    "# reshape x_test(flatten the tensor as ANN takes vector data as input)\n",
    "vec_x_test = tf.reshape(x_test, shape = [x_test.shape[0],x_test.shape[1]*x_test.shape[1]])\n",
    "proto_tensor = tf.make_tensor_proto(vec_x_test)\n",
    "arr_vec_x_test = tf.make_ndarray(proto_tensor)/255"
   ]
  },
  {
   "cell_type": "code",
   "execution_count": 45,
   "metadata": {},
   "outputs": [
    {
     "data": {
      "text/plain": [
       "<tf.Tensor: id=34251, shape=(10000, 784), dtype=uint8, numpy=\n",
       "array([[0, 0, 0, ..., 0, 0, 0],\n",
       "       [0, 0, 0, ..., 0, 0, 0],\n",
       "       [0, 0, 0, ..., 0, 0, 0],\n",
       "       ...,\n",
       "       [0, 0, 0, ..., 0, 0, 0],\n",
       "       [0, 0, 0, ..., 0, 0, 0],\n",
       "       [0, 0, 0, ..., 0, 0, 0]], dtype=uint8)>"
      ]
     },
     "execution_count": 45,
     "metadata": {},
     "output_type": "execute_result"
    }
   ],
   "source": [
    "vec_x_test #tf.Tensor object"
   ]
  },
  {
   "cell_type": "code",
   "execution_count": 46,
   "metadata": {},
   "outputs": [
    {
     "data": {
      "text/plain": [
       "array([[0., 0., 0., ..., 0., 0., 0.],\n",
       "       [0., 0., 0., ..., 0., 0., 0.],\n",
       "       [0., 0., 0., ..., 0., 0., 0.],\n",
       "       ...,\n",
       "       [0., 0., 0., ..., 0., 0., 0.],\n",
       "       [0., 0., 0., ..., 0., 0., 0.],\n",
       "       [0., 0., 0., ..., 0., 0., 0.]])"
      ]
     },
     "execution_count": 46,
     "metadata": {},
     "output_type": "execute_result"
    }
   ],
   "source": [
    "arr_vec_x_test #np.array object"
   ]
  },
  {
   "cell_type": "code",
   "execution_count": 47,
   "metadata": {},
   "outputs": [
    {
     "name": "stdout",
     "output_type": "stream",
     "text": [
      "min:0.0, max:1.0\n"
     ]
    }
   ],
   "source": [
    "# image values in test_x vector have been normalized:\n",
    "print(f'min:{np.min(arr_vec_x_test)}, max:{np.max(arr_vec_x_test)}')"
   ]
  },
  {
   "cell_type": "markdown",
   "metadata": {},
   "source": [
    "We point out that we are dealing with a multi-class classification problem - elements must be classified in 10 categories:"
   ]
  },
  {
   "cell_type": "code",
   "execution_count": 48,
   "metadata": {},
   "outputs": [
    {
     "name": "stdout",
     "output_type": "stream",
     "text": [
      "unique y_train:[0 1 2 3 4 5 6 7 8 9], unique y_test:[0 1 2 3 4 5 6 7 8 9]\n"
     ]
    }
   ],
   "source": [
    "# Unique elements in y_train and y_test vectors\n",
    "print(f'unique y_train:{np.unique(y_train)}, unique y_test:{np.unique(y_test)}')"
   ]
  },
  {
   "cell_type": "markdown",
   "metadata": {},
   "source": [
    "We construct 10 dummy variables (0-9) for the output of the model:"
   ]
  },
  {
   "cell_type": "code",
   "execution_count": 49,
   "metadata": {},
   "outputs": [],
   "source": [
    "# y_train\n",
    "output = tf.keras.utils.to_categorical(y_train, num_classes=10)"
   ]
  },
  {
   "cell_type": "code",
   "execution_count": 50,
   "metadata": {},
   "outputs": [],
   "source": [
    "# y_test\n",
    "test_output = tf.keras.utils.to_categorical(y_test, num_classes=10)"
   ]
  },
  {
   "cell_type": "code",
   "execution_count": 51,
   "metadata": {},
   "outputs": [
    {
     "name": "stdout",
     "output_type": "stream",
     "text": [
      "shape of output:(60000, 10), shape of test_output:(10000, 10)\n"
     ]
    }
   ],
   "source": [
    "# let's highlight the shape of the newly created np.array objects\n",
    "print(f'shape of output:{output.shape}, shape of test_output:{test_output.shape}')"
   ]
  },
  {
   "cell_type": "markdown",
   "metadata": {},
   "source": [
    "We extract one row from the matrix arr_vec_x_train, we reshape it to (28x28) pixel format so that we can easily print it:"
   ]
  },
  {
   "cell_type": "code",
   "execution_count": 52,
   "metadata": {},
   "outputs": [
    {
     "data": {
      "image/png": "[encoded data removed]",
      "text/plain": [
       "<Figure size 432x288 with 1 Axes>"
      ]
     },
     "metadata": {
      "needs_background": "light"
     },
     "output_type": "display_data"
    }
   ],
   "source": [
    "index = 16\n",
    "pixels = arr_vec_x_train[index].reshape((28, 28))\n",
    "plt.imshow(pixels, cmap='gray')\n",
    "plt.show()"
   ]
  },
  {
   "cell_type": "markdown",
   "metadata": {},
   "source": [
    "### 2.2 De-mystifying neural networks"
   ]
  },
  {
   "cell_type": "markdown",
   "metadata": {},
   "source": [
    "Different types of neural networks and their applications:\n",
    "* ANN: Artificial Neural Network for regression and classification problems, with vectors as input data\n",
    "* CNN: Convolutional Neural Network for image processing, image/face/... recognition, with images as input data\n",
    "* RNN: Recurrent Neural Network for sequential data such as text or time series\n",
    "* ..."
   ]
  },
  {
   "cell_type": "markdown",
   "metadata": {},
   "source": [
    "De-mystify artificial neural networks (ANNs):\n",
    "* a collection of inter-woven linear models\n",
    "* extending linear approaches to detect non-linear interactions in high-dimensional data.\n",
    "<img src=\"./imgs/nn_1.png\" width=\"300\" height=\"300\" align=\"center\"/>\n",
    "\n",
    "Some terminology:\n",
    "* $x$ is the input layer\n",
    "* $v$ is the output layer middle layer is a hidden layer\n",
    "* four neurons: $x, z_{1}, z_{2}$ and $v$.\n"
   ]
  },
  {
   "cell_type": "markdown",
   "metadata": {},
   "source": [
    "First, we apply two independent linear models:\n",
    "$$\n",
    "\\begin{align}\n",
    "z_{1} = b_{1} + x\\cdot w_{1}\n",
    "\\end{align}\n",
    "$$\n",
    "$$\n",
    "\\begin{align}\n",
    "z_{2} = b_{2} + x\\cdot w_{2}\n",
    "\\end{align}\n",
    "$$\n",
    "using four parameters: two intercepts and two slopes."
   ]
  },
  {
   "cell_type": "markdown",
   "metadata": {},
   "source": [
    "Next, we construct another linear model with the as inputs:\n",
    "$$\n",
    "\\begin{align}\n",
    "\\hat{y} := v = b_{3} + z_{1}\\cdot u_{1} + z_{2}\\cdot u_{2}\n",
    "\\end{align}\n",
    "$$"
   ]
  },
  {
   "cell_type": "markdown",
   "metadata": {},
   "source": [
    "Putting it all together:\n",
    "$$\n",
    "\\begin{align}\n",
    "v = b_{3} + z_{1}\\cdot u_{1} + z_{2}\\cdot u_{2} \\\\\n",
    "= b_{3} + (b_{1} + x\\cdot w_{1})\\cdot u_{1} + (b_{2} + x\\cdot w_{2})\\cdot u_{2} \\\\\n",
    "= (b_{3} + u_{1}\\cdot b_{1} + u_{2}\\cdot b_{2})+(w_{1}\\cdot u_{1} + w_{2}\\cdot u_{2})\\cdot x \\\\\n",
    "= (intercept) + (slope)\\cdot x.\n",
    "\\end{align}\n",
    "$$"
   ]
  },
  {
   "cell_type": "markdown",
   "metadata": {},
   "source": [
    "Model is over-parametrized, with infinitely many ways to describe the same model. Essentially, still a linear model!\n",
    "<img src=\"./imgs/nn_2.png\" width=\"400\" height=\"400\" align=\"center\"/>"
   ]
  },
  {
   "cell_type": "markdown",
   "metadata": {},
   "source": [
    "We capture non-linear relationships between and by replacing\n",
    "$$\n",
    "\\begin{align}\n",
    "v = b_{3} + z_{1}\\cdot u_{1} + z_{2}\\cdot u_{2}\n",
    "\\end{align}\n",
    "$$\n",
    "with\n",
    "$$\n",
    "\\begin{align}\n",
    "v = b_{3} + \\sigma(z_{1})\\cdot u_{1} + \\sigma(z_{2})\\cdot u_{2} \\\\\n",
    "= b_{3} + \\sigma(b_{1} + x\\cdot w_{1})\\cdot u_{1} + \\sigma(b_{2} + x\\cdot w_{2})\\cdot u_{2}\n",
    "\\end{align}\n",
    "$$"
   ]
  },
  {
   "cell_type": "markdown",
   "metadata": {},
   "source": [
    " $\\sigma(\\cdot)$ is an activation function, a mapping from $\\mathbb{R}$ to $\\mathbb{R}$. Adding an activation function greatly increases the set of possible relations between $v$ and $x$."
   ]
  },
  {
   "cell_type": "markdown",
   "metadata": {},
   "source": [
    "For example, the rectified linear unit (ReLU) activation function:\n",
    "\\begin{equation}\n",
    "  D_{it} =\n",
    "    \\begin{cases}\n",
    "      x, & \\text{if x>0}\\\\\n",
    "      0, & \\text{otherwise.}\\\\\n",
    "    \\end{cases}       \n",
    "\\end{equation}\n",
    "<img src=\"./imgs/nn_3.png\" width=\"400\" height=\"400\" align=\"center\"/>"
   ]
  },
  {
   "cell_type": "markdown",
   "metadata": {},
   "source": [
    "### 2.2.1 From the simple neural network to ANNs"
   ]
  },
  {
   "cell_type": "markdown",
   "metadata": {},
   "source": [
    "Artificial Neural networks (ANNs):\n",
    "* a collection of neurons\n",
    "* organized into an ordered set of layers\n",
    "* directed connections pass signals between neurons in adjacent layers\n",
    "*to train:\n",
    "    * update parameters describing the connections by minimizing loss function over training data \n",
    "* to predict:\n",
    "    * pass $x$ to first layer, output of final layer is \\hat{y}.\n",
    "The network is dense or densely connected if each neuron in a layer receives an input from all the neurons present in the previous layer.\n",
    "</figure>\n",
    "<figure>\n",
    "<img src=\"./imgs/nn_4.png\" alt=\"autoencoder_schema\" style=\"width: 400px;\"/>\n",
    "<figcaption><center>This is a _feedforward_ neural network - no loops!<p></p></center></figcaption>\n",
    "</figure>"
   ]
  },
  {
   "cell_type": "markdown",
   "metadata": {},
   "source": [
    "### 2.2.2 From the simple neural network to ANNs"
   ]
  },
  {
   "cell_type": "markdown",
   "metadata": {},
   "source": [
    "Using the neural nets terminology or language:\n",
    "* intercept called the bias\n",
    "* slopes called weights\n",
    "* $L + 1$ layers in total, with input layer 0 denoted as layer 0 and output layer as $L$\n",
    "* use $a$ (from activation) to denote the output of agiven neuron in a given layer\n",
    "</figure>\n",
    "<figure>\n",
    "<img src=\"./imgs/nn_5.png\" alt=\"autoencoder_schema\" style=\"width: 400px;\"/>\n",
    "<figcaption><center>A single layer ANN, also called perceptron or artificial neuron.\n",
    "<p></p></center></figcaption>\n",
    "</figure>"
   ]
  },
  {
   "cell_type": "markdown",
   "metadata": {},
   "source": [
    "### 2.3 Neural network architecture in Keras"
   ]
  },
  {
   "cell_type": "markdown",
   "metadata": {},
   "source": [
    "In a neural network:\n",
    "* input travels through a **sequence** of layers, and gets transformed into the output\n",
    "* layers in-between the input layer and the output layer are called hidden layers\n",
    "* _tf.keras.layer.Dense_ object deploys a fully connected layer in the neural network\n",
    "\n",
    "This sequential layer structure is really at the core of the Keras libary. Tensorflow Sequential API is endowed will all the necessary tools for setting up neural networks. Keras and TensorFlow 2.0 provide you with three methods to implement your own neural network architectures:\n",
    "* Sequential API\n",
    "* Functional API\n",
    "* Model subclassing\n",
    "<img src=\"./imgs/nn_6.png\" width=\"400\" height=\"400\" align=\"center\"/>"
   ]
  },
  {
   "cell_type": "markdown",
   "metadata": {},
   "source": [
    "Note that:\n",
    "\n",
    "```python\n",
    "model.add(tf.keras.layers.Dense(units = 16,\n",
    "                                activation = 'sigmoid',\n",
    "                                input_shape = (784,)))  Sequential model\n",
    "```\n",
    "* **units = 16**: number of nodes in the given layer\n",
    "* **activation = 'sigmoid'**: this hidden layer uses the sigmoid activation function.\n",
    "* **input_shape = (784,)**:\n",
    "    * tells the first hidden layer how many input features there are\n",
    "    * only required for the first tf.keras.layers.Dense instantiation in a Sequential model\n",
    "    * differently from R, it must be specified as array and not as integer (even if one-dimensional)"
   ]
  },
  {
   "cell_type": "code",
   "execution_count": 161,
   "metadata": {},
   "outputs": [],
   "source": [
    "reset_random_seeds(seed)\n",
    "# instantiate model object\n",
    "model = tf.keras.models.Sequential()"
   ]
  },
  {
   "cell_type": "code",
   "execution_count": 162,
   "metadata": {},
   "outputs": [],
   "source": [
    "# neural network structure - adding first layer (Dense-type, fully connected)\n",
    "model.add(tf.keras.layers.Dense(units = 16,\n",
    "                                activation = 'sigmoid', \n",
    "                                input_shape = (784,)))"
   ]
  },
  {
   "cell_type": "code",
   "execution_count": 163,
   "metadata": {},
   "outputs": [],
   "source": [
    "# neural networdk structure - adding output layer (Dense-type, fully connected)\n",
    "model.add(tf.keras.layers.Dense(units = 10, activation = 'softmax')) # activation function depends on the type of prediction"
   ]
  },
  {
   "cell_type": "code",
   "execution_count": 164,
   "metadata": {},
   "outputs": [],
   "source": [
    "# compiling the model\n",
    "model.compile(optimizer = 'RMSprop', loss = 'categorical_crossentropy', metrics = ['accuracy'])"
   ]
  },
  {
   "cell_type": "code",
   "execution_count": 165,
   "metadata": {},
   "outputs": [
    {
     "name": "stdout",
     "output_type": "stream",
     "text": [
      "Model: \"sequential_5\"\n",
      "_________________________________________________________________\n",
      "Layer (type)                 Output Shape              Param #   \n",
      "=================================================================\n",
      "dense_10 (Dense)             (None, 16)                12560     \n",
      "_________________________________________________________________\n",
      "dense_11 (Dense)             (None, 10)                170       \n",
      "=================================================================\n",
      "Total params: 12,730\n",
      "Trainable params: 12,730\n",
      "Non-trainable params: 0\n",
      "_________________________________________________________________\n"
     ]
    }
   ],
   "source": [
    "# model summary\n",
    "model.summary()"
   ]
  },
  {
   "cell_type": "markdown",
   "metadata": {},
   "source": [
    "The module ```from tensorflow.keras.utils import plot_model``` provides visualization tools for the neural network structure"
   ]
  },
  {
   "cell_type": "code",
   "execution_count": 166,
   "metadata": {},
   "outputs": [
    {
     "data": {
      "image/png": "[encoded data removed]",
      "text/plain": [
       "<IPython.core.display.Image object>"
      ]
     },
     "execution_count": 166,
     "metadata": {},
     "output_type": "execute_result"
    }
   ],
   "source": [
    "# model structure\n",
    "tf.keras.utils.plot_model(model=model, show_shapes=True, to_file='./imgs/model.png')"
   ]
  },
  {
   "cell_type": "markdown",
   "metadata": {},
   "source": [
    "Note that fit(.) tunes the model parameters (the weights and bias terms), we use fit() to start executing model training.\n",
    "\n",
    "```python\n",
    "model.fit(x = arr_vec_x_train, \n",
    "          y = output, \n",
    "          batch_size = 128, \n",
    "          epochs = 10, \n",
    "          validation_split = 0.2)\n",
    "```\n",
    "* **x = arr_vec_x_train**: wa train the images contained in arr_vec_x_train and their corresponding labels **y = output**\n",
    "* **batch_size = 128**: Parameter updates are calculated based on small subsets of the training data with batch_size elements\n",
    "* **epochs = 10**: An epoch is one iteration of the algorithm over the full dataset.\n",
    "* **validation_split = 0.2**:we use the last 20% ofour input training data as a hold-out validation set. We evaluate the loss on this validation set at the end of each epoch.\n"
   ]
  },
  {
   "cell_type": "code",
   "execution_count": 167,
   "metadata": {},
   "outputs": [
    {
     "name": "stdout",
     "output_type": "stream",
     "text": [
      "Train on 48000 samples, validate on 12000 samples\n",
      "Epoch 1/10\n",
      "48000/48000 [==============================] - 1s 23us/sample - loss: 1.2724 - accuracy: 0.7501 - val_loss: 0.7536 - val_accuracy: 0.8697\n",
      "Epoch 2/10\n",
      "48000/48000 [==============================] - 1s 14us/sample - loss: 0.5972 - accuracy: 0.8779 - val_loss: 0.4489 - val_accuracy: 0.8971\n",
      "Epoch 3/10\n",
      "48000/48000 [==============================] - 1s 15us/sample - loss: 0.4143 - accuracy: 0.8976 - val_loss: 0.3529 - val_accuracy: 0.9095\n",
      "Epoch 4/10\n",
      "48000/48000 [==============================] - 1s 14us/sample - loss: 0.3453 - accuracy: 0.9096 - val_loss: 0.3108 - val_accuracy: 0.9154\n",
      "Epoch 5/10\n",
      "48000/48000 [==============================] - 1s 14us/sample - loss: 0.3089 - accuracy: 0.9155 - val_loss: 0.2862 - val_accuracy: 0.9212\n",
      "Epoch 6/10\n",
      "48000/48000 [==============================] - 1s 14us/sample - loss: 0.2853 - accuracy: 0.9209 - val_loss: 0.2708 - val_accuracy: 0.9242\n",
      "Epoch 7/10\n",
      "48000/48000 [==============================] - 1s 14us/sample - loss: 0.2678 - accuracy: 0.9238 - val_loss: 0.2583 - val_accuracy: 0.9283\n",
      "Epoch 8/10\n",
      "48000/48000 [==============================] - 1s 14us/sample - loss: 0.2542 - accuracy: 0.9280 - val_loss: 0.2485 - val_accuracy: 0.9302\n",
      "Epoch 9/10\n",
      "48000/48000 [==============================] - 1s 15us/sample - loss: 0.2431 - accuracy: 0.9305 - val_loss: 0.2394 - val_accuracy: 0.9324\n",
      "Epoch 10/10\n",
      "48000/48000 [==============================] - 1s 15us/sample - loss: 0.2337 - accuracy: 0.9328 - val_loss: 0.2333 - val_accuracy: 0.9329\n"
     ]
    },
    {
     "data": {
      "text/plain": [
       "<tensorflow.python.keras.callbacks.History at 0x2457a23cd48>"
      ]
     },
     "execution_count": 167,
     "metadata": {},
     "output_type": "execute_result"
    }
   ],
   "source": [
    "# fit the model\n",
    "model.fit(arr_vec_x_train, \n",
    "          output, \n",
    "          batch_size = 128, \n",
    "          epochs = 10, \n",
    "          validation_split = 0.2)"
   ]
  },
  {
   "cell_type": "markdown",
   "metadata": {},
   "source": [
    "# 2.3 Model evaluation"
   ]
  },
  {
   "cell_type": "markdown",
   "metadata": {},
   "source": [
    "evaluate(.) calculates losses and metrics on the test dataset:"
   ]
  },
  {
   "cell_type": "code",
   "execution_count": 168,
   "metadata": {},
   "outputs": [
    {
     "name": "stdout",
     "output_type": "stream",
     "text": [
      "loss:0.23416787028312683, accuracy:0.9333000183105469\n"
     ]
    }
   ],
   "source": [
    "# evaluate model\n",
    "test_loss, test_accuracy = model.evaluate(arr_vec_x_test, test_output, verbose = 0)\n",
    "print(f'loss:{test_loss}, accuracy:{test_accuracy}')"
   ]
  },
  {
   "cell_type": "code",
   "execution_count": 169,
   "metadata": {
    "scrolled": true
   },
   "outputs": [],
   "source": [
    "# prediction\n",
    "prediction = np.round(model.predict(arr_vec_x_test),3)"
   ]
  },
  {
   "cell_type": "code",
   "execution_count": 170,
   "metadata": {},
   "outputs": [
    {
     "data": {
      "text/plain": [
       "array([0.   , 0.   , 0.001, 0.002, 0.   , 0.   , 0.   , 0.996, 0.   ,\n",
       "       0.001], dtype=float32)"
      ]
     },
     "execution_count": 170,
     "metadata": {},
     "output_type": "execute_result"
    }
   ],
   "source": [
    "prediction[0] # first row"
   ]
  },
  {
   "cell_type": "markdown",
   "metadata": {},
   "source": [
    "We need to map the highest score to the referring category. Afterwards, we extract the mist-predicted categories:"
   ]
  },
  {
   "cell_type": "code",
   "execution_count": 171,
   "metadata": {},
   "outputs": [],
   "source": [
    "# prediction vs actual\n",
    "predicted_category = np.argmax(prediction, axis = 1)\n",
    "actual_category = np.argmax(test_output, axis = 1)"
   ]
  },
  {
   "cell_type": "code",
   "execution_count": 172,
   "metadata": {},
   "outputs": [
    {
     "data": {
      "text/html": [
       "<div>\n",
       "<style scoped>\n",
       "    .dataframe tbody tr th:only-of-type {\n",
       "        vertical-align: middle;\n",
       "    }\n",
       "\n",
       "    .dataframe tbody tr th {\n",
       "        vertical-align: top;\n",
       "    }\n",
       "\n",
       "    .dataframe thead th {\n",
       "        text-align: right;\n",
       "    }\n",
       "</style>\n",
       "<table border=\"1\" class=\"dataframe\">\n",
       "  <thead>\n",
       "    <tr style=\"text-align: right;\">\n",
       "      <th></th>\n",
       "      <th>pred_category</th>\n",
       "      <th>actual_category</th>\n",
       "      <th>correct_classification</th>\n",
       "    </tr>\n",
       "  </thead>\n",
       "  <tbody>\n",
       "    <tr>\n",
       "      <th>0</th>\n",
       "      <td>7</td>\n",
       "      <td>7</td>\n",
       "      <td>True</td>\n",
       "    </tr>\n",
       "    <tr>\n",
       "      <th>1</th>\n",
       "      <td>2</td>\n",
       "      <td>2</td>\n",
       "      <td>True</td>\n",
       "    </tr>\n",
       "    <tr>\n",
       "      <th>2</th>\n",
       "      <td>1</td>\n",
       "      <td>1</td>\n",
       "      <td>True</td>\n",
       "    </tr>\n",
       "    <tr>\n",
       "      <th>3</th>\n",
       "      <td>0</td>\n",
       "      <td>0</td>\n",
       "      <td>True</td>\n",
       "    </tr>\n",
       "    <tr>\n",
       "      <th>4</th>\n",
       "      <td>4</td>\n",
       "      <td>4</td>\n",
       "      <td>True</td>\n",
       "    </tr>\n",
       "  </tbody>\n",
       "</table>\n",
       "</div>"
      ],
      "text/plain": [
       "   pred_category  actual_category  correct_classification\n",
       "0              7                7                    True\n",
       "1              2                2                    True\n",
       "2              1                1                    True\n",
       "3              0                0                    True\n",
       "4              4                4                    True"
      ]
     },
     "execution_count": 172,
     "metadata": {},
     "output_type": "execute_result"
    }
   ],
   "source": [
    "summary = pd.DataFrame({'pred_category':predicted_category,\n",
    "                        'actual_category':actual_category,\n",
    "                        'correct_classification':np.equal(predicted_category,actual_category)}); summary.head()"
   ]
  },
  {
   "cell_type": "code",
   "execution_count": 173,
   "metadata": {},
   "outputs": [
    {
     "data": {
      "text/plain": [
       "666"
      ]
     },
     "execution_count": 173,
     "metadata": {},
     "output_type": "execute_result"
    }
   ],
   "source": [
    "# mis-predicted count\n",
    "(~summary.correct_classification).sum()"
   ]
  },
  {
   "cell_type": "markdown",
   "metadata": {},
   "source": [
    "Let's plot the mispredicted values:"
   ]
  },
  {
   "cell_type": "code",
   "execution_count": 174,
   "metadata": {},
   "outputs": [],
   "source": [
    "# let's retrieve the index of mispredicted values from summary\n",
    "idx = summary[(~summary.correct_classification)].index"
   ]
  },
  {
   "cell_type": "code",
   "execution_count": 175,
   "metadata": {},
   "outputs": [],
   "source": [
    "def plot_img(vector_picture, wrong, actual_v, predited_v):\n",
    "    pixels = vector_picture.reshape((28,28))\n",
    "    plt.imshow(pixels, cmap='gray')\n",
    "    plt.title(f'actual:{actual_category[wrong]}, predicted:{predicted_category[wrong]}')\n",
    "    plt.show()"
   ]
  },
  {
   "cell_type": "code",
   "execution_count": 176,
   "metadata": {},
   "outputs": [
    {
     "data": {
      "image/png": "[encoded data removed]",
      "text/plain": [
       "<Figure size 432x288 with 1 Axes>"
      ]
     },
     "metadata": {
      "needs_background": "light"
     },
     "output_type": "display_data"
    }
   ],
   "source": [
    "# example of mis-predicted values\n",
    "wrong = idx[623]\n",
    "ex = arr_vec_x_test[wrong]\n",
    "plot_img(ex, wrong, actual_category, predicted_category)"
   ]
  },
  {
   "cell_type": "code",
   "execution_count": 152,
   "metadata": {},
   "outputs": [
    {
     "data": {
      "text/plain": [
       "array([0.996, 0.978, 0.986, ..., 0.956, 0.967, 0.995], dtype=float32)"
      ]
     },
     "execution_count": 152,
     "metadata": {},
     "output_type": "execute_result"
    }
   ],
   "source": [
    "prediction[np.arange(prediction.shape[0]), actual_category]"
   ]
  },
  {
   "cell_type": "markdown",
   "metadata": {},
   "source": [
    "# 2.5 Your turn!"
   ]
  },
  {
   "cell_type": "markdown",
   "metadata": {},
   "source": [
    "You will now design, compile and fit your own neural network for the MNIST dataset.\n",
    "\n",
    "As a form of paralellized model selection, all of us will play with different model parameters. This way we gain insight into which parameter values work well for this dataset.\n",
    "\n",
    "Base model: the neural network with a single hidden layer, as specified in the R script.\n",
    "\n",
    "Try some of the following ideas to improve the model:\n",
    "* add hidden layers: the number of nodes in subsequent layers should decrease\n",
    "* change batch size\n",
    "* change the activation function.\n"
   ]
  },
  {
   "cell_type": "markdown",
   "metadata": {},
   "source": [
    "**Example 1:** deploying a _tf.keras.layers.GaussianNoise_ between the 2 fully-connected hiddel layers causes a drop in the accuracy of the model"
   ]
  },
  {
   "cell_type": "code",
   "execution_count": 233,
   "metadata": {},
   "outputs": [
    {
     "name": "stdout",
     "output_type": "stream",
     "text": [
      "loss:1.7123504894256592, accuracy:0.8586999773979187\n"
     ]
    }
   ],
   "source": [
    "reset_random_seeds(seed)\n",
    "\n",
    "# instantiate model object\n",
    "model = tf.keras.models.Sequential()\n",
    "model.add(tf.keras.layers.Dense(units = 16,\n",
    "                                activation = 'sigmoid', \n",
    "                                input_shape = (784,)))\n",
    "model.add(tf.keras.layers.GaussianNoise(stddev = 4)) # std = 4\n",
    "model.add(tf.keras.layers.Dense(units = 10, activation = 'softmax'))\n",
    "model.compile(optimizer = 'RMSprop', loss = 'categorical_crossentropy', metrics = ['accuracy'])\n",
    "model.fit(arr_vec_x_train, \n",
    "          output, \n",
    "          batch_size = 128, \n",
    "          epochs = 10, \n",
    "          validation_split = 0.2,\n",
    "          verbose = 0)\n",
    "\n",
    "# evaluate model\n",
    "test_loss, test_accuracy = model.evaluate(arr_vec_x_test, test_output, verbose = 0)\n",
    "print(f'loss:{test_loss}, accuracy:{test_accuracy}')"
   ]
  },
  {
   "cell_type": "code",
   "execution_count": 234,
   "metadata": {},
   "outputs": [
    {
     "data": {
      "text/html": [
       "<div>\n",
       "<style scoped>\n",
       "    .dataframe tbody tr th:only-of-type {\n",
       "        vertical-align: middle;\n",
       "    }\n",
       "\n",
       "    .dataframe tbody tr th {\n",
       "        vertical-align: top;\n",
       "    }\n",
       "\n",
       "    .dataframe thead th {\n",
       "        text-align: right;\n",
       "    }\n",
       "</style>\n",
       "<table border=\"1\" class=\"dataframe\">\n",
       "  <thead>\n",
       "    <tr style=\"text-align: right;\">\n",
       "      <th></th>\n",
       "      <th>pred_category</th>\n",
       "      <th>actual_category</th>\n",
       "      <th>correct_classification</th>\n",
       "    </tr>\n",
       "  </thead>\n",
       "  <tbody>\n",
       "    <tr>\n",
       "      <th>0</th>\n",
       "      <td>7</td>\n",
       "      <td>7</td>\n",
       "      <td>True</td>\n",
       "    </tr>\n",
       "    <tr>\n",
       "      <th>1</th>\n",
       "      <td>2</td>\n",
       "      <td>2</td>\n",
       "      <td>True</td>\n",
       "    </tr>\n",
       "    <tr>\n",
       "      <th>2</th>\n",
       "      <td>1</td>\n",
       "      <td>1</td>\n",
       "      <td>True</td>\n",
       "    </tr>\n",
       "    <tr>\n",
       "      <th>3</th>\n",
       "      <td>0</td>\n",
       "      <td>0</td>\n",
       "      <td>True</td>\n",
       "    </tr>\n",
       "    <tr>\n",
       "      <th>4</th>\n",
       "      <td>4</td>\n",
       "      <td>4</td>\n",
       "      <td>True</td>\n",
       "    </tr>\n",
       "  </tbody>\n",
       "</table>\n",
       "</div>"
      ],
      "text/plain": [
       "   pred_category  actual_category  correct_classification\n",
       "0              7                7                    True\n",
       "1              2                2                    True\n",
       "2              1                1                    True\n",
       "3              0                0                    True\n",
       "4              4                4                    True"
      ]
     },
     "execution_count": 234,
     "metadata": {},
     "output_type": "execute_result"
    }
   ],
   "source": [
    "# prediction vs actual\n",
    "prediction = np.round(model.predict(arr_vec_x_test),3)\n",
    "predicted_category = np.argmax(prediction, axis = 1)\n",
    "actual_category = np.argmax(test_output, axis = 1)\n",
    "summary = pd.DataFrame({'pred_category':predicted_category,\n",
    "                        'actual_category':actual_category,\n",
    "                        'correct_classification':np.equal(predicted_category,actual_category)}); summary.head()"
   ]
  },
  {
   "cell_type": "code",
   "execution_count": 235,
   "metadata": {},
   "outputs": [
    {
     "data": {
      "text/plain": [
       "1410"
      ]
     },
     "execution_count": 235,
     "metadata": {},
     "output_type": "execute_result"
    }
   ],
   "source": [
    "# count of mis-predicted categories\n",
    "(~summary.correct_classification).sum()"
   ]
  },
  {
   "cell_type": "markdown",
   "metadata": {},
   "source": [
    "# 2.6 Dealing with overfitting"
   ]
  },
  {
   "cell_type": "markdown",
   "metadata": {},
   "source": [
    "Several methods proposed to reduce overfitting:\n",
    "* try different weight initializations\n",
    "* early stopping\n",
    "    *calculate validation performance after each epoch\n",
    "    *stop when this no longer improves\n",
    "* regularization (cfr. lasso and {glmnet}): e.g.\n",
    "    * $\\min\\limits_{w,b}\\mathcal{L}(w,b) + \\frac{\\lambda}{2}\\cdot||w||^{2}_{2}$\n",
    "* dropout\n",
    "    * randomly set activations to zero, with fixed $p$ \n",
    "    * probability both in forward propagation as well as backpropagation\n",
    "    * only in training, all nodes turned on during prediction.\n",
    "    \n",
    "Example code:\n",
    "```python\n",
    "model = tf.keras.models.Sequential()\n",
    "model.add(tf.keras.layers.Dense(units = 16,\n",
    "                                activation = 'sigmoid', \n",
    "                                input_shape = (784,),\n",
    "                                kernel_regularizer = tf.keras.regularizers.l1(0.01)))\n",
    "model.add(tf.keras.layers.Dense(units = 10, activation = 'softmax'))\n",
    "model.compile(optimizer = 'RMSprop', loss = 'categorical_crossentropy', metrics = ['accuracy'])\n",
    "```"
   ]
  }
 ],
 "metadata": {
  "kernelspec": {
   "display_name": "Python 3",
   "language": "python",
   "name": "python3"
  },
  "language_info": {
   "codemirror_mode": {
    "name": "ipython",
    "version": 3
   },
   "file_extension": ".py",
   "mimetype": "text/x-python",
   "name": "python",
   "nbconvert_exporter": "python",
   "pygments_lexer": "ipython3",
   "version": "3.7.6"
  }
 },
 "nbformat": 4,
 "nbformat_minor": 4
}
