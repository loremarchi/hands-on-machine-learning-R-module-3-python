{
 "cells": [
  {
   "cell_type": "markdown",
   "metadata": {},
   "source": [
    "# 3. Claim frequency and severity regression"
   ]
  },
  {
   "cell_type": "markdown",
   "metadata": {},
   "source": [
    "We will now predict claim frequency and severity in the MTPL data with a neural network."
   ]
  },
  {
   "cell_type": "code",
   "execution_count": 81,
   "metadata": {},
   "outputs": [],
   "source": [
    "# load libs\n",
    "import os\n",
    "import numpy as np\n",
    "import pandas as pd\n",
    "import graphviz\n",
    "import random\n",
    "import tensorflow as tf\n",
    "import statsmodels.api as sm\n",
    "import matplotlib.pyplot as plt\n",
    "from tensorflow.keras.utils import plot_model\n",
    "from sklearn.model_selection import train_test_split\n",
    "\n",
    "seed = 218741\n",
    "\n",
    "def reset_random_seeds(seed):\n",
    "    os.environ['PYTHONHASHSEED']=str(seed)\n",
    "    tf.random.set_seed(seed)\n",
    "    np.random.seed(seed)\n",
    "    random.seed(seed)\n",
    "    \n",
    "reset_random_seeds(seed)"
   ]
  },
  {
   "cell_type": "code",
   "execution_count": 82,
   "metadata": {},
   "outputs": [],
   "source": [
    "# load data using separator to correctly parse from .txt\n",
    "df = pd.read_csv(os.path.join(os.getcwd(),\"data\\PC_data.txt\"),  sep=r\"\\s+\")"
   ]
  },
  {
   "cell_type": "code",
   "execution_count": 83,
   "metadata": {},
   "outputs": [],
   "source": [
    "# column names to smaller case\n",
    "df.columns = map(str.lower, df.columns)"
   ]
  },
  {
   "cell_type": "code",
   "execution_count": 84,
   "metadata": {},
   "outputs": [
    {
     "data": {
      "text/html": [
       "<div>\n",
       "<style scoped>\n",
       "    .dataframe tbody tr th:only-of-type {\n",
       "        vertical-align: middle;\n",
       "    }\n",
       "\n",
       "    .dataframe tbody tr th {\n",
       "        vertical-align: top;\n",
       "    }\n",
       "\n",
       "    .dataframe thead th {\n",
       "        text-align: right;\n",
       "    }\n",
       "</style>\n",
       "<table border=\"1\" class=\"dataframe\">\n",
       "  <thead>\n",
       "    <tr style=\"text-align: right;\">\n",
       "      <th></th>\n",
       "      <th>id</th>\n",
       "      <th>nclaims</th>\n",
       "      <th>amount</th>\n",
       "      <th>avg</th>\n",
       "      <th>expo</th>\n",
       "      <th>coverage</th>\n",
       "      <th>fuel</th>\n",
       "      <th>use</th>\n",
       "      <th>fleet</th>\n",
       "      <th>sex</th>\n",
       "      <th>ageph</th>\n",
       "      <th>bm</th>\n",
       "      <th>agec</th>\n",
       "      <th>power</th>\n",
       "      <th>pc</th>\n",
       "      <th>town</th>\n",
       "      <th>long</th>\n",
       "      <th>lat</th>\n",
       "    </tr>\n",
       "  </thead>\n",
       "  <tbody>\n",
       "    <tr>\n",
       "      <th>0</th>\n",
       "      <td>1</td>\n",
       "      <td>1</td>\n",
       "      <td>1618.001036</td>\n",
       "      <td>1618.001036</td>\n",
       "      <td>1.000000</td>\n",
       "      <td>TPL</td>\n",
       "      <td>gasoline</td>\n",
       "      <td>private</td>\n",
       "      <td>N</td>\n",
       "      <td>male</td>\n",
       "      <td>50</td>\n",
       "      <td>5</td>\n",
       "      <td>12</td>\n",
       "      <td>77</td>\n",
       "      <td>1000</td>\n",
       "      <td>BRUSSEL</td>\n",
       "      <td>4.355223</td>\n",
       "      <td>50.845386</td>\n",
       "    </tr>\n",
       "    <tr>\n",
       "      <th>1</th>\n",
       "      <td>2</td>\n",
       "      <td>0</td>\n",
       "      <td>0.000000</td>\n",
       "      <td>NaN</td>\n",
       "      <td>1.000000</td>\n",
       "      <td>PO</td>\n",
       "      <td>gasoline</td>\n",
       "      <td>private</td>\n",
       "      <td>N</td>\n",
       "      <td>female</td>\n",
       "      <td>64</td>\n",
       "      <td>5</td>\n",
       "      <td>3</td>\n",
       "      <td>66</td>\n",
       "      <td>1000</td>\n",
       "      <td>BRUSSEL</td>\n",
       "      <td>4.355223</td>\n",
       "      <td>50.845386</td>\n",
       "    </tr>\n",
       "    <tr>\n",
       "      <th>2</th>\n",
       "      <td>3</td>\n",
       "      <td>0</td>\n",
       "      <td>0.000000</td>\n",
       "      <td>NaN</td>\n",
       "      <td>1.000000</td>\n",
       "      <td>TPL</td>\n",
       "      <td>diesel</td>\n",
       "      <td>private</td>\n",
       "      <td>N</td>\n",
       "      <td>male</td>\n",
       "      <td>60</td>\n",
       "      <td>0</td>\n",
       "      <td>10</td>\n",
       "      <td>70</td>\n",
       "      <td>1000</td>\n",
       "      <td>BRUSSEL</td>\n",
       "      <td>4.355223</td>\n",
       "      <td>50.845386</td>\n",
       "    </tr>\n",
       "    <tr>\n",
       "      <th>3</th>\n",
       "      <td>4</td>\n",
       "      <td>0</td>\n",
       "      <td>0.000000</td>\n",
       "      <td>NaN</td>\n",
       "      <td>1.000000</td>\n",
       "      <td>TPL</td>\n",
       "      <td>gasoline</td>\n",
       "      <td>private</td>\n",
       "      <td>N</td>\n",
       "      <td>male</td>\n",
       "      <td>77</td>\n",
       "      <td>0</td>\n",
       "      <td>15</td>\n",
       "      <td>57</td>\n",
       "      <td>1000</td>\n",
       "      <td>BRUSSEL</td>\n",
       "      <td>4.355223</td>\n",
       "      <td>50.845386</td>\n",
       "    </tr>\n",
       "    <tr>\n",
       "      <th>4</th>\n",
       "      <td>5</td>\n",
       "      <td>1</td>\n",
       "      <td>155.974606</td>\n",
       "      <td>155.974606</td>\n",
       "      <td>0.046575</td>\n",
       "      <td>TPL</td>\n",
       "      <td>gasoline</td>\n",
       "      <td>private</td>\n",
       "      <td>N</td>\n",
       "      <td>female</td>\n",
       "      <td>28</td>\n",
       "      <td>9</td>\n",
       "      <td>7</td>\n",
       "      <td>70</td>\n",
       "      <td>1000</td>\n",
       "      <td>BRUSSEL</td>\n",
       "      <td>4.355223</td>\n",
       "      <td>50.845386</td>\n",
       "    </tr>\n",
       "  </tbody>\n",
       "</table>\n",
       "</div>"
      ],
      "text/plain": [
       "   id  nclaims       amount          avg      expo coverage      fuel  \\\n",
       "0   1        1  1618.001036  1618.001036  1.000000      TPL  gasoline   \n",
       "1   2        0     0.000000          NaN  1.000000       PO  gasoline   \n",
       "2   3        0     0.000000          NaN  1.000000      TPL    diesel   \n",
       "3   4        0     0.000000          NaN  1.000000      TPL  gasoline   \n",
       "4   5        1   155.974606   155.974606  0.046575      TPL  gasoline   \n",
       "\n",
       "       use fleet     sex  ageph  bm  agec  power    pc     town      long  \\\n",
       "0  private     N    male     50   5    12     77  1000  BRUSSEL  4.355223   \n",
       "1  private     N  female     64   5     3     66  1000  BRUSSEL  4.355223   \n",
       "2  private     N    male     60   0    10     70  1000  BRUSSEL  4.355223   \n",
       "3  private     N    male     77   0    15     57  1000  BRUSSEL  4.355223   \n",
       "4  private     N  female     28   9     7     70  1000  BRUSSEL  4.355223   \n",
       "\n",
       "         lat  \n",
       "0  50.845386  \n",
       "1  50.845386  \n",
       "2  50.845386  \n",
       "3  50.845386  \n",
       "4  50.845386  "
      ]
     },
     "execution_count": 84,
     "metadata": {},
     "output_type": "execute_result"
    }
   ],
   "source": [
    "# rename exp to expo\n",
    "df.rename(columns={'exp':'expo'}, inplace = True); df.head()"
   ]
  },
  {
   "cell_type": "code",
   "execution_count": 85,
   "metadata": {},
   "outputs": [
    {
     "name": "stdout",
     "output_type": "stream",
     "text": [
      "train size:(122423, 18), test size:(40808, 18)\n"
     ]
    }
   ],
   "source": [
    "# train/test split using sklearn\n",
    "train, test = train_test_split(df, test_size=0.25); print(f'train size:{train.shape}, test size:{test.shape}')"
   ]
  },
  {
   "cell_type": "code",
   "execution_count": 86,
   "metadata": {},
   "outputs": [
    {
     "name": "stdout",
     "output_type": "stream",
     "text": [
      "train size:(122423, 18)\n"
     ]
    }
   ],
   "source": [
    "# Reshuffling of the training observations\n",
    "train = train.sample(frac = 1); print(f'train size:{train.shape}')"
   ]
  },
  {
   "cell_type": "markdown",
   "metadata": {},
   "source": [
    "Claim frequency is usually modelled via GLM with log-link function:"
   ]
  },
  {
   "cell_type": "markdown",
   "metadata": {},
   "source": [
    "$$\n",
    "\\begin{align}\n",
    "Y \\sim Poisson(\\lambda = \\exp(x'\\beta))\n",
    "\\end{align}\n",
    "$$"
   ]
  },
  {
   "cell_type": "markdown",
   "metadata": {},
   "source": [
    "We now redefine this model as a neural network:"
   ]
  },
  {
   "cell_type": "markdown",
   "metadata": {},
   "source": [
    "<img src=\"./imgs/glm_vs_nn.jpg\" width=\"440\" height=\"440\" align=\"center\"/>"
   ]
  },
  {
   "cell_type": "markdown",
   "metadata": {},
   "source": [
    "### 3.1 Claim frequency and severity regression"
   ]
  },
  {
   "cell_type": "markdown",
   "metadata": {},
   "source": [
    "Consider a Poisson GLM model with only an intercept:"
   ]
  },
  {
   "cell_type": "markdown",
   "metadata": {},
   "source": [
    "$$\n",
    "\\begin{align}\n",
    "Y \\sim Poisson(\\lambda = \\exp(1\\cdot\\beta))\n",
    "\\end{align}\n",
    "$$"
   ]
  },
  {
   "cell_type": "markdown",
   "metadata": {},
   "source": [
    "Let's fit a neural network with the following parametrization:\n",
    "* **layer_dense**: there are no hidden layers, the input layer is directly connected to the output layer.\n",
    "* **units = 1**: there is one output node.\n",
    "* **activation = 'exponential'**: we use an exponential inverse link function.\n",
    "* **input_shape = (1,)**: there is one input node, i.e., the intercept which will be constant one.\n",
    "* **use_bias = FALSE**: we don't need a bias term, since we explicitly include an input node equal to one.\n",
    "* **loss = 'poisson'**: we maximize the Poisson likelihood, i.e., minimize the Poisson deviance."
   ]
  },
  {
   "cell_type": "code",
   "execution_count": 87,
   "metadata": {},
   "outputs": [],
   "source": [
    "reset_random_seeds(seed)\n",
    "session_conf = tf.compat.v1.ConfigProto(intra_op_parallelism_threads=1, inter_op_parallelism_threads=1)\n",
    "sess = tf.compat.v1.keras.backend.set_session(session_conf)\n",
    "\n",
    "# neural network initialization\n",
    "nn_freq_intercept = tf.keras.models.Sequential()\n",
    "nn_freq_intercept.add(tf.keras.layers.Dense(units = 1, activation = 'exponential', input_shape = (1,), use_bias = False))\n",
    "nn_freq_intercept.compile(optimizer = 'RMSprop', loss = 'poisson')\n",
    "\n",
    "tf.compat.v1.keras.backend.clear_session()"
   ]
  },
  {
   "cell_type": "markdown",
   "metadata": {},
   "source": [
    "**QUESTION:** how many parameters does this model have?"
   ]
  },
  {
   "cell_type": "code",
   "execution_count": 88,
   "metadata": {},
   "outputs": [
    {
     "data": {
      "text/plain": [
       "1"
      ]
     },
     "execution_count": 88,
     "metadata": {},
     "output_type": "execute_result"
    }
   ],
   "source": [
    "# answer\n",
    "nn_freq_intercept.count_params()"
   ]
  },
  {
   "cell_type": "code",
   "execution_count": 89,
   "metadata": {},
   "outputs": [
    {
     "name": "stdout",
     "output_type": "stream",
     "text": [
      "Model: \"sequential\"\n",
      "_________________________________________________________________\n",
      "Layer (type)                 Output Shape              Param #   \n",
      "=================================================================\n",
      "dense (Dense)                (None, 1)                 1         \n",
      "=================================================================\n",
      "Total params: 1\n",
      "Trainable params: 1\n",
      "Non-trainable params: 0\n",
      "_________________________________________________________________\n"
     ]
    }
   ],
   "source": [
    "# summary of the structure of the neural netweork\n",
    "nn_freq_intercept.summary()"
   ]
  },
  {
   "cell_type": "code",
   "execution_count": 90,
   "metadata": {},
   "outputs": [
    {
     "name": "stdout",
     "output_type": "stream",
     "text": [
      "size of intercept vector: 122423, size of counts vector: 122423\n"
     ]
    }
   ],
   "source": [
    "# create input/output vectors\n",
    "intercept = np.ones(train.shape[0])\n",
    "counts = np.array(train['nclaims'])\n",
    "print(f'size of intercept vector: {intercept.shape[0]}, size of counts vector: {counts.shape[0]}')"
   ]
  },
  {
   "cell_type": "markdown",
   "metadata": {},
   "source": [
    "The **fit()** method shows the following parametrization:\n",
    "* **x = intercept**: use the intercept as feature.\n",
    "* **y = counts**: use the claim counts as target.\n",
    "* **epochs = 20**: perform 20 training iterations over the complete data.\n",
    "* **batch_size = 1024**: use batches with 1024 observations to update weights.\n",
    "* **validation_split = 0**: don't use a validation set, so all observations are used for training.\n",
    "* **verbose = 0**: silence keras such that no output is generated during fitting.\n"
   ]
  },
  {
   "cell_type": "code",
   "execution_count": 91,
   "metadata": {},
   "outputs": [
    {
     "data": {
      "text/plain": [
       "<tensorflow.python.keras.callbacks.History at 0x25e233da6c8>"
      ]
     },
     "execution_count": 91,
     "metadata": {},
     "output_type": "execute_result"
    }
   ],
   "source": [
    "# fit the neural netword\n",
    "nn_freq_intercept.fit(x = intercept,\n",
    "                      y = counts,\n",
    "                      epochs = 30,\n",
    "                      batch_size = 1024,\n",
    "                      validation_split = 0,\n",
    "                      verbose = 0)"
   ]
  },
  {
   "cell_type": "code",
   "execution_count": 92,
   "metadata": {},
   "outputs": [
    {
     "data": {
      "text/plain": [
       "-2.0855863094329834"
      ]
     },
     "execution_count": 92,
     "metadata": {},
     "output_type": "execute_result"
    }
   ],
   "source": [
    "# get_weights()\n",
    "float(nn_freq_intercept.get_weights()[0])"
   ]
  },
  {
   "cell_type": "code",
   "execution_count": 93,
   "metadata": {},
   "outputs": [],
   "source": [
    "# test reproducibility\n",
    "# -2.0769898891448975"
   ]
  },
  {
   "cell_type": "markdown",
   "metadata": {},
   "source": [
    "We compare the results of our neural network with the same model specified as a GLM:"
   ]
  },
  {
   "cell_type": "code",
   "execution_count": 94,
   "metadata": {},
   "outputs": [
    {
     "data": {
      "text/html": [
       "<table class=\"simpletable\">\n",
       "<caption>Generalized Linear Model Regression Results</caption>\n",
       "<tr>\n",
       "  <th>Dep. Variable:</th>        <td>nclaims</td>     <th>  No. Observations:  </th>  <td>122423</td> \n",
       "</tr>\n",
       "<tr>\n",
       "  <th>Model:</th>                  <td>GLM</td>       <th>  Df Residuals:      </th>  <td>122422</td> \n",
       "</tr>\n",
       "<tr>\n",
       "  <th>Model Family:</th>         <td>Poisson</td>     <th>  Df Model:          </th>  <td>     0</td> \n",
       "</tr>\n",
       "<tr>\n",
       "  <th>Link Function:</th>          <td>log</td>       <th>  Scale:             </th> <td>  1.0000</td>\n",
       "</tr>\n",
       "<tr>\n",
       "  <th>Method:</th>                <td>IRLS</td>       <th>  Log-Likelihood:    </th> <td> -48025.</td>\n",
       "</tr>\n",
       "<tr>\n",
       "  <th>Date:</th>            <td>Mon, 11 Oct 2021</td> <th>  Deviance:          </th> <td>  67675.</td>\n",
       "</tr>\n",
       "<tr>\n",
       "  <th>Time:</th>                <td>17:05:55</td>     <th>  Pearson chi2:      </th> <td>1.33e+05</td>\n",
       "</tr>\n",
       "<tr>\n",
       "  <th>No. Iterations:</th>          <td>6</td>        <th>                     </th>     <td> </td>   \n",
       "</tr>\n",
       "<tr>\n",
       "  <th>Covariance Type:</th>     <td>nonrobust</td>    <th>                     </th>     <td> </td>   \n",
       "</tr>\n",
       "</table>\n",
       "<table class=\"simpletable\">\n",
       "<tr>\n",
       "      <td></td>         <th>coef</th>     <th>std err</th>      <th>z</th>      <th>P>|z|</th>  <th>[0.025</th>    <th>0.975]</th>  \n",
       "</tr>\n",
       "<tr>\n",
       "  <th>Intercept</th> <td>   -2.0850</td> <td>    0.008</td> <td> -257.209</td> <td> 0.000</td> <td>   -2.101</td> <td>   -2.069</td>\n",
       "</tr>\n",
       "</table>"
      ],
      "text/plain": [
       "<class 'statsmodels.iolib.summary.Summary'>\n",
       "\"\"\"\n",
       "                 Generalized Linear Model Regression Results                  \n",
       "==============================================================================\n",
       "Dep. Variable:                nclaims   No. Observations:               122423\n",
       "Model:                            GLM   Df Residuals:                   122422\n",
       "Model Family:                 Poisson   Df Model:                            0\n",
       "Link Function:                    log   Scale:                          1.0000\n",
       "Method:                          IRLS   Log-Likelihood:                -48025.\n",
       "Date:                Mon, 11 Oct 2021   Deviance:                       67675.\n",
       "Time:                        17:05:55   Pearson chi2:                 1.33e+05\n",
       "No. Iterations:                     6                                         \n",
       "Covariance Type:            nonrobust                                         \n",
       "==============================================================================\n",
       "                 coef    std err          z      P>|z|      [0.025      0.975]\n",
       "------------------------------------------------------------------------------\n",
       "Intercept     -2.0850      0.008   -257.209      0.000      -2.101      -2.069\n",
       "==============================================================================\n",
       "\"\"\""
      ]
     },
     "execution_count": 94,
     "metadata": {},
     "output_type": "execute_result"
    }
   ],
   "source": [
    "glm_freq_intercept = sm.formula.glm(\"nclaims ~ 1\", data=train, family=sm.families.Poisson()).fit(); glm_freq_intercept.summary()"
   ]
  },
  {
   "cell_type": "code",
   "execution_count": 95,
   "metadata": {},
   "outputs": [
    {
     "name": "stdout",
     "output_type": "stream",
     "text": [
      "NN weights:-2.0855863094329834, \n",
      "GLM coefficients:-2.0850033231682623\n"
     ]
    }
   ],
   "source": [
    "# comparing the estimated parameter (difference reflects a different optimization technique)\n",
    "print(f'NN weights:{np.float(nn_freq_intercept.get_weights()[0])}, \\nGLM coefficients:{np.float(glm_freq_intercept.params)}')"
   ]
  },
  {
   "cell_type": "code",
   "execution_count": 96,
   "metadata": {},
   "outputs": [],
   "source": [
    "# test reproducibility \n",
    "# NN weights:-2.0769898891448975, \n",
    "# GLM coefficients:-2.081854127545948"
   ]
  },
  {
   "cell_type": "markdown",
   "metadata": {},
   "source": [
    "### 5.1.1 Your Turn!"
   ]
  },
  {
   "cell_type": "markdown",
   "metadata": {},
   "source": [
    "**QUESTION 1:** adapt this code to replicate a **binomial** GLM with a **logit link function**. Add **accuracy** as a metric in your model. Consider the following hint:\n",
    "* _Hint 1:_ the sigmoid activation function is the inverse of the logit link function.\n",
    "* _Hint 2:_ the binary_crossentropy loss maximizes the loglikelihood of Bernoulli outcomes:\n",
    "$$\n",
    "\\begin{align}\n",
    "\\sum^{n}_{i=1}{(y_{i}\\cdot log(p_{i})+(1-y_{i})\\cdot log(1-p_{i})).}\n",
    "\\end{align}\n",
    "$$"
   ]
  },
  {
   "cell_type": "code",
   "execution_count": 97,
   "metadata": {},
   "outputs": [],
   "source": [
    "reset_random_seeds(seed)\n",
    "session_conf = tf.compat.v1.ConfigProto(intra_op_parallelism_threads=1, inter_op_parallelism_threads=1)\n",
    "sess = tf.compat.v1.keras.backend.set_session(session_conf)\n",
    "\n",
    "# setting up neural network\n",
    "exercize_nn = tf.keras.models.Sequential()\n",
    "exercize_nn.add(tf.keras.layers.Dense(units = 1, activation = 'sigmoid', input_shape = (1,), use_bias = False))\n",
    "exercize_nn.compile(optimizer = 'RMSprop', loss = 'binary_crossentropy', metrics = ['accuracy'])\n",
    "\n",
    "tf.compat.v1.keras.backend.clear_session()"
   ]
  },
  {
   "cell_type": "markdown",
   "metadata": {},
   "source": [
    "**QUESTION 2:** fit your neural network."
   ]
  },
  {
   "cell_type": "code",
   "execution_count": 98,
   "metadata": {},
   "outputs": [
    {
     "data": {
      "text/plain": [
       "<tensorflow.python.keras.callbacks.History at 0x25e239ff9c8>"
      ]
     },
     "execution_count": 98,
     "metadata": {},
     "output_type": "execute_result"
    }
   ],
   "source": [
    "exercize_nn.fit(x = intercept,\n",
    "                y = counts > 0, \n",
    "                epochs = 40, \n",
    "                batch_size = 1024, \n",
    "                validation_split = 0, \n",
    "                verbose = 0)"
   ]
  },
  {
   "cell_type": "markdown",
   "metadata": {},
   "source": [
    "**QUESTION 3:** compare your fitted neural network with a GLM.\n",
    "* _Hint 1:_ to accomodate the fitting of the logistic regression of a categorical vector, we create a binary proxy variable nclaims_proxy with the following characteristics:\n",
    "    * proxy = 0 when x = 0\n",
    "    * proxy = 1 when x > 0"
   ]
  },
  {
   "cell_type": "code",
   "execution_count": 99,
   "metadata": {},
   "outputs": [],
   "source": [
    "train['nclaims_proxy'] = np.where(train['nclaims'] > 0, 1, 0)"
   ]
  },
  {
   "cell_type": "code",
   "execution_count": 100,
   "metadata": {},
   "outputs": [
    {
     "name": "stdout",
     "output_type": "stream",
     "text": [
      "NN weights:-2.0661256313323975, \n",
      "GLM coefficients:-2.0667311722314734\n"
     ]
    }
   ],
   "source": [
    "exercize_glm = sm.formula.glm(\"nclaims_proxy ~ 1 + 1\", # it must be fitted this way or 0/1 labels get switched\n",
    "                            data=train, \n",
    "                            family=sm.families.Binomial(sm.families.links.logit())).fit();\n",
    "\n",
    "print(f'NN weights:{np.float(exercize_nn.get_weights()[0])}, \\nGLM coefficients:{np.float(exercize_glm.params)}')"
   ]
  },
  {
   "cell_type": "code",
   "execution_count": 101,
   "metadata": {},
   "outputs": [],
   "source": [
    "# reproducibility test\n",
    "# NN weights:-2.0633275508880615, \n",
    "# GLM coefficients:-2.0620717063272846"
   ]
  },
  {
   "cell_type": "code",
   "execution_count": 102,
   "metadata": {},
   "outputs": [
    {
     "data": {
      "text/html": [
       "<table class=\"simpletable\">\n",
       "<caption>Generalized Linear Model Regression Results</caption>\n",
       "<tr>\n",
       "  <th>Dep. Variable:</th>     <td>nclaims_proxy</td>  <th>  No. Observations:  </th>  <td>122423</td> \n",
       "</tr>\n",
       "<tr>\n",
       "  <th>Model:</th>                  <td>GLM</td>       <th>  Df Residuals:      </th>  <td>122422</td> \n",
       "</tr>\n",
       "<tr>\n",
       "  <th>Model Family:</th>        <td>Binomial</td>     <th>  Df Model:          </th>  <td>     0</td> \n",
       "</tr>\n",
       "<tr>\n",
       "  <th>Link Function:</th>         <td>logit</td>      <th>  Scale:             </th> <td>  1.0000</td>\n",
       "</tr>\n",
       "<tr>\n",
       "  <th>Method:</th>                <td>IRLS</td>       <th>  Log-Likelihood:    </th> <td> -43025.</td>\n",
       "</tr>\n",
       "<tr>\n",
       "  <th>Date:</th>            <td>Mon, 11 Oct 2021</td> <th>  Deviance:          </th> <td>  86050.</td>\n",
       "</tr>\n",
       "<tr>\n",
       "  <th>Time:</th>                <td>17:06:01</td>     <th>  Pearson chi2:      </th> <td>1.22e+05</td>\n",
       "</tr>\n",
       "<tr>\n",
       "  <th>No. Iterations:</th>          <td>5</td>        <th>                     </th>     <td> </td>   \n",
       "</tr>\n",
       "<tr>\n",
       "  <th>Covariance Type:</th>     <td>nonrobust</td>    <th>                     </th>     <td> </td>   \n",
       "</tr>\n",
       "</table>\n",
       "<table class=\"simpletable\">\n",
       "<tr>\n",
       "      <td></td>         <th>coef</th>     <th>std err</th>      <th>z</th>      <th>P>|z|</th>  <th>[0.025</th>    <th>0.975]</th>  \n",
       "</tr>\n",
       "<tr>\n",
       "  <th>Intercept</th> <td>   -2.0667</td> <td>    0.009</td> <td> -228.382</td> <td> 0.000</td> <td>   -2.084</td> <td>   -2.049</td>\n",
       "</tr>\n",
       "</table>"
      ],
      "text/plain": [
       "<class 'statsmodels.iolib.summary.Summary'>\n",
       "\"\"\"\n",
       "                 Generalized Linear Model Regression Results                  \n",
       "==============================================================================\n",
       "Dep. Variable:          nclaims_proxy   No. Observations:               122423\n",
       "Model:                            GLM   Df Residuals:                   122422\n",
       "Model Family:                Binomial   Df Model:                            0\n",
       "Link Function:                  logit   Scale:                          1.0000\n",
       "Method:                          IRLS   Log-Likelihood:                -43025.\n",
       "Date:                Mon, 11 Oct 2021   Deviance:                       86050.\n",
       "Time:                        17:06:01   Pearson chi2:                 1.22e+05\n",
       "No. Iterations:                     5                                         \n",
       "Covariance Type:            nonrobust                                         \n",
       "==============================================================================\n",
       "                 coef    std err          z      P>|z|      [0.025      0.975]\n",
       "------------------------------------------------------------------------------\n",
       "Intercept     -2.0667      0.009   -228.382      0.000      -2.084      -2.049\n",
       "==============================================================================\n",
       "\"\"\""
      ]
     },
     "execution_count": 102,
     "metadata": {},
     "output_type": "execute_result"
    }
   ],
   "source": [
    "exercize_glm.summary()"
   ]
  },
  {
   "cell_type": "code",
   "execution_count": 103,
   "metadata": {},
   "outputs": [
    {
     "data": {
      "text/plain": [
       "array([0.11237268, 0.11237268, 0.11237268, ..., 0.11237268, 0.11237268,\n",
       "       0.11237268])"
      ]
     },
     "execution_count": 103,
     "metadata": {},
     "output_type": "execute_result"
    }
   ],
   "source": [
    "# vector of fitted values\n",
    "exercize_glm.predict()"
   ]
  },
  {
   "cell_type": "code",
   "execution_count": 104,
   "metadata": {},
   "outputs": [
    {
     "data": {
      "text/plain": [
       "array([0.11237])"
      ]
     },
     "execution_count": 104,
     "metadata": {},
     "output_type": "execute_result"
    }
   ],
   "source": [
    "# Q3: compare prediction\n",
    "np.unique(np.round(exercize_glm.predict(),5))"
   ]
  },
  {
   "cell_type": "code",
   "execution_count": 105,
   "metadata": {},
   "outputs": [
    {
     "data": {
      "text/plain": [
       "array([0.11243], dtype=float32)"
      ]
     },
     "execution_count": 105,
     "metadata": {},
     "output_type": "execute_result"
    }
   ],
   "source": [
    "# pretty much similar\n",
    "np.unique(np.round(exercize_nn.predict(x = intercept),5))"
   ]
  },
  {
   "cell_type": "code",
   "execution_count": 106,
   "metadata": {},
   "outputs": [],
   "source": [
    "# we can now delete the proxy variable from the dataset\n",
    "train = train.drop('nclaims_proxy',1)"
   ]
  },
  {
   "cell_type": "markdown",
   "metadata": {},
   "source": [
    "### 5.2 Taking exposure into account in a neural network"
   ]
  },
  {
   "cell_type": "markdown",
   "metadata": {},
   "source": [
    "The Poisson loss function, including exposure, is:\n",
    "$$\n",
    "\\begin{align}\n",
    "\\mathcal{L}=\\sum_{i}{expo_{i}\\cdot \\lambda_{i}-y_{i}\\cdot log(expo_{i}\\cdot \\lambda_{i})},\n",
    "\\end{align}\n",
    "$$\n",
    "which is proportional to:\n",
    "$$\n",
    "\\begin{align}\n",
    "\\mathcal{L}=\\sum_{i}{expo_{i}\\cdot (\\lambda_{i}-\\frac{y_{i}}{expo_{i}}log(\\lambda_{i}))}.\n",
    "\\end{align}\n",
    "$$"
   ]
  },
  {
   "cell_type": "markdown",
   "metadata": {},
   "source": [
    "This is the loss of a Poisson model with:\n",
    "* observations $\\frac{y_{i}}{expo_{i}}$ and\n",
    "* weights $expo_{i}$"
   ]
  },
  {
   "cell_type": "markdown",
   "metadata": {},
   "source": [
    "Notice indeed how the parameter estimates of the following two GLMs are identical."
   ]
  },
  {
   "cell_type": "markdown",
   "metadata": {},
   "source": [
    "#### 5.2.1 Fitting GLM with offset component"
   ]
  },
  {
   "cell_type": "code",
   "execution_count": 107,
   "metadata": {},
   "outputs": [
    {
     "data": {
      "text/html": [
       "<table class=\"simpletable\">\n",
       "<caption>Generalized Linear Model Regression Results</caption>\n",
       "<tr>\n",
       "  <th>Dep. Variable:</th>        <td>nclaims</td>     <th>  No. Observations:  </th>  <td>122423</td> \n",
       "</tr>\n",
       "<tr>\n",
       "  <th>Model:</th>                  <td>GLM</td>       <th>  Df Residuals:      </th>  <td>122421</td> \n",
       "</tr>\n",
       "<tr>\n",
       "  <th>Model Family:</th>         <td>Poisson</td>     <th>  Df Model:          </th>  <td>     1</td> \n",
       "</tr>\n",
       "<tr>\n",
       "  <th>Link Function:</th>          <td>log</td>       <th>  Scale:             </th> <td>  1.0000</td>\n",
       "</tr>\n",
       "<tr>\n",
       "  <th>Method:</th>                <td>IRLS</td>       <th>  Log-Likelihood:    </th> <td> -47529.</td>\n",
       "</tr>\n",
       "<tr>\n",
       "  <th>Date:</th>            <td>Mon, 11 Oct 2021</td> <th>  Deviance:          </th> <td>  66683.</td>\n",
       "</tr>\n",
       "<tr>\n",
       "  <th>Time:</th>                <td>17:06:03</td>     <th>  Pearson chi2:      </th> <td>1.48e+05</td>\n",
       "</tr>\n",
       "<tr>\n",
       "  <th>No. Iterations:</th>          <td>6</td>        <th>                     </th>     <td> </td>   \n",
       "</tr>\n",
       "<tr>\n",
       "  <th>Covariance Type:</th>     <td>nonrobust</td>    <th>                     </th>     <td> </td>   \n",
       "</tr>\n",
       "</table>\n",
       "<table class=\"simpletable\">\n",
       "<tr>\n",
       "      <td></td>         <th>coef</th>     <th>std err</th>      <th>z</th>      <th>P>|z|</th>  <th>[0.025</th>    <th>0.975]</th>  \n",
       "</tr>\n",
       "<tr>\n",
       "  <th>Intercept</th> <td>   -1.2326</td> <td>    0.026</td> <td>  -46.636</td> <td> 0.000</td> <td>   -1.284</td> <td>   -1.181</td>\n",
       "</tr>\n",
       "<tr>\n",
       "  <th>ageph</th>     <td>   -0.0161</td> <td>    0.001</td> <td>  -28.137</td> <td> 0.000</td> <td>   -0.017</td> <td>   -0.015</td>\n",
       "</tr>\n",
       "</table>"
      ],
      "text/plain": [
       "<class 'statsmodels.iolib.summary.Summary'>\n",
       "\"\"\"\n",
       "                 Generalized Linear Model Regression Results                  \n",
       "==============================================================================\n",
       "Dep. Variable:                nclaims   No. Observations:               122423\n",
       "Model:                            GLM   Df Residuals:                   122421\n",
       "Model Family:                 Poisson   Df Model:                            1\n",
       "Link Function:                    log   Scale:                          1.0000\n",
       "Method:                          IRLS   Log-Likelihood:                -47529.\n",
       "Date:                Mon, 11 Oct 2021   Deviance:                       66683.\n",
       "Time:                        17:06:03   Pearson chi2:                 1.48e+05\n",
       "No. Iterations:                     6                                         \n",
       "Covariance Type:            nonrobust                                         \n",
       "==============================================================================\n",
       "                 coef    std err          z      P>|z|      [0.025      0.975]\n",
       "------------------------------------------------------------------------------\n",
       "Intercept     -1.2326      0.026    -46.636      0.000      -1.284      -1.181\n",
       "ageph         -0.0161      0.001    -28.137      0.000      -0.017      -0.015\n",
       "==============================================================================\n",
       "\"\"\""
      ]
     },
     "execution_count": 107,
     "metadata": {},
     "output_type": "execute_result"
    }
   ],
   "source": [
    "# GLM with offset\n",
    "glm_offset = sm.formula.glm(\"nclaims ~ ageph\", \n",
    "                            data=train, \n",
    "                            offset = np.log(train.expo),\n",
    "                            family=sm.families.Poisson()).fit(); \n",
    "glm_offset.summary()"
   ]
  },
  {
   "cell_type": "code",
   "execution_count": 108,
   "metadata": {},
   "outputs": [
    {
     "data": {
      "text/plain": [
       "Intercept   -1.232611\n",
       "ageph       -0.016092\n",
       "dtype: float64"
      ]
     },
     "execution_count": 108,
     "metadata": {},
     "output_type": "execute_result"
    }
   ],
   "source": [
    "glm_offset.params"
   ]
  },
  {
   "cell_type": "code",
   "execution_count": 109,
   "metadata": {},
   "outputs": [],
   "source": [
    "# test reproducibility\n",
    "# Intercept   -1.198433\n",
    "# ageph       -0.016804"
   ]
  },
  {
   "cell_type": "markdown",
   "metadata": {},
   "source": [
    "#### 5.2.2 Fitting GLM with weights"
   ]
  },
  {
   "cell_type": "code",
   "execution_count": 110,
   "metadata": {},
   "outputs": [
    {
     "data": {
      "text/html": [
       "<table class=\"simpletable\">\n",
       "<caption>Generalized Linear Model Regression Results</caption>\n",
       "<tr>\n",
       "  <th>Dep. Variable:</th>        <td>nclaims</td>     <th>  No. Observations:  </th>  <td>122423</td> \n",
       "</tr>\n",
       "<tr>\n",
       "  <th>Model:</th>                  <td>GLM</td>       <th>  Df Residuals:      </th>  <td>122421</td> \n",
       "</tr>\n",
       "<tr>\n",
       "  <th>Model Family:</th>         <td>Poisson</td>     <th>  Df Model:          </th>  <td>     1</td> \n",
       "</tr>\n",
       "<tr>\n",
       "  <th>Link Function:</th>          <td>log</td>       <th>  Scale:             </th> <td>  1.0000</td>\n",
       "</tr>\n",
       "<tr>\n",
       "  <th>Method:</th>                <td>IRLS</td>       <th>  Log-Likelihood:    </th> <td> -47529.</td>\n",
       "</tr>\n",
       "<tr>\n",
       "  <th>Date:</th>            <td>Mon, 11 Oct 2021</td> <th>  Deviance:          </th> <td>  66683.</td>\n",
       "</tr>\n",
       "<tr>\n",
       "  <th>Time:</th>                <td>17:06:03</td>     <th>  Pearson chi2:      </th> <td>1.48e+05</td>\n",
       "</tr>\n",
       "<tr>\n",
       "  <th>No. Iterations:</th>          <td>6</td>        <th>                     </th>     <td> </td>   \n",
       "</tr>\n",
       "<tr>\n",
       "  <th>Covariance Type:</th>     <td>nonrobust</td>    <th>                     </th>     <td> </td>   \n",
       "</tr>\n",
       "</table>\n",
       "<table class=\"simpletable\">\n",
       "<tr>\n",
       "      <td></td>         <th>coef</th>     <th>std err</th>      <th>z</th>      <th>P>|z|</th>  <th>[0.025</th>    <th>0.975]</th>  \n",
       "</tr>\n",
       "<tr>\n",
       "  <th>Intercept</th> <td>   -1.2326</td> <td>    0.026</td> <td>  -46.636</td> <td> 0.000</td> <td>   -1.284</td> <td>   -1.181</td>\n",
       "</tr>\n",
       "<tr>\n",
       "  <th>ageph</th>     <td>   -0.0161</td> <td>    0.001</td> <td>  -28.137</td> <td> 0.000</td> <td>   -0.017</td> <td>   -0.015</td>\n",
       "</tr>\n",
       "</table>"
      ],
      "text/plain": [
       "<class 'statsmodels.iolib.summary.Summary'>\n",
       "\"\"\"\n",
       "                 Generalized Linear Model Regression Results                  \n",
       "==============================================================================\n",
       "Dep. Variable:                nclaims   No. Observations:               122423\n",
       "Model:                            GLM   Df Residuals:                   122421\n",
       "Model Family:                 Poisson   Df Model:                            1\n",
       "Link Function:                    log   Scale:                          1.0000\n",
       "Method:                          IRLS   Log-Likelihood:                -47529.\n",
       "Date:                Mon, 11 Oct 2021   Deviance:                       66683.\n",
       "Time:                        17:06:03   Pearson chi2:                 1.48e+05\n",
       "No. Iterations:                     6                                         \n",
       "Covariance Type:            nonrobust                                         \n",
       "==============================================================================\n",
       "                 coef    std err          z      P>|z|      [0.025      0.975]\n",
       "------------------------------------------------------------------------------\n",
       "Intercept     -1.2326      0.026    -46.636      0.000      -1.284      -1.181\n",
       "ageph         -0.0161      0.001    -28.137      0.000      -0.017      -0.015\n",
       "==============================================================================\n",
       "\"\"\""
      ]
     },
     "execution_count": 110,
     "metadata": {},
     "output_type": "execute_result"
    }
   ],
   "source": [
    "# GLM including weights\n",
    "glm_weights = sm.formula.glm(\"nclaims ~ ageph\", \n",
    "                             data=train, \n",
    "                             weights = train.expo, \n",
    "                             exposure = train.expo, \n",
    "                             family=sm.families.Poisson()).fit(); \n",
    "glm_weights.summary()"
   ]
  },
  {
   "cell_type": "code",
   "execution_count": 111,
   "metadata": {},
   "outputs": [
    {
     "data": {
      "text/plain": [
       "Intercept   -1.232611\n",
       "ageph       -0.016092\n",
       "dtype: float64"
      ]
     },
     "execution_count": 111,
     "metadata": {},
     "output_type": "execute_result"
    }
   ],
   "source": [
    "glm_weights.params"
   ]
  },
  {
   "cell_type": "code",
   "execution_count": 112,
   "metadata": {},
   "outputs": [],
   "source": [
    "# test reproducibility\n",
    "# Intercept   -1.198433\n",
    "# ageph       -0.016804"
   ]
  },
  {
   "cell_type": "markdown",
   "metadata": {},
   "source": [
    "#### 5.2.3 Fitting a neural network with exposure"
   ]
  },
  {
   "cell_type": "markdown",
   "metadata": {},
   "source": [
    "The specification structure of the neural network remains the same:"
   ]
  },
  {
   "cell_type": "code",
   "execution_count": 113,
   "metadata": {},
   "outputs": [],
   "source": [
    "reset_random_seeds(seed)\n",
    "session_conf = tf.compat.v1.ConfigProto(intra_op_parallelism_threads=1, inter_op_parallelism_threads=1)\n",
    "sess = tf.compat.v1.keras.backend.set_session(session_conf)\n",
    "\n",
    "# neural network architecture specification\n",
    "nn_freq_exposure = tf.keras.models.Sequential()\n",
    "nn_freq_exposure.add(tf.keras.layers.Dense(units = 1, activation = 'exponential', input_shape = (1,), use_bias = False))\n",
    "nn_freq_exposure.compile(optimizer = 'RMSprop', loss = 'poisson')\n",
    "\n",
    "tf.compat.v1.keras.backend.clear_session()"
   ]
  },
  {
   "cell_type": "code",
   "execution_count": 114,
   "metadata": {},
   "outputs": [],
   "source": [
    "# create a vector with exposure values\n",
    "exposure = np.array(train['expo']) # pd.Series must be converted to pd.array due to compatibility reasons with fit() method"
   ]
  },
  {
   "cell_type": "code",
   "execution_count": 115,
   "metadata": {
    "scrolled": true
   },
   "outputs": [
    {
     "data": {
      "text/plain": [
       "<tensorflow.python.keras.callbacks.History at 0x25e010bbac8>"
      ]
     },
     "execution_count": 115,
     "metadata": {},
     "output_type": "execute_result"
    }
   ],
   "source": [
    "# divide claim counts by exposure and use weights\n",
    "nn_freq_exposure.fit(x = intercept,\n",
    "                     y = counts/exposure,\n",
    "                     sample_weight = exposure,\n",
    "                     epochs = 20,\n",
    "                     batch_size = 1024,\n",
    "                     validation_split = 0,\n",
    "                     verbose = 0)"
   ]
  },
  {
   "cell_type": "code",
   "execution_count": 116,
   "metadata": {},
   "outputs": [
    {
     "data": {
      "text/plain": [
       "-1.9697153568267822"
      ]
     },
     "execution_count": 116,
     "metadata": {},
     "output_type": "execute_result"
    }
   ],
   "source": [
    "# get_weights()\n",
    "float(nn_freq_exposure.get_weights()[0])"
   ]
  },
  {
   "cell_type": "code",
   "execution_count": 117,
   "metadata": {},
   "outputs": [
    {
     "name": "stdout",
     "output_type": "stream",
     "text": [
      "NN weights:-1.9697153568267822, \n",
      "\n",
      "GLM_offset coefficients:Intercept   -1.232611\n",
      "ageph       -0.016092\n",
      "dtype: float64, \n",
      "\n",
      "GLM_weights coefficients:Intercept   -1.232611\n",
      "ageph       -0.016092\n",
      "dtype: float64\n"
     ]
    }
   ],
   "source": [
    "# comparing the estimated parameter (difference reflects a different optimization technique)\n",
    "print(f'NN weights:{nn_freq_exposure.get_weights()[0][0][0]}, \\n\\nGLM_offset coefficients:{glm_offset.params}, \\n\\nGLM_weights coefficients:{glm_weights.params}')"
   ]
  },
  {
   "cell_type": "markdown",
   "metadata": {},
   "source": [
    "### 5.3 How can we include exposure via an offset term?"
   ]
  },
  {
   "cell_type": "code",
   "execution_count": 118,
   "metadata": {},
   "outputs": [],
   "source": [
    "# create a vector with ageph (pd.Series must be converted to pd.array due to compatibility reasons with fit() method)\n",
    "ageph = np.array(train['ageph'])"
   ]
  },
  {
   "cell_type": "code",
   "execution_count": 119,
   "metadata": {},
   "outputs": [],
   "source": [
    "reset_random_seeds(seed)\n",
    "session_conf = tf.compat.v1.ConfigProto(intra_op_parallelism_threads=1, inter_op_parallelism_threads=1)\n",
    "sess = tf.compat.v1.keras.backend.set_session(session_conf)\n",
    "\n",
    "# neural network architecture specification\n",
    "nn_freq_ageph = tf.keras.models.Sequential()\n",
    "nn_freq_ageph.add(tf.keras.layers.BatchNormalization(input_shape = (1,))) # layer_batch_normalization centers and scales the input features\n",
    "nn_freq_ageph.add(tf.keras.layers.Dense(units = 5, activation = 'tanh'))\n",
    "nn_freq_ageph.add(tf.keras.layers.Dense(units = 1, activation = 'exponential', use_bias = True)) # Notice how we set use_bias = TRUE for the intercept.\n",
    "nn_freq_ageph.compile(optimizer = 'RMSprop', loss = 'poisson')\n",
    "\n",
    "tf.compat.v1.keras.backend.clear_session()"
   ]
  },
  {
   "cell_type": "code",
   "execution_count": 120,
   "metadata": {},
   "outputs": [
    {
     "data": {
      "text/plain": [
       "<tensorflow.python.keras.callbacks.History at 0x25e2c7e8308>"
      ]
     },
     "execution_count": 120,
     "metadata": {},
     "output_type": "execute_result"
    }
   ],
   "source": [
    "nn_freq_ageph.fit(ageph,\n",
    "                 counts/exposure,\n",
    "                 sample_weight = exposure,\n",
    "                 epochs = 20,\n",
    "                 batch_size = 1024,\n",
    "                 validation_split = 0,\n",
    "                 verbose = 0)"
   ]
  },
  {
   "cell_type": "code",
   "execution_count": 121,
   "metadata": {},
   "outputs": [
    {
     "data": {
      "text/plain": [
       "[array([0.59790635], dtype=float32),\n",
       " array([0.43759447], dtype=float32),\n",
       " array([46.993996], dtype=float32),\n",
       " array([219.75624], dtype=float32),\n",
       " array([[-0.44592652,  0.4401062 ,  0.49016577,  0.36174485,  0.11969002]],\n",
       "       dtype=float32),\n",
       " array([-0.40432256,  0.41331345,  0.4174856 , -0.39138353,  0.4025488 ],\n",
       "       dtype=float32),\n",
       " array([[ 1.1707656],\n",
       "        [-0.5194273],\n",
       "        [-0.5358089],\n",
       "        [ 1.0302995],\n",
       "        [-0.5380828]], dtype=float32),\n",
       " array([-0.39035523], dtype=float32)]"
      ]
     },
     "execution_count": 121,
     "metadata": {},
     "output_type": "execute_result"
    }
   ],
   "source": [
    "nn_freq_ageph.get_weights()"
   ]
  },
  {
   "cell_type": "code",
   "execution_count": 122,
   "metadata": {},
   "outputs": [],
   "source": [
    "# nn_freq_ageph.get_weights()\n",
    "# [array([0.7084903], dtype=float32),\n",
    "# array([0.38735807], dtype=float32),\n",
    "# array([47.015095], dtype=float32),\n",
    "# array([219.40018], dtype=float32),\n",
    "# array([[-0.52467084,  0.14787085, -0.28749973,  0.06453697,  0.4256467 ]],\n",
    "#       dtype=float32),\n",
    "# array([-0.40032643,  0.3702411 , -0.37861714, -0.36824194, -0.3823439 ],\n",
    "#       dtype=float32),\n",
    "# array([[ 0.9759775 ],\n",
    "#        [-1.0631176 ],\n",
    "#        [ 0.78664863],\n",
    "#        [ 0.7501453 ],\n",
    "#        [ 0.685709  ]], dtype=float32),\n",
    "# array([-0.36296386], dtype=float32)]"
   ]
  },
  {
   "cell_type": "code",
   "execution_count": 123,
   "metadata": {},
   "outputs": [
    {
     "data": {
      "text/plain": [
       "[<matplotlib.lines.Line2D at 0x25e2f7a1588>]"
      ]
     },
     "execution_count": 123,
     "metadata": {},
     "output_type": "execute_result"
    },
    {
     "data": {
      "image/png": "[encoded data removed]",
      "text/plain": [
       "<Figure size 432x288 with 1 Axes>"
      ]
     },
     "metadata": {
      "needs_background": "light"
     },
     "output_type": "display_data"
    }
   ],
   "source": [
    "# plotting\n",
    "age = tf.cast(np.array(range(18,96)), tf.float32)\n",
    "nn_pred = nn_freq_ageph.predict(age)\n",
    "plt.plot(nn_pred)"
   ]
  },
  {
   "cell_type": "markdown",
   "metadata": {},
   "source": [
    "### 5.4 Applying GAM models"
   ]
  },
  {
   "cell_type": "markdown",
   "metadata": {},
   "source": [
    "#### 5.4.1 rpy2 implementation via mgcv package"
   ]
  },
  {
   "cell_type": "code",
   "execution_count": 124,
   "metadata": {},
   "outputs": [],
   "source": [
    "from rpy2.robjects.packages import importr\n",
    "import rpy2.robjects.numpy2ri as rpyn\n",
    "from rpy2.robjects import pandas2ri\n",
    "import rpy2.robjects as robjects"
   ]
  },
  {
   "cell_type": "code",
   "execution_count": 125,
   "metadata": {},
   "outputs": [],
   "source": [
    "# to run in case the following cells won't work\n",
    "#r_utils.install_packages('codetools')\n",
    "#r_utils.install_packages('base')\n",
    "#r_utils.install_packages('mgcv')\n",
    "#r_utils.install_packages('utils')"
   ]
  },
  {
   "cell_type": "markdown",
   "metadata": {},
   "source": [
    "We fit a GAM with a smooth effect for ageph:"
   ]
  },
  {
   "cell_type": "code",
   "execution_count": 126,
   "metadata": {},
   "outputs": [],
   "source": [
    "# importing necessary packages for R datafiles manipulation and model fitting\n",
    "r_utils = importr('utils')\n",
    "base = importr('base')\n",
    "r_gam_lib = importr('mgcv')\n",
    "r_gam = r_gam_lib.gam"
   ]
  },
  {
   "cell_type": "code",
   "execution_count": 127,
   "metadata": {},
   "outputs": [
    {
     "data": {
      "text/plain": [
       "rpy2.rinterface.NULL"
      ]
     },
     "execution_count": 127,
     "metadata": {},
     "output_type": "execute_result"
    }
   ],
   "source": [
    "# we need to set the seed also in the \"R environment\"\n",
    "r = robjects.r\n",
    "set_seed = r('set.seed')\n",
    "set_seed(seed)"
   ]
  },
  {
   "cell_type": "code",
   "execution_count": 128,
   "metadata": {},
   "outputs": [],
   "source": [
    "# importing pd.DataFrame\n",
    "pandas2ri.activate()\n",
    "r_df = pandas2ri.py2ri(train)\n",
    "\n",
    "# fitting gam with offset\n",
    "fmla = robjects.Formula('nclaims ~ s(ageph)')\n",
    "gam_ageph = r_gam(fmla, data = r_df, family = robjects.r(\"poisson(link = 'log')\"), offset = np.log(train['expo']))"
   ]
  },
  {
   "cell_type": "code",
   "execution_count": 129,
   "metadata": {},
   "outputs": [
    {
     "name": "stdout",
     "output_type": "stream",
     "text": [
      "coefficients: \n",
      "\n",
      " (Intercept)  s(ageph).1  s(ageph).2  s(ageph).3  s(ageph).4  s(ageph).5 \n",
      "\r\n",
      "-1.99097456  0.20142334  0.53291253 -0.22039775  0.23679483 -0.07582316 \n",
      "\r\n",
      " s(ageph).6  s(ageph).7  s(ageph).8  s(ageph).9 \n",
      "\r\n",
      "-0.22951718  0.06710112 -1.01593621 -0.33469727 \n",
      "\n",
      "deviance: [1] 66537.24\n",
      "\n"
     ]
    }
   ],
   "source": [
    "print(f'coefficients: \\n\\n {robjects.r.coefficients(gam_ageph)}')\n",
    "print(f'deviance: {robjects.r.deviance(gam_ageph)}')"
   ]
  },
  {
   "cell_type": "code",
   "execution_count": 130,
   "metadata": {},
   "outputs": [],
   "source": [
    "#coefficients:\n",
    "# (Intercept)  s(ageph).1  s(ageph).2  s(ageph).3  s(ageph).4  s(ageph).5 \n",
    "# -1.99103787  0.19106496  0.45198055 -0.23068176  0.18473358 -0.05004561 \n",
    "# s(ageph).6  s(ageph).7  s(ageph).8  s(ageph).9 \n",
    "# -0.20549747  0.06362415 -0.90638308 -0.34965869 \n",
    "# deviance: [1] 66474.55"
   ]
  },
  {
   "cell_type": "code",
   "execution_count": 131,
   "metadata": {},
   "outputs": [
    {
     "data": {
      "text/plain": [
       "array([-1.95044208, -2.00139322, -1.84966961, ..., -1.95588603,\n",
       "       -2.32622098, -1.96317183])"
      ]
     },
     "execution_count": 131,
     "metadata": {},
     "output_type": "execute_result"
    }
   ],
   "source": [
    "# display fitted values over train set\n",
    "gam_pred = robjects.r.predict(gam_ageph)\n",
    "gam_pred_train = np.array(gam_pred); gam_pred_train"
   ]
  },
  {
   "cell_type": "markdown",
   "metadata": {},
   "source": [
    "In order to perform the prediction, we need to create a pandas dataframe and convert to R digestable data-type:"
   ]
  },
  {
   "cell_type": "code",
   "execution_count": 132,
   "metadata": {},
   "outputs": [],
   "source": [
    "# pandas dataframe creation\n",
    "vec_only_age = pd.DataFrame({'ageph':list(range(18,96))})\n",
    "\n",
    "# conversion to R data-type\n",
    "vec_only_age = pandas2ri.py2ri(vec_only_age)"
   ]
  },
  {
   "cell_type": "code",
   "execution_count": 133,
   "metadata": {},
   "outputs": [
    {
     "data": {
      "text/plain": [
       "array([0.33418829, 0.31579543, 0.29841069, 0.28198049, 0.26646629,\n",
       "       0.25184738, 0.23812041, 0.22529644, 0.21339615, 0.20244425,\n",
       "       0.19246379, 0.18347116, 0.17547218, 0.16845941, 0.16241078,\n",
       "       0.15728912, 0.15304252, 0.14960508, 0.14689803, 0.14483117,\n",
       "       0.14330464, 0.14221119, 0.1414391 , 0.14087585, 0.14041235,\n",
       "       0.13994759, 0.13939325, 0.13867765, 0.13774871, 0.1365753 ,\n",
       "       0.13514686, 0.13347148, 0.13157252, 0.12948448, 0.12724859,\n",
       "       0.12490871, 0.1225079 , 0.12008594, 0.11767792, 0.11531373,\n",
       "       0.11301835, 0.11081267, 0.10871456, 0.10674004, 0.10490419,\n",
       "       0.10322186, 0.10170798, 0.10037749, 0.09924496, 0.09832393,\n",
       "       0.09762612, 0.09716053, 0.09693267, 0.09694381, 0.09719047,\n",
       "       0.09766412, 0.09835121, 0.09923344, 0.10028839, 0.10149049,\n",
       "       0.10281216, 0.1042252 , 0.10570227, 0.10721826, 0.1087515 ,\n",
       "       0.11028463, 0.1118051 , 0.11330522, 0.11478178, 0.11623536,\n",
       "       0.11766939, 0.11908921, 0.12050101, 0.12191106, 0.12332513,\n",
       "       0.12474803, 0.12618347, 0.127634  ])"
      ]
     },
     "execution_count": 133,
     "metadata": {},
     "output_type": "execute_result"
    }
   ],
   "source": [
    "# Prediction Engine\n",
    "gam_pred = robjects.r.predict(gam_ageph, newdata = vec_only_age)\n",
    "gam_pred_age = np.exp(np.array(gam_pred)); gam_pred_age"
   ]
  },
  {
   "cell_type": "markdown",
   "metadata": {},
   "source": [
    "We aggregate the data in a new pd.DataFrame:"
   ]
  },
  {
   "cell_type": "code",
   "execution_count": 134,
   "metadata": {},
   "outputs": [
    {
     "data": {
      "text/html": [
       "<div>\n",
       "<style scoped>\n",
       "    .dataframe tbody tr th:only-of-type {\n",
       "        vertical-align: middle;\n",
       "    }\n",
       "\n",
       "    .dataframe tbody tr th {\n",
       "        vertical-align: top;\n",
       "    }\n",
       "\n",
       "    .dataframe thead th {\n",
       "        text-align: right;\n",
       "    }\n",
       "</style>\n",
       "<table border=\"1\" class=\"dataframe\">\n",
       "  <thead>\n",
       "    <tr style=\"text-align: right;\">\n",
       "      <th></th>\n",
       "      <th>ageph</th>\n",
       "      <th>nn_pred</th>\n",
       "    </tr>\n",
       "  </thead>\n",
       "  <tbody>\n",
       "    <tr>\n",
       "      <th>0</th>\n",
       "      <td>18</td>\n",
       "      <td>0.267808</td>\n",
       "    </tr>\n",
       "    <tr>\n",
       "      <th>1</th>\n",
       "      <td>19</td>\n",
       "      <td>0.259170</td>\n",
       "    </tr>\n",
       "    <tr>\n",
       "      <th>2</th>\n",
       "      <td>20</td>\n",
       "      <td>0.250889</td>\n",
       "    </tr>\n",
       "    <tr>\n",
       "      <th>3</th>\n",
       "      <td>21</td>\n",
       "      <td>0.242956</td>\n",
       "    </tr>\n",
       "    <tr>\n",
       "      <th>4</th>\n",
       "      <td>22</td>\n",
       "      <td>0.235360</td>\n",
       "    </tr>\n",
       "  </tbody>\n",
       "</table>\n",
       "</div>"
      ],
      "text/plain": [
       "   ageph   nn_pred\n",
       "0     18  0.267808\n",
       "1     19  0.259170\n",
       "2     20  0.250889\n",
       "3     21  0.242956\n",
       "4     22  0.235360"
      ]
     },
     "execution_count": 134,
     "metadata": {},
     "output_type": "execute_result"
    }
   ],
   "source": [
    "# creating dataframe - here we store: a) age on which we want to predict values; b) prediction from nn; ...\n",
    "df_plot = pd.DataFrame({'ageph':np.array(range(18,96)),\n",
    "                        'nn_pred':np.array([float(x) for x in list(nn_pred)])})\n",
    "df_plot.head()"
   ]
  },
  {
   "cell_type": "code",
   "execution_count": 135,
   "metadata": {},
   "outputs": [
    {
     "data": {
      "text/html": [
       "<div>\n",
       "<style scoped>\n",
       "    .dataframe tbody tr th:only-of-type {\n",
       "        vertical-align: middle;\n",
       "    }\n",
       "\n",
       "    .dataframe tbody tr th {\n",
       "        vertical-align: top;\n",
       "    }\n",
       "\n",
       "    .dataframe thead th {\n",
       "        text-align: right;\n",
       "    }\n",
       "</style>\n",
       "<table border=\"1\" class=\"dataframe\">\n",
       "  <thead>\n",
       "    <tr style=\"text-align: right;\">\n",
       "      <th></th>\n",
       "      <th>ageph</th>\n",
       "      <th>nn_pred</th>\n",
       "      <th>gam_pred</th>\n",
       "    </tr>\n",
       "  </thead>\n",
       "  <tbody>\n",
       "    <tr>\n",
       "      <th>0</th>\n",
       "      <td>18</td>\n",
       "      <td>0.267808</td>\n",
       "      <td>0.334188</td>\n",
       "    </tr>\n",
       "    <tr>\n",
       "      <th>1</th>\n",
       "      <td>19</td>\n",
       "      <td>0.259170</td>\n",
       "      <td>0.315795</td>\n",
       "    </tr>\n",
       "    <tr>\n",
       "      <th>2</th>\n",
       "      <td>20</td>\n",
       "      <td>0.250889</td>\n",
       "      <td>0.298411</td>\n",
       "    </tr>\n",
       "    <tr>\n",
       "      <th>3</th>\n",
       "      <td>21</td>\n",
       "      <td>0.242956</td>\n",
       "      <td>0.281980</td>\n",
       "    </tr>\n",
       "    <tr>\n",
       "      <th>4</th>\n",
       "      <td>22</td>\n",
       "      <td>0.235360</td>\n",
       "      <td>0.266466</td>\n",
       "    </tr>\n",
       "  </tbody>\n",
       "</table>\n",
       "</div>"
      ],
      "text/plain": [
       "   ageph   nn_pred  gam_pred\n",
       "0     18  0.267808  0.334188\n",
       "1     19  0.259170  0.315795\n",
       "2     20  0.250889  0.298411\n",
       "3     21  0.242956  0.281980\n",
       "4     22  0.235360  0.266466"
      ]
     },
     "execution_count": 135,
     "metadata": {},
     "output_type": "execute_result"
    }
   ],
   "source": [
    "# ... c) prediciton from gam\n",
    "df_plot['gam_pred'] = gam_pred_age; df_plot.head()"
   ]
  },
  {
   "cell_type": "code",
   "execution_count": 136,
   "metadata": {},
   "outputs": [
    {
     "data": {
      "image/png": "[encoded data removed]",
      "text/plain": [
       "<Figure size 432x288 with 1 Axes>"
      ]
     },
     "metadata": {
      "needs_background": "light"
     },
     "output_type": "display_data"
    }
   ],
   "source": [
    "# plotting\n",
    "plt.plot(df_plot.ageph, df_plot.gam_pred, label = \"GAM\")\n",
    "plt.plot(df_plot.ageph, df_plot.nn_pred, label = \"NN\")\n",
    "plt.xlabel('age')\n",
    "plt.ylabel('fitted_effect')\n",
    "plt.legend()\n",
    "plt.show()"
   ]
  },
  {
   "cell_type": "markdown",
   "metadata": {},
   "source": [
    "### Adding a skip connection in a neural network"
   ]
  },
  {
   "cell_type": "markdown",
   "metadata": {},
   "source": [
    "So far, we stayed in a purely sequential architecture with tf.keras.models.Sequential().Now, we will allow some input nodes to be connected directly to the output node, i.e., skip connections."
   ]
  },
  {
   "cell_type": "markdown",
   "metadata": {},
   "source": [
    "<figure>\n",
    "<img src=\"./imgs/skip_conn.png\" alt=\"autoencoder_schema\" style=\"width: 300px;\"/>\n",
    "<figcaption><center>Figure taken from <a href=\"https://papers.ssrn.com/sol3/papers.cfm?abstract_id=3320525\">Schelldorfer and Wuthrich (2019)</a>.<p></p></center></figcaption>\n",
    "</figure>"
   ]
  },
  {
   "cell_type": "markdown",
   "metadata": {},
   "source": [
    "The output node, without skip connection, calculates:\n",
    "$$\n",
    "\\begin{align}\n",
    "f_{activation}{(\\sum_{i}w_{i}h_{i}+b)}.\n",
    "\\end{align}\n",
    "$$"
   ]
  },
  {
   "cell_type": "markdown",
   "metadata": {},
   "source": [
    "With a skip connection, this simply becomes:\n",
    "$$\n",
    "\\begin{align}\n",
    "f_{activation}{(\\sum_{i}w_{i}h_{i}+b+s)}.\n",
    "\\end{align}\n",
    "$$"
   ]
  },
  {
   "cell_type": "markdown",
   "metadata": {},
   "source": [
    "We take a linear combination of the last hidden layer outputs and add the skip input, before applying the activation function.\n",
    "So, what can we do with this? Let's take a claim frequency example with the exponential activation function:\n",
    "* Adding exposure as an offset term:\n",
    "$$\n",
    "\\begin{align}\n",
    "output = \\exp{(\\sum_{i}w_{i}h_{i}+b+log(expo))} = expo\\cdot \\exp(\\sum_{i}w_{i}h_{i}+b)\n",
    "\\end{align}\n",
    "$$\n",
    "* Adding a base prediction:\n",
    "$$\n",
    "\\begin{align}\n",
    "output = \\exp{(\\sum_{i}w_{i}h_{i}+b+log(base))} = base\\cdot \\exp(\\sum_{i}w_{i}h_{i}+b)\n",
    "\\end{align}\n",
    "$$\n",
    "* The combination of both:\n",
    "$$\n",
    "\\begin{align}\n",
    "output = \\exp{(\\sum_{i}w_{i}h_{i}+b+log(expo\\cdot base))} = expo\\cdot base\\cdot \\exp(\\sum_{i}w_{i}h_{i}+b)\n",
    "\\end{align}\n",
    "$$"
   ]
  },
  {
   "cell_type": "markdown",
   "metadata": {},
   "source": [
    "A skip connection allows us to guide the neural net in the right direction and to model adjustments on top of the base\n",
    "predictions, for example obtained via a GLM or GAM. In the actuarial lingo this is called a Combined Actuarial Neural Network\n",
    "(CANN)."
   ]
  },
  {
   "cell_type": "code",
   "execution_count": 137,
   "metadata": {},
   "outputs": [],
   "source": [
    "reset_random_seeds(seed)\n",
    "session_conf = tf.compat.v1.ConfigProto(intra_op_parallelism_threads=1, inter_op_parallelism_threads=1)\n",
    "sess = tf.compat.v1.keras.backend.set_session(session_conf)\n",
    "\n",
    "# create two input layers via layer_input, one for the skip connection and one for the neural network\n",
    "input_nn = tf.keras.layers.Input(shape = (1,), name = 'nn')\n",
    "input_skip = tf.keras.layers.Input(shape = (1,), name = 'skip')\n",
    "\n",
    "# specify the architecture to use for the neural net part with a linear combination of the hidden nodes as output\n",
    "norm_nn = tf.keras.layers.BatchNormalization()(input_nn)\n",
    "dense_1 = tf.keras.layers.Dense(units = 5, activation = 'tanh')(norm_nn)\n",
    "network = tf.keras.layers.Dense(units = 1, activation = 'linear')(dense_1)\n",
    "\n",
    "# combine the neural network and skip connection via layer_add and pass through the exponential function with fixed weights\n",
    "interm = tf.keras.layers.Add()([network, input_skip])\n",
    "\n",
    "# output layer\n",
    "init = tf.constant_initializer(np.ones((1,1)))\n",
    "output = tf.keras.layers.Dense(units = 1, \n",
    "                               activation = 'exponential', \n",
    "                               trainable = False,\n",
    "                               kernel_initializer = init,\n",
    "                               name = 'output')(interm)\n",
    "\n",
    "tf.compat.v1.keras.backend.clear_session()"
   ]
  },
  {
   "cell_type": "code",
   "execution_count": 138,
   "metadata": {},
   "outputs": [],
   "source": [
    "# Define the full model with inputs and output via keras_model and compile as usual\n",
    "cann = tf.keras.models.Model(inputs = [input_nn, input_skip], outputs = output)\n",
    "cann.compile(optimizer = 'RMSprop', loss = 'poisson')"
   ]
  },
  {
   "cell_type": "markdown",
   "metadata": {},
   "source": [
    "Tensorflow is endowed with a specific utility to visualize the structure of the network. We can indeed see the skip connection via layer_add:"
   ]
  },
  {
   "cell_type": "code",
   "execution_count": 139,
   "metadata": {},
   "outputs": [
    {
     "data": {
      "image/png": "[encoded data removed]",
      "text/plain": [
       "<IPython.core.display.Image object>"
      ]
     },
     "execution_count": 139,
     "metadata": {},
     "output_type": "execute_result"
    }
   ],
   "source": [
    "# model structure\n",
    "tf.keras.utils.plot_model(model=cann, show_shapes=True, to_file='./imgs/model.png')"
   ]
  },
  {
   "cell_type": "markdown",
   "metadata": {},
   "source": [
    "Calculate the GAM base predictions, including exposure:"
   ]
  },
  {
   "cell_type": "code",
   "execution_count": 140,
   "metadata": {},
   "outputs": [],
   "source": [
    "gam_expo = np.array(robjects.r.predict(gam_ageph)) + np.log(train['expo'])"
   ]
  },
  {
   "cell_type": "markdown",
   "metadata": {},
   "source": [
    "Collect the CANN input data in a named list:"
   ]
  },
  {
   "cell_type": "code",
   "execution_count": 141,
   "metadata": {},
   "outputs": [],
   "source": [
    "cann_input = {'nn':np.array(train['ageph']), 'skip':np.array(gam_expo)}"
   ]
  },
  {
   "cell_type": "markdown",
   "metadata": {},
   "source": [
    "Fit the CANN like we have seen before:"
   ]
  },
  {
   "cell_type": "code",
   "execution_count": 142,
   "metadata": {},
   "outputs": [
    {
     "data": {
      "text/plain": [
       "<tensorflow.python.keras.callbacks.History at 0x25e2f843c08>"
      ]
     },
     "execution_count": 142,
     "metadata": {},
     "output_type": "execute_result"
    }
   ],
   "source": [
    "cann.fit(x = cann_input,\n",
    "         y = counts,\n",
    "         epochs = 20,\n",
    "         batch_size = 1024,\n",
    "         validation_split = 0,\n",
    "         verbose = 0)"
   ]
  },
  {
   "cell_type": "code",
   "execution_count": 143,
   "metadata": {},
   "outputs": [
    {
     "data": {
      "text/plain": [
       "[array([0.8501473], dtype=float32),\n",
       " array([0.02463087], dtype=float32),\n",
       " array([46.993996], dtype=float32),\n",
       " array([219.75624], dtype=float32),\n",
       " array([[-0.39894256,  0.38434353,  0.7877187 ,  0.62288016, -0.25590366]],\n",
       "       dtype=float32),\n",
       " array([-0.00266276,  0.00342522,  0.00077272, -0.00282063, -0.0007439 ],\n",
       "       dtype=float32),\n",
       " array([[ 0.7489127 ],\n",
       "        [-0.0962099 ],\n",
       "        [-0.13819638],\n",
       "        [ 0.6628912 ],\n",
       "        [-0.15872681]], dtype=float32),\n",
       " array([0.00396967], dtype=float32),\n",
       " array([[1.]], dtype=float32),\n",
       " array([0.], dtype=float32)]"
      ]
     },
     "execution_count": 143,
     "metadata": {},
     "output_type": "execute_result"
    }
   ],
   "source": [
    "# get_weights()\n",
    "cann.get_weights()"
   ]
  },
  {
   "cell_type": "code",
   "execution_count": 144,
   "metadata": {},
   "outputs": [],
   "source": [
    "# test reproducibility\n",
    "#[array([0.68845785], dtype=float32),\n",
    "# array([0.02845673], dtype=float32),\n",
    "# array([47.015095], dtype=float32),\n",
    "# array([219.40018], dtype=float32),\n",
    "# array([[-0.57349205, -0.01954338, -0.23471932,  0.26324633,  0.6192421 ]],\n",
    "#       dtype=float32),\n",
    "# array([ 0.00288253,  0.0031738 , -0.00701636, -0.00020121,  0.00696831],\n",
    "#       dtype=float32),\n",
    "# array([[ 0.60877424],\n",
    "#        [-0.5700319 ],\n",
    "#        [ 0.37248275],\n",
    "#        [ 0.53820413],\n",
    "#        [ 0.45766622]], dtype=float32),\n",
    "# array([-0.00196811], dtype=float32),\n",
    "# array([[1.]], dtype=float32),\n",
    "# array([0.], dtype=float32)]"
   ]
  },
  {
   "cell_type": "code",
   "execution_count": 145,
   "metadata": {},
   "outputs": [],
   "source": [
    "age = np.array(list(range(18,96)))\n",
    "skip_zeros = np.zeros(age.shape[0])\n",
    "age_skip_0 = pd.DataFrame({'ageph':age,\n",
    "                           'skip':skip_zeros})\n",
    "age_skip_0['cann'] = cann.predict(x={'nn':tf.cast(age_skip_0['ageph'], dtype = tf.float32),\n",
    "                                     'skip':tf.cast(age_skip_0['skip'], dtype = tf.float32)})"
   ]
  },
  {
   "cell_type": "code",
   "execution_count": 146,
   "metadata": {},
   "outputs": [
    {
     "data": {
      "image/png": "[encoded data removed]",
      "text/plain": [
       "<Figure size 432x288 with 1 Axes>"
      ]
     },
     "metadata": {
      "needs_background": "light"
     },
     "output_type": "display_data"
    }
   ],
   "source": [
    "plt.plot(age_skip_0.ageph, age_skip_0.cann, label = \"NN Adjustment\")\n",
    "plt.xlabel('age')\n",
    "plt.ylabel('effect')\n",
    "plt.legend()\n",
    "plt.show()"
   ]
  },
  {
   "cell_type": "code",
   "execution_count": 147,
   "metadata": {},
   "outputs": [
    {
     "data": {
      "text/html": [
       "<div>\n",
       "<style scoped>\n",
       "    .dataframe tbody tr th:only-of-type {\n",
       "        vertical-align: middle;\n",
       "    }\n",
       "\n",
       "    .dataframe tbody tr th {\n",
       "        vertical-align: top;\n",
       "    }\n",
       "\n",
       "    .dataframe thead th {\n",
       "        text-align: right;\n",
       "    }\n",
       "</style>\n",
       "<table border=\"1\" class=\"dataframe\">\n",
       "  <thead>\n",
       "    <tr style=\"text-align: right;\">\n",
       "      <th></th>\n",
       "      <th>ageph</th>\n",
       "      <th>skip</th>\n",
       "      <th>cann</th>\n",
       "    </tr>\n",
       "  </thead>\n",
       "  <tbody>\n",
       "    <tr>\n",
       "      <th>0</th>\n",
       "      <td>18</td>\n",
       "      <td>-1.096051</td>\n",
       "      <td>0.344604</td>\n",
       "    </tr>\n",
       "    <tr>\n",
       "      <th>1</th>\n",
       "      <td>19</td>\n",
       "      <td>-1.152661</td>\n",
       "      <td>0.324657</td>\n",
       "    </tr>\n",
       "    <tr>\n",
       "      <th>2</th>\n",
       "      <td>20</td>\n",
       "      <td>-1.209285</td>\n",
       "      <td>0.305890</td>\n",
       "    </tr>\n",
       "    <tr>\n",
       "      <th>3</th>\n",
       "      <td>21</td>\n",
       "      <td>-1.265917</td>\n",
       "      <td>0.288236</td>\n",
       "    </tr>\n",
       "    <tr>\n",
       "      <th>4</th>\n",
       "      <td>22</td>\n",
       "      <td>-1.322508</td>\n",
       "      <td>0.271645</td>\n",
       "    </tr>\n",
       "  </tbody>\n",
       "</table>\n",
       "</div>"
      ],
      "text/plain": [
       "   ageph      skip      cann\n",
       "0     18 -1.096051  0.344604\n",
       "1     19 -1.152661  0.324657\n",
       "2     20 -1.209285  0.305890\n",
       "3     21 -1.265917  0.288236\n",
       "4     22 -1.322508  0.271645"
      ]
     },
     "execution_count": 147,
     "metadata": {},
     "output_type": "execute_result"
    }
   ],
   "source": [
    "df = pd.DataFrame({'ageph':np.array(range(18,96)),\n",
    "                   'skip': robjects.r.predict(gam_ageph, newdata = vec_only_age)})\n",
    "\n",
    "df['cann'] = cann.predict(x={'nn':tf.cast(df.ageph, dtype = tf.float32), \n",
    "                             'skip':tf.cast(df.skip, dtype = tf.float32)}); df.head()"
   ]
  },
  {
   "cell_type": "code",
   "execution_count": 148,
   "metadata": {},
   "outputs": [
    {
     "data": {
      "image/png": "[encoded data removed]",
      "text/plain": [
       "<Figure size 432x288 with 1 Axes>"
      ]
     },
     "metadata": {
      "needs_background": "light"
     },
     "output_type": "display_data"
    }
   ],
   "source": [
    "# plotting\n",
    "plt.plot(age, np.exp(df.skip), label = \"GAM\") # note that we transform the data via np.exp\n",
    "plt.plot(age, df.cann, label = \"CANN\")\n",
    "plt.xlabel('age')\n",
    "plt.ylabel('fitted_effect')\n",
    "plt.legend()\n",
    "plt.show()"
   ]
  },
  {
   "cell_type": "markdown",
   "metadata": {},
   "source": [
    "### Claim severity modeling with neural nets"
   ]
  },
  {
   "cell_type": "markdown",
   "metadata": {},
   "source": [
    "Within the GLM framework, claim severity is often modeled via a lognormal or gamma distribution:"
   ]
  },
  {
   "cell_type": "code",
   "execution_count": 149,
   "metadata": {},
   "outputs": [
    {
     "data": {
      "text/html": [
       "<div>\n",
       "<style scoped>\n",
       "    .dataframe tbody tr th:only-of-type {\n",
       "        vertical-align: middle;\n",
       "    }\n",
       "\n",
       "    .dataframe tbody tr th {\n",
       "        vertical-align: top;\n",
       "    }\n",
       "\n",
       "    .dataframe thead th {\n",
       "        text-align: right;\n",
       "    }\n",
       "</style>\n",
       "<table border=\"1\" class=\"dataframe\">\n",
       "  <thead>\n",
       "    <tr style=\"text-align: right;\">\n",
       "      <th></th>\n",
       "      <th>id</th>\n",
       "      <th>nclaims</th>\n",
       "      <th>amount</th>\n",
       "      <th>avg</th>\n",
       "      <th>expo</th>\n",
       "      <th>coverage</th>\n",
       "      <th>fuel</th>\n",
       "      <th>use</th>\n",
       "      <th>fleet</th>\n",
       "      <th>sex</th>\n",
       "      <th>ageph</th>\n",
       "      <th>bm</th>\n",
       "      <th>agec</th>\n",
       "      <th>power</th>\n",
       "      <th>pc</th>\n",
       "      <th>town</th>\n",
       "      <th>long</th>\n",
       "      <th>lat</th>\n",
       "    </tr>\n",
       "  </thead>\n",
       "  <tbody>\n",
       "    <tr>\n",
       "      <th>8505</th>\n",
       "      <td>8506</td>\n",
       "      <td>2</td>\n",
       "      <td>19088.991296</td>\n",
       "      <td>9544.495648</td>\n",
       "      <td>0.849315</td>\n",
       "      <td>FO</td>\n",
       "      <td>gasoline</td>\n",
       "      <td>private</td>\n",
       "      <td>N</td>\n",
       "      <td>female</td>\n",
       "      <td>33</td>\n",
       "      <td>4</td>\n",
       "      <td>8</td>\n",
       "      <td>64</td>\n",
       "      <td>1180</td>\n",
       "      <td>UKKEL</td>\n",
       "      <td>4.349553</td>\n",
       "      <td>50.790236</td>\n",
       "    </tr>\n",
       "    <tr>\n",
       "      <th>95639</th>\n",
       "      <td>95640</td>\n",
       "      <td>1</td>\n",
       "      <td>161.973629</td>\n",
       "      <td>161.973629</td>\n",
       "      <td>1.000000</td>\n",
       "      <td>TPL</td>\n",
       "      <td>diesel</td>\n",
       "      <td>private</td>\n",
       "      <td>N</td>\n",
       "      <td>male</td>\n",
       "      <td>31</td>\n",
       "      <td>12</td>\n",
       "      <td>12</td>\n",
       "      <td>52</td>\n",
       "      <td>6180</td>\n",
       "      <td>COURCELL</td>\n",
       "      <td>4.360244</td>\n",
       "      <td>50.462009</td>\n",
       "    </tr>\n",
       "    <tr>\n",
       "      <th>10735</th>\n",
       "      <td>10736</td>\n",
       "      <td>2</td>\n",
       "      <td>534.359282</td>\n",
       "      <td>267.179641</td>\n",
       "      <td>1.000000</td>\n",
       "      <td>TPL</td>\n",
       "      <td>gasoline</td>\n",
       "      <td>private</td>\n",
       "      <td>N</td>\n",
       "      <td>male</td>\n",
       "      <td>54</td>\n",
       "      <td>10</td>\n",
       "      <td>10</td>\n",
       "      <td>54</td>\n",
       "      <td>1325</td>\n",
       "      <td>CHAUMONT</td>\n",
       "      <td>4.678745</td>\n",
       "      <td>50.687562</td>\n",
       "    </tr>\n",
       "    <tr>\n",
       "      <th>68319</th>\n",
       "      <td>68320</td>\n",
       "      <td>1</td>\n",
       "      <td>84.407745</td>\n",
       "      <td>84.407745</td>\n",
       "      <td>0.509589</td>\n",
       "      <td>PO</td>\n",
       "      <td>diesel</td>\n",
       "      <td>private</td>\n",
       "      <td>N</td>\n",
       "      <td>male</td>\n",
       "      <td>45</td>\n",
       "      <td>3</td>\n",
       "      <td>2</td>\n",
       "      <td>66</td>\n",
       "      <td>4400</td>\n",
       "      <td>FLEMALLE</td>\n",
       "      <td>5.429234</td>\n",
       "      <td>50.597446</td>\n",
       "    </tr>\n",
       "    <tr>\n",
       "      <th>43875</th>\n",
       "      <td>43876</td>\n",
       "      <td>1</td>\n",
       "      <td>147.595805</td>\n",
       "      <td>147.595805</td>\n",
       "      <td>1.000000</td>\n",
       "      <td>PO</td>\n",
       "      <td>gasoline</td>\n",
       "      <td>private</td>\n",
       "      <td>N</td>\n",
       "      <td>male</td>\n",
       "      <td>29</td>\n",
       "      <td>1</td>\n",
       "      <td>6</td>\n",
       "      <td>90</td>\n",
       "      <td>3000</td>\n",
       "      <td>LEUVEN</td>\n",
       "      <td>4.683832</td>\n",
       "      <td>50.881625</td>\n",
       "    </tr>\n",
       "  </tbody>\n",
       "</table>\n",
       "</div>"
      ],
      "text/plain": [
       "          id  nclaims        amount          avg      expo coverage      fuel  \\\n",
       "8505    8506        2  19088.991296  9544.495648  0.849315       FO  gasoline   \n",
       "95639  95640        1    161.973629   161.973629  1.000000      TPL    diesel   \n",
       "10735  10736        2    534.359282   267.179641  1.000000      TPL  gasoline   \n",
       "68319  68320        1     84.407745    84.407745  0.509589       PO    diesel   \n",
       "43875  43876        1    147.595805   147.595805  1.000000       PO  gasoline   \n",
       "\n",
       "           use fleet     sex  ageph  bm  agec  power    pc      town  \\\n",
       "8505   private     N  female     33   4     8     64  1180     UKKEL   \n",
       "95639  private     N    male     31  12    12     52  6180  COURCELL   \n",
       "10735  private     N    male     54  10    10     54  1325  CHAUMONT   \n",
       "68319  private     N    male     45   3     2     66  4400  FLEMALLE   \n",
       "43875  private     N    male     29   1     6     90  3000    LEUVEN   \n",
       "\n",
       "           long        lat  \n",
       "8505   4.349553  50.790236  \n",
       "95639  4.360244  50.462009  \n",
       "10735  4.678745  50.687562  \n",
       "68319  5.429234  50.597446  \n",
       "43875  4.683832  50.881625  "
      ]
     },
     "execution_count": 149,
     "metadata": {},
     "output_type": "execute_result"
    }
   ],
   "source": [
    "df_claims = train[train.nclaims > 0]; df_claims.head()"
   ]
  },
  {
   "cell_type": "code",
   "execution_count": 150,
   "metadata": {},
   "outputs": [
    {
     "data": {
      "text/plain": [
       "(13757, 18)"
      ]
     },
     "execution_count": 150,
     "metadata": {},
     "output_type": "execute_result"
    }
   ],
   "source": [
    "df_claims.shape"
   ]
  },
  {
   "cell_type": "markdown",
   "metadata": {},
   "source": [
    "Calculate the empirical mean and median severity:"
   ]
  },
  {
   "cell_type": "code",
   "execution_count": 151,
   "metadata": {},
   "outputs": [
    {
     "data": {
      "text/plain": [
       "1503.0914785797554"
      ]
     },
     "execution_count": 151,
     "metadata": {},
     "output_type": "execute_result"
    }
   ],
   "source": [
    "# mean severity\n",
    "np.mean(df_claims['avg'])"
   ]
  },
  {
   "cell_type": "code",
   "execution_count": 152,
   "metadata": {},
   "outputs": [
    {
     "data": {
      "text/plain": [
       "532.723184737691"
      ]
     },
     "execution_count": 152,
     "metadata": {},
     "output_type": "execute_result"
    }
   ],
   "source": [
    "# median severity\n",
    "np.median(df_claims['avg'])"
   ]
  },
  {
   "cell_type": "markdown",
   "metadata": {},
   "source": [
    "Seems like we are heavily underestimating the mean? The mean and median of the lognormal distribution:"
   ]
  },
  {
   "cell_type": "markdown",
   "metadata": {},
   "source": [
    "$$\n",
    "\\begin{align}\n",
    "mean = exp{(\\mu + \\sigma^{2}/2)}\n",
    "\\end{align}\n",
    "$$"
   ]
  },
  {
   "cell_type": "markdown",
   "metadata": {},
   "source": [
    "$$\n",
    "\\begin{align}\n",
    "median = exp{(\\mu)}\n",
    "\\end{align}\n",
    "$$"
   ]
  },
  {
   "cell_type": "markdown",
   "metadata": {},
   "source": [
    "We are doing the latter, but how to estimate in a neural network? We implement a custom loss function (e.g. gamma). The gamma deviance for observation $i$ is defined as:\n",
    "$$\n",
    "\\begin{align}\n",
    "\\frac{y_{i} - f(x_{i})}{f(x_{i})} - ln\\left (   \\frac{y_{i}}{f(x_{i})}\\right )\n",
    "\\end{align}\n",
    "$$"
   ]
  },
  {
   "cell_type": "markdown",
   "metadata": {},
   "source": [
    "Keras takes care of averaging over observations internally. Note that we use an exponential activation to stay in line with a gamma GLM with log-link function."
   ]
  },
  {
   "cell_type": "markdown",
   "metadata": {},
   "source": [
    "Let's model the log severity with a MSE loss:"
   ]
  },
  {
   "cell_type": "code",
   "execution_count": 153,
   "metadata": {},
   "outputs": [
    {
     "name": "stdout",
     "output_type": "stream",
     "text": [
      "Train on 13757 samples\n",
      "Epoch 1/100\n",
      "13757/13757 [==============================] - 0s 23us/sample - loss: 47.4001\n",
      "Epoch 2/100\n",
      "13757/13757 [==============================] - 0s 7us/sample - loss: 45.9538\n",
      "Epoch 3/100\n",
      "13757/13757 [==============================] - 0s 7us/sample - loss: 44.5378\n",
      "Epoch 4/100\n",
      "13757/13757 [==============================] - 0s 7us/sample - loss: 43.1443\n",
      "Epoch 5/100\n",
      "13757/13757 [==============================] - 0s 6us/sample - loss: 41.7757\n",
      "Epoch 6/100\n",
      "13757/13757 [==============================] - 0s 7us/sample - loss: 40.4310\n",
      "Epoch 7/100\n",
      "13757/13757 [==============================] - 0s 7us/sample - loss: 39.1100\n",
      "Epoch 8/100\n",
      "13757/13757 [==============================] - 0s 7us/sample - loss: 37.8101\n",
      "Epoch 9/100\n",
      "13757/13757 [==============================] - 0s 6us/sample - loss: 36.5321\n",
      "Epoch 10/100\n",
      "13757/13757 [==============================] - 0s 7us/sample - loss: 35.2810\n",
      "Epoch 11/100\n",
      "13757/13757 [==============================] - 0s 7us/sample - loss: 34.0523\n",
      "Epoch 12/100\n",
      "13757/13757 [==============================] - 0s 7us/sample - loss: 32.8470\n",
      "Epoch 13/100\n",
      "13757/13757 [==============================] - 0s 7us/sample - loss: 31.6647\n",
      "Epoch 14/100\n",
      "13757/13757 [==============================] - 0s 7us/sample - loss: 30.5045\n",
      "Epoch 15/100\n",
      "13757/13757 [==============================] - 0s 7us/sample - loss: 29.3688\n",
      "Epoch 16/100\n",
      "13757/13757 [==============================] - 0s 6us/sample - loss: 28.2575\n",
      "Epoch 17/100\n",
      "13757/13757 [==============================] - 0s 7us/sample - loss: 27.1643\n",
      "Epoch 18/100\n",
      "13757/13757 [==============================] - 0s 7us/sample - loss: 26.1003\n",
      "Epoch 19/100\n",
      "13757/13757 [==============================] - 0s 6us/sample - loss: 25.0585\n",
      "Epoch 20/100\n",
      "13757/13757 [==============================] - 0s 7us/sample - loss: 24.0382\n",
      "Epoch 21/100\n",
      "13757/13757 [==============================] - 0s 7us/sample - loss: 23.0417\n",
      "Epoch 22/100\n",
      "13757/13757 [==============================] - 0s 7us/sample - loss: 22.0687\n",
      "Epoch 23/100\n",
      "13757/13757 [==============================] - 0s 7us/sample - loss: 21.1193\n",
      "Epoch 24/100\n",
      "13757/13757 [==============================] - 0s 7us/sample - loss: 20.1926\n",
      "Epoch 25/100\n",
      "13757/13757 [==============================] - 0s 7us/sample - loss: 19.2911\n",
      "Epoch 26/100\n",
      "13757/13757 [==============================] - 0s 7us/sample - loss: 18.4099\n",
      "Epoch 27/100\n",
      "13757/13757 [==============================] - 0s 7us/sample - loss: 17.5533\n",
      "Epoch 28/100\n",
      "13757/13757 [==============================] - 0s 7us/sample - loss: 16.7191\n",
      "Epoch 29/100\n",
      "13757/13757 [==============================] - 0s 7us/sample - loss: 15.9097\n",
      "Epoch 30/100\n",
      "13757/13757 [==============================] - 0s 6us/sample - loss: 15.1220\n",
      "Epoch 31/100\n",
      "13757/13757 [==============================] - 0s 7us/sample - loss: 14.3594\n",
      "Epoch 32/100\n",
      "13757/13757 [==============================] - 0s 7us/sample - loss: 13.6195\n",
      "Epoch 33/100\n",
      "13757/13757 [==============================] - 0s 6us/sample - loss: 12.9028\n",
      "Epoch 34/100\n",
      "13757/13757 [==============================] - 0s 7us/sample - loss: 12.2086\n",
      "Epoch 35/100\n",
      "13757/13757 [==============================] - 0s 7us/sample - loss: 11.5368\n",
      "Epoch 36/100\n",
      "13757/13757 [==============================] - 0s 7us/sample - loss: 10.8909\n",
      "Epoch 37/100\n",
      "13757/13757 [==============================] - 0s 7us/sample - loss: 10.2679\n",
      "Epoch 38/100\n",
      "13757/13757 [==============================] - 0s 7us/sample - loss: 9.6667\n",
      "Epoch 39/100\n",
      "13757/13757 [==============================] - 0s 7us/sample - loss: 9.0896\n",
      "Epoch 40/100\n",
      "13757/13757 [==============================] - 0s 6us/sample - loss: 8.5355\n",
      "Epoch 41/100\n",
      "13757/13757 [==============================] - 0s 7us/sample - loss: 8.0023\n",
      "Epoch 42/100\n",
      "13757/13757 [==============================] - 0s 7us/sample - loss: 7.4956\n",
      "Epoch 43/100\n",
      "13757/13757 [==============================] - 0s 7us/sample - loss: 7.0103 0s - loss: 7.109\n",
      "Epoch 44/100\n",
      "13757/13757 [==============================] - 0s 7us/sample - loss: 6.5496\n",
      "Epoch 45/100\n",
      "13757/13757 [==============================] - 0s 7us/sample - loss: 6.1127\n",
      "Epoch 46/100\n",
      "13757/13757 [==============================] - 0s 6us/sample - loss: 5.6977\n",
      "Epoch 47/100\n",
      "13757/13757 [==============================] - 0s 7us/sample - loss: 5.3061\n",
      "Epoch 48/100\n",
      "13757/13757 [==============================] - 0s 6us/sample - loss: 4.9364\n",
      "Epoch 49/100\n",
      "13757/13757 [==============================] - 0s 6us/sample - loss: 4.5929\n",
      "Epoch 50/100\n",
      "13757/13757 [==============================] - 0s 7us/sample - loss: 4.2719\n",
      "Epoch 51/100\n",
      "13757/13757 [==============================] - 0s 7us/sample - loss: 3.9706\n",
      "Epoch 52/100\n",
      "13757/13757 [==============================] - 0s 7us/sample - loss: 3.6942\n",
      "Epoch 53/100\n",
      "13757/13757 [==============================] - 0s 6us/sample - loss: 3.4420\n",
      "Epoch 54/100\n",
      "13757/13757 [==============================] - 0s 7us/sample - loss: 3.2133\n",
      "Epoch 55/100\n",
      "13757/13757 [==============================] - 0s 6us/sample - loss: 3.0065\n",
      "Epoch 56/100\n",
      "13757/13757 [==============================] - 0s 6us/sample - loss: 2.8238\n",
      "Epoch 57/100\n",
      "13757/13757 [==============================] - 0s 6us/sample - loss: 2.6645\n",
      "Epoch 58/100\n",
      "13757/13757 [==============================] - 0s 7us/sample - loss: 2.5262\n",
      "Epoch 59/100\n",
      "13757/13757 [==============================] - 0s 7us/sample - loss: 2.4115\n",
      "Epoch 60/100\n",
      "13757/13757 [==============================] - 0s 7us/sample - loss: 2.3206\n",
      "Epoch 61/100\n",
      "13757/13757 [==============================] - 0s 7us/sample - loss: 2.2513\n",
      "Epoch 62/100\n",
      "13757/13757 [==============================] - 0s 7us/sample - loss: 2.2042\n",
      "Epoch 63/100\n",
      "13757/13757 [==============================] - 0s 6us/sample - loss: 2.1774\n",
      "Epoch 64/100\n",
      "13757/13757 [==============================] - 0s 6us/sample - loss: 2.1652\n",
      "Epoch 65/100\n",
      "13757/13757 [==============================] - 0s 6us/sample - loss: 2.1614\n",
      "Epoch 66/100\n",
      "13757/13757 [==============================] - 0s 7us/sample - loss: 2.1607\n",
      "Epoch 67/100\n",
      "13757/13757 [==============================] - 0s 7us/sample - loss: 2.1605\n",
      "Epoch 68/100\n",
      "13757/13757 [==============================] - 0s 7us/sample - loss: 2.1605\n",
      "Epoch 69/100\n",
      "13757/13757 [==============================] - 0s 7us/sample - loss: 2.1604\n",
      "Epoch 70/100\n",
      "13757/13757 [==============================] - 0s 7us/sample - loss: 2.1605\n",
      "Epoch 71/100\n",
      "13757/13757 [==============================] - 0s 6us/sample - loss: 2.1605\n",
      "Epoch 72/100\n",
      "13757/13757 [==============================] - 0s 7us/sample - loss: 2.1604\n",
      "Epoch 73/100\n",
      "13757/13757 [==============================] - 0s 7us/sample - loss: 2.1604\n",
      "Epoch 74/100\n",
      "13757/13757 [==============================] - 0s 6us/sample - loss: 2.1604\n",
      "Epoch 75/100\n",
      "13757/13757 [==============================] - 0s 7us/sample - loss: 2.1604\n",
      "Epoch 76/100\n",
      "13757/13757 [==============================] - 0s 7us/sample - loss: 2.1604\n",
      "Epoch 77/100\n",
      "13757/13757 [==============================] - 0s 6us/sample - loss: 2.1604\n",
      "Epoch 78/100\n",
      "13757/13757 [==============================] - ETA: 0s - loss: 2.188 - 0s 6us/sample - loss: 2.1604\n",
      "Epoch 79/100\n",
      "13757/13757 [==============================] - 0s 6us/sample - loss: 2.1605\n",
      "Epoch 80/100\n",
      "13757/13757 [==============================] - 0s 6us/sample - loss: 2.1604\n",
      "Epoch 81/100\n",
      "13757/13757 [==============================] - 0s 6us/sample - loss: 2.1605\n",
      "Epoch 82/100\n",
      "13757/13757 [==============================] - 0s 6us/sample - loss: 2.1605\n",
      "Epoch 83/100\n",
      "13757/13757 [==============================] - 0s 6us/sample - loss: 2.1605\n",
      "Epoch 84/100\n",
      "13757/13757 [==============================] - 0s 6us/sample - loss: 2.1604\n",
      "Epoch 85/100\n",
      "13757/13757 [==============================] - 0s 6us/sample - loss: 2.1604\n",
      "Epoch 86/100\n",
      "13757/13757 [==============================] - 0s 6us/sample - loss: 2.1604\n",
      "Epoch 87/100\n",
      "13757/13757 [==============================] - 0s 6us/sample - loss: 2.1604\n",
      "Epoch 88/100\n",
      "13757/13757 [==============================] - 0s 6us/sample - loss: 2.1605\n",
      "Epoch 89/100\n",
      "13757/13757 [==============================] - 0s 6us/sample - loss: 2.1604\n",
      "Epoch 90/100\n",
      "13757/13757 [==============================] - 0s 6us/sample - loss: 2.1604\n",
      "Epoch 91/100\n",
      "13757/13757 [==============================] - 0s 6us/sample - loss: 2.1605\n",
      "Epoch 92/100\n"
     ]
    },
    {
     "name": "stdout",
     "output_type": "stream",
     "text": [
      "13757/13757 [==============================] - 0s 6us/sample - loss: 2.1605\n",
      "Epoch 93/100\n",
      "13757/13757 [==============================] - 0s 6us/sample - loss: 2.1604\n",
      "Epoch 94/100\n",
      "13757/13757 [==============================] - 0s 6us/sample - loss: 2.1605\n",
      "Epoch 95/100\n",
      "13757/13757 [==============================] - 0s 7us/sample - loss: 2.1604\n",
      "Epoch 96/100\n",
      "13757/13757 [==============================] - 0s 6us/sample - loss: 2.1604\n",
      "Epoch 97/100\n",
      "13757/13757 [==============================] - 0s 6us/sample - loss: 2.1604\n",
      "Epoch 98/100\n",
      "13757/13757 [==============================] - 0s 6us/sample - loss: 2.1604\n",
      "Epoch 99/100\n",
      "13757/13757 [==============================] - 0s 6us/sample - loss: 2.1604\n",
      "Epoch 100/100\n",
      "13757/13757 [==============================] - 0s 6us/sample - loss: 2.1605\n"
     ]
    },
    {
     "data": {
      "text/plain": [
       "<tensorflow.python.keras.callbacks.History at 0x25e30696c48>"
      ]
     },
     "execution_count": 153,
     "metadata": {},
     "output_type": "execute_result"
    }
   ],
   "source": [
    "reset_random_seeds(seed)\n",
    "session_conf = tf.compat.v1.ConfigProto(intra_op_parallelism_threads=1, inter_op_parallelism_threads=1)\n",
    "sess = tf.compat.v1.keras.backend.set_session(session_conf)\n",
    "\n",
    "# setting up neural network\n",
    "nn_sev_log = tf.keras.models.Sequential()\n",
    "nn_sev_log.add(tf.keras.layers.Dense(units = 1, activation = 'linear', input_shape = (1,), use_bias = False))\n",
    "nn_sev_log.compile(optimizer = 'RMSprop', loss = 'mse')\n",
    "\n",
    "tf.compat.v1.keras.backend.clear_session()\n",
    "\n",
    "# fitting the nn\n",
    "nn_sev_log.fit(x = np.ones(df_claims.shape[0]),\n",
    "              y = np.log(np.array(df_claims['avg'])),\n",
    "              epochs = 100,\n",
    "              batch_size = 128,\n",
    "              validation_split = 0,\n",
    "              verbose = 1)"
   ]
  },
  {
   "cell_type": "code",
   "execution_count": 154,
   "metadata": {},
   "outputs": [
    {
     "data": {
      "text/plain": [
       "455.6411437988281"
      ]
     },
     "execution_count": 154,
     "metadata": {},
     "output_type": "execute_result"
    }
   ],
   "source": [
    "np.float(np.exp(nn_sev_log.predict(tf.cast([1], dtype = tf.float32))))"
   ]
  },
  {
   "cell_type": "code",
   "execution_count": 75,
   "metadata": {},
   "outputs": [],
   "source": [
    "# test reproducibility\n",
    "# 455.9310607910156"
   ]
  },
  {
   "cell_type": "code",
   "execution_count": 76,
   "metadata": {},
   "outputs": [],
   "source": [
    "# implementing custom loss function (gamma)\n",
    "def k_gamma(y_true, y_pred):\n",
    "    y_true = tf.cast(y_true, dtype = tf.float32)\n",
    "    y_pred = tf.cast(y_pred, dtype = tf.float32)\n",
    "    return ((y_true - y_pred) / y_pred) - tf.math.log(y_true / y_pred)"
   ]
  },
  {
   "cell_type": "code",
   "execution_count": 77,
   "metadata": {},
   "outputs": [
    {
     "name": "stdout",
     "output_type": "stream",
     "text": [
      "Train on 13814 samples\n",
      "Epoch 1/100\n",
      "13814/13814 [==============================] - 0s 26us/sample - loss: 5880.8009\n",
      "Epoch 2/100\n",
      "13814/13814 [==============================] - 0s 10us/sample - loss: 5393.3255s - loss: 5545.22\n",
      "Epoch 3/100\n",
      "13814/13814 [==============================] - 0s 7us/sample - loss: 4971.6426\n",
      "Epoch 4/100\n",
      "13814/13814 [==============================] - 0s 7us/sample - loss: 4567.3302\n",
      "Epoch 5/100\n",
      "13814/13814 [==============================] - 0s 7us/sample - loss: 4182.3701\n",
      "Epoch 6/100\n",
      "13814/13814 [==============================] - 0s 7us/sample - loss: 3838.2563\n",
      "Epoch 7/100\n",
      "13814/13814 [==============================] - 0s 7us/sample - loss: 3529.8203\n",
      "Epoch 8/100\n",
      "13814/13814 [==============================] - 0s 7us/sample - loss: 3239.8334\n",
      "Epoch 9/100\n",
      "13814/13814 [==============================] - 0s 7us/sample - loss: 2960.8389\n",
      "Epoch 10/100\n",
      "13814/13814 [==============================] - 0s 7us/sample - loss: 2700.2795\n",
      "Epoch 11/100\n",
      "13814/13814 [==============================] - 0s 8us/sample - loss: 2510.0457\n",
      "Epoch 12/100\n",
      "13814/13814 [==============================] - 0s 8us/sample - loss: 2313.0851\n",
      "Epoch 13/100\n",
      "13814/13814 [==============================] - 0s 7us/sample - loss: 2101.5084\n",
      "Epoch 14/100\n",
      "13814/13814 [==============================] - 0s 7us/sample - loss: 1925.1699\n",
      "Epoch 15/100\n",
      "13814/13814 [==============================] - 0s 8us/sample - loss: 1773.4256\n",
      "Epoch 16/100\n",
      "13814/13814 [==============================] - 0s 7us/sample - loss: 1627.9723\n",
      "Epoch 17/100\n",
      "13814/13814 [==============================] - 0s 7us/sample - loss: 1494.5147\n",
      "Epoch 18/100\n",
      "13814/13814 [==============================] - 0s 7us/sample - loss: 1365.92250s - loss: 1227.71\n",
      "Epoch 19/100\n",
      "13814/13814 [==============================] - 0s 7us/sample - loss: 1262.7690\n",
      "Epoch 20/100\n",
      "13814/13814 [==============================] - 0s 7us/sample - loss: 1150.3305\n",
      "Epoch 21/100\n",
      "13814/13814 [==============================] - 0s 7us/sample - loss: 1070.7996\n",
      "Epoch 22/100\n",
      "13814/13814 [==============================] - 0s 7us/sample - loss: 969.5132\n",
      "Epoch 23/100\n",
      "13814/13814 [==============================] - 0s 7us/sample - loss: 893.5324\n",
      "Epoch 24/100\n",
      "13814/13814 [==============================] - 0s 7us/sample - loss: 815.7357\n",
      "Epoch 25/100\n",
      "13814/13814 [==============================] - 0s 7us/sample - loss: 752.0932\n",
      "Epoch 26/100\n",
      "13814/13814 [==============================] - 0s 7us/sample - loss: 690.7155\n",
      "Epoch 27/100\n",
      "13814/13814 [==============================] - 0s 8us/sample - loss: 636.7246 0s - loss: 634.854\n",
      "Epoch 28/100\n",
      "13814/13814 [==============================] - 0s 8us/sample - loss: 579.4821\n",
      "Epoch 29/100\n",
      "13814/13814 [==============================] - 0s 8us/sample - loss: 526.3645\n",
      "Epoch 30/100\n",
      "13814/13814 [==============================] - 0s 7us/sample - loss: 485.1176\n",
      "Epoch 31/100\n",
      "13814/13814 [==============================] - 0s 7us/sample - loss: 447.2217\n",
      "Epoch 32/100\n",
      "13814/13814 [==============================] - 0s 7us/sample - loss: 408.1722\n",
      "Epoch 33/100\n",
      "13814/13814 [==============================] - 0s 7us/sample - loss: 373.0268\n",
      "Epoch 34/100\n",
      "13814/13814 [==============================] - ETA: 0s - loss: 323.617 - 0s 7us/sample - loss: 341.5240\n",
      "Epoch 35/100\n",
      "13814/13814 [==============================] - 0s 7us/sample - loss: 315.6878\n",
      "Epoch 36/100\n",
      "13814/13814 [==============================] - 0s 7us/sample - loss: 288.3424\n",
      "Epoch 37/100\n",
      "13814/13814 [==============================] - 0s 7us/sample - loss: 265.7389\n",
      "Epoch 38/100\n",
      "13814/13814 [==============================] - 0s 7us/sample - loss: 246.4298\n",
      "Epoch 39/100\n",
      "13814/13814 [==============================] - 0s 7us/sample - loss: 222.0333\n",
      "Epoch 40/100\n",
      "13814/13814 [==============================] - 0s 7us/sample - loss: 205.1002\n",
      "Epoch 41/100\n",
      "13814/13814 [==============================] - 0s 10us/sample - loss: 188.1114\n",
      "Epoch 42/100\n",
      "13814/13814 [==============================] - 0s 7us/sample - loss: 172.1757\n",
      "Epoch 43/100\n",
      "13814/13814 [==============================] - 0s 7us/sample - loss: 157.6534\n",
      "Epoch 44/100\n",
      "13814/13814 [==============================] - 0s 7us/sample - loss: 144.2026\n",
      "Epoch 45/100\n",
      "13814/13814 [==============================] - 0s 7us/sample - loss: 133.0815\n",
      "Epoch 46/100\n",
      "13814/13814 [==============================] - 0s 7us/sample - loss: 120.1930\n",
      "Epoch 47/100\n",
      "13814/13814 [==============================] - 0s 8us/sample - loss: 110.9091\n",
      "Epoch 48/100\n",
      "13814/13814 [==============================] - 0s 7us/sample - loss: 101.9622\n",
      "Epoch 49/100\n",
      "13814/13814 [==============================] - 0s 7us/sample - loss: 93.5852\n",
      "Epoch 50/100\n",
      "13814/13814 [==============================] - 0s 8us/sample - loss: 85.9425\n",
      "Epoch 51/100\n",
      "13814/13814 [==============================] - 0s 8us/sample - loss: 77.9649\n",
      "Epoch 52/100\n",
      "13814/13814 [==============================] - 0s 7us/sample - loss: 71.1499\n",
      "Epoch 53/100\n",
      "13814/13814 [==============================] - 0s 7us/sample - loss: 65.3090\n",
      "Epoch 54/100\n",
      "13814/13814 [==============================] - 0s 7us/sample - loss: 60.2566\n",
      "Epoch 55/100\n",
      "13814/13814 [==============================] - 0s 7us/sample - loss: 55.7813\n",
      "Epoch 56/100\n",
      "13814/13814 [==============================] - 0s 7us/sample - loss: 50.6027\n",
      "Epoch 57/100\n",
      "13814/13814 [==============================] - 0s 7us/sample - loss: 45.7905\n",
      "Epoch 58/100\n",
      "13814/13814 [==============================] - 0s 7us/sample - loss: 42.3568\n",
      "Epoch 59/100\n",
      "13814/13814 [==============================] - 0s 7us/sample - loss: 38.1438\n",
      "Epoch 60/100\n",
      "13814/13814 [==============================] - 0s 7us/sample - loss: 34.9844\n",
      "Epoch 61/100\n",
      "13814/13814 [==============================] - 0s 7us/sample - loss: 31.8814\n",
      "Epoch 62/100\n",
      "13814/13814 [==============================] - 0s 7us/sample - loss: 29.3670\n",
      "Epoch 63/100\n",
      "13814/13814 [==============================] - 0s 7us/sample - loss: 26.7101\n",
      "Epoch 64/100\n",
      "13814/13814 [==============================] - 0s 7us/sample - loss: 24.2651\n",
      "Epoch 65/100\n",
      "13814/13814 [==============================] - 0s 7us/sample - loss: 22.3884\n",
      "Epoch 66/100\n",
      "13814/13814 [==============================] - 0s 7us/sample - loss: 20.5036\n",
      "Epoch 67/100\n",
      "13814/13814 [==============================] - 0s 7us/sample - loss: 18.5457\n",
      "Epoch 68/100\n",
      "13814/13814 [==============================] - 0s 7us/sample - loss: 17.0171\n",
      "Epoch 69/100\n",
      "13814/13814 [==============================] - 0s 7us/sample - loss: 15.5232\n",
      "Epoch 70/100\n",
      "13814/13814 [==============================] - 0s 7us/sample - loss: 13.9315\n",
      "Epoch 71/100\n",
      "13814/13814 [==============================] - 0s 7us/sample - loss: 12.8780\n",
      "Epoch 72/100\n",
      "13814/13814 [==============================] - 0s 7us/sample - loss: 11.7996\n",
      "Epoch 73/100\n",
      "13814/13814 [==============================] - 0s 7us/sample - loss: 10.6410\n",
      "Epoch 74/100\n",
      "13814/13814 [==============================] - 0s 8us/sample - loss: 9.7613 0s - loss: 9.8120\n",
      "Epoch 75/100\n",
      "13814/13814 [==============================] - 0s 8us/sample - loss: 8.8128\n",
      "Epoch 76/100\n",
      "13814/13814 [==============================] - 0s 7us/sample - loss: 8.0216\n",
      "Epoch 77/100\n",
      "13814/13814 [==============================] - 0s 7us/sample - loss: 7.3980\n",
      "Epoch 78/100\n",
      "13814/13814 [==============================] - 0s 7us/sample - loss: 6.7030\n",
      "Epoch 79/100\n",
      "13814/13814 [==============================] - 0s 7us/sample - loss: 6.0865\n",
      "Epoch 80/100\n",
      "13814/13814 [==============================] - 0s 7us/sample - loss: 5.5793\n",
      "Epoch 81/100\n",
      "13814/13814 [==============================] - 0s 8us/sample - loss: 5.0422\n",
      "Epoch 82/100\n",
      "13814/13814 [==============================] - 0s 7us/sample - loss: 4.6205\n",
      "Epoch 83/100\n",
      "13814/13814 [==============================] - 0s 8us/sample - loss: 4.2504\n",
      "Epoch 84/100\n",
      "13814/13814 [==============================] - 0s 7us/sample - loss: 3.8958\n",
      "Epoch 85/100\n",
      "13814/13814 [==============================] - 0s 8us/sample - loss: 3.5705\n",
      "Epoch 86/100\n",
      "13814/13814 [==============================] - 0s 8us/sample - loss: 3.3025\n",
      "Epoch 87/100\n",
      "13814/13814 [==============================] - 0s 7us/sample - loss: 3.0701\n",
      "Epoch 88/100\n",
      "13814/13814 [==============================] - 0s 8us/sample - loss: 2.8351\n",
      "Epoch 89/100\n",
      "13814/13814 [==============================] - 0s 7us/sample - loss: 2.6151\n",
      "Epoch 90/100\n"
     ]
    },
    {
     "name": "stdout",
     "output_type": "stream",
     "text": [
      "13814/13814 [==============================] - 0s 7us/sample - loss: 2.4478\n",
      "Epoch 91/100\n",
      "13814/13814 [==============================] - 0s 8us/sample - loss: 2.2741\n",
      "Epoch 92/100\n",
      "13814/13814 [==============================] - 0s 15us/sample - loss: 2.1418\n",
      "Epoch 93/100\n",
      "13814/13814 [==============================] - 0s 14us/sample - loss: 2.0021\n",
      "Epoch 94/100\n",
      "13814/13814 [==============================] - 0s 14us/sample - loss: 1.8956\n",
      "Epoch 95/100\n",
      "13814/13814 [==============================] - 0s 15us/sample - loss: 1.8171\n",
      "Epoch 96/100\n",
      "13814/13814 [==============================] - 0s 15us/sample - loss: 1.7323\n",
      "Epoch 97/100\n",
      "13814/13814 [==============================] - 0s 13us/sample - loss: 1.6463\n",
      "Epoch 98/100\n",
      "13814/13814 [==============================] - ETA: 0s - loss: 1.618 - 0s 13us/sample - loss: 1.5861\n",
      "Epoch 99/100\n",
      "13814/13814 [==============================] - 0s 13us/sample - loss: 1.5468\n",
      "Epoch 100/100\n",
      "13814/13814 [==============================] - 0s 14us/sample - loss: 1.4986\n"
     ]
    }
   ],
   "source": [
    "reset_random_seeds(seed)\n",
    "session_conf = tf.compat.v1.ConfigProto(intra_op_parallelism_threads=1, inter_op_parallelism_threads=1)\n",
    "sess = tf.compat.v1.keras.backend.set_session(session_conf)\n",
    "\n",
    "# fitting nn using k_gamma custom loss function\n",
    "nn_sev_gamma = tf.keras.models.Sequential()\n",
    "nn_sev_gamma.add(tf.keras.layers.Dense(units = 1, activation = 'exponential', input_shape = (1,), use_bias = False))\n",
    "nn_sev_gamma.compile(optimizer = 'RMSprop', loss = k_gamma)\n",
    "nn_sev_gamma.fit(x = np.ones(df_claims.shape[0]),\n",
    "                 y = np.array(df_claims['avg']),\n",
    "                 epochs = 100,\n",
    "                 batch_size = 128,\n",
    "                 validation_split = 0)\n",
    "\n",
    "tf.compat.v1.keras.backend.clear_session()"
   ]
  },
  {
   "cell_type": "code",
   "execution_count": 78,
   "metadata": {},
   "outputs": [
    {
     "data": {
      "text/plain": [
       "1001.3876953125"
      ]
     },
     "execution_count": 78,
     "metadata": {},
     "output_type": "execute_result"
    }
   ],
   "source": [
    "# prediction\n",
    "np.float(nn_sev_gamma.predict(tf.cast([1], dtype = tf.float32)))"
   ]
  },
  {
   "cell_type": "code",
   "execution_count": 79,
   "metadata": {},
   "outputs": [],
   "source": [
    "# test reproducibility\n",
    "# 1001.3876953125"
   ]
  },
  {
   "cell_type": "code",
   "execution_count": 80,
   "metadata": {},
   "outputs": [
    {
     "data": {
      "text/plain": [
       "1460.507183587863"
      ]
     },
     "execution_count": 80,
     "metadata": {},
     "output_type": "execute_result"
    }
   ],
   "source": [
    "np.mean(df_claims[df_claims['avg'] < 300000]['avg'])"
   ]
  }
 ],
 "metadata": {
  "kernelspec": {
   "display_name": "Python 3",
   "language": "python",
   "name": "python3"
  },
  "language_info": {
   "codemirror_mode": {
    "name": "ipython",
    "version": 3
   },
   "file_extension": ".py",
   "mimetype": "text/x-python",
   "name": "python",
   "nbconvert_exporter": "python",
   "pygments_lexer": "ipython3",
   "version": "3.7.6"
  }
 },
 "nbformat": 4,
 "nbformat_minor": 4
}
