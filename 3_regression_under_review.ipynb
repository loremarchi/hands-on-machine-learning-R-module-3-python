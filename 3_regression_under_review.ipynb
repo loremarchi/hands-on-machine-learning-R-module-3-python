{
 "cells": [
  {
   "cell_type": "markdown",
   "metadata": {},
   "source": [
    "# Claim frequency and severity regression"
   ]
  },
  {
   "cell_type": "markdown",
   "metadata": {},
   "source": [
    "We will now predict claim frequency and severity in the MTPL data with a neural network."
   ]
  },
  {
   "cell_type": "code",
   "execution_count": 1,
   "metadata": {},
   "outputs": [],
   "source": [
    "# load libs\n",
    "from IPython.display import display, Math, Latex\n",
    "import tensorflow as tf\n",
    "import statsmodels.api as sm\n",
    "from sklearn.model_selection import train_test_split\n",
    "import numpy as np\n",
    "import pandas as pd\n",
    "import os\n",
    "import matplotlib.pyplot as plt"
   ]
  },
  {
   "cell_type": "code",
   "execution_count": 2,
   "metadata": {},
   "outputs": [],
   "source": [
    "# load data using separator to correctly parse from .txt\n",
    "df = pd.read_csv(os.path.join(os.getcwd(),\"data\\PC_data.txt\"),  sep=r\"\\s+\")"
   ]
  },
  {
   "cell_type": "code",
   "execution_count": 3,
   "metadata": {},
   "outputs": [],
   "source": [
    "# column names to smaller case\n",
    "df.columns = map(str.lower, df.columns)"
   ]
  },
  {
   "cell_type": "code",
   "execution_count": 4,
   "metadata": {},
   "outputs": [
    {
     "data": {
      "text/html": [
       "<div>\n",
       "<style scoped>\n",
       "    .dataframe tbody tr th:only-of-type {\n",
       "        vertical-align: middle;\n",
       "    }\n",
       "\n",
       "    .dataframe tbody tr th {\n",
       "        vertical-align: top;\n",
       "    }\n",
       "\n",
       "    .dataframe thead th {\n",
       "        text-align: right;\n",
       "    }\n",
       "</style>\n",
       "<table border=\"1\" class=\"dataframe\">\n",
       "  <thead>\n",
       "    <tr style=\"text-align: right;\">\n",
       "      <th></th>\n",
       "      <th>id</th>\n",
       "      <th>nclaims</th>\n",
       "      <th>amount</th>\n",
       "      <th>avg</th>\n",
       "      <th>expo</th>\n",
       "      <th>coverage</th>\n",
       "      <th>fuel</th>\n",
       "      <th>use</th>\n",
       "      <th>fleet</th>\n",
       "      <th>sex</th>\n",
       "      <th>ageph</th>\n",
       "      <th>bm</th>\n",
       "      <th>agec</th>\n",
       "      <th>power</th>\n",
       "      <th>pc</th>\n",
       "      <th>town</th>\n",
       "      <th>long</th>\n",
       "      <th>lat</th>\n",
       "    </tr>\n",
       "  </thead>\n",
       "  <tbody>\n",
       "    <tr>\n",
       "      <th>0</th>\n",
       "      <td>1</td>\n",
       "      <td>1</td>\n",
       "      <td>1618.001036</td>\n",
       "      <td>1618.001036</td>\n",
       "      <td>1.000000</td>\n",
       "      <td>TPL</td>\n",
       "      <td>gasoline</td>\n",
       "      <td>private</td>\n",
       "      <td>N</td>\n",
       "      <td>male</td>\n",
       "      <td>50</td>\n",
       "      <td>5</td>\n",
       "      <td>12</td>\n",
       "      <td>77</td>\n",
       "      <td>1000</td>\n",
       "      <td>BRUSSEL</td>\n",
       "      <td>4.355223</td>\n",
       "      <td>50.845386</td>\n",
       "    </tr>\n",
       "    <tr>\n",
       "      <th>1</th>\n",
       "      <td>2</td>\n",
       "      <td>0</td>\n",
       "      <td>0.000000</td>\n",
       "      <td>NaN</td>\n",
       "      <td>1.000000</td>\n",
       "      <td>PO</td>\n",
       "      <td>gasoline</td>\n",
       "      <td>private</td>\n",
       "      <td>N</td>\n",
       "      <td>female</td>\n",
       "      <td>64</td>\n",
       "      <td>5</td>\n",
       "      <td>3</td>\n",
       "      <td>66</td>\n",
       "      <td>1000</td>\n",
       "      <td>BRUSSEL</td>\n",
       "      <td>4.355223</td>\n",
       "      <td>50.845386</td>\n",
       "    </tr>\n",
       "    <tr>\n",
       "      <th>2</th>\n",
       "      <td>3</td>\n",
       "      <td>0</td>\n",
       "      <td>0.000000</td>\n",
       "      <td>NaN</td>\n",
       "      <td>1.000000</td>\n",
       "      <td>TPL</td>\n",
       "      <td>diesel</td>\n",
       "      <td>private</td>\n",
       "      <td>N</td>\n",
       "      <td>male</td>\n",
       "      <td>60</td>\n",
       "      <td>0</td>\n",
       "      <td>10</td>\n",
       "      <td>70</td>\n",
       "      <td>1000</td>\n",
       "      <td>BRUSSEL</td>\n",
       "      <td>4.355223</td>\n",
       "      <td>50.845386</td>\n",
       "    </tr>\n",
       "    <tr>\n",
       "      <th>3</th>\n",
       "      <td>4</td>\n",
       "      <td>0</td>\n",
       "      <td>0.000000</td>\n",
       "      <td>NaN</td>\n",
       "      <td>1.000000</td>\n",
       "      <td>TPL</td>\n",
       "      <td>gasoline</td>\n",
       "      <td>private</td>\n",
       "      <td>N</td>\n",
       "      <td>male</td>\n",
       "      <td>77</td>\n",
       "      <td>0</td>\n",
       "      <td>15</td>\n",
       "      <td>57</td>\n",
       "      <td>1000</td>\n",
       "      <td>BRUSSEL</td>\n",
       "      <td>4.355223</td>\n",
       "      <td>50.845386</td>\n",
       "    </tr>\n",
       "    <tr>\n",
       "      <th>4</th>\n",
       "      <td>5</td>\n",
       "      <td>1</td>\n",
       "      <td>155.974606</td>\n",
       "      <td>155.974606</td>\n",
       "      <td>0.046575</td>\n",
       "      <td>TPL</td>\n",
       "      <td>gasoline</td>\n",
       "      <td>private</td>\n",
       "      <td>N</td>\n",
       "      <td>female</td>\n",
       "      <td>28</td>\n",
       "      <td>9</td>\n",
       "      <td>7</td>\n",
       "      <td>70</td>\n",
       "      <td>1000</td>\n",
       "      <td>BRUSSEL</td>\n",
       "      <td>4.355223</td>\n",
       "      <td>50.845386</td>\n",
       "    </tr>\n",
       "  </tbody>\n",
       "</table>\n",
       "</div>"
      ],
      "text/plain": [
       "   id  nclaims       amount          avg      expo coverage      fuel  \\\n",
       "0   1        1  1618.001036  1618.001036  1.000000      TPL  gasoline   \n",
       "1   2        0     0.000000          NaN  1.000000       PO  gasoline   \n",
       "2   3        0     0.000000          NaN  1.000000      TPL    diesel   \n",
       "3   4        0     0.000000          NaN  1.000000      TPL  gasoline   \n",
       "4   5        1   155.974606   155.974606  0.046575      TPL  gasoline   \n",
       "\n",
       "       use fleet     sex  ageph  bm  agec  power    pc     town      long  \\\n",
       "0  private     N    male     50   5    12     77  1000  BRUSSEL  4.355223   \n",
       "1  private     N  female     64   5     3     66  1000  BRUSSEL  4.355223   \n",
       "2  private     N    male     60   0    10     70  1000  BRUSSEL  4.355223   \n",
       "3  private     N    male     77   0    15     57  1000  BRUSSEL  4.355223   \n",
       "4  private     N  female     28   9     7     70  1000  BRUSSEL  4.355223   \n",
       "\n",
       "         lat  \n",
       "0  50.845386  \n",
       "1  50.845386  \n",
       "2  50.845386  \n",
       "3  50.845386  \n",
       "4  50.845386  "
      ]
     },
     "execution_count": 4,
     "metadata": {},
     "output_type": "execute_result"
    }
   ],
   "source": [
    "# rename exp to expo\n",
    "df.rename(columns={'exp':'expo'}, inplace = True); df.head()"
   ]
  },
  {
   "cell_type": "code",
   "execution_count": 5,
   "metadata": {},
   "outputs": [
    {
     "name": "stdout",
     "output_type": "stream",
     "text": [
      "train size:(122423, 18), test size:(40808, 18)\n"
     ]
    }
   ],
   "source": [
    "# train/test split using sklearn\n",
    "train, test = train_test_split(df, test_size=0.25); print(f'train size:{train.shape}, test size:{test.shape}')"
   ]
  },
  {
   "cell_type": "code",
   "execution_count": 6,
   "metadata": {},
   "outputs": [
    {
     "name": "stdout",
     "output_type": "stream",
     "text": [
      "train size:(122423, 18)\n"
     ]
    }
   ],
   "source": [
    "# Reshuffling of the training observations\n",
    "train = train.sample(frac = 1); print(f'train size:{train.shape}')"
   ]
  },
  {
   "cell_type": "markdown",
   "metadata": {},
   "source": [
    "Let's start with a model with only an intercept:"
   ]
  },
  {
   "cell_type": "code",
   "execution_count": 7,
   "metadata": {},
   "outputs": [],
   "source": [
    "# initialize NN\n",
    "nn_freq_intercept = tf.keras.models.Sequential()"
   ]
  },
  {
   "cell_type": "code",
   "execution_count": 8,
   "metadata": {},
   "outputs": [],
   "source": [
    "# add fully connected layer using exponential actiavation function\n",
    "nn_freq_intercept.add(tf.keras.layers.Dense(units = 1, activation = 'exponential', input_shape = (1,), use_bias = False))"
   ]
  },
  {
   "cell_type": "code",
   "execution_count": 9,
   "metadata": {},
   "outputs": [],
   "source": [
    "# choince of the optimizer and loglikelihood to maximize\n",
    "nn_freq_intercept.compile(optimizer = 'RMSprop', loss = 'poisson')"
   ]
  },
  {
   "cell_type": "code",
   "execution_count": 10,
   "metadata": {},
   "outputs": [
    {
     "data": {
      "text/plain": [
       "1"
      ]
     },
     "execution_count": 10,
     "metadata": {},
     "output_type": "execute_result"
    }
   ],
   "source": [
    "# Q: how many parameters does this model have?\n",
    "nn_freq_intercept.count_params()"
   ]
  },
  {
   "cell_type": "code",
   "execution_count": 11,
   "metadata": {},
   "outputs": [
    {
     "name": "stdout",
     "output_type": "stream",
     "text": [
      "Model: \"sequential\"\n",
      "_________________________________________________________________\n",
      "Layer (type)                 Output Shape              Param #   \n",
      "=================================================================\n",
      "dense (Dense)                (None, 1)                 1         \n",
      "=================================================================\n",
      "Total params: 1\n",
      "Trainable params: 1\n",
      "Non-trainable params: 0\n",
      "_________________________________________________________________\n"
     ]
    }
   ],
   "source": [
    "# summary of the structure of the neural netweork\n",
    "nn_freq_intercept.summary()"
   ]
  },
  {
   "cell_type": "code",
   "execution_count": 59,
   "metadata": {},
   "outputs": [
    {
     "name": "stdout",
     "output_type": "stream",
     "text": [
      "size of intercept vector: 122423, size of counts vector: 122423\n"
     ]
    }
   ],
   "source": [
    "# create vectors for the input and output\n",
    "intercept = np.ones(train.shape[0])\n",
    "counts = np.array(train['nclaims'])\n",
    "print(f'size of intercept vector: {intercept.shape[0]}, size of counts vector: {counts.shape[0]}')"
   ]
  },
  {
   "cell_type": "code",
   "execution_count": 60,
   "metadata": {},
   "outputs": [
    {
     "data": {
      "text/plain": [
       "<tensorflow.python.keras.callbacks.History at 0x2513cc21748>"
      ]
     },
     "execution_count": 60,
     "metadata": {},
     "output_type": "execute_result"
    }
   ],
   "source": [
    "# fit the neural netword\n",
    "nn_freq_intercept.fit(intercept,\n",
    "                      counts,\n",
    "                      epochs = 30,\n",
    "                      batch_size = 1024,\n",
    "                      validation_split = 0,\n",
    "                      verbose = 0)"
   ]
  },
  {
   "cell_type": "markdown",
   "metadata": {},
   "source": [
    "We compare the results of our neural network with the same model specified as a GLM:"
   ]
  },
  {
   "cell_type": "code",
   "execution_count": 61,
   "metadata": {},
   "outputs": [
    {
     "data": {
      "text/html": [
       "<table class=\"simpletable\">\n",
       "<caption>Generalized Linear Model Regression Results</caption>\n",
       "<tr>\n",
       "  <th>Dep. Variable:</th>        <td>nclaims</td>     <th>  No. Observations:  </th>  <td>122423</td> \n",
       "</tr>\n",
       "<tr>\n",
       "  <th>Model:</th>                  <td>GLM</td>       <th>  Df Residuals:      </th>  <td>122422</td> \n",
       "</tr>\n",
       "<tr>\n",
       "  <th>Model Family:</th>         <td>Poisson</td>     <th>  Df Model:          </th>  <td>     0</td> \n",
       "</tr>\n",
       "<tr>\n",
       "  <th>Link Function:</th>          <td>log</td>       <th>  Scale:             </th> <td>  1.0000</td>\n",
       "</tr>\n",
       "<tr>\n",
       "  <th>Method:</th>                <td>IRLS</td>       <th>  Log-Likelihood:    </th> <td> -48008.</td>\n",
       "</tr>\n",
       "<tr>\n",
       "  <th>Date:</th>            <td>Tue, 05 Oct 2021</td> <th>  Deviance:          </th> <td>  67655.</td>\n",
       "</tr>\n",
       "<tr>\n",
       "  <th>Time:</th>                <td>15:23:30</td>     <th>  Pearson chi2:      </th> <td>1.33e+05</td>\n",
       "</tr>\n",
       "<tr>\n",
       "  <th>No. Iterations:</th>          <td>6</td>        <th>                     </th>     <td> </td>   \n",
       "</tr>\n",
       "<tr>\n",
       "  <th>Covariance Type:</th>     <td>nonrobust</td>    <th>                     </th>     <td> </td>   \n",
       "</tr>\n",
       "</table>\n",
       "<table class=\"simpletable\">\n",
       "<tr>\n",
       "      <td></td>         <th>coef</th>     <th>std err</th>      <th>z</th>      <th>P>|z|</th>  <th>[0.025</th>    <th>0.975]</th>  \n",
       "</tr>\n",
       "<tr>\n",
       "  <th>Intercept</th> <td>   -2.0855</td> <td>    0.008</td> <td> -257.206</td> <td> 0.000</td> <td>   -2.101</td> <td>   -2.070</td>\n",
       "</tr>\n",
       "</table>"
      ],
      "text/plain": [
       "<class 'statsmodels.iolib.summary.Summary'>\n",
       "\"\"\"\n",
       "                 Generalized Linear Model Regression Results                  \n",
       "==============================================================================\n",
       "Dep. Variable:                nclaims   No. Observations:               122423\n",
       "Model:                            GLM   Df Residuals:                   122422\n",
       "Model Family:                 Poisson   Df Model:                            0\n",
       "Link Function:                    log   Scale:                          1.0000\n",
       "Method:                          IRLS   Log-Likelihood:                -48008.\n",
       "Date:                Tue, 05 Oct 2021   Deviance:                       67655.\n",
       "Time:                        15:23:30   Pearson chi2:                 1.33e+05\n",
       "No. Iterations:                     6                                         \n",
       "Covariance Type:            nonrobust                                         \n",
       "==============================================================================\n",
       "                 coef    std err          z      P>|z|      [0.025      0.975]\n",
       "------------------------------------------------------------------------------\n",
       "Intercept     -2.0855      0.008   -257.206      0.000      -2.101      -2.070\n",
       "==============================================================================\n",
       "\"\"\""
      ]
     },
     "execution_count": 61,
     "metadata": {},
     "output_type": "execute_result"
    }
   ],
   "source": [
    "glm_freq_intercept = sm.formula.glm(\"nclaims ~ 1\", data=train, family=sm.families.Poisson()).fit(); glm_freq_intercept.summary()"
   ]
  },
  {
   "cell_type": "code",
   "execution_count": 63,
   "metadata": {},
   "outputs": [
    {
     "name": "stdout",
     "output_type": "stream",
     "text": [
      "NN weights:-2.089312791824341, \n",
      "GLM coefficients:-2.0855291546509833\n"
     ]
    }
   ],
   "source": [
    "# comparing the estimated parameter (difference reflects a different optimization technique)\n",
    "print(f'NN weights:{nn_freq_intercept.get_weights()[0][0][0]}, \\nGLM coefficients:{glm_freq_intercept.params[0]}')"
   ]
  },
  {
   "cell_type": "markdown",
   "metadata": {},
   "source": [
    "### Your Turn!"
   ]
  },
  {
   "cell_type": "code",
   "execution_count": 64,
   "metadata": {},
   "outputs": [],
   "source": [
    "# Q1: adapt this code to replicate a binomial GLM with a logit link function. Add accuracy as a metric in your model.\n",
    "exercize_nn = tf.keras.models.Sequential()\n",
    "exercize_nn.add(tf.keras.layers.Dense(units = 1, activation = 'sigmoid', input_shape = (1,), use_bias = False))\n",
    "exercize_nn.compile(optimizer = 'RMSprop', loss = 'binary_crossentropy', metrics = ['accuracy'])"
   ]
  },
  {
   "cell_type": "code",
   "execution_count": 65,
   "metadata": {},
   "outputs": [
    {
     "data": {
      "text/plain": [
       "<tensorflow.python.keras.callbacks.History at 0x2513cd93b08>"
      ]
     },
     "execution_count": 65,
     "metadata": {},
     "output_type": "execute_result"
    }
   ],
   "source": [
    "# Q2: fit your neural network\n",
    "exercize_nn.fit(intercept,\n",
    "                      counts > 0,\n",
    "                      epochs = 40,\n",
    "                      batch_size = 1024,\n",
    "                      validation_split = 0,\n",
    "                      verbose = 0)"
   ]
  },
  {
   "cell_type": "code",
   "execution_count": 68,
   "metadata": {},
   "outputs": [
    {
     "name": "stdout",
     "output_type": "stream",
     "text": [
      "NN weights:-2.063455104827881, \n",
      "GLM coefficients:-2.0671407011235106\n"
     ]
    }
   ],
   "source": [
    "# Q3: compare with GLM\n",
    "exercize_glm = sm.formula.glm(\"nclaims < 1 ~ 1\", # it must be fitted this way or 0/1 labels get switched\n",
    "                            data=train, \n",
    "                            family=sm.families.Binomial(sm.families.links.logit())).fit();\n",
    "    \n",
    "print(f'NN weights:{exercize_nn.get_weights()[0][0][0]}, \\nGLM coefficients:{exercize_glm.params[0]}')"
   ]
  },
  {
   "cell_type": "code",
   "execution_count": null,
   "metadata": {},
   "outputs": [],
   "source": [
    "exercize_glm.summary()"
   ]
  },
  {
   "cell_type": "code",
   "execution_count": 74,
   "metadata": {},
   "outputs": [
    {
     "data": {
      "text/plain": [
       "array([0.11233183, 0.11233183, 0.11233183, ..., 0.11233183, 0.11233183,\n",
       "       0.11233183])"
      ]
     },
     "execution_count": 74,
     "metadata": {},
     "output_type": "execute_result"
    }
   ],
   "source": [
    "exercize_glm.predict()"
   ]
  },
  {
   "cell_type": "code",
   "execution_count": 75,
   "metadata": {},
   "outputs": [
    {
     "data": {
      "text/plain": [
       "array([0.11233])"
      ]
     },
     "execution_count": 75,
     "metadata": {},
     "output_type": "execute_result"
    }
   ],
   "source": [
    "# Q3: compare prediction\n",
    "np.unique(np.round(exercize_glm.predict(),5)) # PERCHE' 1 - exercize_glm.predict()?"
   ]
  },
  {
   "cell_type": "code",
   "execution_count": 76,
   "metadata": {},
   "outputs": [
    {
     "data": {
      "text/plain": [
       "array([0.1127], dtype=float32)"
      ]
     },
     "execution_count": 76,
     "metadata": {},
     "output_type": "execute_result"
    }
   ],
   "source": [
    "np.unique(np.round(exercize_nn.predict(x = intercept),5))"
   ]
  },
  {
   "cell_type": "code",
   "execution_count": 78,
   "metadata": {},
   "outputs": [],
   "source": [
    "# END OF THE EXERCIZE"
   ]
  },
  {
   "cell_type": "markdown",
   "metadata": {},
   "source": [
    "### Taking exposure into account in a neural network"
   ]
  },
  {
   "cell_type": "markdown",
   "metadata": {},
   "source": [
    "Classical GLM including exposure:"
   ]
  },
  {
   "cell_type": "code",
   "execution_count": 81,
   "metadata": {},
   "outputs": [
    {
     "data": {
      "text/html": [
       "<table class=\"simpletable\">\n",
       "<caption>Generalized Linear Model Regression Results</caption>\n",
       "<tr>\n",
       "  <th>Dep. Variable:</th>        <td>nclaims</td>     <th>  No. Observations:  </th>  <td>122423</td> \n",
       "</tr>\n",
       "<tr>\n",
       "  <th>Model:</th>                  <td>GLM</td>       <th>  Df Residuals:      </th>  <td>122421</td> \n",
       "</tr>\n",
       "<tr>\n",
       "  <th>Model Family:</th>         <td>Poisson</td>     <th>  Df Model:          </th>  <td>     1</td> \n",
       "</tr>\n",
       "<tr>\n",
       "  <th>Link Function:</th>          <td>log</td>       <th>  Scale:             </th> <td>  1.0000</td>\n",
       "</tr>\n",
       "<tr>\n",
       "  <th>Method:</th>                <td>IRLS</td>       <th>  Log-Likelihood:    </th> <td> -47577.</td>\n",
       "</tr>\n",
       "<tr>\n",
       "  <th>Date:</th>            <td>Tue, 05 Oct 2021</td> <th>  Deviance:          </th> <td>  66792.</td>\n",
       "</tr>\n",
       "<tr>\n",
       "  <th>Time:</th>                <td>15:27:56</td>     <th>  Pearson chi2:      </th> <td>1.50e+05</td>\n",
       "</tr>\n",
       "<tr>\n",
       "  <th>No. Iterations:</th>          <td>6</td>        <th>                     </th>     <td> </td>   \n",
       "</tr>\n",
       "<tr>\n",
       "  <th>Covariance Type:</th>     <td>nonrobust</td>    <th>                     </th>     <td> </td>   \n",
       "</tr>\n",
       "</table>\n",
       "<table class=\"simpletable\">\n",
       "<tr>\n",
       "      <td></td>         <th>coef</th>     <th>std err</th>      <th>z</th>      <th>P>|z|</th>  <th>[0.025</th>    <th>0.975]</th>  \n",
       "</tr>\n",
       "<tr>\n",
       "  <th>Intercept</th> <td>   -1.2396</td> <td>    0.026</td> <td>  -46.864</td> <td> 0.000</td> <td>   -1.291</td> <td>   -1.188</td>\n",
       "</tr>\n",
       "<tr>\n",
       "  <th>ageph</th>     <td>   -0.0160</td> <td>    0.001</td> <td>  -27.930</td> <td> 0.000</td> <td>   -0.017</td> <td>   -0.015</td>\n",
       "</tr>\n",
       "</table>"
      ],
      "text/plain": [
       "<class 'statsmodels.iolib.summary.Summary'>\n",
       "\"\"\"\n",
       "                 Generalized Linear Model Regression Results                  \n",
       "==============================================================================\n",
       "Dep. Variable:                nclaims   No. Observations:               122423\n",
       "Model:                            GLM   Df Residuals:                   122421\n",
       "Model Family:                 Poisson   Df Model:                            1\n",
       "Link Function:                    log   Scale:                          1.0000\n",
       "Method:                          IRLS   Log-Likelihood:                -47577.\n",
       "Date:                Tue, 05 Oct 2021   Deviance:                       66792.\n",
       "Time:                        15:27:56   Pearson chi2:                 1.50e+05\n",
       "No. Iterations:                     6                                         \n",
       "Covariance Type:            nonrobust                                         \n",
       "==============================================================================\n",
       "                 coef    std err          z      P>|z|      [0.025      0.975]\n",
       "------------------------------------------------------------------------------\n",
       "Intercept     -1.2396      0.026    -46.864      0.000      -1.291      -1.188\n",
       "ageph         -0.0160      0.001    -27.930      0.000      -0.017      -0.015\n",
       "==============================================================================\n",
       "\"\"\""
      ]
     },
     "execution_count": 81,
     "metadata": {},
     "output_type": "execute_result"
    }
   ],
   "source": [
    "glm_offset = sm.formula.glm(\"nclaims ~ ageph\", \n",
    "                            data=train, \n",
    "                            offset = np.log(train.expo),\n",
    "                            family=sm.families.Poisson()).fit(); \n",
    "glm_offset.summary()"
   ]
  },
  {
   "cell_type": "code",
   "execution_count": 82,
   "metadata": {},
   "outputs": [
    {
     "data": {
      "text/plain": [
       "Intercept   -1.239626\n",
       "ageph       -0.015975\n",
       "dtype: float64"
      ]
     },
     "execution_count": 82,
     "metadata": {},
     "output_type": "execute_result"
    }
   ],
   "source": [
    "glm_offset.params"
   ]
  },
  {
   "cell_type": "markdown",
   "metadata": {},
   "source": [
    "Classical GLM including weights:"
   ]
  },
  {
   "cell_type": "code",
   "execution_count": 84,
   "metadata": {},
   "outputs": [
    {
     "data": {
      "text/html": [
       "<table class=\"simpletable\">\n",
       "<caption>Generalized Linear Model Regression Results</caption>\n",
       "<tr>\n",
       "  <th>Dep. Variable:</th>        <td>nclaims</td>     <th>  No. Observations:  </th>  <td>122423</td> \n",
       "</tr>\n",
       "<tr>\n",
       "  <th>Model:</th>                  <td>GLM</td>       <th>  Df Residuals:      </th>  <td>122421</td> \n",
       "</tr>\n",
       "<tr>\n",
       "  <th>Model Family:</th>         <td>Poisson</td>     <th>  Df Model:          </th>  <td>     1</td> \n",
       "</tr>\n",
       "<tr>\n",
       "  <th>Link Function:</th>          <td>log</td>       <th>  Scale:             </th> <td>  1.0000</td>\n",
       "</tr>\n",
       "<tr>\n",
       "  <th>Method:</th>                <td>IRLS</td>       <th>  Log-Likelihood:    </th> <td> -47577.</td>\n",
       "</tr>\n",
       "<tr>\n",
       "  <th>Date:</th>            <td>Tue, 05 Oct 2021</td> <th>  Deviance:          </th> <td>  66792.</td>\n",
       "</tr>\n",
       "<tr>\n",
       "  <th>Time:</th>                <td>15:30:07</td>     <th>  Pearson chi2:      </th> <td>1.50e+05</td>\n",
       "</tr>\n",
       "<tr>\n",
       "  <th>No. Iterations:</th>          <td>6</td>        <th>                     </th>     <td> </td>   \n",
       "</tr>\n",
       "<tr>\n",
       "  <th>Covariance Type:</th>     <td>nonrobust</td>    <th>                     </th>     <td> </td>   \n",
       "</tr>\n",
       "</table>\n",
       "<table class=\"simpletable\">\n",
       "<tr>\n",
       "      <td></td>         <th>coef</th>     <th>std err</th>      <th>z</th>      <th>P>|z|</th>  <th>[0.025</th>    <th>0.975]</th>  \n",
       "</tr>\n",
       "<tr>\n",
       "  <th>Intercept</th> <td>   -1.2396</td> <td>    0.026</td> <td>  -46.864</td> <td> 0.000</td> <td>   -1.291</td> <td>   -1.188</td>\n",
       "</tr>\n",
       "<tr>\n",
       "  <th>ageph</th>     <td>   -0.0160</td> <td>    0.001</td> <td>  -27.930</td> <td> 0.000</td> <td>   -0.017</td> <td>   -0.015</td>\n",
       "</tr>\n",
       "</table>"
      ],
      "text/plain": [
       "<class 'statsmodels.iolib.summary.Summary'>\n",
       "\"\"\"\n",
       "                 Generalized Linear Model Regression Results                  \n",
       "==============================================================================\n",
       "Dep. Variable:                nclaims   No. Observations:               122423\n",
       "Model:                            GLM   Df Residuals:                   122421\n",
       "Model Family:                 Poisson   Df Model:                            1\n",
       "Link Function:                    log   Scale:                          1.0000\n",
       "Method:                          IRLS   Log-Likelihood:                -47577.\n",
       "Date:                Tue, 05 Oct 2021   Deviance:                       66792.\n",
       "Time:                        15:30:07   Pearson chi2:                 1.50e+05\n",
       "No. Iterations:                     6                                         \n",
       "Covariance Type:            nonrobust                                         \n",
       "==============================================================================\n",
       "                 coef    std err          z      P>|z|      [0.025      0.975]\n",
       "------------------------------------------------------------------------------\n",
       "Intercept     -1.2396      0.026    -46.864      0.000      -1.291      -1.188\n",
       "ageph         -0.0160      0.001    -27.930      0.000      -0.017      -0.015\n",
       "==============================================================================\n",
       "\"\"\""
      ]
     },
     "execution_count": 84,
     "metadata": {},
     "output_type": "execute_result"
    }
   ],
   "source": [
    "glm_weights = sm.formula.glm(\"nclaims ~ ageph\", \n",
    "                             data=train, \n",
    "                             weights = train.expo, \n",
    "                             exposure = train.expo, \n",
    "                             family=sm.families.Poisson()).fit(); \n",
    "glm_weights.summary()"
   ]
  },
  {
   "cell_type": "code",
   "execution_count": 96,
   "metadata": {},
   "outputs": [
    {
     "data": {
      "text/plain": [
       "Intercept   -1.239626\n",
       "ageph       -0.015975\n",
       "dtype: float64"
      ]
     },
     "execution_count": 96,
     "metadata": {},
     "output_type": "execute_result"
    }
   ],
   "source": [
    "glm_weights.params"
   ]
  },
  {
   "cell_type": "markdown",
   "metadata": {},
   "source": [
    "The specification structure of the neural network remains the same:"
   ]
  },
  {
   "cell_type": "code",
   "execution_count": 97,
   "metadata": {},
   "outputs": [],
   "source": [
    "# neural network architecture specification\n",
    "nn_freq_exposure = tf.keras.models.Sequential()\n",
    "nn_freq_exposure.add(tf.keras.layers.Dense(units = 1, activation = 'exponential', input_shape = (1,), use_bias = False))\n",
    "nn_freq_exposure.compile(optimizer = 'RMSprop', loss = 'poisson')"
   ]
  },
  {
   "cell_type": "code",
   "execution_count": 98,
   "metadata": {},
   "outputs": [],
   "source": [
    "# create a vector with exposure values (pd.Series must be converted to pd.array due to compatibility reasons with fit() method)\n",
    "exposure = np.array(train['expo'])"
   ]
  },
  {
   "cell_type": "code",
   "execution_count": 99,
   "metadata": {
    "scrolled": true
   },
   "outputs": [
    {
     "data": {
      "text/plain": [
       "<tensorflow.python.keras.callbacks.History at 0x2512e61f548>"
      ]
     },
     "execution_count": 99,
     "metadata": {},
     "output_type": "execute_result"
    }
   ],
   "source": [
    "# divide claim counts by exposure and use weights\n",
    "nn_freq_exposure.fit(x = intercept,\n",
    "                     y = counts/exposure,\n",
    "                     sample_weight = exposure,\n",
    "                     epochs = 20,\n",
    "                     batch_size = 1024,\n",
    "                     validation_split = 0,\n",
    "                     verbose = 0)"
   ]
  },
  {
   "cell_type": "code",
   "execution_count": 102,
   "metadata": {},
   "outputs": [
    {
     "data": {
      "text/plain": [
       "[array([[-1.7919232]], dtype=float32)]"
      ]
     },
     "execution_count": 102,
     "metadata": {},
     "output_type": "execute_result"
    }
   ],
   "source": [
    "nn_freq_exposure.get_weights()"
   ]
  },
  {
   "cell_type": "code",
   "execution_count": 106,
   "metadata": {},
   "outputs": [
    {
     "name": "stdout",
     "output_type": "stream",
     "text": [
      "NN weights:-1.79192316532135, \n",
      "\n",
      "GLM_offset coefficients:Intercept   -1.239626\n",
      "ageph       -0.015975\n",
      "dtype: float64, \n",
      "\n",
      "GLM_weights coefficients:Intercept   -1.239626\n",
      "ageph       -0.015975\n",
      "dtype: float64\n"
     ]
    }
   ],
   "source": [
    "# comparing the estimated parameter (difference reflects a different optimization technique)\n",
    "print(f'NN weights:{nn_freq_exposure.get_weights()[0][0][0]}, \\n\\nGLM_offset coefficients:{glm_offset.params}, \\n\\nGLM_weights coefficients:{glm_weights.params}')"
   ]
  },
  {
   "cell_type": "markdown",
   "metadata": {},
   "source": [
    "### How can we include exposure via an offset term?"
   ]
  },
  {
   "cell_type": "code",
   "execution_count": 107,
   "metadata": {},
   "outputs": [],
   "source": [
    "# create a vector with ageph (pd.Series must be converted to pd.array due to compatibility reasons with fit() method)\n",
    "ageph = np.array(train['ageph'])"
   ]
  },
  {
   "cell_type": "code",
   "execution_count": 108,
   "metadata": {},
   "outputs": [],
   "source": [
    "# neural network architecture specification\n",
    "nn_freq_ageph = tf.keras.models.Sequential()\n",
    "nn_freq_ageph.add(tf.keras.layers.BatchNormalization(input_shape = (1,))) # layer_batch_normalization centers and scales the input features\n",
    "nn_freq_ageph.add(tf.keras.layers.Dense(units = 5, activation = 'tanh'))\n",
    "nn_freq_ageph.add(tf.keras.layers.Dense(units = 1, activation = 'exponential', use_bias = True)) # Notice how we set use_bias = TRUE for the intercept.\n",
    "nn_freq_ageph.compile(optimizer = 'RMSprop', loss = 'poisson')"
   ]
  },
  {
   "cell_type": "code",
   "execution_count": 111,
   "metadata": {},
   "outputs": [
    {
     "data": {
      "text/plain": [
       "<tensorflow.python.keras.callbacks.History at 0x25134120608>"
      ]
     },
     "execution_count": 111,
     "metadata": {},
     "output_type": "execute_result"
    }
   ],
   "source": [
    "nn_freq_ageph.fit(ageph,\n",
    "                 counts/exposure,\n",
    "                 sample_weight = exposure,\n",
    "                 epochs = 20,\n",
    "                 batch_size = 1024,\n",
    "                 validation_split = 0,\n",
    "                 verbose = 0)"
   ]
  },
  {
   "cell_type": "code",
   "execution_count": 112,
   "metadata": {},
   "outputs": [
    {
     "data": {
      "text/plain": [
       "[array([0.58682483], dtype=float32),\n",
       " array([0.4486653], dtype=float32),\n",
       " array([46.986446], dtype=float32),\n",
       " array([219.16087], dtype=float32),\n",
       " array([[-0.41990626,  0.3513118 ,  0.2744854 ,  0.00437251,  0.65964603]],\n",
       "       dtype=float32),\n",
       " array([-0.41606426,  0.40605304, -0.3920835 ,  0.40150648,  0.46706387],\n",
       "       dtype=float32),\n",
       " array([[ 0.65044665],\n",
       "        [-0.81724334],\n",
       "        [ 1.0437535 ],\n",
       "        [-0.48028782],\n",
       "        [-0.6920566 ]], dtype=float32),\n",
       " array([-0.38707754], dtype=float32)]"
      ]
     },
     "execution_count": 112,
     "metadata": {},
     "output_type": "execute_result"
    }
   ],
   "source": [
    "nn_freq_ageph.get_weights()"
   ]
  },
  {
   "cell_type": "markdown",
   "metadata": {},
   "source": [
    "### Applying GAM models"
   ]
  },
  {
   "cell_type": "code",
   "execution_count": 113,
   "metadata": {},
   "outputs": [],
   "source": [
    "from statsmodels.gam.api import GLMGam, BSplines"
   ]
  },
  {
   "cell_type": "code",
   "execution_count": 114,
   "metadata": {},
   "outputs": [],
   "source": [
    "x_spline = train['ageph']"
   ]
  },
  {
   "cell_type": "code",
   "execution_count": 176,
   "metadata": {},
   "outputs": [],
   "source": [
    "bs = BSplines(x_spline, df=[10, 10], degree=[3, 3])"
   ]
  },
  {
   "cell_type": "code",
   "execution_count": 177,
   "metadata": {},
   "outputs": [
    {
     "data": {
      "text/html": [
       "<table class=\"simpletable\">\n",
       "<caption>Generalized Linear Model Regression Results</caption>\n",
       "<tr>\n",
       "  <th>Dep. Variable:</th>        <td>nclaims</td>     <th>  No. Observations:  </th>  <td>122423</td> \n",
       "</tr>\n",
       "<tr>\n",
       "  <th>Model:</th>                <td>GLMGam</td>      <th>  Df Residuals:      </th>  <td>122413</td> \n",
       "</tr>\n",
       "<tr>\n",
       "  <th>Model Family:</th>         <td>Poisson</td>     <th>  Df Model:          </th> <td>    9.00</td>\n",
       "</tr>\n",
       "<tr>\n",
       "  <th>Link Function:</th>          <td>log</td>       <th>  Scale:             </th> <td>  1.0000</td>\n",
       "</tr>\n",
       "<tr>\n",
       "  <th>Method:</th>                <td>PIRLS</td>      <th>  Log-Likelihood:    </th> <td> -47500.</td>\n",
       "</tr>\n",
       "<tr>\n",
       "  <th>Date:</th>            <td>Tue, 05 Oct 2021</td> <th>  Deviance:          </th> <td>  66638.</td>\n",
       "</tr>\n",
       "<tr>\n",
       "  <th>Time:</th>                <td>16:40:40</td>     <th>  Pearson chi2:      </th> <td>1.48e+05</td>\n",
       "</tr>\n",
       "<tr>\n",
       "  <th>No. Iterations:</th>          <td>7</td>        <th>                     </th>     <td> </td>   \n",
       "</tr>\n",
       "<tr>\n",
       "  <th>Covariance Type:</th>     <td>nonrobust</td>    <th>                     </th>     <td> </td>   \n",
       "</tr>\n",
       "</table>\n",
       "<table class=\"simpletable\">\n",
       "<tr>\n",
       "      <td></td>         <th>coef</th>     <th>std err</th>      <th>z</th>      <th>P>|z|</th>  <th>[0.025</th>    <th>0.975]</th>  \n",
       "</tr>\n",
       "<tr>\n",
       "  <th>Intercept</th> <td>   -1.0596</td> <td>    0.154</td> <td>   -6.892</td> <td> 0.000</td> <td>   -1.361</td> <td>   -0.758</td>\n",
       "</tr>\n",
       "<tr>\n",
       "  <th>ageph_s0</th>  <td>   -0.2392</td> <td>    0.235</td> <td>   -1.018</td> <td> 0.308</td> <td>   -0.700</td> <td>    0.221</td>\n",
       "</tr>\n",
       "<tr>\n",
       "  <th>ageph_s1</th>  <td>   -0.6825</td> <td>    0.135</td> <td>   -5.074</td> <td> 0.000</td> <td>   -0.946</td> <td>   -0.419</td>\n",
       "</tr>\n",
       "<tr>\n",
       "  <th>ageph_s2</th>  <td>   -0.9138</td> <td>    0.173</td> <td>   -5.273</td> <td> 0.000</td> <td>   -1.253</td> <td>   -0.574</td>\n",
       "</tr>\n",
       "<tr>\n",
       "  <th>ageph_s3</th>  <td>   -0.8834</td> <td>    0.153</td> <td>   -5.763</td> <td> 0.000</td> <td>   -1.184</td> <td>   -0.583</td>\n",
       "</tr>\n",
       "<tr>\n",
       "  <th>ageph_s4</th>  <td>   -0.9453</td> <td>    0.164</td> <td>   -5.778</td> <td> 0.000</td> <td>   -1.266</td> <td>   -0.625</td>\n",
       "</tr>\n",
       "<tr>\n",
       "  <th>ageph_s5</th>  <td>   -1.0862</td> <td>    0.160</td> <td>   -6.783</td> <td> 0.000</td> <td>   -1.400</td> <td>   -0.772</td>\n",
       "</tr>\n",
       "<tr>\n",
       "  <th>ageph_s6</th>  <td>   -1.4764</td> <td>    0.196</td> <td>   -7.543</td> <td> 0.000</td> <td>   -1.860</td> <td>   -1.093</td>\n",
       "</tr>\n",
       "<tr>\n",
       "  <th>ageph_s7</th>  <td>   -1.0548</td> <td>    0.278</td> <td>   -3.794</td> <td> 0.000</td> <td>   -1.600</td> <td>   -0.510</td>\n",
       "</tr>\n",
       "<tr>\n",
       "  <th>ageph_s8</th>  <td>   -0.6534</td> <td>    0.501</td> <td>   -1.305</td> <td> 0.192</td> <td>   -1.635</td> <td>    0.328</td>\n",
       "</tr>\n",
       "</table>"
      ],
      "text/plain": [
       "<class 'statsmodels.iolib.summary.Summary'>\n",
       "\"\"\"\n",
       "                 Generalized Linear Model Regression Results                  \n",
       "==============================================================================\n",
       "Dep. Variable:                nclaims   No. Observations:               122423\n",
       "Model:                         GLMGam   Df Residuals:                   122413\n",
       "Model Family:                 Poisson   Df Model:                         9.00\n",
       "Link Function:                    log   Scale:                          1.0000\n",
       "Method:                         PIRLS   Log-Likelihood:                -47500.\n",
       "Date:                Tue, 05 Oct 2021   Deviance:                       66638.\n",
       "Time:                        16:40:40   Pearson chi2:                 1.48e+05\n",
       "No. Iterations:                     7                                         \n",
       "Covariance Type:            nonrobust                                         \n",
       "==============================================================================\n",
       "                 coef    std err          z      P>|z|      [0.025      0.975]\n",
       "------------------------------------------------------------------------------\n",
       "Intercept     -1.0596      0.154     -6.892      0.000      -1.361      -0.758\n",
       "ageph_s0      -0.2392      0.235     -1.018      0.308      -0.700       0.221\n",
       "ageph_s1      -0.6825      0.135     -5.074      0.000      -0.946      -0.419\n",
       "ageph_s2      -0.9138      0.173     -5.273      0.000      -1.253      -0.574\n",
       "ageph_s3      -0.8834      0.153     -5.763      0.000      -1.184      -0.583\n",
       "ageph_s4      -0.9453      0.164     -5.778      0.000      -1.266      -0.625\n",
       "ageph_s5      -1.0862      0.160     -6.783      0.000      -1.400      -0.772\n",
       "ageph_s6      -1.4764      0.196     -7.543      0.000      -1.860      -1.093\n",
       "ageph_s7      -1.0548      0.278     -3.794      0.000      -1.600      -0.510\n",
       "ageph_s8      -0.6534      0.501     -1.305      0.192      -1.635       0.328\n",
       "==============================================================================\n",
       "\"\"\""
      ]
     },
     "execution_count": 177,
     "metadata": {},
     "output_type": "execute_result"
    }
   ],
   "source": [
    "gam_bs = GLMGam.from_formula('nclaims ~ 1', \n",
    "                             data=train, \n",
    "                             smoother=bs, \n",
    "                             family=sm.families.Poisson(sm.families.links.log()),\n",
    "                             offset = np.log(train.expo)).fit();\n",
    "gam_bs.summary()"
   ]
  },
  {
   "cell_type": "code",
   "execution_count": 178,
   "metadata": {},
   "outputs": [
    {
     "data": {
      "text/plain": [
       "153372    0.166440\n",
       "144123    0.288133\n",
       "70929     0.137357\n",
       "6673      0.141733\n",
       "151603    0.141414\n",
       "            ...   \n",
       "68863     0.125252\n",
       "25199     0.122734\n",
       "155674    0.145292\n",
       "91343     0.009728\n",
       "75848     0.053720\n",
       "Length: 122423, dtype: float64"
      ]
     },
     "execution_count": 178,
     "metadata": {},
     "output_type": "execute_result"
    }
   ],
   "source": [
    "gam_bs.fittedvalues"
   ]
  },
  {
   "cell_type": "code",
   "execution_count": 179,
   "metadata": {},
   "outputs": [
    {
     "data": {
      "text/plain": [
       "0         0.166440\n",
       "1         0.288133\n",
       "2         0.137357\n",
       "3         0.141733\n",
       "4         0.141414\n",
       "            ...   \n",
       "122418    0.125252\n",
       "122419    0.135751\n",
       "122420    0.145292\n",
       "122421    0.098634\n",
       "122422    0.129854\n",
       "Length: 122423, dtype: float64"
      ]
     },
     "execution_count": 179,
     "metadata": {},
     "output_type": "execute_result"
    }
   ],
   "source": [
    "gam_bs.predict(exog = pd.DataFrame(np.ones(train.shape[0])),  exog_smooth = np.array(train['ageph']))"
   ]
  },
  {
   "cell_type": "code",
   "execution_count": 180,
   "metadata": {},
   "outputs": [],
   "source": [
    "age = tf.cast(np.array(range(18,96)), tf.float32)\n",
    "nn_pred = nn_freq_ageph.predict(age)"
   ]
  },
  {
   "cell_type": "code",
   "execution_count": 181,
   "metadata": {},
   "outputs": [],
   "source": [
    "df = pd.DataFrame({'ageph':np.array(range(18,96)),\n",
    "                  'inter':np.ones(len(list(range(18,96))), dtype = int)})\n",
    "gam_pred = gam_bs.predict(exog = pd.DataFrame(np.ones(df.shape[0])),  exog_smooth = np.array(df['ageph']))"
   ]
  },
  {
   "cell_type": "code",
   "execution_count": 182,
   "metadata": {},
   "outputs": [
    {
     "data": {
      "image/png": "[encoded data removed]",
      "text/plain": [
       "<Figure size 432x288 with 1 Axes>"
      ]
     },
     "metadata": {
      "needs_background": "light"
     },
     "output_type": "display_data"
    }
   ],
   "source": [
    "x = np.array(range(18,96))\n",
    "plt.plot(x, gam_pred, label = \"GAM\")\n",
    "plt.plot(x, nn_pred, label = \"NN\")\n",
    "plt.xlabel('age')\n",
    "plt.ylabel('fitted_effect')\n",
    "plt.legend()\n",
    "plt.show()"
   ]
  },
  {
   "cell_type": "markdown",
   "metadata": {},
   "source": [
    "### Adding a skip connection in a neural network"
   ]
  },
  {
   "cell_type": "markdown",
   "metadata": {},
   "source": [
    "A skip connection allows us to guide the neural net in the right direction and to model adjustments on top of the base predictions, for example obtained via a GLM or GAM. In the actuarial lingo this is called a Combined Actuarial Neural Network (CANN). We are now using Tensorflow Functional API instead of Sequential API."
   ]
  },
  {
   "cell_type": "code",
   "execution_count": 242,
   "metadata": {},
   "outputs": [],
   "source": [
    "input_skip = tf.keras.layers.Input(shape = (1,), name = 'skip')\n",
    "input_nn = tf.keras.layers.Input(shape = (1,), name = 'nn')\n",
    "norm_nn = tf.keras.layers.BatchNormalization()(input_nn)\n",
    "dense_1 = tf.keras.layers.Dense(units = 5, activation = 'tanh')(norm_nn)\n",
    "network = tf.keras.layers.Dense(units = 1, activation = 'linear')(dense_1)"
   ]
  },
  {
   "cell_type": "code",
   "execution_count": 243,
   "metadata": {},
   "outputs": [],
   "source": [
    "interm = tf.keras.layers.Add()([network, input_skip])"
   ]
  },
  {
   "cell_type": "code",
   "execution_count": 244,
   "metadata": {},
   "outputs": [],
   "source": [
    "output = tf.keras.layers.Dense(units = 1, \n",
    "                               activation = 'exponential', \n",
    "                               trainable = True, \n",
    "                               name = 'output',\n",
    "                              )(interm)"
   ]
  },
  {
   "cell_type": "code",
   "execution_count": 245,
   "metadata": {},
   "outputs": [],
   "source": [
    "cann = tf.keras.models.Model(inputs = [input_nn, input_skip], outputs = output)"
   ]
  },
  {
   "cell_type": "code",
   "execution_count": 246,
   "metadata": {},
   "outputs": [],
   "source": [
    "cann.compile(optimizer = 'RMSprop', loss = 'poisson')"
   ]
  },
  {
   "cell_type": "code",
   "execution_count": 247,
   "metadata": {},
   "outputs": [
    {
     "data": {
      "text/plain": [
       "0.34660200830959664"
      ]
     },
     "execution_count": 247,
     "metadata": {},
     "output_type": "execute_result"
    }
   ],
   "source": [
    "np.max(gam_bs.predict())"
   ]
  },
  {
   "cell_type": "code",
   "execution_count": 248,
   "metadata": {},
   "outputs": [
    {
     "data": {
      "text/plain": [
       "153372   -1.793120\n",
       "144123   -1.244332\n",
       "70929    -1.985173\n",
       "6673     -1.953810\n",
       "151603   -1.956066\n",
       "            ...   \n",
       "68863    -2.077426\n",
       "25199    -2.198542\n",
       "155674   -1.929009\n",
       "91343    -6.949095\n",
       "75848    -3.806580\n",
       "Name: expo, Length: 122423, dtype: float64"
      ]
     },
     "execution_count": 248,
     "metadata": {},
     "output_type": "execute_result"
    }
   ],
   "source": [
    "gam_expo = np.log(gam_bs.predict()) + np.log(train['expo']); gam_expo"
   ]
  },
  {
   "cell_type": "code",
   "execution_count": 249,
   "metadata": {},
   "outputs": [],
   "source": [
    "cann_input = [np.array(train['ageph']), np.array(gam_expo)]"
   ]
  },
  {
   "cell_type": "code",
   "execution_count": 250,
   "metadata": {},
   "outputs": [
    {
     "name": "stdout",
     "output_type": "stream",
     "text": [
      "Train on 122423 samples\n",
      "Epoch 1/20\n",
      "122423/122423 [==============================] - 1s 6us/sample - loss: 0.4217\n",
      "Epoch 2/20\n",
      "122423/122423 [==============================] - 0s 1us/sample - loss: 0.3969\n",
      "Epoch 3/20\n",
      "122423/122423 [==============================] - 0s 1us/sample - loss: 0.3948\n",
      "Epoch 4/20\n",
      "122423/122423 [==============================] - 0s 1us/sample - loss: 0.3930\n",
      "Epoch 5/20\n",
      "122423/122423 [==============================] - 0s 1us/sample - loss: 0.3913\n",
      "Epoch 6/20\n",
      "122423/122423 [==============================] - 0s 1us/sample - loss: 0.3898\n",
      "Epoch 7/20\n",
      "122423/122423 [==============================] - 0s 1us/sample - loss: 0.3884\n",
      "Epoch 8/20\n",
      "122423/122423 [==============================] - 0s 1us/sample - loss: 0.3872\n",
      "Epoch 9/20\n",
      "122423/122423 [==============================] - 0s 1us/sample - loss: 0.3861\n",
      "Epoch 10/20\n",
      "122423/122423 [==============================] - 0s 1us/sample - loss: 0.3852\n",
      "Epoch 11/20\n",
      "122423/122423 [==============================] - 0s 1us/sample - loss: 0.3844\n",
      "Epoch 12/20\n",
      "122423/122423 [==============================] - 0s 1us/sample - loss: 0.3835\n",
      "Epoch 13/20\n",
      "122423/122423 [==============================] - ETA: 0s - loss: 0.383 - 0s 1us/sample - loss: 0.3828\n",
      "Epoch 14/20\n",
      "122423/122423 [==============================] - 0s 1us/sample - loss: 0.3822\n",
      "Epoch 15/20\n",
      "122423/122423 [==============================] - 0s 1us/sample - loss: 0.3817\n",
      "Epoch 16/20\n",
      "122423/122423 [==============================] - 0s 1us/sample - loss: 0.3812\n",
      "Epoch 17/20\n",
      "122423/122423 [==============================] - 0s 1us/sample - loss: 0.3808\n",
      "Epoch 18/20\n",
      "122423/122423 [==============================] - 0s 1us/sample - loss: 0.3804\n",
      "Epoch 19/20\n",
      "122423/122423 [==============================] - 0s 1us/sample - loss: 0.3801\n",
      "Epoch 20/20\n",
      "122423/122423 [==============================] - 0s 1us/sample - loss: 0.3798\n"
     ]
    },
    {
     "data": {
      "text/plain": [
       "<tensorflow.python.keras.callbacks.History at 0x2513dba4bc8>"
      ]
     },
     "execution_count": 250,
     "metadata": {},
     "output_type": "execute_result"
    }
   ],
   "source": [
    "cann.fit(cann_input,\n",
    "         counts,\n",
    "         epochs = 20,\n",
    "         batch_size = 1024,\n",
    "         validation_split = 0,\n",
    "         verbose = 1)"
   ]
  },
  {
   "cell_type": "code",
   "execution_count": 251,
   "metadata": {},
   "outputs": [
    {
     "data": {
      "text/html": [
       "<div>\n",
       "<style scoped>\n",
       "    .dataframe tbody tr th:only-of-type {\n",
       "        vertical-align: middle;\n",
       "    }\n",
       "\n",
       "    .dataframe tbody tr th {\n",
       "        vertical-align: top;\n",
       "    }\n",
       "\n",
       "    .dataframe thead th {\n",
       "        text-align: right;\n",
       "    }\n",
       "</style>\n",
       "<table border=\"1\" class=\"dataframe\">\n",
       "  <thead>\n",
       "    <tr style=\"text-align: right;\">\n",
       "      <th></th>\n",
       "      <th>ageph</th>\n",
       "      <th>skip</th>\n",
       "    </tr>\n",
       "  </thead>\n",
       "  <tbody>\n",
       "    <tr>\n",
       "      <th>0</th>\n",
       "      <td>18</td>\n",
       "      <td>0.0</td>\n",
       "    </tr>\n",
       "    <tr>\n",
       "      <th>1</th>\n",
       "      <td>19</td>\n",
       "      <td>0.0</td>\n",
       "    </tr>\n",
       "    <tr>\n",
       "      <th>2</th>\n",
       "      <td>20</td>\n",
       "      <td>0.0</td>\n",
       "    </tr>\n",
       "    <tr>\n",
       "      <th>3</th>\n",
       "      <td>21</td>\n",
       "      <td>0.0</td>\n",
       "    </tr>\n",
       "    <tr>\n",
       "      <th>4</th>\n",
       "      <td>22</td>\n",
       "      <td>0.0</td>\n",
       "    </tr>\n",
       "  </tbody>\n",
       "</table>\n",
       "</div>"
      ],
      "text/plain": [
       "   ageph  skip\n",
       "0     18   0.0\n",
       "1     19   0.0\n",
       "2     20   0.0\n",
       "3     21   0.0\n",
       "4     22   0.0"
      ]
     },
     "execution_count": 251,
     "metadata": {},
     "output_type": "execute_result"
    }
   ],
   "source": [
    "# test output\n",
    "df = pd.DataFrame({'ageph':np.array(range(18,96)),\n",
    "                   'skip':np.zeros(len(range(18,96)))}); df.head()"
   ]
  },
  {
   "cell_type": "code",
   "execution_count": 252,
   "metadata": {},
   "outputs": [
    {
     "data": {
      "text/html": [
       "<div>\n",
       "<style scoped>\n",
       "    .dataframe tbody tr th:only-of-type {\n",
       "        vertical-align: middle;\n",
       "    }\n",
       "\n",
       "    .dataframe tbody tr th {\n",
       "        vertical-align: top;\n",
       "    }\n",
       "\n",
       "    .dataframe thead th {\n",
       "        text-align: right;\n",
       "    }\n",
       "</style>\n",
       "<table border=\"1\" class=\"dataframe\">\n",
       "  <thead>\n",
       "    <tr style=\"text-align: right;\">\n",
       "      <th></th>\n",
       "      <th>ageph</th>\n",
       "      <th>skip</th>\n",
       "      <th>cann_pred</th>\n",
       "    </tr>\n",
       "  </thead>\n",
       "  <tbody>\n",
       "    <tr>\n",
       "      <th>0</th>\n",
       "      <td>18</td>\n",
       "      <td>0.0</td>\n",
       "      <td>0.517595</td>\n",
       "    </tr>\n",
       "    <tr>\n",
       "      <th>1</th>\n",
       "      <td>19</td>\n",
       "      <td>0.0</td>\n",
       "      <td>0.512163</td>\n",
       "    </tr>\n",
       "    <tr>\n",
       "      <th>2</th>\n",
       "      <td>20</td>\n",
       "      <td>0.0</td>\n",
       "      <td>0.506744</td>\n",
       "    </tr>\n",
       "    <tr>\n",
       "      <th>3</th>\n",
       "      <td>21</td>\n",
       "      <td>0.0</td>\n",
       "      <td>0.501343</td>\n",
       "    </tr>\n",
       "    <tr>\n",
       "      <th>4</th>\n",
       "      <td>22</td>\n",
       "      <td>0.0</td>\n",
       "      <td>0.495967</td>\n",
       "    </tr>\n",
       "  </tbody>\n",
       "</table>\n",
       "</div>"
      ],
      "text/plain": [
       "   ageph  skip  cann_pred\n",
       "0     18   0.0   0.517595\n",
       "1     19   0.0   0.512163\n",
       "2     20   0.0   0.506744\n",
       "3     21   0.0   0.501343\n",
       "4     22   0.0   0.495967"
      ]
     },
     "execution_count": 252,
     "metadata": {},
     "output_type": "execute_result"
    }
   ],
   "source": [
    "df['cann_pred'] = cann.predict([tf.cast(df.ageph, dtype=tf.float32),tf.cast(df.skip, dtype=tf.float32)]); df.head(5)"
   ]
  },
  {
   "cell_type": "code",
   "execution_count": 253,
   "metadata": {},
   "outputs": [
    {
     "data": {
      "image/png": "[encoded data removed]",
      "text/plain": [
       "<Figure size 432x288 with 1 Axes>"
      ]
     },
     "metadata": {
      "needs_background": "light"
     },
     "output_type": "display_data"
    }
   ],
   "source": [
    "x = df['ageph']\n",
    "plt.plot(x, df['cann_pred'], label = \"GAM\")\n",
    "plt.plot(x, df['cann_pred'], label = \"NN\")\n",
    "plt.xlabel('age')\n",
    "plt.ylabel('fitted_effect')\n",
    "plt.legend()\n",
    "plt.show()"
   ]
  },
  {
   "cell_type": "code",
   "execution_count": 258,
   "metadata": {},
   "outputs": [],
   "source": [
    "a = gam_bs.predict(exog = pd.DataFrame(np.array(range(18,96))),  exog_smooth = np.array(range(18,96)))"
   ]
  },
  {
   "cell_type": "code",
   "execution_count": 259,
   "metadata": {},
   "outputs": [
    {
     "data": {
      "text/html": [
       "<div>\n",
       "<style scoped>\n",
       "    .dataframe tbody tr th:only-of-type {\n",
       "        vertical-align: middle;\n",
       "    }\n",
       "\n",
       "    .dataframe tbody tr th {\n",
       "        vertical-align: top;\n",
       "    }\n",
       "\n",
       "    .dataframe thead th {\n",
       "        text-align: right;\n",
       "    }\n",
       "</style>\n",
       "<table border=\"1\" class=\"dataframe\">\n",
       "  <thead>\n",
       "    <tr style=\"text-align: right;\">\n",
       "      <th></th>\n",
       "      <th>ageph</th>\n",
       "      <th>skip</th>\n",
       "    </tr>\n",
       "  </thead>\n",
       "  <tbody>\n",
       "    <tr>\n",
       "      <th>0</th>\n",
       "      <td>18</td>\n",
       "      <td>-1.059578</td>\n",
       "    </tr>\n",
       "    <tr>\n",
       "      <th>1</th>\n",
       "      <td>19</td>\n",
       "      <td>-1.120147</td>\n",
       "    </tr>\n",
       "    <tr>\n",
       "      <th>2</th>\n",
       "      <td>20</td>\n",
       "      <td>-1.181903</td>\n",
       "    </tr>\n",
       "    <tr>\n",
       "      <th>3</th>\n",
       "      <td>21</td>\n",
       "      <td>-1.244332</td>\n",
       "    </tr>\n",
       "    <tr>\n",
       "      <th>4</th>\n",
       "      <td>22</td>\n",
       "      <td>-1.306924</td>\n",
       "    </tr>\n",
       "  </tbody>\n",
       "</table>\n",
       "</div>"
      ],
      "text/plain": [
       "   ageph      skip\n",
       "0     18 -1.059578\n",
       "1     19 -1.120147\n",
       "2     20 -1.181903\n",
       "3     21 -1.244332\n",
       "4     22 -1.306924"
      ]
     },
     "execution_count": 259,
     "metadata": {},
     "output_type": "execute_result"
    }
   ],
   "source": [
    "# test output\n",
    "df = pd.DataFrame({'ageph':np.array(range(18,96)),\n",
    "                   'skip':np.log(a)}); df.head()"
   ]
  },
  {
   "cell_type": "code",
   "execution_count": 260,
   "metadata": {},
   "outputs": [
    {
     "data": {
      "text/html": [
       "<div>\n",
       "<style scoped>\n",
       "    .dataframe tbody tr th:only-of-type {\n",
       "        vertical-align: middle;\n",
       "    }\n",
       "\n",
       "    .dataframe tbody tr th {\n",
       "        vertical-align: top;\n",
       "    }\n",
       "\n",
       "    .dataframe thead th {\n",
       "        text-align: right;\n",
       "    }\n",
       "</style>\n",
       "<table border=\"1\" class=\"dataframe\">\n",
       "  <thead>\n",
       "    <tr style=\"text-align: right;\">\n",
       "      <th></th>\n",
       "      <th>ageph</th>\n",
       "      <th>skip</th>\n",
       "      <th>cann_pred</th>\n",
       "    </tr>\n",
       "  </thead>\n",
       "  <tbody>\n",
       "    <tr>\n",
       "      <th>0</th>\n",
       "      <td>18</td>\n",
       "      <td>-1.059578</td>\n",
       "      <td>0.293769</td>\n",
       "    </tr>\n",
       "    <tr>\n",
       "      <th>1</th>\n",
       "      <td>19</td>\n",
       "      <td>-1.120147</td>\n",
       "      <td>0.281426</td>\n",
       "    </tr>\n",
       "    <tr>\n",
       "      <th>2</th>\n",
       "      <td>20</td>\n",
       "      <td>-1.181903</td>\n",
       "      <td>0.269406</td>\n",
       "    </tr>\n",
       "    <tr>\n",
       "      <th>3</th>\n",
       "      <td>21</td>\n",
       "      <td>-1.244332</td>\n",
       "      <td>0.257787</td>\n",
       "    </tr>\n",
       "    <tr>\n",
       "      <th>4</th>\n",
       "      <td>22</td>\n",
       "      <td>-1.306924</td>\n",
       "      <td>0.246631</td>\n",
       "    </tr>\n",
       "  </tbody>\n",
       "</table>\n",
       "</div>"
      ],
      "text/plain": [
       "   ageph      skip  cann_pred\n",
       "0     18 -1.059578   0.293769\n",
       "1     19 -1.120147   0.281426\n",
       "2     20 -1.181903   0.269406\n",
       "3     21 -1.244332   0.257787\n",
       "4     22 -1.306924   0.246631"
      ]
     },
     "execution_count": 260,
     "metadata": {},
     "output_type": "execute_result"
    }
   ],
   "source": [
    "df['cann_pred'] = cann.predict([tf.cast(df.ageph, dtype=tf.float32),tf.cast(df.skip, dtype=tf.float32)]); df.head(5)"
   ]
  },
  {
   "cell_type": "code",
   "execution_count": 263,
   "metadata": {},
   "outputs": [
    {
     "data": {
      "image/png": "[encoded data removed]",
      "text/plain": [
       "<Figure size 432x288 with 1 Axes>"
      ]
     },
     "metadata": {
      "needs_background": "light"
     },
     "output_type": "display_data"
    }
   ],
   "source": [
    "x = df['ageph']\n",
    "plt.plot(x, np.exp(df['skip']), label = \"GAM\")\n",
    "plt.plot(x, df['cann_pred'], label = \"NN\")\n",
    "plt.xlabel('age')\n",
    "plt.ylabel('fitted_effect')\n",
    "plt.legend()\n",
    "plt.show()"
   ]
  },
  {
   "cell_type": "code",
   "execution_count": null,
   "metadata": {},
   "outputs": [],
   "source": []
  }
 ],
 "metadata": {
  "kernelspec": {
   "display_name": "Python 3",
   "language": "python",
   "name": "python3"
  },
  "language_info": {
   "codemirror_mode": {
    "name": "ipython",
    "version": 3
   },
   "file_extension": ".py",
   "mimetype": "text/x-python",
   "name": "python",
   "nbconvert_exporter": "python",
   "pygments_lexer": "ipython3",
   "version": "3.7.6"
  }
 },
 "nbformat": 4,
 "nbformat_minor": 4
}
