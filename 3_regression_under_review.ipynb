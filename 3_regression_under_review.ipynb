{
 "cells": [
  {
   "cell_type": "markdown",
   "metadata": {},
   "source": [
    "# Claim frequency and severity regression"
   ]
  },
  {
   "cell_type": "markdown",
   "metadata": {},
   "source": [
    "We will now predict claim frequency and severity in the MTPL data with a neural network."
   ]
  },
  {
   "cell_type": "code",
   "execution_count": 384,
   "metadata": {},
   "outputs": [],
   "source": [
    "# load libs\n",
    "from IPython.display import display, Math, Latex\n",
    "import tensorflow as tf\n",
    "import statsmodels.api as sm\n",
    "from sklearn.model_selection import train_test_split\n",
    "import numpy as np\n",
    "import pandas as pd\n",
    "import os\n",
    "import matplotlib.pyplot as plt"
   ]
  },
  {
   "cell_type": "code",
   "execution_count": 385,
   "metadata": {},
   "outputs": [],
   "source": [
    "# load data using separator to correctly parse from .txt\n",
    "df = pd.read_csv(os.path.join(os.getcwd(),\"data\\PC_data.txt\"),  sep=r\"\\s+\")"
   ]
  },
  {
   "cell_type": "code",
   "execution_count": 386,
   "metadata": {},
   "outputs": [],
   "source": [
    "# column names to smaller case\n",
    "df.columns = map(str.lower, df.columns)"
   ]
  },
  {
   "cell_type": "code",
   "execution_count": 387,
   "metadata": {},
   "outputs": [
    {
     "data": {
      "text/html": [
       "<div>\n",
       "<style scoped>\n",
       "    .dataframe tbody tr th:only-of-type {\n",
       "        vertical-align: middle;\n",
       "    }\n",
       "\n",
       "    .dataframe tbody tr th {\n",
       "        vertical-align: top;\n",
       "    }\n",
       "\n",
       "    .dataframe thead th {\n",
       "        text-align: right;\n",
       "    }\n",
       "</style>\n",
       "<table border=\"1\" class=\"dataframe\">\n",
       "  <thead>\n",
       "    <tr style=\"text-align: right;\">\n",
       "      <th></th>\n",
       "      <th>id</th>\n",
       "      <th>nclaims</th>\n",
       "      <th>amount</th>\n",
       "      <th>avg</th>\n",
       "      <th>expo</th>\n",
       "      <th>coverage</th>\n",
       "      <th>fuel</th>\n",
       "      <th>use</th>\n",
       "      <th>fleet</th>\n",
       "      <th>sex</th>\n",
       "      <th>ageph</th>\n",
       "      <th>bm</th>\n",
       "      <th>agec</th>\n",
       "      <th>power</th>\n",
       "      <th>pc</th>\n",
       "      <th>town</th>\n",
       "      <th>long</th>\n",
       "      <th>lat</th>\n",
       "    </tr>\n",
       "  </thead>\n",
       "  <tbody>\n",
       "    <tr>\n",
       "      <th>0</th>\n",
       "      <td>1</td>\n",
       "      <td>1</td>\n",
       "      <td>1618.001036</td>\n",
       "      <td>1618.001036</td>\n",
       "      <td>1.000000</td>\n",
       "      <td>TPL</td>\n",
       "      <td>gasoline</td>\n",
       "      <td>private</td>\n",
       "      <td>N</td>\n",
       "      <td>male</td>\n",
       "      <td>50</td>\n",
       "      <td>5</td>\n",
       "      <td>12</td>\n",
       "      <td>77</td>\n",
       "      <td>1000</td>\n",
       "      <td>BRUSSEL</td>\n",
       "      <td>4.355223</td>\n",
       "      <td>50.845386</td>\n",
       "    </tr>\n",
       "    <tr>\n",
       "      <th>1</th>\n",
       "      <td>2</td>\n",
       "      <td>0</td>\n",
       "      <td>0.000000</td>\n",
       "      <td>NaN</td>\n",
       "      <td>1.000000</td>\n",
       "      <td>PO</td>\n",
       "      <td>gasoline</td>\n",
       "      <td>private</td>\n",
       "      <td>N</td>\n",
       "      <td>female</td>\n",
       "      <td>64</td>\n",
       "      <td>5</td>\n",
       "      <td>3</td>\n",
       "      <td>66</td>\n",
       "      <td>1000</td>\n",
       "      <td>BRUSSEL</td>\n",
       "      <td>4.355223</td>\n",
       "      <td>50.845386</td>\n",
       "    </tr>\n",
       "    <tr>\n",
       "      <th>2</th>\n",
       "      <td>3</td>\n",
       "      <td>0</td>\n",
       "      <td>0.000000</td>\n",
       "      <td>NaN</td>\n",
       "      <td>1.000000</td>\n",
       "      <td>TPL</td>\n",
       "      <td>diesel</td>\n",
       "      <td>private</td>\n",
       "      <td>N</td>\n",
       "      <td>male</td>\n",
       "      <td>60</td>\n",
       "      <td>0</td>\n",
       "      <td>10</td>\n",
       "      <td>70</td>\n",
       "      <td>1000</td>\n",
       "      <td>BRUSSEL</td>\n",
       "      <td>4.355223</td>\n",
       "      <td>50.845386</td>\n",
       "    </tr>\n",
       "    <tr>\n",
       "      <th>3</th>\n",
       "      <td>4</td>\n",
       "      <td>0</td>\n",
       "      <td>0.000000</td>\n",
       "      <td>NaN</td>\n",
       "      <td>1.000000</td>\n",
       "      <td>TPL</td>\n",
       "      <td>gasoline</td>\n",
       "      <td>private</td>\n",
       "      <td>N</td>\n",
       "      <td>male</td>\n",
       "      <td>77</td>\n",
       "      <td>0</td>\n",
       "      <td>15</td>\n",
       "      <td>57</td>\n",
       "      <td>1000</td>\n",
       "      <td>BRUSSEL</td>\n",
       "      <td>4.355223</td>\n",
       "      <td>50.845386</td>\n",
       "    </tr>\n",
       "    <tr>\n",
       "      <th>4</th>\n",
       "      <td>5</td>\n",
       "      <td>1</td>\n",
       "      <td>155.974606</td>\n",
       "      <td>155.974606</td>\n",
       "      <td>0.046575</td>\n",
       "      <td>TPL</td>\n",
       "      <td>gasoline</td>\n",
       "      <td>private</td>\n",
       "      <td>N</td>\n",
       "      <td>female</td>\n",
       "      <td>28</td>\n",
       "      <td>9</td>\n",
       "      <td>7</td>\n",
       "      <td>70</td>\n",
       "      <td>1000</td>\n",
       "      <td>BRUSSEL</td>\n",
       "      <td>4.355223</td>\n",
       "      <td>50.845386</td>\n",
       "    </tr>\n",
       "  </tbody>\n",
       "</table>\n",
       "</div>"
      ],
      "text/plain": [
       "   id  nclaims       amount          avg      expo coverage      fuel  \\\n",
       "0   1        1  1618.001036  1618.001036  1.000000      TPL  gasoline   \n",
       "1   2        0     0.000000          NaN  1.000000       PO  gasoline   \n",
       "2   3        0     0.000000          NaN  1.000000      TPL    diesel   \n",
       "3   4        0     0.000000          NaN  1.000000      TPL  gasoline   \n",
       "4   5        1   155.974606   155.974606  0.046575      TPL  gasoline   \n",
       "\n",
       "       use fleet     sex  ageph  bm  agec  power    pc     town      long  \\\n",
       "0  private     N    male     50   5    12     77  1000  BRUSSEL  4.355223   \n",
       "1  private     N  female     64   5     3     66  1000  BRUSSEL  4.355223   \n",
       "2  private     N    male     60   0    10     70  1000  BRUSSEL  4.355223   \n",
       "3  private     N    male     77   0    15     57  1000  BRUSSEL  4.355223   \n",
       "4  private     N  female     28   9     7     70  1000  BRUSSEL  4.355223   \n",
       "\n",
       "         lat  \n",
       "0  50.845386  \n",
       "1  50.845386  \n",
       "2  50.845386  \n",
       "3  50.845386  \n",
       "4  50.845386  "
      ]
     },
     "execution_count": 387,
     "metadata": {},
     "output_type": "execute_result"
    }
   ],
   "source": [
    "# rename exp to expo\n",
    "df.rename(columns={'exp':'expo'}, inplace = True); df.head()"
   ]
  },
  {
   "cell_type": "code",
   "execution_count": 388,
   "metadata": {},
   "outputs": [
    {
     "name": "stdout",
     "output_type": "stream",
     "text": [
      "train size:(122423, 18), test size:(40808, 18)\n"
     ]
    }
   ],
   "source": [
    "# train/test split using sklearn\n",
    "train, test = train_test_split(df, test_size=0.25); print(f'train size:{train.shape}, test size:{test.shape}')"
   ]
  },
  {
   "cell_type": "code",
   "execution_count": 389,
   "metadata": {},
   "outputs": [
    {
     "name": "stdout",
     "output_type": "stream",
     "text": [
      "train size:(122423, 18)\n"
     ]
    }
   ],
   "source": [
    "# Reshuffling of the training observations\n",
    "train = train.sample(frac = 1); print(f'train size:{train.shape}')"
   ]
  },
  {
   "cell_type": "markdown",
   "metadata": {},
   "source": [
    "Let's start with a model with only an intercept:"
   ]
  },
  {
   "cell_type": "code",
   "execution_count": 390,
   "metadata": {},
   "outputs": [],
   "source": [
    "# initialize NN\n",
    "nn_freq_intercept = tf.keras.models.Sequential()"
   ]
  },
  {
   "cell_type": "code",
   "execution_count": 391,
   "metadata": {},
   "outputs": [],
   "source": [
    "# add fully connected layer using exponential actiavation function\n",
    "nn_freq_intercept.add(tf.keras.layers.Dense(units = 1, activation = 'exponential', input_shape = (1,), use_bias = False))"
   ]
  },
  {
   "cell_type": "code",
   "execution_count": 392,
   "metadata": {},
   "outputs": [],
   "source": [
    "# choince of the optimizer and loglikelihood to maximize\n",
    "nn_freq_intercept.compile(optimizer = 'RMSprop', loss = 'poisson')"
   ]
  },
  {
   "cell_type": "code",
   "execution_count": 393,
   "metadata": {},
   "outputs": [
    {
     "data": {
      "text/plain": [
       "1"
      ]
     },
     "execution_count": 393,
     "metadata": {},
     "output_type": "execute_result"
    }
   ],
   "source": [
    "# Q: how many parameters does this model have?\n",
    "nn_freq_intercept.count_params()"
   ]
  },
  {
   "cell_type": "code",
   "execution_count": 394,
   "metadata": {},
   "outputs": [
    {
     "name": "stdout",
     "output_type": "stream",
     "text": [
      "Model: \"sequential_31\"\n",
      "_________________________________________________________________\n",
      "Layer (type)                 Output Shape              Param #   \n",
      "=================================================================\n",
      "dense_31 (Dense)             (None, 1)                 1         \n",
      "=================================================================\n",
      "Total params: 1\n",
      "Trainable params: 1\n",
      "Non-trainable params: 0\n",
      "_________________________________________________________________\n"
     ]
    }
   ],
   "source": [
    "# summary of the structure of the neural netweork\n",
    "nn_freq_intercept.summary()"
   ]
  },
  {
   "cell_type": "code",
   "execution_count": 395,
   "metadata": {},
   "outputs": [
    {
     "name": "stdout",
     "output_type": "stream",
     "text": [
      "size of intercept vector: 122423, size of counts vector: 122423\n"
     ]
    }
   ],
   "source": [
    "# create vectors for the input and output\n",
    "intercept = np.ones(train.shape[0])\n",
    "counts = np.array(train['nclaims'])\n",
    "print(f'size of intercept vector: {intercept.shape[0]}, size of counts vector: {counts.shape[0]}')"
   ]
  },
  {
   "cell_type": "code",
   "execution_count": 396,
   "metadata": {},
   "outputs": [
    {
     "data": {
      "text/plain": [
       "<tensorflow.python.keras.callbacks.History at 0x2512b5c05c8>"
      ]
     },
     "execution_count": 396,
     "metadata": {},
     "output_type": "execute_result"
    }
   ],
   "source": [
    "# fit the neural netword\n",
    "nn_freq_intercept.fit(intercept,\n",
    "                      counts,\n",
    "                      epochs = 30,\n",
    "                      batch_size = 1024,\n",
    "                      validation_split = 0,\n",
    "                      verbose = 0)"
   ]
  },
  {
   "cell_type": "markdown",
   "metadata": {},
   "source": [
    "We compare the results of our neural network with the same model specified as a GLM:"
   ]
  },
  {
   "cell_type": "code",
   "execution_count": 397,
   "metadata": {},
   "outputs": [
    {
     "data": {
      "text/html": [
       "<table class=\"simpletable\">\n",
       "<caption>Generalized Linear Model Regression Results</caption>\n",
       "<tr>\n",
       "  <th>Dep. Variable:</th>        <td>nclaims</td>     <th>  No. Observations:  </th>  <td>122423</td> \n",
       "</tr>\n",
       "<tr>\n",
       "  <th>Model:</th>                  <td>GLM</td>       <th>  Df Residuals:      </th>  <td>122422</td> \n",
       "</tr>\n",
       "<tr>\n",
       "  <th>Model Family:</th>         <td>Poisson</td>     <th>  Df Model:          </th>  <td>     0</td> \n",
       "</tr>\n",
       "<tr>\n",
       "  <th>Link Function:</th>          <td>log</td>       <th>  Scale:             </th> <td>  1.0000</td>\n",
       "</tr>\n",
       "<tr>\n",
       "  <th>Method:</th>                <td>IRLS</td>       <th>  Log-Likelihood:    </th> <td> -48318.</td>\n",
       "</tr>\n",
       "<tr>\n",
       "  <th>Date:</th>            <td>Tue, 05 Oct 2021</td> <th>  Deviance:          </th> <td>  68044.</td>\n",
       "</tr>\n",
       "<tr>\n",
       "  <th>Time:</th>                <td>22:02:05</td>     <th>  Pearson chi2:      </th> <td>1.34e+05</td>\n",
       "</tr>\n",
       "<tr>\n",
       "  <th>No. Iterations:</th>          <td>6</td>        <th>                     </th>     <td> </td>   \n",
       "</tr>\n",
       "<tr>\n",
       "  <th>Covariance Type:</th>     <td>nonrobust</td>    <th>                     </th>     <td> </td>   \n",
       "</tr>\n",
       "</table>\n",
       "<table class=\"simpletable\">\n",
       "<tr>\n",
       "      <td></td>         <th>coef</th>     <th>std err</th>      <th>z</th>      <th>P>|z|</th>  <th>[0.025</th>    <th>0.975]</th>  \n",
       "</tr>\n",
       "<tr>\n",
       "  <th>Intercept</th> <td>   -2.0765</td> <td>    0.008</td> <td> -257.251</td> <td> 0.000</td> <td>   -2.092</td> <td>   -2.061</td>\n",
       "</tr>\n",
       "</table>"
      ],
      "text/plain": [
       "<class 'statsmodels.iolib.summary.Summary'>\n",
       "\"\"\"\n",
       "                 Generalized Linear Model Regression Results                  \n",
       "==============================================================================\n",
       "Dep. Variable:                nclaims   No. Observations:               122423\n",
       "Model:                            GLM   Df Residuals:                   122422\n",
       "Model Family:                 Poisson   Df Model:                            0\n",
       "Link Function:                    log   Scale:                          1.0000\n",
       "Method:                          IRLS   Log-Likelihood:                -48318.\n",
       "Date:                Tue, 05 Oct 2021   Deviance:                       68044.\n",
       "Time:                        22:02:05   Pearson chi2:                 1.34e+05\n",
       "No. Iterations:                     6                                         \n",
       "Covariance Type:            nonrobust                                         \n",
       "==============================================================================\n",
       "                 coef    std err          z      P>|z|      [0.025      0.975]\n",
       "------------------------------------------------------------------------------\n",
       "Intercept     -2.0765      0.008   -257.251      0.000      -2.092      -2.061\n",
       "==============================================================================\n",
       "\"\"\""
      ]
     },
     "execution_count": 397,
     "metadata": {},
     "output_type": "execute_result"
    }
   ],
   "source": [
    "glm_freq_intercept = sm.formula.glm(\"nclaims ~ 1\", data=train, family=sm.families.Poisson()).fit(); glm_freq_intercept.summary()"
   ]
  },
  {
   "cell_type": "code",
   "execution_count": 398,
   "metadata": {},
   "outputs": [
    {
     "name": "stdout",
     "output_type": "stream",
     "text": [
      "NN weights:-2.0731935501098633, \n",
      "GLM coefficients:-2.0764970885376215\n"
     ]
    }
   ],
   "source": [
    "# comparing the estimated parameter (difference reflects a different optimization technique)\n",
    "print(f'NN weights:{nn_freq_intercept.get_weights()[0][0][0]}, \\nGLM coefficients:{glm_freq_intercept.params[0]}')"
   ]
  },
  {
   "cell_type": "markdown",
   "metadata": {},
   "source": [
    "### Your Turn!"
   ]
  },
  {
   "cell_type": "code",
   "execution_count": 64,
   "metadata": {},
   "outputs": [],
   "source": [
    "# Q1: adapt this code to replicate a binomial GLM with a logit link function. Add accuracy as a metric in your model.\n",
    "exercize_nn = tf.keras.models.Sequential()\n",
    "exercize_nn.add(tf.keras.layers.Dense(units = 1, activation = 'sigmoid', input_shape = (1,), use_bias = False))\n",
    "exercize_nn.compile(optimizer = 'RMSprop', loss = 'binary_crossentropy', metrics = ['accuracy'])"
   ]
  },
  {
   "cell_type": "code",
   "execution_count": 65,
   "metadata": {},
   "outputs": [
    {
     "data": {
      "text/plain": [
       "<tensorflow.python.keras.callbacks.History at 0x2513cd93b08>"
      ]
     },
     "execution_count": 65,
     "metadata": {},
     "output_type": "execute_result"
    }
   ],
   "source": [
    "# Q2: fit your neural network\n",
    "exercize_nn.fit(intercept,\n",
    "                      counts > 0,\n",
    "                      epochs = 40,\n",
    "                      batch_size = 1024,\n",
    "                      validation_split = 0,\n",
    "                      verbose = 0)"
   ]
  },
  {
   "cell_type": "code",
   "execution_count": 68,
   "metadata": {},
   "outputs": [
    {
     "name": "stdout",
     "output_type": "stream",
     "text": [
      "NN weights:-2.063455104827881, \n",
      "GLM coefficients:-2.0671407011235106\n"
     ]
    }
   ],
   "source": [
    "# Q3: compare with GLM\n",
    "exercize_glm = sm.formula.glm(\"nclaims < 1 ~ 1\", # it must be fitted this way or 0/1 labels get switched\n",
    "                            data=train, \n",
    "                            family=sm.families.Binomial(sm.families.links.logit())).fit();\n",
    "    \n",
    "print(f'NN weights:{exercize_nn.get_weights()[0][0][0]}, \\nGLM coefficients:{exercize_glm.params[0]}')"
   ]
  },
  {
   "cell_type": "code",
   "execution_count": null,
   "metadata": {},
   "outputs": [],
   "source": [
    "exercize_glm.summary()"
   ]
  },
  {
   "cell_type": "code",
   "execution_count": 74,
   "metadata": {},
   "outputs": [
    {
     "data": {
      "text/plain": [
       "array([0.11233183, 0.11233183, 0.11233183, ..., 0.11233183, 0.11233183,\n",
       "       0.11233183])"
      ]
     },
     "execution_count": 74,
     "metadata": {},
     "output_type": "execute_result"
    }
   ],
   "source": [
    "exercize_glm.predict()"
   ]
  },
  {
   "cell_type": "code",
   "execution_count": 75,
   "metadata": {},
   "outputs": [
    {
     "data": {
      "text/plain": [
       "array([0.11233])"
      ]
     },
     "execution_count": 75,
     "metadata": {},
     "output_type": "execute_result"
    }
   ],
   "source": [
    "# Q3: compare prediction\n",
    "np.unique(np.round(exercize_glm.predict(),5)) # PERCHE' 1 - exercize_glm.predict()?"
   ]
  },
  {
   "cell_type": "code",
   "execution_count": 76,
   "metadata": {},
   "outputs": [
    {
     "data": {
      "text/plain": [
       "array([0.1127], dtype=float32)"
      ]
     },
     "execution_count": 76,
     "metadata": {},
     "output_type": "execute_result"
    }
   ],
   "source": [
    "np.unique(np.round(exercize_nn.predict(x = intercept),5))"
   ]
  },
  {
   "cell_type": "code",
   "execution_count": 78,
   "metadata": {},
   "outputs": [],
   "source": [
    "# END OF THE EXERCIZE"
   ]
  },
  {
   "cell_type": "markdown",
   "metadata": {},
   "source": [
    "### Taking exposure into account in a neural network"
   ]
  },
  {
   "cell_type": "markdown",
   "metadata": {},
   "source": [
    "Classical GLM including exposure:"
   ]
  },
  {
   "cell_type": "code",
   "execution_count": 81,
   "metadata": {},
   "outputs": [
    {
     "data": {
      "text/html": [
       "<table class=\"simpletable\">\n",
       "<caption>Generalized Linear Model Regression Results</caption>\n",
       "<tr>\n",
       "  <th>Dep. Variable:</th>        <td>nclaims</td>     <th>  No. Observations:  </th>  <td>122423</td> \n",
       "</tr>\n",
       "<tr>\n",
       "  <th>Model:</th>                  <td>GLM</td>       <th>  Df Residuals:      </th>  <td>122421</td> \n",
       "</tr>\n",
       "<tr>\n",
       "  <th>Model Family:</th>         <td>Poisson</td>     <th>  Df Model:          </th>  <td>     1</td> \n",
       "</tr>\n",
       "<tr>\n",
       "  <th>Link Function:</th>          <td>log</td>       <th>  Scale:             </th> <td>  1.0000</td>\n",
       "</tr>\n",
       "<tr>\n",
       "  <th>Method:</th>                <td>IRLS</td>       <th>  Log-Likelihood:    </th> <td> -47577.</td>\n",
       "</tr>\n",
       "<tr>\n",
       "  <th>Date:</th>            <td>Tue, 05 Oct 2021</td> <th>  Deviance:          </th> <td>  66792.</td>\n",
       "</tr>\n",
       "<tr>\n",
       "  <th>Time:</th>                <td>15:27:56</td>     <th>  Pearson chi2:      </th> <td>1.50e+05</td>\n",
       "</tr>\n",
       "<tr>\n",
       "  <th>No. Iterations:</th>          <td>6</td>        <th>                     </th>     <td> </td>   \n",
       "</tr>\n",
       "<tr>\n",
       "  <th>Covariance Type:</th>     <td>nonrobust</td>    <th>                     </th>     <td> </td>   \n",
       "</tr>\n",
       "</table>\n",
       "<table class=\"simpletable\">\n",
       "<tr>\n",
       "      <td></td>         <th>coef</th>     <th>std err</th>      <th>z</th>      <th>P>|z|</th>  <th>[0.025</th>    <th>0.975]</th>  \n",
       "</tr>\n",
       "<tr>\n",
       "  <th>Intercept</th> <td>   -1.2396</td> <td>    0.026</td> <td>  -46.864</td> <td> 0.000</td> <td>   -1.291</td> <td>   -1.188</td>\n",
       "</tr>\n",
       "<tr>\n",
       "  <th>ageph</th>     <td>   -0.0160</td> <td>    0.001</td> <td>  -27.930</td> <td> 0.000</td> <td>   -0.017</td> <td>   -0.015</td>\n",
       "</tr>\n",
       "</table>"
      ],
      "text/plain": [
       "<class 'statsmodels.iolib.summary.Summary'>\n",
       "\"\"\"\n",
       "                 Generalized Linear Model Regression Results                  \n",
       "==============================================================================\n",
       "Dep. Variable:                nclaims   No. Observations:               122423\n",
       "Model:                            GLM   Df Residuals:                   122421\n",
       "Model Family:                 Poisson   Df Model:                            1\n",
       "Link Function:                    log   Scale:                          1.0000\n",
       "Method:                          IRLS   Log-Likelihood:                -47577.\n",
       "Date:                Tue, 05 Oct 2021   Deviance:                       66792.\n",
       "Time:                        15:27:56   Pearson chi2:                 1.50e+05\n",
       "No. Iterations:                     6                                         \n",
       "Covariance Type:            nonrobust                                         \n",
       "==============================================================================\n",
       "                 coef    std err          z      P>|z|      [0.025      0.975]\n",
       "------------------------------------------------------------------------------\n",
       "Intercept     -1.2396      0.026    -46.864      0.000      -1.291      -1.188\n",
       "ageph         -0.0160      0.001    -27.930      0.000      -0.017      -0.015\n",
       "==============================================================================\n",
       "\"\"\""
      ]
     },
     "execution_count": 81,
     "metadata": {},
     "output_type": "execute_result"
    }
   ],
   "source": [
    "glm_offset = sm.formula.glm(\"nclaims ~ ageph\", \n",
    "                            data=train, \n",
    "                            offset = np.log(train.expo),\n",
    "                            family=sm.families.Poisson()).fit(); \n",
    "glm_offset.summary()"
   ]
  },
  {
   "cell_type": "code",
   "execution_count": 82,
   "metadata": {},
   "outputs": [
    {
     "data": {
      "text/plain": [
       "Intercept   -1.239626\n",
       "ageph       -0.015975\n",
       "dtype: float64"
      ]
     },
     "execution_count": 82,
     "metadata": {},
     "output_type": "execute_result"
    }
   ],
   "source": [
    "glm_offset.params"
   ]
  },
  {
   "cell_type": "markdown",
   "metadata": {},
   "source": [
    "Classical GLM including weights:"
   ]
  },
  {
   "cell_type": "code",
   "execution_count": 84,
   "metadata": {},
   "outputs": [
    {
     "data": {
      "text/html": [
       "<table class=\"simpletable\">\n",
       "<caption>Generalized Linear Model Regression Results</caption>\n",
       "<tr>\n",
       "  <th>Dep. Variable:</th>        <td>nclaims</td>     <th>  No. Observations:  </th>  <td>122423</td> \n",
       "</tr>\n",
       "<tr>\n",
       "  <th>Model:</th>                  <td>GLM</td>       <th>  Df Residuals:      </th>  <td>122421</td> \n",
       "</tr>\n",
       "<tr>\n",
       "  <th>Model Family:</th>         <td>Poisson</td>     <th>  Df Model:          </th>  <td>     1</td> \n",
       "</tr>\n",
       "<tr>\n",
       "  <th>Link Function:</th>          <td>log</td>       <th>  Scale:             </th> <td>  1.0000</td>\n",
       "</tr>\n",
       "<tr>\n",
       "  <th>Method:</th>                <td>IRLS</td>       <th>  Log-Likelihood:    </th> <td> -47577.</td>\n",
       "</tr>\n",
       "<tr>\n",
       "  <th>Date:</th>            <td>Tue, 05 Oct 2021</td> <th>  Deviance:          </th> <td>  66792.</td>\n",
       "</tr>\n",
       "<tr>\n",
       "  <th>Time:</th>                <td>15:30:07</td>     <th>  Pearson chi2:      </th> <td>1.50e+05</td>\n",
       "</tr>\n",
       "<tr>\n",
       "  <th>No. Iterations:</th>          <td>6</td>        <th>                     </th>     <td> </td>   \n",
       "</tr>\n",
       "<tr>\n",
       "  <th>Covariance Type:</th>     <td>nonrobust</td>    <th>                     </th>     <td> </td>   \n",
       "</tr>\n",
       "</table>\n",
       "<table class=\"simpletable\">\n",
       "<tr>\n",
       "      <td></td>         <th>coef</th>     <th>std err</th>      <th>z</th>      <th>P>|z|</th>  <th>[0.025</th>    <th>0.975]</th>  \n",
       "</tr>\n",
       "<tr>\n",
       "  <th>Intercept</th> <td>   -1.2396</td> <td>    0.026</td> <td>  -46.864</td> <td> 0.000</td> <td>   -1.291</td> <td>   -1.188</td>\n",
       "</tr>\n",
       "<tr>\n",
       "  <th>ageph</th>     <td>   -0.0160</td> <td>    0.001</td> <td>  -27.930</td> <td> 0.000</td> <td>   -0.017</td> <td>   -0.015</td>\n",
       "</tr>\n",
       "</table>"
      ],
      "text/plain": [
       "<class 'statsmodels.iolib.summary.Summary'>\n",
       "\"\"\"\n",
       "                 Generalized Linear Model Regression Results                  \n",
       "==============================================================================\n",
       "Dep. Variable:                nclaims   No. Observations:               122423\n",
       "Model:                            GLM   Df Residuals:                   122421\n",
       "Model Family:                 Poisson   Df Model:                            1\n",
       "Link Function:                    log   Scale:                          1.0000\n",
       "Method:                          IRLS   Log-Likelihood:                -47577.\n",
       "Date:                Tue, 05 Oct 2021   Deviance:                       66792.\n",
       "Time:                        15:30:07   Pearson chi2:                 1.50e+05\n",
       "No. Iterations:                     6                                         \n",
       "Covariance Type:            nonrobust                                         \n",
       "==============================================================================\n",
       "                 coef    std err          z      P>|z|      [0.025      0.975]\n",
       "------------------------------------------------------------------------------\n",
       "Intercept     -1.2396      0.026    -46.864      0.000      -1.291      -1.188\n",
       "ageph         -0.0160      0.001    -27.930      0.000      -0.017      -0.015\n",
       "==============================================================================\n",
       "\"\"\""
      ]
     },
     "execution_count": 84,
     "metadata": {},
     "output_type": "execute_result"
    }
   ],
   "source": [
    "glm_weights = sm.formula.glm(\"nclaims ~ ageph\", \n",
    "                             data=train, \n",
    "                             weights = train.expo, \n",
    "                             exposure = train.expo, \n",
    "                             family=sm.families.Poisson()).fit(); \n",
    "glm_weights.summary()"
   ]
  },
  {
   "cell_type": "code",
   "execution_count": 96,
   "metadata": {},
   "outputs": [
    {
     "data": {
      "text/plain": [
       "Intercept   -1.239626\n",
       "ageph       -0.015975\n",
       "dtype: float64"
      ]
     },
     "execution_count": 96,
     "metadata": {},
     "output_type": "execute_result"
    }
   ],
   "source": [
    "glm_weights.params"
   ]
  },
  {
   "cell_type": "markdown",
   "metadata": {},
   "source": [
    "The specification structure of the neural network remains the same:"
   ]
  },
  {
   "cell_type": "code",
   "execution_count": 97,
   "metadata": {},
   "outputs": [],
   "source": [
    "# neural network architecture specification\n",
    "nn_freq_exposure = tf.keras.models.Sequential()\n",
    "nn_freq_exposure.add(tf.keras.layers.Dense(units = 1, activation = 'exponential', input_shape = (1,), use_bias = False))\n",
    "nn_freq_exposure.compile(optimizer = 'RMSprop', loss = 'poisson')"
   ]
  },
  {
   "cell_type": "code",
   "execution_count": 98,
   "metadata": {},
   "outputs": [],
   "source": [
    "# create a vector with exposure values (pd.Series must be converted to pd.array due to compatibility reasons with fit() method)\n",
    "exposure = np.array(train['expo'])"
   ]
  },
  {
   "cell_type": "code",
   "execution_count": 99,
   "metadata": {
    "scrolled": true
   },
   "outputs": [
    {
     "data": {
      "text/plain": [
       "<tensorflow.python.keras.callbacks.History at 0x2512e61f548>"
      ]
     },
     "execution_count": 99,
     "metadata": {},
     "output_type": "execute_result"
    }
   ],
   "source": [
    "# divide claim counts by exposure and use weights\n",
    "nn_freq_exposure.fit(x = intercept,\n",
    "                     y = counts/exposure,\n",
    "                     sample_weight = exposure,\n",
    "                     epochs = 20,\n",
    "                     batch_size = 1024,\n",
    "                     validation_split = 0,\n",
    "                     verbose = 0)"
   ]
  },
  {
   "cell_type": "code",
   "execution_count": 102,
   "metadata": {},
   "outputs": [
    {
     "data": {
      "text/plain": [
       "[array([[-1.7919232]], dtype=float32)]"
      ]
     },
     "execution_count": 102,
     "metadata": {},
     "output_type": "execute_result"
    }
   ],
   "source": [
    "nn_freq_exposure.get_weights()"
   ]
  },
  {
   "cell_type": "code",
   "execution_count": 106,
   "metadata": {},
   "outputs": [
    {
     "name": "stdout",
     "output_type": "stream",
     "text": [
      "NN weights:-1.79192316532135, \n",
      "\n",
      "GLM_offset coefficients:Intercept   -1.239626\n",
      "ageph       -0.015975\n",
      "dtype: float64, \n",
      "\n",
      "GLM_weights coefficients:Intercept   -1.239626\n",
      "ageph       -0.015975\n",
      "dtype: float64\n"
     ]
    }
   ],
   "source": [
    "# comparing the estimated parameter (difference reflects a different optimization technique)\n",
    "print(f'NN weights:{nn_freq_exposure.get_weights()[0][0][0]}, \\n\\nGLM_offset coefficients:{glm_offset.params}, \\n\\nGLM_weights coefficients:{glm_weights.params}')"
   ]
  },
  {
   "cell_type": "markdown",
   "metadata": {},
   "source": [
    "### How can we include exposure via an offset term?"
   ]
  },
  {
   "cell_type": "code",
   "execution_count": 107,
   "metadata": {},
   "outputs": [],
   "source": [
    "# create a vector with ageph (pd.Series must be converted to pd.array due to compatibility reasons with fit() method)\n",
    "ageph = np.array(train['ageph'])"
   ]
  },
  {
   "cell_type": "code",
   "execution_count": 108,
   "metadata": {},
   "outputs": [],
   "source": [
    "# neural network architecture specification\n",
    "nn_freq_ageph = tf.keras.models.Sequential()\n",
    "nn_freq_ageph.add(tf.keras.layers.BatchNormalization(input_shape = (1,))) # layer_batch_normalization centers and scales the input features\n",
    "nn_freq_ageph.add(tf.keras.layers.Dense(units = 5, activation = 'tanh'))\n",
    "nn_freq_ageph.add(tf.keras.layers.Dense(units = 1, activation = 'exponential', use_bias = True)) # Notice how we set use_bias = TRUE for the intercept.\n",
    "nn_freq_ageph.compile(optimizer = 'RMSprop', loss = 'poisson')"
   ]
  },
  {
   "cell_type": "code",
   "execution_count": 111,
   "metadata": {},
   "outputs": [
    {
     "data": {
      "text/plain": [
       "<tensorflow.python.keras.callbacks.History at 0x25134120608>"
      ]
     },
     "execution_count": 111,
     "metadata": {},
     "output_type": "execute_result"
    }
   ],
   "source": [
    "nn_freq_ageph.fit(ageph,\n",
    "                 counts/exposure,\n",
    "                 sample_weight = exposure,\n",
    "                 epochs = 20,\n",
    "                 batch_size = 1024,\n",
    "                 validation_split = 0,\n",
    "                 verbose = 0)"
   ]
  },
  {
   "cell_type": "code",
   "execution_count": 112,
   "metadata": {},
   "outputs": [
    {
     "data": {
      "text/plain": [
       "[array([0.58682483], dtype=float32),\n",
       " array([0.4486653], dtype=float32),\n",
       " array([46.986446], dtype=float32),\n",
       " array([219.16087], dtype=float32),\n",
       " array([[-0.41990626,  0.3513118 ,  0.2744854 ,  0.00437251,  0.65964603]],\n",
       "       dtype=float32),\n",
       " array([-0.41606426,  0.40605304, -0.3920835 ,  0.40150648,  0.46706387],\n",
       "       dtype=float32),\n",
       " array([[ 0.65044665],\n",
       "        [-0.81724334],\n",
       "        [ 1.0437535 ],\n",
       "        [-0.48028782],\n",
       "        [-0.6920566 ]], dtype=float32),\n",
       " array([-0.38707754], dtype=float32)]"
      ]
     },
     "execution_count": 112,
     "metadata": {},
     "output_type": "execute_result"
    }
   ],
   "source": [
    "nn_freq_ageph.get_weights()"
   ]
  },
  {
   "cell_type": "markdown",
   "metadata": {},
   "source": [
    "### Applying GAM models"
   ]
  },
  {
   "cell_type": "code",
   "execution_count": 113,
   "metadata": {},
   "outputs": [],
   "source": [
    "from statsmodels.gam.api import GLMGam, BSplines"
   ]
  },
  {
   "cell_type": "code",
   "execution_count": 114,
   "metadata": {},
   "outputs": [],
   "source": [
    "x_spline = train['ageph']"
   ]
  },
  {
   "cell_type": "code",
   "execution_count": 176,
   "metadata": {},
   "outputs": [],
   "source": [
    "bs = BSplines(x_spline, df=[10, 10], degree=[3, 3])"
   ]
  },
  {
   "cell_type": "code",
   "execution_count": 177,
   "metadata": {},
   "outputs": [
    {
     "data": {
      "text/html": [
       "<table class=\"simpletable\">\n",
       "<caption>Generalized Linear Model Regression Results</caption>\n",
       "<tr>\n",
       "  <th>Dep. Variable:</th>        <td>nclaims</td>     <th>  No. Observations:  </th>  <td>122423</td> \n",
       "</tr>\n",
       "<tr>\n",
       "  <th>Model:</th>                <td>GLMGam</td>      <th>  Df Residuals:      </th>  <td>122413</td> \n",
       "</tr>\n",
       "<tr>\n",
       "  <th>Model Family:</th>         <td>Poisson</td>     <th>  Df Model:          </th> <td>    9.00</td>\n",
       "</tr>\n",
       "<tr>\n",
       "  <th>Link Function:</th>          <td>log</td>       <th>  Scale:             </th> <td>  1.0000</td>\n",
       "</tr>\n",
       "<tr>\n",
       "  <th>Method:</th>                <td>PIRLS</td>      <th>  Log-Likelihood:    </th> <td> -47500.</td>\n",
       "</tr>\n",
       "<tr>\n",
       "  <th>Date:</th>            <td>Tue, 05 Oct 2021</td> <th>  Deviance:          </th> <td>  66638.</td>\n",
       "</tr>\n",
       "<tr>\n",
       "  <th>Time:</th>                <td>16:40:40</td>     <th>  Pearson chi2:      </th> <td>1.48e+05</td>\n",
       "</tr>\n",
       "<tr>\n",
       "  <th>No. Iterations:</th>          <td>7</td>        <th>                     </th>     <td> </td>   \n",
       "</tr>\n",
       "<tr>\n",
       "  <th>Covariance Type:</th>     <td>nonrobust</td>    <th>                     </th>     <td> </td>   \n",
       "</tr>\n",
       "</table>\n",
       "<table class=\"simpletable\">\n",
       "<tr>\n",
       "      <td></td>         <th>coef</th>     <th>std err</th>      <th>z</th>      <th>P>|z|</th>  <th>[0.025</th>    <th>0.975]</th>  \n",
       "</tr>\n",
       "<tr>\n",
       "  <th>Intercept</th> <td>   -1.0596</td> <td>    0.154</td> <td>   -6.892</td> <td> 0.000</td> <td>   -1.361</td> <td>   -0.758</td>\n",
       "</tr>\n",
       "<tr>\n",
       "  <th>ageph_s0</th>  <td>   -0.2392</td> <td>    0.235</td> <td>   -1.018</td> <td> 0.308</td> <td>   -0.700</td> <td>    0.221</td>\n",
       "</tr>\n",
       "<tr>\n",
       "  <th>ageph_s1</th>  <td>   -0.6825</td> <td>    0.135</td> <td>   -5.074</td> <td> 0.000</td> <td>   -0.946</td> <td>   -0.419</td>\n",
       "</tr>\n",
       "<tr>\n",
       "  <th>ageph_s2</th>  <td>   -0.9138</td> <td>    0.173</td> <td>   -5.273</td> <td> 0.000</td> <td>   -1.253</td> <td>   -0.574</td>\n",
       "</tr>\n",
       "<tr>\n",
       "  <th>ageph_s3</th>  <td>   -0.8834</td> <td>    0.153</td> <td>   -5.763</td> <td> 0.000</td> <td>   -1.184</td> <td>   -0.583</td>\n",
       "</tr>\n",
       "<tr>\n",
       "  <th>ageph_s4</th>  <td>   -0.9453</td> <td>    0.164</td> <td>   -5.778</td> <td> 0.000</td> <td>   -1.266</td> <td>   -0.625</td>\n",
       "</tr>\n",
       "<tr>\n",
       "  <th>ageph_s5</th>  <td>   -1.0862</td> <td>    0.160</td> <td>   -6.783</td> <td> 0.000</td> <td>   -1.400</td> <td>   -0.772</td>\n",
       "</tr>\n",
       "<tr>\n",
       "  <th>ageph_s6</th>  <td>   -1.4764</td> <td>    0.196</td> <td>   -7.543</td> <td> 0.000</td> <td>   -1.860</td> <td>   -1.093</td>\n",
       "</tr>\n",
       "<tr>\n",
       "  <th>ageph_s7</th>  <td>   -1.0548</td> <td>    0.278</td> <td>   -3.794</td> <td> 0.000</td> <td>   -1.600</td> <td>   -0.510</td>\n",
       "</tr>\n",
       "<tr>\n",
       "  <th>ageph_s8</th>  <td>   -0.6534</td> <td>    0.501</td> <td>   -1.305</td> <td> 0.192</td> <td>   -1.635</td> <td>    0.328</td>\n",
       "</tr>\n",
       "</table>"
      ],
      "text/plain": [
       "<class 'statsmodels.iolib.summary.Summary'>\n",
       "\"\"\"\n",
       "                 Generalized Linear Model Regression Results                  \n",
       "==============================================================================\n",
       "Dep. Variable:                nclaims   No. Observations:               122423\n",
       "Model:                         GLMGam   Df Residuals:                   122413\n",
       "Model Family:                 Poisson   Df Model:                         9.00\n",
       "Link Function:                    log   Scale:                          1.0000\n",
       "Method:                         PIRLS   Log-Likelihood:                -47500.\n",
       "Date:                Tue, 05 Oct 2021   Deviance:                       66638.\n",
       "Time:                        16:40:40   Pearson chi2:                 1.48e+05\n",
       "No. Iterations:                     7                                         \n",
       "Covariance Type:            nonrobust                                         \n",
       "==============================================================================\n",
       "                 coef    std err          z      P>|z|      [0.025      0.975]\n",
       "------------------------------------------------------------------------------\n",
       "Intercept     -1.0596      0.154     -6.892      0.000      -1.361      -0.758\n",
       "ageph_s0      -0.2392      0.235     -1.018      0.308      -0.700       0.221\n",
       "ageph_s1      -0.6825      0.135     -5.074      0.000      -0.946      -0.419\n",
       "ageph_s2      -0.9138      0.173     -5.273      0.000      -1.253      -0.574\n",
       "ageph_s3      -0.8834      0.153     -5.763      0.000      -1.184      -0.583\n",
       "ageph_s4      -0.9453      0.164     -5.778      0.000      -1.266      -0.625\n",
       "ageph_s5      -1.0862      0.160     -6.783      0.000      -1.400      -0.772\n",
       "ageph_s6      -1.4764      0.196     -7.543      0.000      -1.860      -1.093\n",
       "ageph_s7      -1.0548      0.278     -3.794      0.000      -1.600      -0.510\n",
       "ageph_s8      -0.6534      0.501     -1.305      0.192      -1.635       0.328\n",
       "==============================================================================\n",
       "\"\"\""
      ]
     },
     "execution_count": 177,
     "metadata": {},
     "output_type": "execute_result"
    }
   ],
   "source": [
    "gam_bs = GLMGam.from_formula('nclaims ~ 1', \n",
    "                             data=train, \n",
    "                             smoother=bs, \n",
    "                             family=sm.families.Poisson(sm.families.links.log()),\n",
    "                             offset = np.log(train.expo)).fit();\n",
    "gam_bs.summary()"
   ]
  },
  {
   "cell_type": "code",
   "execution_count": 178,
   "metadata": {},
   "outputs": [
    {
     "data": {
      "text/plain": [
       "153372    0.166440\n",
       "144123    0.288133\n",
       "70929     0.137357\n",
       "6673      0.141733\n",
       "151603    0.141414\n",
       "            ...   \n",
       "68863     0.125252\n",
       "25199     0.122734\n",
       "155674    0.145292\n",
       "91343     0.009728\n",
       "75848     0.053720\n",
       "Length: 122423, dtype: float64"
      ]
     },
     "execution_count": 178,
     "metadata": {},
     "output_type": "execute_result"
    }
   ],
   "source": [
    "gam_bs.fittedvalues"
   ]
  },
  {
   "cell_type": "code",
   "execution_count": 179,
   "metadata": {},
   "outputs": [
    {
     "data": {
      "text/plain": [
       "0         0.166440\n",
       "1         0.288133\n",
       "2         0.137357\n",
       "3         0.141733\n",
       "4         0.141414\n",
       "            ...   \n",
       "122418    0.125252\n",
       "122419    0.135751\n",
       "122420    0.145292\n",
       "122421    0.098634\n",
       "122422    0.129854\n",
       "Length: 122423, dtype: float64"
      ]
     },
     "execution_count": 179,
     "metadata": {},
     "output_type": "execute_result"
    }
   ],
   "source": [
    "gam_bs.predict(exog = pd.DataFrame(np.ones(train.shape[0])),  exog_smooth = np.array(train['ageph']))"
   ]
  },
  {
   "cell_type": "code",
   "execution_count": 180,
   "metadata": {},
   "outputs": [],
   "source": [
    "age = tf.cast(np.array(range(18,96)), tf.float32)\n",
    "nn_pred = nn_freq_ageph.predict(age)"
   ]
  },
  {
   "cell_type": "code",
   "execution_count": 181,
   "metadata": {},
   "outputs": [],
   "source": [
    "df = pd.DataFrame({'ageph':np.array(range(18,96)),\n",
    "                  'inter':np.ones(len(list(range(18,96))), dtype = int)})\n",
    "gam_pred = gam_bs.predict(exog = pd.DataFrame(np.ones(df.shape[0])),  exog_smooth = np.array(df['ageph']))"
   ]
  },
  {
   "cell_type": "code",
   "execution_count": 182,
   "metadata": {},
   "outputs": [
    {
     "data": {
      "image/png": "[encoded data removed]",
      "text/plain": [
       "<Figure size 432x288 with 1 Axes>"
      ]
     },
     "metadata": {
      "needs_background": "light"
     },
     "output_type": "display_data"
    }
   ],
   "source": [
    "x = np.array(range(18,96))\n",
    "plt.plot(x, gam_pred, label = \"GAM\")\n",
    "plt.plot(x, nn_pred, label = \"NN\")\n",
    "plt.xlabel('age')\n",
    "plt.ylabel('fitted_effect')\n",
    "plt.legend()\n",
    "plt.show()"
   ]
  },
  {
   "cell_type": "markdown",
   "metadata": {},
   "source": [
    "### Adding a skip connection in a neural network"
   ]
  },
  {
   "cell_type": "markdown",
   "metadata": {},
   "source": [
    "A skip connection allows us to guide the neural net in the right direction and to model adjustments on top of the base predictions, for example obtained via a GLM or GAM. In the actuarial lingo this is called a Combined Actuarial Neural Network (CANN). We are now using Tensorflow Functional API instead of Sequential API."
   ]
  },
  {
   "cell_type": "code",
   "execution_count": 242,
   "metadata": {},
   "outputs": [],
   "source": [
    "input_skip = tf.keras.layers.Input(shape = (1,), name = 'skip')\n",
    "input_nn = tf.keras.layers.Input(shape = (1,), name = 'nn')\n",
    "norm_nn = tf.keras.layers.BatchNormalization()(input_nn)\n",
    "dense_1 = tf.keras.layers.Dense(units = 5, activation = 'tanh')(norm_nn)\n",
    "network = tf.keras.layers.Dense(units = 1, activation = 'linear')(dense_1)"
   ]
  },
  {
   "cell_type": "code",
   "execution_count": 243,
   "metadata": {},
   "outputs": [],
   "source": [
    "interm = tf.keras.layers.Add()([network, input_skip])"
   ]
  },
  {
   "cell_type": "code",
   "execution_count": 244,
   "metadata": {},
   "outputs": [],
   "source": [
    "output = tf.keras.layers.Dense(units = 1, \n",
    "                               activation = 'exponential', \n",
    "                               trainable = True, \n",
    "                               name = 'output',\n",
    "                              )(interm)"
   ]
  },
  {
   "cell_type": "code",
   "execution_count": 245,
   "metadata": {},
   "outputs": [],
   "source": [
    "cann = tf.keras.models.Model(inputs = [input_nn, input_skip], outputs = output)"
   ]
  },
  {
   "cell_type": "code",
   "execution_count": 246,
   "metadata": {},
   "outputs": [],
   "source": [
    "cann.compile(optimizer = 'RMSprop', loss = 'poisson')"
   ]
  },
  {
   "cell_type": "code",
   "execution_count": 247,
   "metadata": {},
   "outputs": [
    {
     "data": {
      "text/plain": [
       "0.34660200830959664"
      ]
     },
     "execution_count": 247,
     "metadata": {},
     "output_type": "execute_result"
    }
   ],
   "source": [
    "np.max(gam_bs.predict())"
   ]
  },
  {
   "cell_type": "code",
   "execution_count": 248,
   "metadata": {},
   "outputs": [
    {
     "data": {
      "text/plain": [
       "153372   -1.793120\n",
       "144123   -1.244332\n",
       "70929    -1.985173\n",
       "6673     -1.953810\n",
       "151603   -1.956066\n",
       "            ...   \n",
       "68863    -2.077426\n",
       "25199    -2.198542\n",
       "155674   -1.929009\n",
       "91343    -6.949095\n",
       "75848    -3.806580\n",
       "Name: expo, Length: 122423, dtype: float64"
      ]
     },
     "execution_count": 248,
     "metadata": {},
     "output_type": "execute_result"
    }
   ],
   "source": [
    "gam_expo = np.log(gam_bs.predict()) + np.log(train['expo']); gam_expo"
   ]
  },
  {
   "cell_type": "code",
   "execution_count": 249,
   "metadata": {},
   "outputs": [],
   "source": [
    "cann_input = [np.array(train['ageph']), np.array(gam_expo)]"
   ]
  },
  {
   "cell_type": "code",
   "execution_count": 250,
   "metadata": {},
   "outputs": [
    {
     "name": "stdout",
     "output_type": "stream",
     "text": [
      "Train on 122423 samples\n",
      "Epoch 1/20\n",
      "122423/122423 [==============================] - 1s 6us/sample - loss: 0.4217\n",
      "Epoch 2/20\n",
      "122423/122423 [==============================] - 0s 1us/sample - loss: 0.3969\n",
      "Epoch 3/20\n",
      "122423/122423 [==============================] - 0s 1us/sample - loss: 0.3948\n",
      "Epoch 4/20\n",
      "122423/122423 [==============================] - 0s 1us/sample - loss: 0.3930\n",
      "Epoch 5/20\n",
      "122423/122423 [==============================] - 0s 1us/sample - loss: 0.3913\n",
      "Epoch 6/20\n",
      "122423/122423 [==============================] - 0s 1us/sample - loss: 0.3898\n",
      "Epoch 7/20\n",
      "122423/122423 [==============================] - 0s 1us/sample - loss: 0.3884\n",
      "Epoch 8/20\n",
      "122423/122423 [==============================] - 0s 1us/sample - loss: 0.3872\n",
      "Epoch 9/20\n",
      "122423/122423 [==============================] - 0s 1us/sample - loss: 0.3861\n",
      "Epoch 10/20\n",
      "122423/122423 [==============================] - 0s 1us/sample - loss: 0.3852\n",
      "Epoch 11/20\n",
      "122423/122423 [==============================] - 0s 1us/sample - loss: 0.3844\n",
      "Epoch 12/20\n",
      "122423/122423 [==============================] - 0s 1us/sample - loss: 0.3835\n",
      "Epoch 13/20\n",
      "122423/122423 [==============================] - ETA: 0s - loss: 0.383 - 0s 1us/sample - loss: 0.3828\n",
      "Epoch 14/20\n",
      "122423/122423 [==============================] - 0s 1us/sample - loss: 0.3822\n",
      "Epoch 15/20\n",
      "122423/122423 [==============================] - 0s 1us/sample - loss: 0.3817\n",
      "Epoch 16/20\n",
      "122423/122423 [==============================] - 0s 1us/sample - loss: 0.3812\n",
      "Epoch 17/20\n",
      "122423/122423 [==============================] - 0s 1us/sample - loss: 0.3808\n",
      "Epoch 18/20\n",
      "122423/122423 [==============================] - 0s 1us/sample - loss: 0.3804\n",
      "Epoch 19/20\n",
      "122423/122423 [==============================] - 0s 1us/sample - loss: 0.3801\n",
      "Epoch 20/20\n",
      "122423/122423 [==============================] - 0s 1us/sample - loss: 0.3798\n"
     ]
    },
    {
     "data": {
      "text/plain": [
       "<tensorflow.python.keras.callbacks.History at 0x2513dba4bc8>"
      ]
     },
     "execution_count": 250,
     "metadata": {},
     "output_type": "execute_result"
    }
   ],
   "source": [
    "cann.fit(cann_input,\n",
    "         counts,\n",
    "         epochs = 20,\n",
    "         batch_size = 1024,\n",
    "         validation_split = 0,\n",
    "         verbose = 1)"
   ]
  },
  {
   "cell_type": "code",
   "execution_count": 251,
   "metadata": {},
   "outputs": [
    {
     "data": {
      "text/html": [
       "<div>\n",
       "<style scoped>\n",
       "    .dataframe tbody tr th:only-of-type {\n",
       "        vertical-align: middle;\n",
       "    }\n",
       "\n",
       "    .dataframe tbody tr th {\n",
       "        vertical-align: top;\n",
       "    }\n",
       "\n",
       "    .dataframe thead th {\n",
       "        text-align: right;\n",
       "    }\n",
       "</style>\n",
       "<table border=\"1\" class=\"dataframe\">\n",
       "  <thead>\n",
       "    <tr style=\"text-align: right;\">\n",
       "      <th></th>\n",
       "      <th>ageph</th>\n",
       "      <th>skip</th>\n",
       "    </tr>\n",
       "  </thead>\n",
       "  <tbody>\n",
       "    <tr>\n",
       "      <th>0</th>\n",
       "      <td>18</td>\n",
       "      <td>0.0</td>\n",
       "    </tr>\n",
       "    <tr>\n",
       "      <th>1</th>\n",
       "      <td>19</td>\n",
       "      <td>0.0</td>\n",
       "    </tr>\n",
       "    <tr>\n",
       "      <th>2</th>\n",
       "      <td>20</td>\n",
       "      <td>0.0</td>\n",
       "    </tr>\n",
       "    <tr>\n",
       "      <th>3</th>\n",
       "      <td>21</td>\n",
       "      <td>0.0</td>\n",
       "    </tr>\n",
       "    <tr>\n",
       "      <th>4</th>\n",
       "      <td>22</td>\n",
       "      <td>0.0</td>\n",
       "    </tr>\n",
       "  </tbody>\n",
       "</table>\n",
       "</div>"
      ],
      "text/plain": [
       "   ageph  skip\n",
       "0     18   0.0\n",
       "1     19   0.0\n",
       "2     20   0.0\n",
       "3     21   0.0\n",
       "4     22   0.0"
      ]
     },
     "execution_count": 251,
     "metadata": {},
     "output_type": "execute_result"
    }
   ],
   "source": [
    "# test output\n",
    "df = pd.DataFrame({'ageph':np.array(range(18,96)),\n",
    "                   'skip':np.zeros(len(range(18,96)))}); df.head()"
   ]
  },
  {
   "cell_type": "code",
   "execution_count": 252,
   "metadata": {},
   "outputs": [
    {
     "data": {
      "text/html": [
       "<div>\n",
       "<style scoped>\n",
       "    .dataframe tbody tr th:only-of-type {\n",
       "        vertical-align: middle;\n",
       "    }\n",
       "\n",
       "    .dataframe tbody tr th {\n",
       "        vertical-align: top;\n",
       "    }\n",
       "\n",
       "    .dataframe thead th {\n",
       "        text-align: right;\n",
       "    }\n",
       "</style>\n",
       "<table border=\"1\" class=\"dataframe\">\n",
       "  <thead>\n",
       "    <tr style=\"text-align: right;\">\n",
       "      <th></th>\n",
       "      <th>ageph</th>\n",
       "      <th>skip</th>\n",
       "      <th>cann_pred</th>\n",
       "    </tr>\n",
       "  </thead>\n",
       "  <tbody>\n",
       "    <tr>\n",
       "      <th>0</th>\n",
       "      <td>18</td>\n",
       "      <td>0.0</td>\n",
       "      <td>0.517595</td>\n",
       "    </tr>\n",
       "    <tr>\n",
       "      <th>1</th>\n",
       "      <td>19</td>\n",
       "      <td>0.0</td>\n",
       "      <td>0.512163</td>\n",
       "    </tr>\n",
       "    <tr>\n",
       "      <th>2</th>\n",
       "      <td>20</td>\n",
       "      <td>0.0</td>\n",
       "      <td>0.506744</td>\n",
       "    </tr>\n",
       "    <tr>\n",
       "      <th>3</th>\n",
       "      <td>21</td>\n",
       "      <td>0.0</td>\n",
       "      <td>0.501343</td>\n",
       "    </tr>\n",
       "    <tr>\n",
       "      <th>4</th>\n",
       "      <td>22</td>\n",
       "      <td>0.0</td>\n",
       "      <td>0.495967</td>\n",
       "    </tr>\n",
       "  </tbody>\n",
       "</table>\n",
       "</div>"
      ],
      "text/plain": [
       "   ageph  skip  cann_pred\n",
       "0     18   0.0   0.517595\n",
       "1     19   0.0   0.512163\n",
       "2     20   0.0   0.506744\n",
       "3     21   0.0   0.501343\n",
       "4     22   0.0   0.495967"
      ]
     },
     "execution_count": 252,
     "metadata": {},
     "output_type": "execute_result"
    }
   ],
   "source": [
    "df['cann_pred'] = cann.predict([tf.cast(df.ageph, dtype=tf.float32),tf.cast(df.skip, dtype=tf.float32)]); df.head(5)"
   ]
  },
  {
   "cell_type": "code",
   "execution_count": 383,
   "metadata": {},
   "outputs": [
    {
     "ename": "KeyError",
     "evalue": "'cann_pred'",
     "output_type": "error",
     "traceback": [
      "\u001b[1;31m---------------------------------------------------------------------------\u001b[0m",
      "\u001b[1;31mKeyError\u001b[0m                                  Traceback (most recent call last)",
      "\u001b[1;32m~\\anaconda3\\envs\\dev_env\\lib\\site-packages\\pandas\\core\\indexes\\base.py\u001b[0m in \u001b[0;36mget_loc\u001b[1;34m(self, key, method, tolerance)\u001b[0m\n\u001b[0;32m   2897\u001b[0m             \u001b[1;32mtry\u001b[0m\u001b[1;33m:\u001b[0m\u001b[1;33m\u001b[0m\u001b[1;33m\u001b[0m\u001b[0m\n\u001b[1;32m-> 2898\u001b[1;33m                 \u001b[1;32mreturn\u001b[0m \u001b[0mself\u001b[0m\u001b[1;33m.\u001b[0m\u001b[0m_engine\u001b[0m\u001b[1;33m.\u001b[0m\u001b[0mget_loc\u001b[0m\u001b[1;33m(\u001b[0m\u001b[0mcasted_key\u001b[0m\u001b[1;33m)\u001b[0m\u001b[1;33m\u001b[0m\u001b[1;33m\u001b[0m\u001b[0m\n\u001b[0m\u001b[0;32m   2899\u001b[0m             \u001b[1;32mexcept\u001b[0m \u001b[0mKeyError\u001b[0m \u001b[1;32mas\u001b[0m \u001b[0merr\u001b[0m\u001b[1;33m:\u001b[0m\u001b[1;33m\u001b[0m\u001b[1;33m\u001b[0m\u001b[0m\n",
      "\u001b[1;32mpandas\\_libs\\index.pyx\u001b[0m in \u001b[0;36mpandas._libs.index.IndexEngine.get_loc\u001b[1;34m()\u001b[0m\n",
      "\u001b[1;32mpandas\\_libs\\index.pyx\u001b[0m in \u001b[0;36mpandas._libs.index.IndexEngine.get_loc\u001b[1;34m()\u001b[0m\n",
      "\u001b[1;32mpandas\\_libs\\hashtable_class_helper.pxi\u001b[0m in \u001b[0;36mpandas._libs.hashtable.PyObjectHashTable.get_item\u001b[1;34m()\u001b[0m\n",
      "\u001b[1;32mpandas\\_libs\\hashtable_class_helper.pxi\u001b[0m in \u001b[0;36mpandas._libs.hashtable.PyObjectHashTable.get_item\u001b[1;34m()\u001b[0m\n",
      "\u001b[1;31mKeyError\u001b[0m: 'cann_pred'",
      "\nThe above exception was the direct cause of the following exception:\n",
      "\u001b[1;31mKeyError\u001b[0m                                  Traceback (most recent call last)",
      "\u001b[1;32m<ipython-input-383-d6ea08f2eabd>\u001b[0m in \u001b[0;36m<module>\u001b[1;34m\u001b[0m\n\u001b[0;32m      1\u001b[0m \u001b[0mx\u001b[0m \u001b[1;33m=\u001b[0m \u001b[0mdf\u001b[0m\u001b[1;33m[\u001b[0m\u001b[1;34m'ageph'\u001b[0m\u001b[1;33m]\u001b[0m\u001b[1;33m\u001b[0m\u001b[1;33m\u001b[0m\u001b[0m\n\u001b[1;32m----> 2\u001b[1;33m \u001b[0mplt\u001b[0m\u001b[1;33m.\u001b[0m\u001b[0mplot\u001b[0m\u001b[1;33m(\u001b[0m\u001b[0mx\u001b[0m\u001b[1;33m,\u001b[0m \u001b[0mdf\u001b[0m\u001b[1;33m[\u001b[0m\u001b[1;34m'cann_pred'\u001b[0m\u001b[1;33m]\u001b[0m\u001b[1;33m,\u001b[0m \u001b[0mlabel\u001b[0m \u001b[1;33m=\u001b[0m \u001b[1;34m\"GAM\"\u001b[0m\u001b[1;33m)\u001b[0m\u001b[1;33m\u001b[0m\u001b[1;33m\u001b[0m\u001b[0m\n\u001b[0m\u001b[0;32m      3\u001b[0m \u001b[0mplt\u001b[0m\u001b[1;33m.\u001b[0m\u001b[0mplot\u001b[0m\u001b[1;33m(\u001b[0m\u001b[0mx\u001b[0m\u001b[1;33m,\u001b[0m \u001b[0mdf\u001b[0m\u001b[1;33m[\u001b[0m\u001b[1;34m'cann_pred'\u001b[0m\u001b[1;33m]\u001b[0m\u001b[1;33m,\u001b[0m \u001b[0mlabel\u001b[0m \u001b[1;33m=\u001b[0m \u001b[1;34m\"NN\"\u001b[0m\u001b[1;33m)\u001b[0m\u001b[1;33m\u001b[0m\u001b[1;33m\u001b[0m\u001b[0m\n\u001b[0;32m      4\u001b[0m \u001b[0mplt\u001b[0m\u001b[1;33m.\u001b[0m\u001b[0mxlabel\u001b[0m\u001b[1;33m(\u001b[0m\u001b[1;34m'age'\u001b[0m\u001b[1;33m)\u001b[0m\u001b[1;33m\u001b[0m\u001b[1;33m\u001b[0m\u001b[0m\n\u001b[0;32m      5\u001b[0m \u001b[0mplt\u001b[0m\u001b[1;33m.\u001b[0m\u001b[0mylabel\u001b[0m\u001b[1;33m(\u001b[0m\u001b[1;34m'fitted_effect'\u001b[0m\u001b[1;33m)\u001b[0m\u001b[1;33m\u001b[0m\u001b[1;33m\u001b[0m\u001b[0m\n",
      "\u001b[1;32m~\\anaconda3\\envs\\dev_env\\lib\\site-packages\\pandas\\core\\frame.py\u001b[0m in \u001b[0;36m__getitem__\u001b[1;34m(self, key)\u001b[0m\n\u001b[0;32m   2904\u001b[0m             \u001b[1;32mif\u001b[0m \u001b[0mself\u001b[0m\u001b[1;33m.\u001b[0m\u001b[0mcolumns\u001b[0m\u001b[1;33m.\u001b[0m\u001b[0mnlevels\u001b[0m \u001b[1;33m>\u001b[0m \u001b[1;36m1\u001b[0m\u001b[1;33m:\u001b[0m\u001b[1;33m\u001b[0m\u001b[1;33m\u001b[0m\u001b[0m\n\u001b[0;32m   2905\u001b[0m                 \u001b[1;32mreturn\u001b[0m \u001b[0mself\u001b[0m\u001b[1;33m.\u001b[0m\u001b[0m_getitem_multilevel\u001b[0m\u001b[1;33m(\u001b[0m\u001b[0mkey\u001b[0m\u001b[1;33m)\u001b[0m\u001b[1;33m\u001b[0m\u001b[1;33m\u001b[0m\u001b[0m\n\u001b[1;32m-> 2906\u001b[1;33m             \u001b[0mindexer\u001b[0m \u001b[1;33m=\u001b[0m \u001b[0mself\u001b[0m\u001b[1;33m.\u001b[0m\u001b[0mcolumns\u001b[0m\u001b[1;33m.\u001b[0m\u001b[0mget_loc\u001b[0m\u001b[1;33m(\u001b[0m\u001b[0mkey\u001b[0m\u001b[1;33m)\u001b[0m\u001b[1;33m\u001b[0m\u001b[1;33m\u001b[0m\u001b[0m\n\u001b[0m\u001b[0;32m   2907\u001b[0m             \u001b[1;32mif\u001b[0m \u001b[0mis_integer\u001b[0m\u001b[1;33m(\u001b[0m\u001b[0mindexer\u001b[0m\u001b[1;33m)\u001b[0m\u001b[1;33m:\u001b[0m\u001b[1;33m\u001b[0m\u001b[1;33m\u001b[0m\u001b[0m\n\u001b[0;32m   2908\u001b[0m                 \u001b[0mindexer\u001b[0m \u001b[1;33m=\u001b[0m \u001b[1;33m[\u001b[0m\u001b[0mindexer\u001b[0m\u001b[1;33m]\u001b[0m\u001b[1;33m\u001b[0m\u001b[1;33m\u001b[0m\u001b[0m\n",
      "\u001b[1;32m~\\anaconda3\\envs\\dev_env\\lib\\site-packages\\pandas\\core\\indexes\\base.py\u001b[0m in \u001b[0;36mget_loc\u001b[1;34m(self, key, method, tolerance)\u001b[0m\n\u001b[0;32m   2898\u001b[0m                 \u001b[1;32mreturn\u001b[0m \u001b[0mself\u001b[0m\u001b[1;33m.\u001b[0m\u001b[0m_engine\u001b[0m\u001b[1;33m.\u001b[0m\u001b[0mget_loc\u001b[0m\u001b[1;33m(\u001b[0m\u001b[0mcasted_key\u001b[0m\u001b[1;33m)\u001b[0m\u001b[1;33m\u001b[0m\u001b[1;33m\u001b[0m\u001b[0m\n\u001b[0;32m   2899\u001b[0m             \u001b[1;32mexcept\u001b[0m \u001b[0mKeyError\u001b[0m \u001b[1;32mas\u001b[0m \u001b[0merr\u001b[0m\u001b[1;33m:\u001b[0m\u001b[1;33m\u001b[0m\u001b[1;33m\u001b[0m\u001b[0m\n\u001b[1;32m-> 2900\u001b[1;33m                 \u001b[1;32mraise\u001b[0m \u001b[0mKeyError\u001b[0m\u001b[1;33m(\u001b[0m\u001b[0mkey\u001b[0m\u001b[1;33m)\u001b[0m \u001b[1;32mfrom\u001b[0m \u001b[0merr\u001b[0m\u001b[1;33m\u001b[0m\u001b[1;33m\u001b[0m\u001b[0m\n\u001b[0m\u001b[0;32m   2901\u001b[0m \u001b[1;33m\u001b[0m\u001b[0m\n\u001b[0;32m   2902\u001b[0m         \u001b[1;32mif\u001b[0m \u001b[0mtolerance\u001b[0m \u001b[1;32mis\u001b[0m \u001b[1;32mnot\u001b[0m \u001b[1;32mNone\u001b[0m\u001b[1;33m:\u001b[0m\u001b[1;33m\u001b[0m\u001b[1;33m\u001b[0m\u001b[0m\n",
      "\u001b[1;31mKeyError\u001b[0m: 'cann_pred'"
     ]
    }
   ],
   "source": [
    "x = df['ageph']\n",
    "plt.plot(x, df['cann_pred'], label = \"GAM\")\n",
    "plt.plot(x, df['cann_pred'], label = \"NN\")\n",
    "plt.xlabel('age')\n",
    "plt.ylabel('fitted_effect')\n",
    "plt.legend()\n",
    "plt.show()"
   ]
  },
  {
   "cell_type": "code",
   "execution_count": 258,
   "metadata": {},
   "outputs": [],
   "source": [
    "a = gam_bs.predict(exog = pd.DataFrame(np.array(range(18,96))),  exog_smooth = np.array(range(18,96)))"
   ]
  },
  {
   "cell_type": "code",
   "execution_count": 259,
   "metadata": {},
   "outputs": [
    {
     "data": {
      "text/html": [
       "<div>\n",
       "<style scoped>\n",
       "    .dataframe tbody tr th:only-of-type {\n",
       "        vertical-align: middle;\n",
       "    }\n",
       "\n",
       "    .dataframe tbody tr th {\n",
       "        vertical-align: top;\n",
       "    }\n",
       "\n",
       "    .dataframe thead th {\n",
       "        text-align: right;\n",
       "    }\n",
       "</style>\n",
       "<table border=\"1\" class=\"dataframe\">\n",
       "  <thead>\n",
       "    <tr style=\"text-align: right;\">\n",
       "      <th></th>\n",
       "      <th>ageph</th>\n",
       "      <th>skip</th>\n",
       "    </tr>\n",
       "  </thead>\n",
       "  <tbody>\n",
       "    <tr>\n",
       "      <th>0</th>\n",
       "      <td>18</td>\n",
       "      <td>-1.059578</td>\n",
       "    </tr>\n",
       "    <tr>\n",
       "      <th>1</th>\n",
       "      <td>19</td>\n",
       "      <td>-1.120147</td>\n",
       "    </tr>\n",
       "    <tr>\n",
       "      <th>2</th>\n",
       "      <td>20</td>\n",
       "      <td>-1.181903</td>\n",
       "    </tr>\n",
       "    <tr>\n",
       "      <th>3</th>\n",
       "      <td>21</td>\n",
       "      <td>-1.244332</td>\n",
       "    </tr>\n",
       "    <tr>\n",
       "      <th>4</th>\n",
       "      <td>22</td>\n",
       "      <td>-1.306924</td>\n",
       "    </tr>\n",
       "  </tbody>\n",
       "</table>\n",
       "</div>"
      ],
      "text/plain": [
       "   ageph      skip\n",
       "0     18 -1.059578\n",
       "1     19 -1.120147\n",
       "2     20 -1.181903\n",
       "3     21 -1.244332\n",
       "4     22 -1.306924"
      ]
     },
     "execution_count": 259,
     "metadata": {},
     "output_type": "execute_result"
    }
   ],
   "source": [
    "# test output\n",
    "df = pd.DataFrame({'ageph':np.array(range(18,96)),\n",
    "                   'skip':np.log(a)}); df.head()"
   ]
  },
  {
   "cell_type": "code",
   "execution_count": 260,
   "metadata": {},
   "outputs": [
    {
     "data": {
      "text/html": [
       "<div>\n",
       "<style scoped>\n",
       "    .dataframe tbody tr th:only-of-type {\n",
       "        vertical-align: middle;\n",
       "    }\n",
       "\n",
       "    .dataframe tbody tr th {\n",
       "        vertical-align: top;\n",
       "    }\n",
       "\n",
       "    .dataframe thead th {\n",
       "        text-align: right;\n",
       "    }\n",
       "</style>\n",
       "<table border=\"1\" class=\"dataframe\">\n",
       "  <thead>\n",
       "    <tr style=\"text-align: right;\">\n",
       "      <th></th>\n",
       "      <th>ageph</th>\n",
       "      <th>skip</th>\n",
       "      <th>cann_pred</th>\n",
       "    </tr>\n",
       "  </thead>\n",
       "  <tbody>\n",
       "    <tr>\n",
       "      <th>0</th>\n",
       "      <td>18</td>\n",
       "      <td>-1.059578</td>\n",
       "      <td>0.293769</td>\n",
       "    </tr>\n",
       "    <tr>\n",
       "      <th>1</th>\n",
       "      <td>19</td>\n",
       "      <td>-1.120147</td>\n",
       "      <td>0.281426</td>\n",
       "    </tr>\n",
       "    <tr>\n",
       "      <th>2</th>\n",
       "      <td>20</td>\n",
       "      <td>-1.181903</td>\n",
       "      <td>0.269406</td>\n",
       "    </tr>\n",
       "    <tr>\n",
       "      <th>3</th>\n",
       "      <td>21</td>\n",
       "      <td>-1.244332</td>\n",
       "      <td>0.257787</td>\n",
       "    </tr>\n",
       "    <tr>\n",
       "      <th>4</th>\n",
       "      <td>22</td>\n",
       "      <td>-1.306924</td>\n",
       "      <td>0.246631</td>\n",
       "    </tr>\n",
       "  </tbody>\n",
       "</table>\n",
       "</div>"
      ],
      "text/plain": [
       "   ageph      skip  cann_pred\n",
       "0     18 -1.059578   0.293769\n",
       "1     19 -1.120147   0.281426\n",
       "2     20 -1.181903   0.269406\n",
       "3     21 -1.244332   0.257787\n",
       "4     22 -1.306924   0.246631"
      ]
     },
     "execution_count": 260,
     "metadata": {},
     "output_type": "execute_result"
    }
   ],
   "source": [
    "df['cann_pred'] = cann.predict([tf.cast(df.ageph, dtype=tf.float32),tf.cast(df.skip, dtype=tf.float32)]); df.head(5)"
   ]
  },
  {
   "cell_type": "code",
   "execution_count": 263,
   "metadata": {},
   "outputs": [
    {
     "data": {
      "image/png": "[encoded data removed]",
      "text/plain": [
       "<Figure size 432x288 with 1 Axes>"
      ]
     },
     "metadata": {
      "needs_background": "light"
     },
     "output_type": "display_data"
    }
   ],
   "source": [
    "x = df['ageph']\n",
    "plt.plot(x, np.exp(df['skip']), label = \"GAM\")\n",
    "plt.plot(x, df['cann_pred'], label = \"NN\")\n",
    "plt.xlabel('age')\n",
    "plt.ylabel('fitted_effect')\n",
    "plt.legend()\n",
    "plt.show()"
   ]
  },
  {
   "cell_type": "markdown",
   "metadata": {},
   "source": [
    "### Claim severity modeling with neural nets"
   ]
  },
  {
   "cell_type": "code",
   "execution_count": 367,
   "metadata": {},
   "outputs": [
    {
     "data": {
      "text/html": [
       "<div>\n",
       "<style scoped>\n",
       "    .dataframe tbody tr th:only-of-type {\n",
       "        vertical-align: middle;\n",
       "    }\n",
       "\n",
       "    .dataframe tbody tr th {\n",
       "        vertical-align: top;\n",
       "    }\n",
       "\n",
       "    .dataframe thead th {\n",
       "        text-align: right;\n",
       "    }\n",
       "</style>\n",
       "<table border=\"1\" class=\"dataframe\">\n",
       "  <thead>\n",
       "    <tr style=\"text-align: right;\">\n",
       "      <th></th>\n",
       "      <th>id</th>\n",
       "      <th>nclaims</th>\n",
       "      <th>amount</th>\n",
       "      <th>avg</th>\n",
       "      <th>expo</th>\n",
       "      <th>coverage</th>\n",
       "      <th>fuel</th>\n",
       "      <th>use</th>\n",
       "      <th>fleet</th>\n",
       "      <th>sex</th>\n",
       "      <th>ageph</th>\n",
       "      <th>bm</th>\n",
       "      <th>agec</th>\n",
       "      <th>power</th>\n",
       "      <th>pc</th>\n",
       "      <th>town</th>\n",
       "      <th>long</th>\n",
       "      <th>lat</th>\n",
       "    </tr>\n",
       "  </thead>\n",
       "  <tbody>\n",
       "    <tr>\n",
       "      <th>42875</th>\n",
       "      <td>42876</td>\n",
       "      <td>1</td>\n",
       "      <td>297.521808</td>\n",
       "      <td>297.521808</td>\n",
       "      <td>1.0</td>\n",
       "      <td>TPL</td>\n",
       "      <td>gasoline</td>\n",
       "      <td>private</td>\n",
       "      <td>N</td>\n",
       "      <td>female</td>\n",
       "      <td>48</td>\n",
       "      <td>5</td>\n",
       "      <td>10</td>\n",
       "      <td>66</td>\n",
       "      <td>2970</td>\n",
       "      <td>SCHILDE</td>\n",
       "      <td>4.569863</td>\n",
       "      <td>51.256762</td>\n",
       "    </tr>\n",
       "    <tr>\n",
       "      <th>78032</th>\n",
       "      <td>78033</td>\n",
       "      <td>1</td>\n",
       "      <td>635.995627</td>\n",
       "      <td>635.995627</td>\n",
       "      <td>1.0</td>\n",
       "      <td>PO</td>\n",
       "      <td>gasoline</td>\n",
       "      <td>work</td>\n",
       "      <td>N</td>\n",
       "      <td>female</td>\n",
       "      <td>31</td>\n",
       "      <td>0</td>\n",
       "      <td>7</td>\n",
       "      <td>39</td>\n",
       "      <td>4850</td>\n",
       "      <td>PLOMBIER</td>\n",
       "      <td>5.951618</td>\n",
       "      <td>50.714810</td>\n",
       "    </tr>\n",
       "    <tr>\n",
       "      <th>78766</th>\n",
       "      <td>78767</td>\n",
       "      <td>1</td>\n",
       "      <td>130.788624</td>\n",
       "      <td>130.788624</td>\n",
       "      <td>1.0</td>\n",
       "      <td>PO</td>\n",
       "      <td>gasoline</td>\n",
       "      <td>private</td>\n",
       "      <td>N</td>\n",
       "      <td>male</td>\n",
       "      <td>52</td>\n",
       "      <td>1</td>\n",
       "      <td>4</td>\n",
       "      <td>85</td>\n",
       "      <td>4900</td>\n",
       "      <td>SPA</td>\n",
       "      <td>5.855097</td>\n",
       "      <td>50.472596</td>\n",
       "    </tr>\n",
       "    <tr>\n",
       "      <th>95081</th>\n",
       "      <td>95082</td>\n",
       "      <td>2</td>\n",
       "      <td>193.877526</td>\n",
       "      <td>96.938763</td>\n",
       "      <td>1.0</td>\n",
       "      <td>TPL</td>\n",
       "      <td>diesel</td>\n",
       "      <td>private</td>\n",
       "      <td>N</td>\n",
       "      <td>female</td>\n",
       "      <td>44</td>\n",
       "      <td>2</td>\n",
       "      <td>8</td>\n",
       "      <td>53</td>\n",
       "      <td>6150</td>\n",
       "      <td>ANDERLUE</td>\n",
       "      <td>4.253717</td>\n",
       "      <td>50.404104</td>\n",
       "    </tr>\n",
       "    <tr>\n",
       "      <th>5922</th>\n",
       "      <td>5923</td>\n",
       "      <td>1</td>\n",
       "      <td>500.918446</td>\n",
       "      <td>500.918446</td>\n",
       "      <td>1.0</td>\n",
       "      <td>PO</td>\n",
       "      <td>diesel</td>\n",
       "      <td>private</td>\n",
       "      <td>N</td>\n",
       "      <td>male</td>\n",
       "      <td>30</td>\n",
       "      <td>0</td>\n",
       "      <td>5</td>\n",
       "      <td>66</td>\n",
       "      <td>1090</td>\n",
       "      <td>JETTE</td>\n",
       "      <td>4.309525</td>\n",
       "      <td>50.882140</td>\n",
       "    </tr>\n",
       "  </tbody>\n",
       "</table>\n",
       "</div>"
      ],
      "text/plain": [
       "          id  nclaims      amount         avg  expo coverage      fuel  \\\n",
       "42875  42876        1  297.521808  297.521808   1.0      TPL  gasoline   \n",
       "78032  78033        1  635.995627  635.995627   1.0       PO  gasoline   \n",
       "78766  78767        1  130.788624  130.788624   1.0       PO  gasoline   \n",
       "95081  95082        2  193.877526   96.938763   1.0      TPL    diesel   \n",
       "5922    5923        1  500.918446  500.918446   1.0       PO    diesel   \n",
       "\n",
       "           use fleet     sex  ageph  bm  agec  power    pc      town  \\\n",
       "42875  private     N  female     48   5    10     66  2970   SCHILDE   \n",
       "78032     work     N  female     31   0     7     39  4850  PLOMBIER   \n",
       "78766  private     N    male     52   1     4     85  4900       SPA   \n",
       "95081  private     N  female     44   2     8     53  6150  ANDERLUE   \n",
       "5922   private     N    male     30   0     5     66  1090     JETTE   \n",
       "\n",
       "           long        lat  \n",
       "42875  4.569863  51.256762  \n",
       "78032  5.951618  50.714810  \n",
       "78766  5.855097  50.472596  \n",
       "95081  4.253717  50.404104  \n",
       "5922   4.309525  50.882140  "
      ]
     },
     "execution_count": 367,
     "metadata": {},
     "output_type": "execute_result"
    }
   ],
   "source": [
    "df_claims = train[train.nclaims > 0]; df_claims.head()"
   ]
  },
  {
   "cell_type": "code",
   "execution_count": 368,
   "metadata": {},
   "outputs": [
    {
     "data": {
      "text/plain": [
       "(13752, 18)"
      ]
     },
     "execution_count": 368,
     "metadata": {},
     "output_type": "execute_result"
    }
   ],
   "source": [
    "df_claims.shape"
   ]
  },
  {
   "cell_type": "markdown",
   "metadata": {},
   "source": [
    "Let's model the log severity with a MSE loss:"
   ]
  },
  {
   "cell_type": "code",
   "execution_count": 369,
   "metadata": {},
   "outputs": [
    {
     "name": "stdout",
     "output_type": "stream",
     "text": [
      "Train on 13752 samples\n",
      "Epoch 1/100\n",
      "13752/13752 [==============================] - 0s 24us/sample - loss: 23.3766\n",
      "Epoch 2/100\n",
      "13752/13752 [==============================] - 0s 7us/sample - loss: 22.3916\n",
      "Epoch 3/100\n",
      "13752/13752 [==============================] - 0s 7us/sample - loss: 21.4344\n",
      "Epoch 4/100\n",
      "13752/13752 [==============================] - 0s 7us/sample - loss: 20.5005\n",
      "Epoch 5/100\n",
      "13752/13752 [==============================] - 0s 7us/sample - loss: 19.5921\n",
      "Epoch 6/100\n",
      "13752/13752 [==============================] - 0s 7us/sample - loss: 18.7036\n",
      "Epoch 7/100\n",
      "13752/13752 [==============================] - 0s 7us/sample - loss: 17.84100s - loss: 18.04\n",
      "Epoch 8/100\n",
      "13752/13752 [==============================] - 0s 7us/sample - loss: 16.9988\n",
      "Epoch 9/100\n",
      "13752/13752 [==============================] - 0s 8us/sample - loss: 16.1815\n",
      "Epoch 10/100\n",
      "13752/13752 [==============================] - 0s 7us/sample - loss: 15.3881\n",
      "Epoch 11/100\n",
      "13752/13752 [==============================] - 0s 8us/sample - loss: 14.6200\n",
      "Epoch 12/100\n",
      "13752/13752 [==============================] - 0s 8us/sample - loss: 13.8722\n",
      "Epoch 13/100\n",
      "13752/13752 [==============================] - 0s 7us/sample - loss: 13.1468\n",
      "Epoch 14/100\n",
      "13752/13752 [==============================] - 0s 8us/sample - loss: 12.4462\n",
      "Epoch 15/100\n",
      "13752/13752 [==============================] - 0s 8us/sample - loss: 11.7697\n",
      "Epoch 16/100\n",
      "13752/13752 [==============================] - 0s 8us/sample - loss: 11.1153\n",
      "Epoch 17/100\n",
      "13752/13752 [==============================] - 0s 7us/sample - loss: 10.4824\n",
      "Epoch 18/100\n",
      "13752/13752 [==============================] - 0s 7us/sample - loss: 9.8751\n",
      "Epoch 19/100\n",
      "13752/13752 [==============================] - 0s 8us/sample - loss: 9.2908\n",
      "Epoch 20/100\n",
      "13752/13752 [==============================] - 0s 8us/sample - loss: 8.7309\n",
      "Epoch 21/100\n",
      "13752/13752 [==============================] - 0s 7us/sample - loss: 8.1918\n",
      "Epoch 22/100\n",
      "13752/13752 [==============================] - 0s 8us/sample - loss: 7.6766 0s - loss: 7.76\n",
      "Epoch 23/100\n",
      "13752/13752 [==============================] - 0s 8us/sample - loss: 7.1846\n",
      "Epoch 24/100\n",
      "13752/13752 [==============================] - 0s 7us/sample - loss: 6.7164\n",
      "Epoch 25/100\n",
      "13752/13752 [==============================] - 0s 8us/sample - loss: 6.2726 0s - loss: 6.42\n",
      "Epoch 26/100\n",
      "13752/13752 [==============================] - 0s 8us/sample - loss: 5.8514\n",
      "Epoch 27/100\n",
      "13752/13752 [==============================] - 0s 8us/sample - loss: 5.4515\n",
      "Epoch 28/100\n",
      "13752/13752 [==============================] - 0s 8us/sample - loss: 5.0774\n",
      "Epoch 29/100\n",
      "13752/13752 [==============================] - 0s 8us/sample - loss: 4.7248\n",
      "Epoch 30/100\n",
      "13752/13752 [==============================] - 0s 7us/sample - loss: 4.3947\n",
      "Epoch 31/100\n",
      "13752/13752 [==============================] - 0s 7us/sample - loss: 4.0891\n",
      "Epoch 32/100\n",
      "13752/13752 [==============================] - 0s 7us/sample - loss: 3.8061\n",
      "Epoch 33/100\n",
      "13752/13752 [==============================] - 0s 7us/sample - loss: 3.5469\n",
      "Epoch 34/100\n",
      "13752/13752 [==============================] - 0s 8us/sample - loss: 3.3106\n",
      "Epoch 35/100\n",
      "13752/13752 [==============================] - 0s 8us/sample - loss: 3.0968\n",
      "Epoch 36/100\n",
      "13752/13752 [==============================] - 0s 7us/sample - loss: 2.9085\n",
      "Epoch 37/100\n",
      "13752/13752 [==============================] - 0s 7us/sample - loss: 2.7402\n",
      "Epoch 38/100\n",
      "13752/13752 [==============================] - 0s 7us/sample - loss: 2.5965\n",
      "Epoch 39/100\n",
      "13752/13752 [==============================] - 0s 8us/sample - loss: 2.4757\n",
      "Epoch 40/100\n",
      "13752/13752 [==============================] - 0s 8us/sample - loss: 2.3756\n",
      "Epoch 41/100\n",
      "13752/13752 [==============================] - 0s 8us/sample - loss: 2.2996\n",
      "Epoch 42/100\n",
      "13752/13752 [==============================] - 0s 7us/sample - loss: 2.2466\n",
      "Epoch 43/100\n",
      "13752/13752 [==============================] - 0s 7us/sample - loss: 2.2125\n",
      "Epoch 44/100\n",
      "13752/13752 [==============================] - 0s 7us/sample - loss: 2.1958\n",
      "Epoch 45/100\n",
      "13752/13752 [==============================] - 0s 7us/sample - loss: 2.1912\n",
      "Epoch 46/100\n",
      "13752/13752 [==============================] - 0s 7us/sample - loss: 2.1903\n",
      "Epoch 47/100\n",
      "13752/13752 [==============================] - 0s 8us/sample - loss: 2.1901\n",
      "Epoch 48/100\n",
      "13752/13752 [==============================] - 0s 7us/sample - loss: 2.1900\n",
      "Epoch 49/100\n",
      "13752/13752 [==============================] - 0s 7us/sample - loss: 2.1900\n",
      "Epoch 50/100\n",
      "13752/13752 [==============================] - 0s 8us/sample - loss: 2.1900\n",
      "Epoch 51/100\n",
      "13752/13752 [==============================] - 0s 8us/sample - loss: 2.1900\n",
      "Epoch 52/100\n",
      "13752/13752 [==============================] - 0s 8us/sample - loss: 2.1900\n",
      "Epoch 53/100\n",
      "13752/13752 [==============================] - 0s 8us/sample - loss: 2.1900\n",
      "Epoch 54/100\n",
      "13752/13752 [==============================] - 0s 8us/sample - loss: 2.1900\n",
      "Epoch 55/100\n",
      "13752/13752 [==============================] - 0s 8us/sample - loss: 2.1900\n",
      "Epoch 56/100\n",
      "13752/13752 [==============================] - 0s 8us/sample - loss: 2.1900\n",
      "Epoch 57/100\n",
      "13752/13752 [==============================] - 0s 7us/sample - loss: 2.1900\n",
      "Epoch 58/100\n",
      "13752/13752 [==============================] - 0s 8us/sample - loss: 2.1900\n",
      "Epoch 59/100\n",
      "13752/13752 [==============================] - 0s 8us/sample - loss: 2.1900\n",
      "Epoch 60/100\n",
      "13752/13752 [==============================] - 0s 9us/sample - loss: 2.1900\n",
      "Epoch 61/100\n",
      "13752/13752 [==============================] - 0s 9us/sample - loss: 2.1900\n",
      "Epoch 62/100\n",
      "13752/13752 [==============================] - 0s 10us/sample - loss: 2.1900\n",
      "Epoch 63/100\n",
      "13752/13752 [==============================] - 0s 9us/sample - loss: 2.1900\n",
      "Epoch 64/100\n",
      "13752/13752 [==============================] - 0s 8us/sample - loss: 2.1900\n",
      "Epoch 65/100\n",
      "13752/13752 [==============================] - 0s 6us/sample - loss: 2.1900\n",
      "Epoch 66/100\n",
      "13752/13752 [==============================] - 0s 7us/sample - loss: 2.1900\n",
      "Epoch 67/100\n",
      "13752/13752 [==============================] - 0s 7us/sample - loss: 2.1900\n",
      "Epoch 68/100\n",
      "13752/13752 [==============================] - 0s 7us/sample - loss: 2.1900\n",
      "Epoch 69/100\n",
      "13752/13752 [==============================] - 0s 7us/sample - loss: 2.1900\n",
      "Epoch 70/100\n",
      "13752/13752 [==============================] - 0s 7us/sample - loss: 2.1900\n",
      "Epoch 71/100\n",
      "13752/13752 [==============================] - 0s 8us/sample - loss: 2.1900\n",
      "Epoch 72/100\n",
      "13752/13752 [==============================] - 0s 9us/sample - loss: 2.1900\n",
      "Epoch 73/100\n",
      "13752/13752 [==============================] - 0s 10us/sample - loss: 2.1900\n",
      "Epoch 74/100\n",
      "13752/13752 [==============================] - 0s 9us/sample - loss: 2.1900\n",
      "Epoch 75/100\n",
      "13752/13752 [==============================] - 0s 9us/sample - loss: 2.1900\n",
      "Epoch 76/100\n",
      "13752/13752 [==============================] - 0s 6us/sample - loss: 2.1900\n",
      "Epoch 77/100\n",
      "13752/13752 [==============================] - 0s 7us/sample - loss: 2.1900\n",
      "Epoch 78/100\n",
      "13752/13752 [==============================] - 0s 7us/sample - loss: 2.1900\n",
      "Epoch 79/100\n",
      "13752/13752 [==============================] - 0s 7us/sample - loss: 2.1900\n",
      "Epoch 80/100\n",
      "13752/13752 [==============================] - 0s 8us/sample - loss: 2.1900\n",
      "Epoch 81/100\n",
      "13752/13752 [==============================] - 0s 8us/sample - loss: 2.1900\n",
      "Epoch 82/100\n",
      "13752/13752 [==============================] - 0s 8us/sample - loss: 2.1900\n",
      "Epoch 83/100\n",
      "13752/13752 [==============================] - 0s 8us/sample - loss: 2.1900\n",
      "Epoch 84/100\n",
      "13752/13752 [==============================] - 0s 8us/sample - loss: 2.1899\n",
      "Epoch 85/100\n",
      "13752/13752 [==============================] - 0s 8us/sample - loss: 2.1900\n",
      "Epoch 86/100\n",
      "13752/13752 [==============================] - 0s 8us/sample - loss: 2.1900\n",
      "Epoch 87/100\n",
      "13752/13752 [==============================] - 0s 7us/sample - loss: 2.1899\n",
      "Epoch 88/100\n",
      "13752/13752 [==============================] - 0s 7us/sample - loss: 2.1900\n",
      "Epoch 89/100\n",
      "13752/13752 [==============================] - 0s 8us/sample - loss: 2.1900\n",
      "Epoch 90/100\n",
      "13752/13752 [==============================] - 0s 8us/sample - loss: 2.1900\n",
      "Epoch 91/100\n",
      "13752/13752 [==============================] - 0s 7us/sample - loss: 2.1900\n",
      "Epoch 92/100\n"
     ]
    },
    {
     "name": "stdout",
     "output_type": "stream",
     "text": [
      "13752/13752 [==============================] - 0s 8us/sample - loss: 2.1900\n",
      "Epoch 93/100\n",
      "13752/13752 [==============================] - 0s 8us/sample - loss: 2.1900\n",
      "Epoch 94/100\n",
      "13752/13752 [==============================] - 0s 8us/sample - loss: 2.1900\n",
      "Epoch 95/100\n",
      "13752/13752 [==============================] - 0s 7us/sample - loss: 2.1900\n",
      "Epoch 96/100\n",
      "13752/13752 [==============================] - 0s 7us/sample - loss: 2.1900 0s - loss: 2.185\n",
      "Epoch 97/100\n",
      "13752/13752 [==============================] - 0s 7us/sample - loss: 2.1900\n",
      "Epoch 98/100\n",
      "13752/13752 [==============================] - 0s 8us/sample - loss: 2.1900\n",
      "Epoch 99/100\n",
      "13752/13752 [==============================] - 0s 7us/sample - loss: 2.1900\n",
      "Epoch 100/100\n",
      "13752/13752 [==============================] - 0s 7us/sample - loss: 2.1900\n"
     ]
    },
    {
     "data": {
      "text/plain": [
       "<tensorflow.python.keras.callbacks.History at 0x25145090688>"
      ]
     },
     "execution_count": 369,
     "metadata": {},
     "output_type": "execute_result"
    }
   ],
   "source": [
    "nn_sev_log = tf.keras.models.Sequential()\n",
    "nn_sev_log.add(tf.keras.layers.Dense(units = 1, activation = 'linear', input_shape = (1,), use_bias = False))\n",
    "nn_sev_log.compile(optimizer = 'RMSprop', loss = 'mse')\n",
    "nn_sev_log.fit(x = np.array(np.ones(df_claims.shape[0])),\n",
    "              y = np.log(np.array(df_claims['avg'])),\n",
    "              epochs = 100,\n",
    "              batch_size = 128,\n",
    "              validation_split = 0,\n",
    "              verbose = 1)"
   ]
  },
  {
   "cell_type": "code",
   "execution_count": 370,
   "metadata": {},
   "outputs": [
    {
     "data": {
      "text/plain": [
       "array([5.69548753, 6.45519169, 4.87358246, ..., 7.26289458, 5.04203523,\n",
       "       4.50377059])"
      ]
     },
     "execution_count": 370,
     "metadata": {},
     "output_type": "execute_result"
    }
   ],
   "source": [
    "np.log(np.array(df_claims['avg']))"
   ]
  },
  {
   "cell_type": "code",
   "execution_count": 372,
   "metadata": {},
   "outputs": [
    {
     "data": {
      "text/plain": [
       "array([    0,     1,     2, ..., 13749, 13750, 13751])"
      ]
     },
     "execution_count": 372,
     "metadata": {},
     "output_type": "execute_result"
    }
   ],
   "source": [
    "np.array(range(df_claims.shape[0]))"
   ]
  },
  {
   "cell_type": "code",
   "execution_count": 373,
   "metadata": {},
   "outputs": [
    {
     "data": {
      "text/plain": [
       "453.82257080078125"
      ]
     },
     "execution_count": 373,
     "metadata": {},
     "output_type": "execute_result"
    }
   ],
   "source": [
    "np.float(np.exp(nn_sev_log.predict(tf.cast([1], dtype = tf.float32))))"
   ]
  },
  {
   "cell_type": "code",
   "execution_count": 374,
   "metadata": {},
   "outputs": [
    {
     "data": {
      "text/plain": [
       "count    1.375200e+04\n",
       "mean     1.640646e+03\n",
       "std      1.866569e+04\n",
       "min      4.957870e-02\n",
       "25%      1.427619e+02\n",
       "50%      5.286391e+02\n",
       "75%      1.426379e+03\n",
       "max      1.989568e+06\n",
       "Name: avg, dtype: float64"
      ]
     },
     "execution_count": 374,
     "metadata": {},
     "output_type": "execute_result"
    }
   ],
   "source": [
    "df_claims['avg'].describe()"
   ]
  },
  {
   "cell_type": "code",
   "execution_count": 376,
   "metadata": {},
   "outputs": [],
   "source": [
    "def k_gamma(y_true, y_pred):\n",
    "    y_true = tf.cast(y_true, dtype = tf.float32)\n",
    "    y_pred = tf.cast(y_pred, dtype = tf.float32)\n",
    "    return ((y_true - y_pred) / y_pred) - tf.math.log(y_true / y_pred)"
   ]
  },
  {
   "cell_type": "code",
   "execution_count": 377,
   "metadata": {},
   "outputs": [
    {
     "name": "stdout",
     "output_type": "stream",
     "text": [
      "Train on 13752 samples\n",
      "Epoch 1/100\n",
      "13752/13752 [==============================] - 0s 24us/sample - loss: 381.4913\n",
      "Epoch 2/100\n",
      "13752/13752 [==============================] - 0s 7us/sample - loss: 348.6231\n",
      "Epoch 3/100\n",
      "13752/13752 [==============================] - 0s 7us/sample - loss: 319.9109\n",
      "Epoch 4/100\n",
      "13752/13752 [==============================] - 0s 9us/sample - loss: 292.3375\n",
      "Epoch 5/100\n",
      "13752/13752 [==============================] - 0s 10us/sample - loss: 270.2446\n",
      "Epoch 6/100\n",
      "13752/13752 [==============================] - 0s 6us/sample - loss: 248.3748\n",
      "Epoch 7/100\n",
      "13752/13752 [==============================] - 0s 7us/sample - loss: 225.5478\n",
      "Epoch 8/100\n",
      "13752/13752 [==============================] - 0s 7us/sample - loss: 208.6724\n",
      "Epoch 9/100\n",
      "13752/13752 [==============================] - 0s 7us/sample - loss: 191.1977\n",
      "Epoch 10/100\n",
      "13752/13752 [==============================] - 0s 7us/sample - loss: 172.7751\n",
      "Epoch 11/100\n",
      "13752/13752 [==============================] - 0s 7us/sample - loss: 159.3172\n",
      "Epoch 12/100\n",
      "13752/13752 [==============================] - ETA: 0s - loss: 153.571 - 0s 7us/sample - loss: 145.8676\n",
      "Epoch 13/100\n",
      "13752/13752 [==============================] - 0s 7us/sample - loss: 133.9710\n",
      "Epoch 14/100\n",
      "13752/13752 [==============================] - 0s 7us/sample - loss: 121.4352\n",
      "Epoch 15/100\n",
      "13752/13752 [==============================] - 0s 7us/sample - loss: 112.0008\n",
      "Epoch 16/100\n",
      "13752/13752 [==============================] - 0s 7us/sample - loss: 102.0618\n",
      "Epoch 17/100\n",
      "13752/13752 [==============================] - 0s 7us/sample - loss: 93.5948\n",
      "Epoch 18/100\n",
      "13752/13752 [==============================] - 0s 8us/sample - loss: 85.6061\n",
      "Epoch 19/100\n",
      "13752/13752 [==============================] - 0s 8us/sample - loss: 78.2078\n",
      "Epoch 20/100\n",
      "13752/13752 [==============================] - 0s 8us/sample - loss: 71.4569\n",
      "Epoch 21/100\n",
      "13752/13752 [==============================] - 0s 8us/sample - loss: 65.5685\n",
      "Epoch 22/100\n",
      "13752/13752 [==============================] - 0s 8us/sample - loss: 60.0418\n",
      "Epoch 23/100\n",
      "13752/13752 [==============================] - 0s 8us/sample - loss: 54.2725\n",
      "Epoch 24/100\n",
      "13752/13752 [==============================] - 0s 8us/sample - loss: 49.4944\n",
      "Epoch 25/100\n",
      "13752/13752 [==============================] - 0s 7us/sample - loss: 45.3451\n",
      "Epoch 26/100\n",
      "13752/13752 [==============================] - 0s 7us/sample - loss: 41.1242\n",
      "Epoch 27/100\n",
      "13752/13752 [==============================] - 0s 7us/sample - loss: 37.3520\n",
      "Epoch 28/100\n",
      "13752/13752 [==============================] - 0s 8us/sample - loss: 34.2682\n",
      "Epoch 29/100\n",
      "13752/13752 [==============================] - 0s 8us/sample - loss: 31.2778\n",
      "Epoch 30/100\n",
      "13752/13752 [==============================] - 0s 8us/sample - loss: 28.6552\n",
      "Epoch 31/100\n",
      "13752/13752 [==============================] - 0s 8us/sample - loss: 26.1533\n",
      "Epoch 32/100\n",
      "13752/13752 [==============================] - 0s 7us/sample - loss: 23.6981\n",
      "Epoch 33/100\n",
      "13752/13752 [==============================] - 0s 7us/sample - loss: 21.5840\n",
      "Epoch 34/100\n",
      "13752/13752 [==============================] - 0s 8us/sample - loss: 19.7440\n",
      "Epoch 35/100\n",
      "13752/13752 [==============================] - 0s 8us/sample - loss: 17.9639\n",
      "Epoch 36/100\n",
      "13752/13752 [==============================] - 0s 8us/sample - loss: 16.2902\n",
      "Epoch 37/100\n",
      "13752/13752 [==============================] - 0s 8us/sample - loss: 14.9960\n",
      "Epoch 38/100\n",
      "13752/13752 [==============================] - 0s 7us/sample - loss: 13.5698\n",
      "Epoch 39/100\n",
      "13752/13752 [==============================] - 0s 8us/sample - loss: 12.18410s - loss: 11.\n",
      "Epoch 40/100\n",
      "13752/13752 [==============================] - 0s 8us/sample - loss: 11.0660\n",
      "Epoch 41/100\n",
      "13752/13752 [==============================] - 0s 8us/sample - loss: 10.2185\n",
      "Epoch 42/100\n",
      "13752/13752 [==============================] - 0s 10us/sample - loss: 9.1353\n",
      "Epoch 43/100\n",
      "13752/13752 [==============================] - 0s 9us/sample - loss: 8.3753\n",
      "Epoch 44/100\n",
      "13752/13752 [==============================] - 0s 9us/sample - loss: 7.5759\n",
      "Epoch 45/100\n",
      "13752/13752 [==============================] - 0s 7us/sample - loss: 6.8545\n",
      "Epoch 46/100\n",
      "13752/13752 [==============================] - 0s 7us/sample - loss: 6.3233\n",
      "Epoch 47/100\n",
      "13752/13752 [==============================] - 0s 7us/sample - loss: 5.7186\n",
      "Epoch 48/100\n",
      "13752/13752 [==============================] - 0s 7us/sample - loss: 5.2332\n",
      "Epoch 49/100\n",
      "13752/13752 [==============================] - 0s 7us/sample - loss: 4.7814\n",
      "Epoch 50/100\n",
      "13752/13752 [==============================] - 0s 7us/sample - loss: 4.3638\n",
      "Epoch 51/100\n",
      "13752/13752 [==============================] - 0s 7us/sample - loss: 3.9846\n",
      "Epoch 52/100\n",
      "13752/13752 [==============================] - 0s 7us/sample - loss: 3.6667\n",
      "Epoch 53/100\n",
      "13752/13752 [==============================] - 0s 7us/sample - loss: 3.3444\n",
      "Epoch 54/100\n",
      "13752/13752 [==============================] - 0s 7us/sample - loss: 3.0982\n",
      "Epoch 55/100\n",
      "13752/13752 [==============================] - 0s 7us/sample - loss: 2.8524\n",
      "Epoch 56/100\n",
      "13752/13752 [==============================] - 0s 7us/sample - loss: 2.6121\n",
      "Epoch 57/100\n",
      "13752/13752 [==============================] - 0s 7us/sample - loss: 2.4385\n",
      "Epoch 58/100\n",
      "13752/13752 [==============================] - 0s 7us/sample - loss: 2.2653\n",
      "Epoch 59/100\n",
      "13752/13752 [==============================] - 0s 7us/sample - loss: 2.1177\n",
      "Epoch 60/100\n",
      "13752/13752 [==============================] - 0s 7us/sample - loss: 1.9972\n",
      "Epoch 61/100\n",
      "13752/13752 [==============================] - 0s 7us/sample - loss: 1.8913\n",
      "Epoch 62/100\n",
      "13752/13752 [==============================] - 0s 9us/sample - loss: 1.7879\n",
      "Epoch 63/100\n",
      "13752/13752 [==============================] - 0s 12us/sample - loss: 1.7043\n",
      "Epoch 64/100\n",
      "13752/13752 [==============================] - 0s 19us/sample - loss: 1.6235\n",
      "Epoch 65/100\n",
      "13752/13752 [==============================] - 0s 8us/sample - loss: 1.5507\n",
      "Epoch 66/100\n",
      "13752/13752 [==============================] - 0s 9us/sample - loss: 1.4975\n",
      "Epoch 67/100\n",
      "13752/13752 [==============================] - 0s 8us/sample - loss: 1.4605\n",
      "Epoch 68/100\n",
      "13752/13752 [==============================] - 0s 7us/sample - loss: 1.4242\n",
      "Epoch 69/100\n",
      "13752/13752 [==============================] - 0s 7us/sample - loss: 1.3943\n",
      "Epoch 70/100\n",
      "13752/13752 [==============================] - 0s 9us/sample - loss: 1.3776\n",
      "Epoch 71/100\n",
      "13752/13752 [==============================] - 0s 7us/sample - loss: 1.3586\n",
      "Epoch 72/100\n",
      "13752/13752 [==============================] - 0s 7us/sample - loss: 1.3423\n",
      "Epoch 73/100\n",
      "13752/13752 [==============================] - 0s 7us/sample - loss: 1.3306\n",
      "Epoch 74/100\n",
      "13752/13752 [==============================] - 0s 7us/sample - loss: 1.3219\n",
      "Epoch 75/100\n",
      "13752/13752 [==============================] - 0s 7us/sample - loss: 1.3152\n",
      "Epoch 76/100\n",
      "13752/13752 [==============================] - 0s 7us/sample - loss: 1.3109\n",
      "Epoch 77/100\n",
      "13752/13752 [==============================] - 0s 7us/sample - loss: 1.3066\n",
      "Epoch 78/100\n",
      "13752/13752 [==============================] - 0s 7us/sample - loss: 1.3037\n",
      "Epoch 79/100\n",
      "13752/13752 [==============================] - 0s 7us/sample - loss: 1.3014\n",
      "Epoch 80/100\n",
      "13752/13752 [==============================] - 0s 7us/sample - loss: 1.2999\n",
      "Epoch 81/100\n",
      "13752/13752 [==============================] - 0s 7us/sample - loss: 1.2981\n",
      "Epoch 82/100\n",
      "13752/13752 [==============================] - 0s 7us/sample - loss: 1.2966\n",
      "Epoch 83/100\n",
      "13752/13752 [==============================] - 0s 7us/sample - loss: 1.2955\n",
      "Epoch 84/100\n",
      "13752/13752 [==============================] - 0s 7us/sample - loss: 1.2953\n",
      "Epoch 85/100\n",
      "13752/13752 [==============================] - 0s 7us/sample - loss: 1.2941\n",
      "Epoch 86/100\n",
      "13752/13752 [==============================] - 0s 7us/sample - loss: 1.2943\n",
      "Epoch 87/100\n",
      "13752/13752 [==============================] - 0s 7us/sample - loss: 1.2935\n",
      "Epoch 88/100\n",
      "13752/13752 [==============================] - 0s 8us/sample - loss: 1.2933\n",
      "Epoch 89/100\n",
      "13752/13752 [==============================] - 0s 8us/sample - loss: 1.2935\n",
      "Epoch 90/100\n",
      "13752/13752 [==============================] - 0s 7us/sample - loss: 1.2930\n",
      "Epoch 91/100\n"
     ]
    },
    {
     "name": "stdout",
     "output_type": "stream",
     "text": [
      "13752/13752 [==============================] - 0s 7us/sample - loss: 1.2924\n",
      "Epoch 92/100\n",
      "13752/13752 [==============================] - 0s 7us/sample - loss: 1.2928\n",
      "Epoch 93/100\n",
      "13752/13752 [==============================] - 0s 7us/sample - loss: 1.2923\n",
      "Epoch 94/100\n",
      "13752/13752 [==============================] - 0s 7us/sample - loss: 1.2922 0s - loss: 1.308\n",
      "Epoch 95/100\n",
      "13752/13752 [==============================] - 0s 7us/sample - loss: 1.2919\n",
      "Epoch 96/100\n",
      "13752/13752 [==============================] - 0s 8us/sample - loss: 1.2915\n",
      "Epoch 97/100\n",
      "13752/13752 [==============================] - 0s 7us/sample - loss: 1.2920\n",
      "Epoch 98/100\n",
      "13752/13752 [==============================] - 0s 7us/sample - loss: 1.2917\n",
      "Epoch 99/100\n",
      "13752/13752 [==============================] - 0s 7us/sample - loss: 1.2926 0s - loss: 1.420\n",
      "Epoch 100/100\n",
      "13752/13752 [==============================] - 0s 8us/sample - loss: 1.2925\n"
     ]
    },
    {
     "data": {
      "text/plain": [
       "<tensorflow.python.keras.callbacks.History at 0x25145688548>"
      ]
     },
     "execution_count": 377,
     "metadata": {},
     "output_type": "execute_result"
    }
   ],
   "source": [
    "nn_sev_gamma = tf.keras.models.Sequential()\n",
    "nn_sev_gamma.add(tf.keras.layers.Dense(units = 1, activation = 'exponential', input_shape = (1,), use_bias = False))\n",
    "nn_sev_gamma.compile(optimizer = 'RMSprop', loss = k_gamma)\n",
    "nn_sev_gamma.fit(x = np.ones(df_claims.shape[0]),\n",
    "                 y = np.array(df_claims['avg']),\n",
    "                 epochs = 100,\n",
    "                 batch_size = 128,\n",
    "                 validation_split = 0)"
   ]
  },
  {
   "cell_type": "code",
   "execution_count": 378,
   "metadata": {},
   "outputs": [
    {
     "data": {
      "text/plain": [
       "1469.9119873046875"
      ]
     },
     "execution_count": 378,
     "metadata": {},
     "output_type": "execute_result"
    }
   ],
   "source": [
    "np.float(nn_sev_gamma.predict(tf.cast([1], dtype = tf.float32)))"
   ]
  },
  {
   "cell_type": "code",
   "execution_count": 382,
   "metadata": {},
   "outputs": [
    {
     "data": {
      "text/plain": [
       "1158.3359115397923"
      ]
     },
     "execution_count": 382,
     "metadata": {},
     "output_type": "execute_result"
    }
   ],
   "source": [
    "np.mean(df_claims[df_claims['avg'] < 30000]['avg'])"
   ]
  },
  {
   "cell_type": "code",
   "execution_count": null,
   "metadata": {},
   "outputs": [],
   "source": []
  }
 ],
 "metadata": {
  "kernelspec": {
   "display_name": "Python 3",
   "language": "python",
   "name": "python3"
  },
  "language_info": {
   "codemirror_mode": {
    "name": "ipython",
    "version": 3
   },
   "file_extension": ".py",
   "mimetype": "text/x-python",
   "name": "python",
   "nbconvert_exporter": "python",
   "pygments_lexer": "ipython3",
   "version": "3.7.6"
  }
 },
 "nbformat": 4,
 "nbformat_minor": 4
}
