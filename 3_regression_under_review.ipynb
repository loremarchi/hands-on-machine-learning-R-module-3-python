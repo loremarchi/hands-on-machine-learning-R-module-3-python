{
 "cells": [
  {
   "cell_type": "markdown",
   "metadata": {},
   "source": [
    "# 3. Claim frequency and severity regression"
   ]
  },
  {
   "cell_type": "markdown",
   "metadata": {},
   "source": [
    "We will now predict claim frequency and severity in the MTPL data with a neural network."
   ]
  },
  {
   "cell_type": "code",
   "execution_count": 1,
   "metadata": {},
   "outputs": [],
   "source": [
    "# load libs\n",
    "import os\n",
    "import numpy as np\n",
    "import pandas as pd\n",
    "import graphviz\n",
    "import random\n",
    "import tensorflow as tf\n",
    "import statsmodels.api as sm\n",
    "import matplotlib.pyplot as plt\n",
    "from tensorflow.keras.utils import plot_model\n",
    "import statsmodels.gam.smooth_basis\n",
    "from statsmodels.gam.api import GLMGam, BSplines\n",
    "from sklearn.model_selection import train_test_split\n",
    "\n",
    "def reset_random_seeds():\n",
    "    os.environ['PYTHONHASHSEED']=str(123)\n",
    "    tf.random.set_seed(123)\n",
    "    np.random.seed(123)\n",
    "    random.seed(123)"
   ]
  },
  {
   "cell_type": "code",
   "execution_count": 2,
   "metadata": {},
   "outputs": [],
   "source": [
    "# load data using separator to correctly parse from .txt\n",
    "df = pd.read_csv(os.path.join(os.getcwd(),\"data\\PC_data.txt\"),  sep=r\"\\s+\")"
   ]
  },
  {
   "cell_type": "code",
   "execution_count": 3,
   "metadata": {},
   "outputs": [],
   "source": [
    "# column names to smaller case\n",
    "df.columns = map(str.lower, df.columns)"
   ]
  },
  {
   "cell_type": "code",
   "execution_count": 4,
   "metadata": {},
   "outputs": [
    {
     "data": {
      "text/html": [
       "<div>\n",
       "<style scoped>\n",
       "    .dataframe tbody tr th:only-of-type {\n",
       "        vertical-align: middle;\n",
       "    }\n",
       "\n",
       "    .dataframe tbody tr th {\n",
       "        vertical-align: top;\n",
       "    }\n",
       "\n",
       "    .dataframe thead th {\n",
       "        text-align: right;\n",
       "    }\n",
       "</style>\n",
       "<table border=\"1\" class=\"dataframe\">\n",
       "  <thead>\n",
       "    <tr style=\"text-align: right;\">\n",
       "      <th></th>\n",
       "      <th>id</th>\n",
       "      <th>nclaims</th>\n",
       "      <th>amount</th>\n",
       "      <th>avg</th>\n",
       "      <th>expo</th>\n",
       "      <th>coverage</th>\n",
       "      <th>fuel</th>\n",
       "      <th>use</th>\n",
       "      <th>fleet</th>\n",
       "      <th>sex</th>\n",
       "      <th>ageph</th>\n",
       "      <th>bm</th>\n",
       "      <th>agec</th>\n",
       "      <th>power</th>\n",
       "      <th>pc</th>\n",
       "      <th>town</th>\n",
       "      <th>long</th>\n",
       "      <th>lat</th>\n",
       "    </tr>\n",
       "  </thead>\n",
       "  <tbody>\n",
       "    <tr>\n",
       "      <th>0</th>\n",
       "      <td>1</td>\n",
       "      <td>1</td>\n",
       "      <td>1618.001036</td>\n",
       "      <td>1618.001036</td>\n",
       "      <td>1.000000</td>\n",
       "      <td>TPL</td>\n",
       "      <td>gasoline</td>\n",
       "      <td>private</td>\n",
       "      <td>N</td>\n",
       "      <td>male</td>\n",
       "      <td>50</td>\n",
       "      <td>5</td>\n",
       "      <td>12</td>\n",
       "      <td>77</td>\n",
       "      <td>1000</td>\n",
       "      <td>BRUSSEL</td>\n",
       "      <td>4.355223</td>\n",
       "      <td>50.845386</td>\n",
       "    </tr>\n",
       "    <tr>\n",
       "      <th>1</th>\n",
       "      <td>2</td>\n",
       "      <td>0</td>\n",
       "      <td>0.000000</td>\n",
       "      <td>NaN</td>\n",
       "      <td>1.000000</td>\n",
       "      <td>PO</td>\n",
       "      <td>gasoline</td>\n",
       "      <td>private</td>\n",
       "      <td>N</td>\n",
       "      <td>female</td>\n",
       "      <td>64</td>\n",
       "      <td>5</td>\n",
       "      <td>3</td>\n",
       "      <td>66</td>\n",
       "      <td>1000</td>\n",
       "      <td>BRUSSEL</td>\n",
       "      <td>4.355223</td>\n",
       "      <td>50.845386</td>\n",
       "    </tr>\n",
       "    <tr>\n",
       "      <th>2</th>\n",
       "      <td>3</td>\n",
       "      <td>0</td>\n",
       "      <td>0.000000</td>\n",
       "      <td>NaN</td>\n",
       "      <td>1.000000</td>\n",
       "      <td>TPL</td>\n",
       "      <td>diesel</td>\n",
       "      <td>private</td>\n",
       "      <td>N</td>\n",
       "      <td>male</td>\n",
       "      <td>60</td>\n",
       "      <td>0</td>\n",
       "      <td>10</td>\n",
       "      <td>70</td>\n",
       "      <td>1000</td>\n",
       "      <td>BRUSSEL</td>\n",
       "      <td>4.355223</td>\n",
       "      <td>50.845386</td>\n",
       "    </tr>\n",
       "    <tr>\n",
       "      <th>3</th>\n",
       "      <td>4</td>\n",
       "      <td>0</td>\n",
       "      <td>0.000000</td>\n",
       "      <td>NaN</td>\n",
       "      <td>1.000000</td>\n",
       "      <td>TPL</td>\n",
       "      <td>gasoline</td>\n",
       "      <td>private</td>\n",
       "      <td>N</td>\n",
       "      <td>male</td>\n",
       "      <td>77</td>\n",
       "      <td>0</td>\n",
       "      <td>15</td>\n",
       "      <td>57</td>\n",
       "      <td>1000</td>\n",
       "      <td>BRUSSEL</td>\n",
       "      <td>4.355223</td>\n",
       "      <td>50.845386</td>\n",
       "    </tr>\n",
       "    <tr>\n",
       "      <th>4</th>\n",
       "      <td>5</td>\n",
       "      <td>1</td>\n",
       "      <td>155.974606</td>\n",
       "      <td>155.974606</td>\n",
       "      <td>0.046575</td>\n",
       "      <td>TPL</td>\n",
       "      <td>gasoline</td>\n",
       "      <td>private</td>\n",
       "      <td>N</td>\n",
       "      <td>female</td>\n",
       "      <td>28</td>\n",
       "      <td>9</td>\n",
       "      <td>7</td>\n",
       "      <td>70</td>\n",
       "      <td>1000</td>\n",
       "      <td>BRUSSEL</td>\n",
       "      <td>4.355223</td>\n",
       "      <td>50.845386</td>\n",
       "    </tr>\n",
       "  </tbody>\n",
       "</table>\n",
       "</div>"
      ],
      "text/plain": [
       "   id  nclaims       amount          avg      expo coverage      fuel  \\\n",
       "0   1        1  1618.001036  1618.001036  1.000000      TPL  gasoline   \n",
       "1   2        0     0.000000          NaN  1.000000       PO  gasoline   \n",
       "2   3        0     0.000000          NaN  1.000000      TPL    diesel   \n",
       "3   4        0     0.000000          NaN  1.000000      TPL  gasoline   \n",
       "4   5        1   155.974606   155.974606  0.046575      TPL  gasoline   \n",
       "\n",
       "       use fleet     sex  ageph  bm  agec  power    pc     town      long  \\\n",
       "0  private     N    male     50   5    12     77  1000  BRUSSEL  4.355223   \n",
       "1  private     N  female     64   5     3     66  1000  BRUSSEL  4.355223   \n",
       "2  private     N    male     60   0    10     70  1000  BRUSSEL  4.355223   \n",
       "3  private     N    male     77   0    15     57  1000  BRUSSEL  4.355223   \n",
       "4  private     N  female     28   9     7     70  1000  BRUSSEL  4.355223   \n",
       "\n",
       "         lat  \n",
       "0  50.845386  \n",
       "1  50.845386  \n",
       "2  50.845386  \n",
       "3  50.845386  \n",
       "4  50.845386  "
      ]
     },
     "execution_count": 4,
     "metadata": {},
     "output_type": "execute_result"
    }
   ],
   "source": [
    "# rename exp to expo\n",
    "df.rename(columns={'exp':'expo'}, inplace = True); df.head()"
   ]
  },
  {
   "cell_type": "code",
   "execution_count": 5,
   "metadata": {},
   "outputs": [
    {
     "name": "stdout",
     "output_type": "stream",
     "text": [
      "train size:(122423, 18), test size:(40808, 18)\n"
     ]
    }
   ],
   "source": [
    "# train/test split using sklearn\n",
    "train, test = train_test_split(df, test_size=0.25); print(f'train size:{train.shape}, test size:{test.shape}')"
   ]
  },
  {
   "cell_type": "code",
   "execution_count": 6,
   "metadata": {},
   "outputs": [
    {
     "name": "stdout",
     "output_type": "stream",
     "text": [
      "train size:(122423, 18)\n"
     ]
    }
   ],
   "source": [
    "# Reshuffling of the training observations\n",
    "train = train.sample(frac = 1); print(f'train size:{train.shape}')"
   ]
  },
  {
   "cell_type": "markdown",
   "metadata": {},
   "source": [
    "Claim frequency is usually modelled via GLM with log-link function:"
   ]
  },
  {
   "cell_type": "markdown",
   "metadata": {},
   "source": [
    "$$\n",
    "\\begin{align}\n",
    "Y \\sim Poisson(\\lambda = \\exp(x'\\beta))\n",
    "\\end{align}\n",
    "$$"
   ]
  },
  {
   "cell_type": "markdown",
   "metadata": {},
   "source": [
    "We now redefine this model as a neural network:"
   ]
  },
  {
   "cell_type": "markdown",
   "metadata": {},
   "source": [
    "<img src=\"./imgs/glm_vs_nn.jpg\" width=\"440\" height=\"440\" align=\"center\"/>"
   ]
  },
  {
   "cell_type": "markdown",
   "metadata": {},
   "source": [
    "### 3.1 Claim frequency and severity regression"
   ]
  },
  {
   "cell_type": "markdown",
   "metadata": {},
   "source": [
    "Consider a Poisson GLM model with only an intercept:"
   ]
  },
  {
   "cell_type": "markdown",
   "metadata": {},
   "source": [
    "$$\n",
    "\\begin{align}\n",
    "Y \\sim Poisson(\\lambda = \\exp(1\\cdot\\beta))\n",
    "\\end{align}\n",
    "$$"
   ]
  },
  {
   "cell_type": "markdown",
   "metadata": {},
   "source": [
    "Let's fit a neural network with the following parametrization:\n",
    "* **layer_dense**: there are no hidden layers, the input layer is directly connected to the output layer.\n",
    "* **units = 1**: there is one output node.\n",
    "* **activation = 'exponential'**: we use an exponential inverse link function.\n",
    "* **input_shape = (1,)**: there is one input node, i.e., the intercept which will be constant one.\n",
    "* **use_bias = FALSE**: we don't need a bias term, since we explicitly include an input node equal to one.\n",
    "* **loss = 'poisson'**: we maximize the Poisson likelihood, i.e., minimize the Poisson deviance."
   ]
  },
  {
   "cell_type": "code",
   "execution_count": 7,
   "metadata": {},
   "outputs": [],
   "source": [
    "# neural network initialization\n",
    "reset_random_seeds()\n",
    "nn_freq_intercept = tf.keras.models.Sequential()\n",
    "nn_freq_intercept.add(tf.keras.layers.Dense(units = 1, activation = 'exponential', input_shape = (1,), use_bias = False))\n",
    "nn_freq_intercept.compile(optimizer = 'RMSprop', loss = 'poisson')"
   ]
  },
  {
   "cell_type": "markdown",
   "metadata": {},
   "source": [
    "**QUESTION:** how many parameters does this model have?"
   ]
  },
  {
   "cell_type": "code",
   "execution_count": 8,
   "metadata": {},
   "outputs": [
    {
     "data": {
      "text/plain": [
       "1"
      ]
     },
     "execution_count": 8,
     "metadata": {},
     "output_type": "execute_result"
    }
   ],
   "source": [
    "# answer\n",
    "nn_freq_intercept.count_params()"
   ]
  },
  {
   "cell_type": "code",
   "execution_count": 9,
   "metadata": {},
   "outputs": [
    {
     "name": "stdout",
     "output_type": "stream",
     "text": [
      "Model: \"sequential\"\n",
      "_________________________________________________________________\n",
      "Layer (type)                 Output Shape              Param #   \n",
      "=================================================================\n",
      "dense (Dense)                (None, 1)                 1         \n",
      "=================================================================\n",
      "Total params: 1\n",
      "Trainable params: 1\n",
      "Non-trainable params: 0\n",
      "_________________________________________________________________\n"
     ]
    }
   ],
   "source": [
    "# summary of the structure of the neural netweork\n",
    "nn_freq_intercept.summary()"
   ]
  },
  {
   "cell_type": "code",
   "execution_count": 10,
   "metadata": {},
   "outputs": [
    {
     "name": "stdout",
     "output_type": "stream",
     "text": [
      "size of intercept vector: 122423, size of counts vector: 122423\n"
     ]
    }
   ],
   "source": [
    "# create input/output vectors\n",
    "intercept = np.ones(train.shape[0])\n",
    "counts = np.array(train['nclaims'])\n",
    "print(f'size of intercept vector: {intercept.shape[0]}, size of counts vector: {counts.shape[0]}')"
   ]
  },
  {
   "cell_type": "markdown",
   "metadata": {},
   "source": [
    "The **fit()** method shows the following parametrization:\n",
    "* **x = intercept**: use the intercept as feature.\n",
    "* **y = counts**: use the claim counts as target.\n",
    "* **epochs = 20**: perform 20 training iterations over the complete data.\n",
    "* **batch_size = 1024**: use batches with 1024 observations to update weights.\n",
    "* **validation_split = 0**: don't use a validation set, so all observations are used for training.\n",
    "* **verbose = 0**: silence keras such that no output is generated during fitting.\n"
   ]
  },
  {
   "cell_type": "code",
   "execution_count": 11,
   "metadata": {},
   "outputs": [
    {
     "data": {
      "text/plain": [
       "<tensorflow.python.keras.callbacks.History at 0x1bb8363da88>"
      ]
     },
     "execution_count": 11,
     "metadata": {},
     "output_type": "execute_result"
    }
   ],
   "source": [
    "# fit the neural netword\n",
    "nn_freq_intercept.fit(x = intercept,\n",
    "                      y = counts,\n",
    "                      epochs = 30,\n",
    "                      batch_size = 1024,\n",
    "                      validation_split = 0,\n",
    "                      verbose = 0)"
   ]
  },
  {
   "cell_type": "markdown",
   "metadata": {},
   "source": [
    "We compare the results of our neural network with the same model specified as a GLM:"
   ]
  },
  {
   "cell_type": "code",
   "execution_count": 12,
   "metadata": {},
   "outputs": [
    {
     "data": {
      "text/html": [
       "<table class=\"simpletable\">\n",
       "<caption>Generalized Linear Model Regression Results</caption>\n",
       "<tr>\n",
       "  <th>Dep. Variable:</th>        <td>nclaims</td>     <th>  No. Observations:  </th>  <td>122423</td> \n",
       "</tr>\n",
       "<tr>\n",
       "  <th>Model:</th>                  <td>GLM</td>       <th>  Df Residuals:      </th>  <td>122422</td> \n",
       "</tr>\n",
       "<tr>\n",
       "  <th>Model Family:</th>         <td>Poisson</td>     <th>  Df Model:          </th>  <td>     0</td> \n",
       "</tr>\n",
       "<tr>\n",
       "  <th>Link Function:</th>          <td>log</td>       <th>  Scale:             </th> <td>  1.0000</td>\n",
       "</tr>\n",
       "<tr>\n",
       "  <th>Method:</th>                <td>IRLS</td>       <th>  Log-Likelihood:    </th> <td> -47918.</td>\n",
       "</tr>\n",
       "<tr>\n",
       "  <th>Date:</th>            <td>Fri, 08 Oct 2021</td> <th>  Deviance:          </th> <td>  67627.</td>\n",
       "</tr>\n",
       "<tr>\n",
       "  <th>Time:</th>                <td>00:52:20</td>     <th>  Pearson chi2:      </th> <td>1.34e+05</td>\n",
       "</tr>\n",
       "<tr>\n",
       "  <th>No. Iterations:</th>          <td>6</td>        <th>                     </th>     <td> </td>   \n",
       "</tr>\n",
       "<tr>\n",
       "  <th>Covariance Type:</th>     <td>nonrobust</td>    <th>                     </th>     <td> </td>   \n",
       "</tr>\n",
       "</table>\n",
       "<table class=\"simpletable\">\n",
       "<tr>\n",
       "      <td></td>         <th>coef</th>     <th>std err</th>      <th>z</th>      <th>P>|z|</th>  <th>[0.025</th>    <th>0.975]</th>  \n",
       "</tr>\n",
       "<tr>\n",
       "  <th>Intercept</th> <td>   -2.0892</td> <td>    0.008</td> <td> -257.186</td> <td> 0.000</td> <td>   -2.105</td> <td>   -2.073</td>\n",
       "</tr>\n",
       "</table>"
      ],
      "text/plain": [
       "<class 'statsmodels.iolib.summary.Summary'>\n",
       "\"\"\"\n",
       "                 Generalized Linear Model Regression Results                  \n",
       "==============================================================================\n",
       "Dep. Variable:                nclaims   No. Observations:               122423\n",
       "Model:                            GLM   Df Residuals:                   122422\n",
       "Model Family:                 Poisson   Df Model:                            0\n",
       "Link Function:                    log   Scale:                          1.0000\n",
       "Method:                          IRLS   Log-Likelihood:                -47918.\n",
       "Date:                Fri, 08 Oct 2021   Deviance:                       67627.\n",
       "Time:                        00:52:20   Pearson chi2:                 1.34e+05\n",
       "No. Iterations:                     6                                         \n",
       "Covariance Type:            nonrobust                                         \n",
       "==============================================================================\n",
       "                 coef    std err          z      P>|z|      [0.025      0.975]\n",
       "------------------------------------------------------------------------------\n",
       "Intercept     -2.0892      0.008   -257.186      0.000      -2.105      -2.073\n",
       "==============================================================================\n",
       "\"\"\""
      ]
     },
     "execution_count": 12,
     "metadata": {},
     "output_type": "execute_result"
    }
   ],
   "source": [
    "glm_freq_intercept = sm.formula.glm(\"nclaims ~ 1\", data=train, family=sm.families.Poisson()).fit(); glm_freq_intercept.summary()"
   ]
  },
  {
   "cell_type": "code",
   "execution_count": 13,
   "metadata": {},
   "outputs": [
    {
     "name": "stdout",
     "output_type": "stream",
     "text": [
      "NN weights:-2.0901336669921875, \n",
      "GLM coefficients:-2.0891517504125137\n"
     ]
    }
   ],
   "source": [
    "# comparing the estimated parameter (difference reflects a different optimization technique)\n",
    "print(f'NN weights:{np.float(nn_freq_intercept.get_weights()[0])}, \\nGLM coefficients:{np.float(glm_freq_intercept.params)}')"
   ]
  },
  {
   "cell_type": "markdown",
   "metadata": {},
   "source": [
    "### 5.1.1 Your Turn!"
   ]
  },
  {
   "cell_type": "markdown",
   "metadata": {},
   "source": [
    "**QUESTION 1:** adapt this code to replicate a **binomial** GLM with a **logit link function**. Add **accuracy** as a metric in your model. Consider the following hint:\n",
    "* _Hint 1:_ the sigmoid activation function is the inverse of the logit link function.\n",
    "* _Hint 2:_ the binary_crossentropy loss maximizes the loglikelihood of Bernoulli outcomes:\n",
    "$$\n",
    "\\begin{align}\n",
    "\\sum^{n}_{i=1}{(y_{i}\\cdot log(p_{i})+(1-y_{i})\\cdot log(1-p_{i})).}\n",
    "\\end{align}\n",
    "$$"
   ]
  },
  {
   "cell_type": "code",
   "execution_count": 14,
   "metadata": {},
   "outputs": [],
   "source": [
    "reset_random_seeds()\n",
    "exercize_nn = tf.keras.models.Sequential()\n",
    "exercize_nn.add(tf.keras.layers.Dense(units = 1, activation = 'sigmoid', input_shape = (1,), use_bias = False))\n",
    "exercize_nn.compile(optimizer = 'RMSprop', loss = 'binary_crossentropy', metrics = ['accuracy'])"
   ]
  },
  {
   "cell_type": "markdown",
   "metadata": {},
   "source": [
    "**QUESTION 2:** fit your neural network."
   ]
  },
  {
   "cell_type": "code",
   "execution_count": 15,
   "metadata": {},
   "outputs": [
    {
     "data": {
      "text/plain": [
       "<tensorflow.python.keras.callbacks.History at 0x1bb840d7448>"
      ]
     },
     "execution_count": 15,
     "metadata": {},
     "output_type": "execute_result"
    }
   ],
   "source": [
    "exercize_nn.fit(x = intercept,\n",
    "                y = counts > 0, \n",
    "                epochs = 40, \n",
    "                batch_size = 1024, \n",
    "                validation_split = 0, \n",
    "                verbose = 0)"
   ]
  },
  {
   "cell_type": "markdown",
   "metadata": {},
   "source": [
    "**QUESTION 3:** compare your fitted neural network with a GLM.\n",
    "* _Hint 1:_To accomodate the fitting of the logistic regression of a categorical vector, we create a binary proxy variable nclaims_proxy with the following characteristics:\n",
    "    * proxy = 0 when x = 0\n",
    "    * proxy = 1 when x > 0"
   ]
  },
  {
   "cell_type": "code",
   "execution_count": 16,
   "metadata": {},
   "outputs": [],
   "source": [
    "train['nclaims_proxy'] = np.where(train['nclaims'] > 0, 1, 0)"
   ]
  },
  {
   "cell_type": "code",
   "execution_count": 17,
   "metadata": {},
   "outputs": [
    {
     "name": "stdout",
     "output_type": "stream",
     "text": [
      "NN weights:-2.0772416591644287, \n",
      "GLM coefficients:-2.0739579557310837\n"
     ]
    }
   ],
   "source": [
    "exercize_glm = sm.formula.glm(\"nclaims_proxy ~ 1 + 1\", # it must be fitted this way or 0/1 labels get switched\n",
    "                            data=train, \n",
    "                            family=sm.families.Binomial(sm.families.links.logit())).fit();\n",
    "\n",
    "print(f'NN weights:{exercize_nn.get_weights()[0][0][0]}, \\nGLM coefficients:{exercize_glm.params[0]}')"
   ]
  },
  {
   "cell_type": "code",
   "execution_count": 18,
   "metadata": {},
   "outputs": [
    {
     "data": {
      "text/html": [
       "<table class=\"simpletable\">\n",
       "<caption>Generalized Linear Model Regression Results</caption>\n",
       "<tr>\n",
       "  <th>Dep. Variable:</th>     <td>nclaims_proxy</td>  <th>  No. Observations:  </th>  <td>122423</td> \n",
       "</tr>\n",
       "<tr>\n",
       "  <th>Model:</th>                  <td>GLM</td>       <th>  Df Residuals:      </th>  <td>122422</td> \n",
       "</tr>\n",
       "<tr>\n",
       "  <th>Model Family:</th>        <td>Binomial</td>     <th>  Df Model:          </th>  <td>     0</td> \n",
       "</tr>\n",
       "<tr>\n",
       "  <th>Link Function:</th>         <td>logit</td>      <th>  Scale:             </th> <td>  1.0000</td>\n",
       "</tr>\n",
       "<tr>\n",
       "  <th>Method:</th>                <td>IRLS</td>       <th>  Log-Likelihood:    </th> <td> -42843.</td>\n",
       "</tr>\n",
       "<tr>\n",
       "  <th>Date:</th>            <td>Fri, 08 Oct 2021</td> <th>  Deviance:          </th> <td>  85686.</td>\n",
       "</tr>\n",
       "<tr>\n",
       "  <th>Time:</th>                <td>00:52:26</td>     <th>  Pearson chi2:      </th> <td>1.22e+05</td>\n",
       "</tr>\n",
       "<tr>\n",
       "  <th>No. Iterations:</th>          <td>5</td>        <th>                     </th>     <td> </td>   \n",
       "</tr>\n",
       "<tr>\n",
       "  <th>Covariance Type:</th>     <td>nonrobust</td>    <th>                     </th>     <td> </td>   \n",
       "</tr>\n",
       "</table>\n",
       "<table class=\"simpletable\">\n",
       "<tr>\n",
       "      <td></td>         <th>coef</th>     <th>std err</th>      <th>z</th>      <th>P>|z|</th>  <th>[0.025</th>    <th>0.975]</th>  \n",
       "</tr>\n",
       "<tr>\n",
       "  <th>Intercept</th> <td>   -2.0740</td> <td>    0.009</td> <td> -228.539</td> <td> 0.000</td> <td>   -2.092</td> <td>   -2.056</td>\n",
       "</tr>\n",
       "</table>"
      ],
      "text/plain": [
       "<class 'statsmodels.iolib.summary.Summary'>\n",
       "\"\"\"\n",
       "                 Generalized Linear Model Regression Results                  \n",
       "==============================================================================\n",
       "Dep. Variable:          nclaims_proxy   No. Observations:               122423\n",
       "Model:                            GLM   Df Residuals:                   122422\n",
       "Model Family:                Binomial   Df Model:                            0\n",
       "Link Function:                  logit   Scale:                          1.0000\n",
       "Method:                          IRLS   Log-Likelihood:                -42843.\n",
       "Date:                Fri, 08 Oct 2021   Deviance:                       85686.\n",
       "Time:                        00:52:26   Pearson chi2:                 1.22e+05\n",
       "No. Iterations:                     5                                         \n",
       "Covariance Type:            nonrobust                                         \n",
       "==============================================================================\n",
       "                 coef    std err          z      P>|z|      [0.025      0.975]\n",
       "------------------------------------------------------------------------------\n",
       "Intercept     -2.0740      0.009   -228.539      0.000      -2.092      -2.056\n",
       "==============================================================================\n",
       "\"\"\""
      ]
     },
     "execution_count": 18,
     "metadata": {},
     "output_type": "execute_result"
    }
   ],
   "source": [
    "exercize_glm.summary()"
   ]
  },
  {
   "cell_type": "code",
   "execution_count": 19,
   "metadata": {},
   "outputs": [
    {
     "data": {
      "text/plain": [
       "array([0.11165386, 0.11165386, 0.11165386, ..., 0.11165386, 0.11165386,\n",
       "       0.11165386])"
      ]
     },
     "execution_count": 19,
     "metadata": {},
     "output_type": "execute_result"
    }
   ],
   "source": [
    "exercize_glm.predict()"
   ]
  },
  {
   "cell_type": "code",
   "execution_count": 20,
   "metadata": {},
   "outputs": [
    {
     "data": {
      "text/plain": [
       "array([0.11165])"
      ]
     },
     "execution_count": 20,
     "metadata": {},
     "output_type": "execute_result"
    }
   ],
   "source": [
    "# Q3: compare prediction\n",
    "np.unique(np.round(exercize_glm.predict(),5))"
   ]
  },
  {
   "cell_type": "code",
   "execution_count": 21,
   "metadata": {},
   "outputs": [
    {
     "data": {
      "text/plain": [
       "array([0.11133], dtype=float32)"
      ]
     },
     "execution_count": 21,
     "metadata": {},
     "output_type": "execute_result"
    }
   ],
   "source": [
    "np.unique(np.round(exercize_nn.predict(x = intercept),5))"
   ]
  },
  {
   "cell_type": "code",
   "execution_count": 22,
   "metadata": {},
   "outputs": [],
   "source": [
    "# we can now delete the proxy variable from the dataset\n",
    "train = train.drop('nclaims_proxy',1)"
   ]
  },
  {
   "cell_type": "markdown",
   "metadata": {},
   "source": [
    "### 5.2 Taking exposure into account in a neural network"
   ]
  },
  {
   "cell_type": "markdown",
   "metadata": {},
   "source": [
    "The Poisson loss function, including exposure, is:\n",
    "$$\n",
    "\\begin{align}\n",
    "\\mathcal{L}=\\sum_{i}{expo_{i}\\cdot \\lambda_{i}-y_{i}\\cdot log(expo_{i}\\cdot \\lambda_{i})},\n",
    "\\end{align}\n",
    "$$\n",
    "which is proportional to:\n",
    "$$\n",
    "\\begin{align}\n",
    "\\mathcal{L}=\\sum_{i}{expo_{i}\\cdot (\\lambda_{i}-\\frac{y_{i}}{expo_{i}}log(\\lambda_{i}))}.\n",
    "\\end{align}\n",
    "$$"
   ]
  },
  {
   "cell_type": "markdown",
   "metadata": {},
   "source": [
    "This is the loss of a Poisson model with:\n",
    "* observations $\\frac{y_{i}}{expo_{i}}$ and\n",
    "* weights $expo_{i}$"
   ]
  },
  {
   "cell_type": "markdown",
   "metadata": {},
   "source": [
    "Notice indeed how the parameter estimates of the following two GLMs are identical."
   ]
  },
  {
   "cell_type": "markdown",
   "metadata": {},
   "source": [
    "#### 5.2.1 Fitting GLM with offset component"
   ]
  },
  {
   "cell_type": "code",
   "execution_count": 23,
   "metadata": {},
   "outputs": [
    {
     "data": {
      "text/html": [
       "<table class=\"simpletable\">\n",
       "<caption>Generalized Linear Model Regression Results</caption>\n",
       "<tr>\n",
       "  <th>Dep. Variable:</th>        <td>nclaims</td>     <th>  No. Observations:  </th>  <td>122423</td> \n",
       "</tr>\n",
       "<tr>\n",
       "  <th>Model:</th>                  <td>GLM</td>       <th>  Df Residuals:      </th>  <td>122421</td> \n",
       "</tr>\n",
       "<tr>\n",
       "  <th>Model Family:</th>         <td>Poisson</td>     <th>  Df Model:          </th>  <td>     1</td> \n",
       "</tr>\n",
       "<tr>\n",
       "  <th>Link Function:</th>          <td>log</td>       <th>  Scale:             </th> <td>  1.0000</td>\n",
       "</tr>\n",
       "<tr>\n",
       "  <th>Method:</th>                <td>IRLS</td>       <th>  Log-Likelihood:    </th> <td> -47441.</td>\n",
       "</tr>\n",
       "<tr>\n",
       "  <th>Date:</th>            <td>Fri, 08 Oct 2021</td> <th>  Deviance:          </th> <td>  66674.</td>\n",
       "</tr>\n",
       "<tr>\n",
       "  <th>Time:</th>                <td>00:52:49</td>     <th>  Pearson chi2:      </th> <td>1.48e+05</td>\n",
       "</tr>\n",
       "<tr>\n",
       "  <th>No. Iterations:</th>          <td>6</td>        <th>                     </th>     <td> </td>   \n",
       "</tr>\n",
       "<tr>\n",
       "  <th>Covariance Type:</th>     <td>nonrobust</td>    <th>                     </th>     <td> </td>   \n",
       "</tr>\n",
       "</table>\n",
       "<table class=\"simpletable\">\n",
       "<tr>\n",
       "      <td></td>         <th>coef</th>     <th>std err</th>      <th>z</th>      <th>P>|z|</th>  <th>[0.025</th>    <th>0.975]</th>  \n",
       "</tr>\n",
       "<tr>\n",
       "  <th>Intercept</th> <td>   -1.2265</td> <td>    0.026</td> <td>  -46.346</td> <td> 0.000</td> <td>   -1.278</td> <td>   -1.175</td>\n",
       "</tr>\n",
       "<tr>\n",
       "  <th>ageph</th>     <td>   -0.0163</td> <td>    0.001</td> <td>  -28.509</td> <td> 0.000</td> <td>   -0.017</td> <td>   -0.015</td>\n",
       "</tr>\n",
       "</table>"
      ],
      "text/plain": [
       "<class 'statsmodels.iolib.summary.Summary'>\n",
       "\"\"\"\n",
       "                 Generalized Linear Model Regression Results                  \n",
       "==============================================================================\n",
       "Dep. Variable:                nclaims   No. Observations:               122423\n",
       "Model:                            GLM   Df Residuals:                   122421\n",
       "Model Family:                 Poisson   Df Model:                            1\n",
       "Link Function:                    log   Scale:                          1.0000\n",
       "Method:                          IRLS   Log-Likelihood:                -47441.\n",
       "Date:                Fri, 08 Oct 2021   Deviance:                       66674.\n",
       "Time:                        00:52:49   Pearson chi2:                 1.48e+05\n",
       "No. Iterations:                     6                                         \n",
       "Covariance Type:            nonrobust                                         \n",
       "==============================================================================\n",
       "                 coef    std err          z      P>|z|      [0.025      0.975]\n",
       "------------------------------------------------------------------------------\n",
       "Intercept     -1.2265      0.026    -46.346      0.000      -1.278      -1.175\n",
       "ageph         -0.0163      0.001    -28.509      0.000      -0.017      -0.015\n",
       "==============================================================================\n",
       "\"\"\""
      ]
     },
     "execution_count": 23,
     "metadata": {},
     "output_type": "execute_result"
    }
   ],
   "source": [
    "# GLM with offset\n",
    "glm_offset = sm.formula.glm(\"nclaims ~ ageph\", \n",
    "                            data=train, \n",
    "                            offset = np.log(train.expo),\n",
    "                            family=sm.families.Poisson()).fit(); \n",
    "glm_offset.summary()"
   ]
  },
  {
   "cell_type": "code",
   "execution_count": 25,
   "metadata": {},
   "outputs": [
    {
     "data": {
      "text/plain": [
       "Intercept   -1.226496\n",
       "ageph       -0.016343\n",
       "dtype: float64"
      ]
     },
     "execution_count": 25,
     "metadata": {},
     "output_type": "execute_result"
    }
   ],
   "source": [
    "glm_offset.params"
   ]
  },
  {
   "cell_type": "markdown",
   "metadata": {},
   "source": [
    "#### 5.2.2 Fitting GLM with weights"
   ]
  },
  {
   "cell_type": "code",
   "execution_count": 27,
   "metadata": {},
   "outputs": [
    {
     "data": {
      "text/html": [
       "<table class=\"simpletable\">\n",
       "<caption>Generalized Linear Model Regression Results</caption>\n",
       "<tr>\n",
       "  <th>Dep. Variable:</th>        <td>nclaims</td>     <th>  No. Observations:  </th>  <td>122423</td> \n",
       "</tr>\n",
       "<tr>\n",
       "  <th>Model:</th>                  <td>GLM</td>       <th>  Df Residuals:      </th>  <td>122421</td> \n",
       "</tr>\n",
       "<tr>\n",
       "  <th>Model Family:</th>         <td>Poisson</td>     <th>  Df Model:          </th>  <td>     1</td> \n",
       "</tr>\n",
       "<tr>\n",
       "  <th>Link Function:</th>          <td>log</td>       <th>  Scale:             </th> <td>  1.0000</td>\n",
       "</tr>\n",
       "<tr>\n",
       "  <th>Method:</th>                <td>IRLS</td>       <th>  Log-Likelihood:    </th> <td> -47441.</td>\n",
       "</tr>\n",
       "<tr>\n",
       "  <th>Date:</th>            <td>Fri, 08 Oct 2021</td> <th>  Deviance:          </th> <td>  66674.</td>\n",
       "</tr>\n",
       "<tr>\n",
       "  <th>Time:</th>                <td>00:52:58</td>     <th>  Pearson chi2:      </th> <td>1.48e+05</td>\n",
       "</tr>\n",
       "<tr>\n",
       "  <th>No. Iterations:</th>          <td>6</td>        <th>                     </th>     <td> </td>   \n",
       "</tr>\n",
       "<tr>\n",
       "  <th>Covariance Type:</th>     <td>nonrobust</td>    <th>                     </th>     <td> </td>   \n",
       "</tr>\n",
       "</table>\n",
       "<table class=\"simpletable\">\n",
       "<tr>\n",
       "      <td></td>         <th>coef</th>     <th>std err</th>      <th>z</th>      <th>P>|z|</th>  <th>[0.025</th>    <th>0.975]</th>  \n",
       "</tr>\n",
       "<tr>\n",
       "  <th>Intercept</th> <td>   -1.2265</td> <td>    0.026</td> <td>  -46.346</td> <td> 0.000</td> <td>   -1.278</td> <td>   -1.175</td>\n",
       "</tr>\n",
       "<tr>\n",
       "  <th>ageph</th>     <td>   -0.0163</td> <td>    0.001</td> <td>  -28.509</td> <td> 0.000</td> <td>   -0.017</td> <td>   -0.015</td>\n",
       "</tr>\n",
       "</table>"
      ],
      "text/plain": [
       "<class 'statsmodels.iolib.summary.Summary'>\n",
       "\"\"\"\n",
       "                 Generalized Linear Model Regression Results                  \n",
       "==============================================================================\n",
       "Dep. Variable:                nclaims   No. Observations:               122423\n",
       "Model:                            GLM   Df Residuals:                   122421\n",
       "Model Family:                 Poisson   Df Model:                            1\n",
       "Link Function:                    log   Scale:                          1.0000\n",
       "Method:                          IRLS   Log-Likelihood:                -47441.\n",
       "Date:                Fri, 08 Oct 2021   Deviance:                       66674.\n",
       "Time:                        00:52:58   Pearson chi2:                 1.48e+05\n",
       "No. Iterations:                     6                                         \n",
       "Covariance Type:            nonrobust                                         \n",
       "==============================================================================\n",
       "                 coef    std err          z      P>|z|      [0.025      0.975]\n",
       "------------------------------------------------------------------------------\n",
       "Intercept     -1.2265      0.026    -46.346      0.000      -1.278      -1.175\n",
       "ageph         -0.0163      0.001    -28.509      0.000      -0.017      -0.015\n",
       "==============================================================================\n",
       "\"\"\""
      ]
     },
     "execution_count": 27,
     "metadata": {},
     "output_type": "execute_result"
    }
   ],
   "source": [
    "# GLM including weights\n",
    "glm_weights = sm.formula.glm(\"nclaims ~ ageph\", \n",
    "                             data=train, \n",
    "                             weights = train.expo, \n",
    "                             exposure = train.expo, \n",
    "                             family=sm.families.Poisson()).fit(); \n",
    "glm_weights.summary()"
   ]
  },
  {
   "cell_type": "code",
   "execution_count": 28,
   "metadata": {},
   "outputs": [
    {
     "data": {
      "text/plain": [
       "Intercept   -1.226496\n",
       "ageph       -0.016343\n",
       "dtype: float64"
      ]
     },
     "execution_count": 28,
     "metadata": {},
     "output_type": "execute_result"
    }
   ],
   "source": [
    "glm_weights.params"
   ]
  },
  {
   "cell_type": "markdown",
   "metadata": {},
   "source": [
    "#### 5.2.3 Fitting a neural network with exposure"
   ]
  },
  {
   "cell_type": "markdown",
   "metadata": {},
   "source": [
    "The specification structure of the neural network remains the same:"
   ]
  },
  {
   "cell_type": "code",
   "execution_count": 29,
   "metadata": {},
   "outputs": [],
   "source": [
    "# neural network architecture specification\n",
    "reset_random_seeds()\n",
    "nn_freq_exposure = tf.keras.models.Sequential()\n",
    "nn_freq_exposure.add(tf.keras.layers.Dense(units = 1, activation = 'exponential', input_shape = (1,), use_bias = False))\n",
    "nn_freq_exposure.compile(optimizer = 'RMSprop', loss = 'poisson')"
   ]
  },
  {
   "cell_type": "code",
   "execution_count": 30,
   "metadata": {},
   "outputs": [],
   "source": [
    "# create a vector with exposure values\n",
    "exposure = np.array(train['expo']) # pd.Series must be converted to pd.array due to compatibility reasons with fit() method"
   ]
  },
  {
   "cell_type": "code",
   "execution_count": 31,
   "metadata": {
    "scrolled": true
   },
   "outputs": [
    {
     "data": {
      "text/plain": [
       "<tensorflow.python.keras.callbacks.History at 0x1bb87b965c8>"
      ]
     },
     "execution_count": 31,
     "metadata": {},
     "output_type": "execute_result"
    }
   ],
   "source": [
    "# divide claim counts by exposure and use weights\n",
    "nn_freq_exposure.fit(x = intercept,\n",
    "                     y = counts/exposure,\n",
    "                     sample_weight = exposure,\n",
    "                     epochs = 20,\n",
    "                     batch_size = 1024,\n",
    "                     validation_split = 0,\n",
    "                     verbose = 0)"
   ]
  },
  {
   "cell_type": "code",
   "execution_count": 32,
   "metadata": {},
   "outputs": [
    {
     "data": {
      "text/plain": [
       "[array([[-1.9758395]], dtype=float32)]"
      ]
     },
     "execution_count": 32,
     "metadata": {},
     "output_type": "execute_result"
    }
   ],
   "source": [
    "nn_freq_exposure.get_weights()"
   ]
  },
  {
   "cell_type": "code",
   "execution_count": 33,
   "metadata": {},
   "outputs": [
    {
     "name": "stdout",
     "output_type": "stream",
     "text": [
      "NN weights:-1.9758394956588745, \n",
      "\n",
      "GLM_offset coefficients:Intercept   -1.226496\n",
      "ageph       -0.016343\n",
      "dtype: float64, \n",
      "\n",
      "GLM_weights coefficients:Intercept   -1.226496\n",
      "ageph       -0.016343\n",
      "dtype: float64\n"
     ]
    }
   ],
   "source": [
    "# comparing the estimated parameter (difference reflects a different optimization technique)\n",
    "print(f'NN weights:{nn_freq_exposure.get_weights()[0][0][0]}, \\n\\nGLM_offset coefficients:{glm_offset.params}, \\n\\nGLM_weights coefficients:{glm_weights.params}')"
   ]
  },
  {
   "cell_type": "markdown",
   "metadata": {},
   "source": [
    "### 5.3 How can we include exposure via an offset term?"
   ]
  },
  {
   "cell_type": "code",
   "execution_count": 34,
   "metadata": {},
   "outputs": [],
   "source": [
    "# create a vector with ageph (pd.Series must be converted to pd.array due to compatibility reasons with fit() method)\n",
    "ageph = np.array(train['ageph'])"
   ]
  },
  {
   "cell_type": "code",
   "execution_count": 35,
   "metadata": {},
   "outputs": [],
   "source": [
    "# neural network architecture specification\n",
    "reset_random_seeds()\n",
    "nn_freq_ageph = tf.keras.models.Sequential()\n",
    "nn_freq_ageph.add(tf.keras.layers.BatchNormalization(input_shape = (1,))) # layer_batch_normalization centers and scales the input features\n",
    "nn_freq_ageph.add(tf.keras.layers.Dense(units = 5, activation = 'tanh'))\n",
    "nn_freq_ageph.add(tf.keras.layers.Dense(units = 1, activation = 'exponential', use_bias = True)) # Notice how we set use_bias = TRUE for the intercept.\n",
    "nn_freq_ageph.compile(optimizer = 'RMSprop', loss = 'poisson')"
   ]
  },
  {
   "cell_type": "code",
   "execution_count": 36,
   "metadata": {},
   "outputs": [
    {
     "data": {
      "text/plain": [
       "<tensorflow.python.keras.callbacks.History at 0x1bb8e420888>"
      ]
     },
     "execution_count": 36,
     "metadata": {},
     "output_type": "execute_result"
    }
   ],
   "source": [
    "nn_freq_ageph.fit(ageph,\n",
    "                 counts/exposure,\n",
    "                 sample_weight = exposure,\n",
    "                 epochs = 20,\n",
    "                 batch_size = 1024,\n",
    "                 validation_split = 0,\n",
    "                 verbose = 0)"
   ]
  },
  {
   "cell_type": "code",
   "execution_count": 37,
   "metadata": {},
   "outputs": [
    {
     "data": {
      "text/plain": [
       "[array([0.6598984], dtype=float32),\n",
       " array([0.39028922], dtype=float32),\n",
       " array([47.011456], dtype=float32),\n",
       " array([219.40276], dtype=float32),\n",
       " array([[-0.49004763,  0.14843556, -0.27004567,  0.04346556,  0.40451518]],\n",
       "       dtype=float32),\n",
       " array([-0.39765945,  0.36914247, -0.37699124, -0.36679944, -0.37364745],\n",
       "       dtype=float32),\n",
       " array([[ 0.97479665],\n",
       "        [-1.0621016 ],\n",
       "        [ 0.784981  ],\n",
       "        [ 0.74881494],\n",
       "        [ 0.69293696]], dtype=float32),\n",
       " array([-0.36167932], dtype=float32)]"
      ]
     },
     "execution_count": 37,
     "metadata": {},
     "output_type": "execute_result"
    }
   ],
   "source": [
    "nn_freq_ageph.get_weights()"
   ]
  },
  {
   "cell_type": "code",
   "execution_count": 38,
   "metadata": {},
   "outputs": [
    {
     "data": {
      "text/plain": [
       "[<matplotlib.lines.Line2D at 0x1bb9153b908>]"
      ]
     },
     "execution_count": 38,
     "metadata": {},
     "output_type": "execute_result"
    },
    {
     "data": {
      "image/png": "[encoded data removed]",
      "text/plain": [
       "<Figure size 432x288 with 1 Axes>"
      ]
     },
     "metadata": {
      "needs_background": "light"
     },
     "output_type": "display_data"
    }
   ],
   "source": [
    "age = tf.cast(np.array(range(18,96)), tf.float32)\n",
    "nn_pred = nn_freq_ageph.predict(age)\n",
    "plt.plot(nn_pred)"
   ]
  },
  {
   "cell_type": "markdown",
   "metadata": {},
   "source": [
    "### Applying GAM models"
   ]
  },
  {
   "cell_type": "code",
   "execution_count": 48,
   "metadata": {},
   "outputs": [],
   "source": [
    "bs = statsmodels.gam.smooth_basis.BSplines(train['ageph'], \n",
    "                                           df = [9,9], \n",
    "                                           degree = [2,2],\n",
    "                                           include_intercept=True)"
   ]
  },
  {
   "cell_type": "code",
   "execution_count": 49,
   "metadata": {},
   "outputs": [
    {
     "data": {
      "text/html": [
       "<table class=\"simpletable\">\n",
       "<caption>Generalized Linear Model Regression Results</caption>\n",
       "<tr>\n",
       "  <th>Dep. Variable:</th>        <td>nclaims</td>     <th>  No. Observations:  </th>  <td>122423</td> \n",
       "</tr>\n",
       "<tr>\n",
       "  <th>Model:</th>                <td>GLMGam</td>      <th>  Df Residuals:      </th>  <td>122414</td> \n",
       "</tr>\n",
       "<tr>\n",
       "  <th>Model Family:</th>         <td>Poisson</td>     <th>  Df Model:          </th> <td>    8.00</td>\n",
       "</tr>\n",
       "<tr>\n",
       "  <th>Link Function:</th>          <td>log</td>       <th>  Scale:             </th> <td>  1.0000</td>\n",
       "</tr>\n",
       "<tr>\n",
       "  <th>Method:</th>                <td>PIRLS</td>      <th>  Log-Likelihood:    </th> <td> -47374.</td>\n",
       "</tr>\n",
       "<tr>\n",
       "  <th>Date:</th>            <td>Fri, 08 Oct 2021</td> <th>  Deviance:          </th> <td>  66538.</td>\n",
       "</tr>\n",
       "<tr>\n",
       "  <th>Time:</th>                <td>00:54:30</td>     <th>  Pearson chi2:      </th> <td>1.47e+05</td>\n",
       "</tr>\n",
       "<tr>\n",
       "  <th>No. Iterations:</th>          <td>7</td>        <th>                     </th>     <td> </td>   \n",
       "</tr>\n",
       "<tr>\n",
       "  <th>Covariance Type:</th>     <td>nonrobust</td>    <th>                     </th>     <td> </td>   \n",
       "</tr>\n",
       "</table>\n",
       "<table class=\"simpletable\">\n",
       "<tr>\n",
       "      <td></td>         <th>coef</th>     <th>std err</th>      <th>z</th>      <th>P>|z|</th>  <th>[0.025</th>    <th>0.975]</th>  \n",
       "</tr>\n",
       "<tr>\n",
       "  <th>Intercept</th> <td>   -1.7014</td> <td>    0.022</td> <td>  -75.947</td> <td> 0.000</td> <td>   -1.745</td> <td>   -1.658</td>\n",
       "</tr>\n",
       "<tr>\n",
       "  <th>ageph_s0</th>  <td>    0.5606</td> <td>    0.094</td> <td>    5.979</td> <td> 0.000</td> <td>    0.377</td> <td>    0.744</td>\n",
       "</tr>\n",
       "<tr>\n",
       "  <th>ageph_s1</th>  <td>    0.2508</td> <td>    0.060</td> <td>    4.190</td> <td> 0.000</td> <td>    0.133</td> <td>    0.368</td>\n",
       "</tr>\n",
       "<tr>\n",
       "  <th>ageph_s2</th>  <td>   -0.1911</td> <td>    0.039</td> <td>   -4.921</td> <td> 0.000</td> <td>   -0.267</td> <td>   -0.115</td>\n",
       "</tr>\n",
       "<tr>\n",
       "  <th>ageph_s3</th>  <td>   -0.3037</td> <td>    0.041</td> <td>   -7.386</td> <td> 0.000</td> <td>   -0.384</td> <td>   -0.223</td>\n",
       "</tr>\n",
       "<tr>\n",
       "  <th>ageph_s4</th>  <td>   -0.2529</td> <td>    0.040</td> <td>   -6.301</td> <td> 0.000</td> <td>   -0.332</td> <td>   -0.174</td>\n",
       "</tr>\n",
       "<tr>\n",
       "  <th>ageph_s5</th>  <td>   -0.3454</td> <td>    0.044</td> <td>   -7.895</td> <td> 0.000</td> <td>   -0.431</td> <td>   -0.260</td>\n",
       "</tr>\n",
       "<tr>\n",
       "  <th>ageph_s6</th>  <td>   -0.5512</td> <td>    0.040</td> <td>  -13.646</td> <td> 0.000</td> <td>   -0.630</td> <td>   -0.472</td>\n",
       "</tr>\n",
       "<tr>\n",
       "  <th>ageph_s7</th>  <td>   -0.8258</td> <td>    0.108</td> <td>   -7.677</td> <td> 0.000</td> <td>   -1.037</td> <td>   -0.615</td>\n",
       "</tr>\n",
       "<tr>\n",
       "  <th>ageph_s8</th>  <td>   -0.0428</td> <td>    0.233</td> <td>   -0.184</td> <td> 0.854</td> <td>   -0.499</td> <td>    0.414</td>\n",
       "</tr>\n",
       "</table>"
      ],
      "text/plain": [
       "<class 'statsmodels.iolib.summary.Summary'>\n",
       "\"\"\"\n",
       "                 Generalized Linear Model Regression Results                  \n",
       "==============================================================================\n",
       "Dep. Variable:                nclaims   No. Observations:               122423\n",
       "Model:                         GLMGam   Df Residuals:                   122414\n",
       "Model Family:                 Poisson   Df Model:                         8.00\n",
       "Link Function:                    log   Scale:                          1.0000\n",
       "Method:                         PIRLS   Log-Likelihood:                -47374.\n",
       "Date:                Fri, 08 Oct 2021   Deviance:                       66538.\n",
       "Time:                        00:54:30   Pearson chi2:                 1.47e+05\n",
       "No. Iterations:                     7                                         \n",
       "Covariance Type:            nonrobust                                         \n",
       "==============================================================================\n",
       "                 coef    std err          z      P>|z|      [0.025      0.975]\n",
       "------------------------------------------------------------------------------\n",
       "Intercept     -1.7014      0.022    -75.947      0.000      -1.745      -1.658\n",
       "ageph_s0       0.5606      0.094      5.979      0.000       0.377       0.744\n",
       "ageph_s1       0.2508      0.060      4.190      0.000       0.133       0.368\n",
       "ageph_s2      -0.1911      0.039     -4.921      0.000      -0.267      -0.115\n",
       "ageph_s3      -0.3037      0.041     -7.386      0.000      -0.384      -0.223\n",
       "ageph_s4      -0.2529      0.040     -6.301      0.000      -0.332      -0.174\n",
       "ageph_s5      -0.3454      0.044     -7.895      0.000      -0.431      -0.260\n",
       "ageph_s6      -0.5512      0.040    -13.646      0.000      -0.630      -0.472\n",
       "ageph_s7      -0.8258      0.108     -7.677      0.000      -1.037      -0.615\n",
       "ageph_s8      -0.0428      0.233     -0.184      0.854      -0.499       0.414\n",
       "==============================================================================\n",
       "\"\"\""
      ]
     },
     "execution_count": 49,
     "metadata": {},
     "output_type": "execute_result"
    }
   ],
   "source": [
    "gam_bs = GLMGam.from_formula('nclaims ~ 1', \n",
    "                             data=train, \n",
    "                             smoother=bs, \n",
    "                             family=sm.families.Poisson(sm.families.links.log()),\n",
    "                             offset = np.log(train.expo)).fit();\n",
    "gam_bs.summary()"
   ]
  },
  {
   "cell_type": "code",
   "execution_count": 51,
   "metadata": {},
   "outputs": [
    {
     "data": {
      "text/plain": [
       "0         0.135740\n",
       "1         0.123853\n",
       "2         0.131501\n",
       "3         0.137239\n",
       "4         0.105474\n",
       "            ...   \n",
       "122418    0.177333\n",
       "122419    0.131501\n",
       "122420    0.095534\n",
       "122421    0.095534\n",
       "122422    0.141827\n",
       "Length: 122423, dtype: float64"
      ]
     },
     "execution_count": 51,
     "metadata": {},
     "output_type": "execute_result"
    }
   ],
   "source": [
    "gam_bs.predict(exog = pd.DataFrame(np.ones(train.shape[0])),  exog_smooth = np.array(train['ageph']))"
   ]
  },
  {
   "cell_type": "code",
   "execution_count": 52,
   "metadata": {},
   "outputs": [],
   "source": [
    "# creating dataframe\n",
    "df_plot = pd.DataFrame({'ageph':np.array(range(18,96)),\n",
    "                  'nn_pred':np.array([float(x) for x in list(nn_pred)])})"
   ]
  },
  {
   "cell_type": "code",
   "execution_count": 53,
   "metadata": {},
   "outputs": [
    {
     "data": {
      "text/html": [
       "<div>\n",
       "<style scoped>\n",
       "    .dataframe tbody tr th:only-of-type {\n",
       "        vertical-align: middle;\n",
       "    }\n",
       "\n",
       "    .dataframe tbody tr th {\n",
       "        vertical-align: top;\n",
       "    }\n",
       "\n",
       "    .dataframe thead th {\n",
       "        text-align: right;\n",
       "    }\n",
       "</style>\n",
       "<table border=\"1\" class=\"dataframe\">\n",
       "  <thead>\n",
       "    <tr style=\"text-align: right;\">\n",
       "      <th></th>\n",
       "      <th>ageph</th>\n",
       "      <th>nn_pred</th>\n",
       "      <th>gam_pred</th>\n",
       "    </tr>\n",
       "  </thead>\n",
       "  <tbody>\n",
       "    <tr>\n",
       "      <th>0</th>\n",
       "      <td>18</td>\n",
       "      <td>0.248705</td>\n",
       "      <td>0.319549</td>\n",
       "    </tr>\n",
       "    <tr>\n",
       "      <th>1</th>\n",
       "      <td>19</td>\n",
       "      <td>0.241770</td>\n",
       "      <td>0.303535</td>\n",
       "    </tr>\n",
       "    <tr>\n",
       "      <th>2</th>\n",
       "      <td>20</td>\n",
       "      <td>0.235078</td>\n",
       "      <td>0.288446</td>\n",
       "    </tr>\n",
       "    <tr>\n",
       "      <th>3</th>\n",
       "      <td>21</td>\n",
       "      <td>0.228622</td>\n",
       "      <td>0.274224</td>\n",
       "    </tr>\n",
       "    <tr>\n",
       "      <th>4</th>\n",
       "      <td>22</td>\n",
       "      <td>0.222401</td>\n",
       "      <td>0.260814</td>\n",
       "    </tr>\n",
       "  </tbody>\n",
       "</table>\n",
       "</div>"
      ],
      "text/plain": [
       "   ageph   nn_pred  gam_pred\n",
       "0     18  0.248705  0.319549\n",
       "1     19  0.241770  0.303535\n",
       "2     20  0.235078  0.288446\n",
       "3     21  0.228622  0.274224\n",
       "4     22  0.222401  0.260814"
      ]
     },
     "execution_count": 53,
     "metadata": {},
     "output_type": "execute_result"
    }
   ],
   "source": [
    "df_plot['gam_pred'] = gam_bs.predict(exog = pd.DataFrame(np.ones(df_plot.shape[0])),  exog_smooth = np.array(df_plot['ageph'])) \n",
    "df_plot.head()"
   ]
  },
  {
   "cell_type": "code",
   "execution_count": 54,
   "metadata": {},
   "outputs": [
    {
     "data": {
      "image/png": "[encoded data removed]",
      "text/plain": [
       "<Figure size 432x288 with 1 Axes>"
      ]
     },
     "metadata": {
      "needs_background": "light"
     },
     "output_type": "display_data"
    }
   ],
   "source": [
    "plt.plot(df_plot.ageph, df_plot.gam_pred, label = \"GAM\")\n",
    "plt.plot(df_plot.ageph, df_plot.nn_pred, label = \"NN\")\n",
    "plt.xlabel('age')\n",
    "plt.ylabel('fitted_effect')\n",
    "plt.legend()\n",
    "plt.show()"
   ]
  },
  {
   "cell_type": "markdown",
   "metadata": {},
   "source": [
    "### Adding a skip connection in a neural network"
   ]
  },
  {
   "cell_type": "markdown",
   "metadata": {},
   "source": [
    "So far, we stayed in a purely sequential architecture with tf.keras.models.Sequential().Now, we will allow some input nodes to be connected directly to the output node, i.e., skip connections."
   ]
  },
  {
   "cell_type": "markdown",
   "metadata": {},
   "source": [
    "<figure>\n",
    "<img src=\"./imgs/skip_conn.png\" alt=\"autoencoder_schema\" style=\"width: 300px;\"/>\n",
    "<figcaption><center>Figure taken from <a href=\"https://papers.ssrn.com/sol3/papers.cfm?abstract_id=3320525\">Schelldorfer and Wuthrich (2019)</a>.<p></p></center></figcaption>\n",
    "</figure>"
   ]
  },
  {
   "cell_type": "markdown",
   "metadata": {},
   "source": [
    "The output node, without skip connection, calculates:\n",
    "$$\n",
    "\\begin{align}\n",
    "f_{activation}{(\\sum_{i}w_{i}h_{i}+b)}.\n",
    "\\end{align}\n",
    "$$"
   ]
  },
  {
   "cell_type": "markdown",
   "metadata": {},
   "source": [
    "With a skip connection, this simply becomes:\n",
    "$$\n",
    "\\begin{align}\n",
    "f_{activation}{(\\sum_{i}w_{i}h_{i}+b+s)}.\n",
    "\\end{align}\n",
    "$$"
   ]
  },
  {
   "cell_type": "markdown",
   "metadata": {},
   "source": [
    "We take a linear combination of the last hidden layer outputs and add the skip input, before applying the activation function.\n",
    "So, what can we do with this? Let's take a claim frequency example with the exponential activation function:\n",
    "* Adding exposure as an offset term:\n",
    "$$\n",
    "\\begin{align}\n",
    "output = \\exp{(\\sum_{i}w_{i}h_{i}+b+log(expo))} = expo\\cdot \\exp(\\sum_{i}w_{i}h_{i}+b)\n",
    "\\end{align}\n",
    "$$\n",
    "* Adding a base prediction:\n",
    "$$\n",
    "\\begin{align}\n",
    "output = \\exp{(\\sum_{i}w_{i}h_{i}+b+log(base))} = base\\cdot \\exp(\\sum_{i}w_{i}h_{i}+b)\n",
    "\\end{align}\n",
    "$$\n",
    "* The combination of both:\n",
    "$$\n",
    "\\begin{align}\n",
    "output = \\exp{(\\sum_{i}w_{i}h_{i}+b+log(expo\\cdot base))} = expo\\cdot base\\cdot \\exp(\\sum_{i}w_{i}h_{i}+b)\n",
    "\\end{align}\n",
    "$$"
   ]
  },
  {
   "cell_type": "markdown",
   "metadata": {},
   "source": [
    "A skip connection allows us to guide the neural net in the right direction and to model adjustments on top of the base\n",
    "predictions, for example obtained via a GLM or GAM. In the actuarial lingo this is called a Combined Actuarial Neural Network\n",
    "(CANN)."
   ]
  },
  {
   "cell_type": "code",
   "execution_count": 55,
   "metadata": {},
   "outputs": [],
   "source": [
    "reset_random_seeds()\n",
    "\n",
    "# create two input layers via layer_input, one for the skip connection and one for the neural network\n",
    "input_nn = tf.keras.layers.Input(shape = (1,), name = 'nn')\n",
    "input_skip = tf.keras.layers.Input(shape = (1,), name = 'skip')\n",
    "\n",
    "# specify the architecture to use for the neural net part with a linear combination of the hidden nodes as output\n",
    "norm_nn = tf.keras.layers.BatchNormalization()(input_nn)\n",
    "dense_1 = tf.keras.layers.Dense(units = 5, activation = 'tanh')(norm_nn)\n",
    "network = tf.keras.layers.Dense(units = 1, activation = 'linear')(dense_1)\n",
    "\n",
    "# combine the neural network and skip connection via layer_add and pass through the exponential function with fixed weights\n",
    "interm = tf.keras.layers.Add()([network, input_skip])\n",
    "\n",
    "# output layer\n",
    "init = tf.constant_initializer(np.ones((1,1)))\n",
    "output = tf.keras.layers.Dense(units = 1, \n",
    "                               activation = 'exponential', \n",
    "                               trainable = False,\n",
    "                               kernel_initializer = init,\n",
    "                               name = 'output')(interm)"
   ]
  },
  {
   "cell_type": "code",
   "execution_count": 56,
   "metadata": {},
   "outputs": [],
   "source": [
    "# Define the full model with inputs and output via keras_model and compile as usual\n",
    "cann = tf.keras.models.Model(inputs = [input_nn, input_skip], outputs = output)\n",
    "cann.compile(optimizer = 'RMSprop', loss = 'poisson')"
   ]
  },
  {
   "cell_type": "markdown",
   "metadata": {},
   "source": [
    "Tensorflow is endowed with a specific utility to visualize the structure of the network. We can indeed see the skip connection via layer_add:"
   ]
  },
  {
   "cell_type": "code",
   "execution_count": 57,
   "metadata": {},
   "outputs": [
    {
     "data": {
      "image/png": "[encoded data removed]",
      "text/plain": [
       "<IPython.core.display.Image object>"
      ]
     },
     "execution_count": 57,
     "metadata": {},
     "output_type": "execute_result"
    }
   ],
   "source": [
    "# model structure\n",
    "tf.keras.utils.plot_model(model=cann, show_shapes=True, to_file='./imgs/model.png')"
   ]
  },
  {
   "cell_type": "markdown",
   "metadata": {},
   "source": [
    "Calculate the GAM base predictions, including exposure:"
   ]
  },
  {
   "cell_type": "code",
   "execution_count": 58,
   "metadata": {},
   "outputs": [
    {
     "data": {
      "text/plain": [
       "42811    -1.997017\n",
       "37497    -2.088663\n",
       "1592     -4.873864\n",
       "37309    -1.986033\n",
       "129395   -2.249292\n",
       "            ...   \n",
       "62168    -3.317632\n",
       "88947    -2.028743\n",
       "79145    -7.280095\n",
       "141900   -2.348275\n",
       "120903   -3.039772\n",
       "Name: expo, Length: 122423, dtype: float64"
      ]
     },
     "execution_count": 58,
     "metadata": {},
     "output_type": "execute_result"
    }
   ],
   "source": [
    "gam_expo = np.log(gam_bs.predict()) + np.log(train['expo']); gam_expo"
   ]
  },
  {
   "cell_type": "markdown",
   "metadata": {},
   "source": [
    "Collect the CANN input data in a named list:"
   ]
  },
  {
   "cell_type": "code",
   "execution_count": 59,
   "metadata": {},
   "outputs": [],
   "source": [
    "#cann_input = {'nn':np.array(train['ageph']), 'skip':np.array(gam_expo)}\n",
    "cann_input = [np.array(train['ageph']), np.array(gam_expo)]"
   ]
  },
  {
   "cell_type": "code",
   "execution_count": 60,
   "metadata": {},
   "outputs": [
    {
     "data": {
      "text/plain": [
       "42811    -1.997017\n",
       "37497    -2.088663\n",
       "1592     -4.873864\n",
       "37309    -1.986033\n",
       "129395   -2.249292\n",
       "            ...   \n",
       "62168    -3.317632\n",
       "88947    -2.028743\n",
       "79145    -7.280095\n",
       "141900   -2.348275\n",
       "120903   -3.039772\n",
       "Name: expo, Length: 122423, dtype: float64"
      ]
     },
     "execution_count": 60,
     "metadata": {},
     "output_type": "execute_result"
    }
   ],
   "source": [
    "gam_expo"
   ]
  },
  {
   "cell_type": "markdown",
   "metadata": {},
   "source": [
    "Fit the CANN like we have seen before:"
   ]
  },
  {
   "cell_type": "code",
   "execution_count": 61,
   "metadata": {},
   "outputs": [
    {
     "name": "stdout",
     "output_type": "stream",
     "text": [
      "Train on 122423 samples\n",
      "Epoch 1/20\n",
      "122423/122423 [==============================] - 1s 6us/sample - loss: 0.3945\n",
      "Epoch 2/20\n",
      "122423/122423 [==============================] - 0s 1us/sample - loss: 0.3867\n",
      "Epoch 3/20\n",
      "122423/122423 [==============================] - 0s 1us/sample - loss: 0.3862\n",
      "Epoch 4/20\n",
      "122423/122423 [==============================] - 0s 1us/sample - loss: 0.3862\n",
      "Epoch 5/20\n",
      "122423/122423 [==============================] - 0s 1us/sample - loss: 0.3862\n",
      "Epoch 6/20\n",
      "122423/122423 [==============================] - 0s 1us/sample - loss: 0.3862\n",
      "Epoch 7/20\n",
      "122423/122423 [==============================] - 0s 1us/sample - loss: 0.3862\n",
      "Epoch 8/20\n",
      "122423/122423 [==============================] - 0s 1us/sample - loss: 0.3862\n",
      "Epoch 9/20\n",
      "122423/122423 [==============================] - 0s 1us/sample - loss: 0.3862\n",
      "Epoch 10/20\n",
      "122423/122423 [==============================] - 0s 1us/sample - loss: 0.3862\n",
      "Epoch 11/20\n",
      "122423/122423 [==============================] - 0s 1us/sample - loss: 0.3862\n",
      "Epoch 12/20\n",
      "122423/122423 [==============================] - 0s 1us/sample - loss: 0.3862\n",
      "Epoch 13/20\n",
      "122423/122423 [==============================] - ETA: 0s - loss: 0.385 - 0s 1us/sample - loss: 0.3862\n",
      "Epoch 14/20\n",
      "122423/122423 [==============================] - 0s 2us/sample - loss: 0.3862\n",
      "Epoch 15/20\n",
      "122423/122423 [==============================] - 0s 1us/sample - loss: 0.3862\n",
      "Epoch 16/20\n",
      "122423/122423 [==============================] - 0s 1us/sample - loss: 0.3862\n",
      "Epoch 17/20\n",
      "122423/122423 [==============================] - 0s 1us/sample - loss: 0.3862\n",
      "Epoch 18/20\n",
      "122423/122423 [==============================] - 0s 1us/sample - loss: 0.3862\n",
      "Epoch 19/20\n",
      "122423/122423 [==============================] - 0s 1us/sample - loss: 0.3862\n",
      "Epoch 20/20\n",
      "122423/122423 [==============================] - 0s 1us/sample - loss: 0.3862\n"
     ]
    },
    {
     "data": {
      "text/plain": [
       "<tensorflow.python.keras.callbacks.History at 0x1bb913b9048>"
      ]
     },
     "execution_count": 61,
     "metadata": {},
     "output_type": "execute_result"
    }
   ],
   "source": [
    "cann.fit(x = cann_input,\n",
    "         y = counts,\n",
    "         epochs = 20,\n",
    "         batch_size = 1024,\n",
    "         validation_split = 0,\n",
    "         verbose = 1)"
   ]
  },
  {
   "cell_type": "code",
   "execution_count": 62,
   "metadata": {},
   "outputs": [
    {
     "data": {
      "text/plain": [
       "[array([0.6728994], dtype=float32),\n",
       " array([0.06842756], dtype=float32),\n",
       " array([47.011456], dtype=float32),\n",
       " array([219.40276], dtype=float32),\n",
       " array([[-0.57815593, -0.02220241, -0.2327838 ,  0.26416272,  0.6126444 ]],\n",
       "       dtype=float32),\n",
       " array([ 0.01541827, -0.01019873,  0.00894857,  0.01180655,  0.01324461],\n",
       "       dtype=float32),\n",
       " array([[ 0.6074085 ],\n",
       "        [-0.5540903 ],\n",
       "        [ 0.3695463 ],\n",
       "        [ 0.53842646],\n",
       "        [ 0.45685586]], dtype=float32),\n",
       " array([0.01149276], dtype=float32),\n",
       " array([[1.]], dtype=float32),\n",
       " array([0.], dtype=float32)]"
      ]
     },
     "execution_count": 62,
     "metadata": {},
     "output_type": "execute_result"
    }
   ],
   "source": [
    "cann.get_weights()"
   ]
  },
  {
   "cell_type": "code",
   "execution_count": 63,
   "metadata": {},
   "outputs": [
    {
     "data": {
      "text/html": [
       "<div>\n",
       "<style scoped>\n",
       "    .dataframe tbody tr th:only-of-type {\n",
       "        vertical-align: middle;\n",
       "    }\n",
       "\n",
       "    .dataframe tbody tr th {\n",
       "        vertical-align: top;\n",
       "    }\n",
       "\n",
       "    .dataframe thead th {\n",
       "        text-align: right;\n",
       "    }\n",
       "</style>\n",
       "<table border=\"1\" class=\"dataframe\">\n",
       "  <thead>\n",
       "    <tr style=\"text-align: right;\">\n",
       "      <th></th>\n",
       "      <th>ageph</th>\n",
       "      <th>skip</th>\n",
       "      <th>cann_pred</th>\n",
       "    </tr>\n",
       "  </thead>\n",
       "  <tbody>\n",
       "    <tr>\n",
       "      <th>0</th>\n",
       "      <td>18</td>\n",
       "      <td>0.0</td>\n",
       "      <td>1.034714</td>\n",
       "    </tr>\n",
       "    <tr>\n",
       "      <th>1</th>\n",
       "      <td>19</td>\n",
       "      <td>0.0</td>\n",
       "      <td>1.035453</td>\n",
       "    </tr>\n",
       "    <tr>\n",
       "      <th>2</th>\n",
       "      <td>20</td>\n",
       "      <td>0.0</td>\n",
       "      <td>1.036162</td>\n",
       "    </tr>\n",
       "    <tr>\n",
       "      <th>3</th>\n",
       "      <td>21</td>\n",
       "      <td>0.0</td>\n",
       "      <td>1.036840</td>\n",
       "    </tr>\n",
       "    <tr>\n",
       "      <th>4</th>\n",
       "      <td>22</td>\n",
       "      <td>0.0</td>\n",
       "      <td>1.037487</td>\n",
       "    </tr>\n",
       "  </tbody>\n",
       "</table>\n",
       "</div>"
      ],
      "text/plain": [
       "   ageph  skip  cann_pred\n",
       "0     18   0.0   1.034714\n",
       "1     19   0.0   1.035453\n",
       "2     20   0.0   1.036162\n",
       "3     21   0.0   1.036840\n",
       "4     22   0.0   1.037487"
      ]
     },
     "execution_count": 63,
     "metadata": {},
     "output_type": "execute_result"
    }
   ],
   "source": [
    "# test output\n",
    "df = pd.DataFrame({'ageph':np.array(range(18,96)),\n",
    "                   'skip':np.zeros(len(range(18,96)))})\n",
    "df['cann_pred'] = cann.predict([tf.cast(df.ageph,dtype = tf.float32),tf.cast(df.skip,dtype = tf.float32)]); df.head()"
   ]
  },
  {
   "cell_type": "code",
   "execution_count": 64,
   "metadata": {},
   "outputs": [
    {
     "data": {
      "image/png": "[encoded data removed]",
      "text/plain": [
       "<Figure size 432x288 with 1 Axes>"
      ]
     },
     "metadata": {
      "needs_background": "light"
     },
     "output_type": "display_data"
    }
   ],
   "source": [
    "plt.plot(df['ageph'], df['cann_pred'], label = \"NN Adjustment\")\n",
    "plt.xlabel('age')\n",
    "plt.ylabel('effect')\n",
    "plt.legend()\n",
    "plt.show()"
   ]
  },
  {
   "cell_type": "code",
   "execution_count": 68,
   "metadata": {},
   "outputs": [
    {
     "data": {
      "text/html": [
       "<div>\n",
       "<style scoped>\n",
       "    .dataframe tbody tr th:only-of-type {\n",
       "        vertical-align: middle;\n",
       "    }\n",
       "\n",
       "    .dataframe tbody tr th {\n",
       "        vertical-align: top;\n",
       "    }\n",
       "\n",
       "    .dataframe thead th {\n",
       "        text-align: right;\n",
       "    }\n",
       "</style>\n",
       "<table border=\"1\" class=\"dataframe\">\n",
       "  <thead>\n",
       "    <tr style=\"text-align: right;\">\n",
       "      <th></th>\n",
       "      <th>ageph</th>\n",
       "      <th>skip</th>\n",
       "      <th>cann_pred</th>\n",
       "    </tr>\n",
       "  </thead>\n",
       "  <tbody>\n",
       "    <tr>\n",
       "      <th>0</th>\n",
       "      <td>18</td>\n",
       "      <td>0.319549</td>\n",
       "      <td>0.353673</td>\n",
       "    </tr>\n",
       "    <tr>\n",
       "      <th>1</th>\n",
       "      <td>19</td>\n",
       "      <td>0.303535</td>\n",
       "      <td>0.338374</td>\n",
       "    </tr>\n",
       "    <tr>\n",
       "      <th>2</th>\n",
       "      <td>20</td>\n",
       "      <td>0.288446</td>\n",
       "      <td>0.323970</td>\n",
       "    </tr>\n",
       "    <tr>\n",
       "      <th>3</th>\n",
       "      <td>21</td>\n",
       "      <td>0.274224</td>\n",
       "      <td>0.310402</td>\n",
       "    </tr>\n",
       "    <tr>\n",
       "      <th>4</th>\n",
       "      <td>22</td>\n",
       "      <td>0.260814</td>\n",
       "      <td>0.297615</td>\n",
       "    </tr>\n",
       "  </tbody>\n",
       "</table>\n",
       "</div>"
      ],
      "text/plain": [
       "   ageph      skip  cann_pred\n",
       "0     18  0.319549   0.353673\n",
       "1     19  0.303535   0.338374\n",
       "2     20  0.288446   0.323970\n",
       "3     21  0.274224   0.310402\n",
       "4     22  0.260814   0.297615"
      ]
     },
     "execution_count": 68,
     "metadata": {},
     "output_type": "execute_result"
    }
   ],
   "source": [
    "df = pd.DataFrame({'ageph':np.array(range(18,96))})\n",
    "df['skip'] = gam_bs.predict(exog = pd.DataFrame(np.array(range(18,96))),  exog_smooth = np.array(range(18,96)))\n",
    "df['cann_pred'] = np.log(cann.predict([tf.cast(df.ageph,dtype = tf.float32),tf.cast(df.skip,dtype = tf.float32)])); df.head()"
   ]
  },
  {
   "cell_type": "code",
   "execution_count": 69,
   "metadata": {},
   "outputs": [
    {
     "data": {
      "image/png": "[encoded data removed]",
      "text/plain": [
       "<Figure size 432x288 with 1 Axes>"
      ]
     },
     "metadata": {
      "needs_background": "light"
     },
     "output_type": "display_data"
    }
   ],
   "source": [
    "plt.plot(df['ageph'], df['skip'], label = \"GAM\")\n",
    "plt.plot(df['ageph'], df['cann_pred'], label = \"CANN\")\n",
    "plt.xlabel('age')\n",
    "plt.ylabel('fitted_effect')\n",
    "plt.legend()\n",
    "plt.show()"
   ]
  },
  {
   "cell_type": "markdown",
   "metadata": {},
   "source": [
    "### Claim severity modeling with neural nets"
   ]
  },
  {
   "cell_type": "code",
   "execution_count": 82,
   "metadata": {},
   "outputs": [
    {
     "data": {
      "text/html": [
       "<div>\n",
       "<style scoped>\n",
       "    .dataframe tbody tr th:only-of-type {\n",
       "        vertical-align: middle;\n",
       "    }\n",
       "\n",
       "    .dataframe tbody tr th {\n",
       "        vertical-align: top;\n",
       "    }\n",
       "\n",
       "    .dataframe thead th {\n",
       "        text-align: right;\n",
       "    }\n",
       "</style>\n",
       "<table border=\"1\" class=\"dataframe\">\n",
       "  <thead>\n",
       "    <tr style=\"text-align: right;\">\n",
       "      <th></th>\n",
       "      <th>id</th>\n",
       "      <th>nclaims</th>\n",
       "      <th>amount</th>\n",
       "      <th>avg</th>\n",
       "      <th>expo</th>\n",
       "      <th>coverage</th>\n",
       "      <th>fuel</th>\n",
       "      <th>use</th>\n",
       "      <th>fleet</th>\n",
       "      <th>sex</th>\n",
       "      <th>ageph</th>\n",
       "      <th>bm</th>\n",
       "      <th>agec</th>\n",
       "      <th>power</th>\n",
       "      <th>pc</th>\n",
       "      <th>town</th>\n",
       "      <th>long</th>\n",
       "      <th>lat</th>\n",
       "    </tr>\n",
       "  </thead>\n",
       "  <tbody>\n",
       "    <tr>\n",
       "      <th>151350</th>\n",
       "      <td>151351</td>\n",
       "      <td>1</td>\n",
       "      <td>26140.570502</td>\n",
       "      <td>26140.570502</td>\n",
       "      <td>1.00000</td>\n",
       "      <td>TPL</td>\n",
       "      <td>gasoline</td>\n",
       "      <td>private</td>\n",
       "      <td>N</td>\n",
       "      <td>male</td>\n",
       "      <td>42</td>\n",
       "      <td>12</td>\n",
       "      <td>9</td>\n",
       "      <td>68</td>\n",
       "      <td>9100</td>\n",
       "      <td>SINT-NIK</td>\n",
       "      <td>4.150210</td>\n",
       "      <td>51.171487</td>\n",
       "    </tr>\n",
       "    <tr>\n",
       "      <th>63247</th>\n",
       "      <td>63248</td>\n",
       "      <td>1</td>\n",
       "      <td>311.949212</td>\n",
       "      <td>311.949212</td>\n",
       "      <td>1.00000</td>\n",
       "      <td>FO</td>\n",
       "      <td>gasoline</td>\n",
       "      <td>private</td>\n",
       "      <td>N</td>\n",
       "      <td>female</td>\n",
       "      <td>50</td>\n",
       "      <td>14</td>\n",
       "      <td>1</td>\n",
       "      <td>39</td>\n",
       "      <td>4100</td>\n",
       "      <td>SERAING</td>\n",
       "      <td>5.500567</td>\n",
       "      <td>50.583188</td>\n",
       "    </tr>\n",
       "    <tr>\n",
       "      <th>37122</th>\n",
       "      <td>37123</td>\n",
       "      <td>1</td>\n",
       "      <td>535.450014</td>\n",
       "      <td>535.450014</td>\n",
       "      <td>0.69863</td>\n",
       "      <td>TPL</td>\n",
       "      <td>gasoline</td>\n",
       "      <td>private</td>\n",
       "      <td>N</td>\n",
       "      <td>male</td>\n",
       "      <td>30</td>\n",
       "      <td>8</td>\n",
       "      <td>13</td>\n",
       "      <td>44</td>\n",
       "      <td>2800</td>\n",
       "      <td>MECHELEN</td>\n",
       "      <td>4.452854</td>\n",
       "      <td>51.035733</td>\n",
       "    </tr>\n",
       "    <tr>\n",
       "      <th>86659</th>\n",
       "      <td>86660</td>\n",
       "      <td>1</td>\n",
       "      <td>64.625842</td>\n",
       "      <td>64.625842</td>\n",
       "      <td>1.00000</td>\n",
       "      <td>TPL</td>\n",
       "      <td>gasoline</td>\n",
       "      <td>private</td>\n",
       "      <td>N</td>\n",
       "      <td>female</td>\n",
       "      <td>74</td>\n",
       "      <td>1</td>\n",
       "      <td>2</td>\n",
       "      <td>55</td>\n",
       "      <td>5570</td>\n",
       "      <td>BEAURAIN</td>\n",
       "      <td>4.905135</td>\n",
       "      <td>50.089954</td>\n",
       "    </tr>\n",
       "    <tr>\n",
       "      <th>9467</th>\n",
       "      <td>9468</td>\n",
       "      <td>1</td>\n",
       "      <td>1700.673527</td>\n",
       "      <td>1700.673527</td>\n",
       "      <td>1.00000</td>\n",
       "      <td>FO</td>\n",
       "      <td>diesel</td>\n",
       "      <td>private</td>\n",
       "      <td>N</td>\n",
       "      <td>female</td>\n",
       "      <td>36</td>\n",
       "      <td>8</td>\n",
       "      <td>1</td>\n",
       "      <td>60</td>\n",
       "      <td>1200</td>\n",
       "      <td>SINT-LAM</td>\n",
       "      <td>4.419542</td>\n",
       "      <td>50.848528</td>\n",
       "    </tr>\n",
       "  </tbody>\n",
       "</table>\n",
       "</div>"
      ],
      "text/plain": [
       "            id  nclaims        amount           avg     expo coverage  \\\n",
       "151350  151351        1  26140.570502  26140.570502  1.00000      TPL   \n",
       "63247    63248        1    311.949212    311.949212  1.00000       FO   \n",
       "37122    37123        1    535.450014    535.450014  0.69863      TPL   \n",
       "86659    86660        1     64.625842     64.625842  1.00000      TPL   \n",
       "9467      9468        1   1700.673527   1700.673527  1.00000       FO   \n",
       "\n",
       "            fuel      use fleet     sex  ageph  bm  agec  power    pc  \\\n",
       "151350  gasoline  private     N    male     42  12     9     68  9100   \n",
       "63247   gasoline  private     N  female     50  14     1     39  4100   \n",
       "37122   gasoline  private     N    male     30   8    13     44  2800   \n",
       "86659   gasoline  private     N  female     74   1     2     55  5570   \n",
       "9467      diesel  private     N  female     36   8     1     60  1200   \n",
       "\n",
       "            town      long        lat  \n",
       "151350  SINT-NIK  4.150210  51.171487  \n",
       "63247    SERAING  5.500567  50.583188  \n",
       "37122   MECHELEN  4.452854  51.035733  \n",
       "86659   BEAURAIN  4.905135  50.089954  \n",
       "9467    SINT-LAM  4.419542  50.848528  "
      ]
     },
     "execution_count": 82,
     "metadata": {},
     "output_type": "execute_result"
    }
   ],
   "source": [
    "df_claims = train[train.nclaims > 0]; df_claims.head()"
   ]
  },
  {
   "cell_type": "code",
   "execution_count": 85,
   "metadata": {},
   "outputs": [
    {
     "data": {
      "text/plain": [
       "(13785, 18)"
      ]
     },
     "execution_count": 85,
     "metadata": {},
     "output_type": "execute_result"
    }
   ],
   "source": [
    "df_claims.shape"
   ]
  },
  {
   "cell_type": "markdown",
   "metadata": {},
   "source": [
    "Let's model the log severity with a MSE loss:"
   ]
  },
  {
   "cell_type": "code",
   "execution_count": 86,
   "metadata": {},
   "outputs": [
    {
     "name": "stdout",
     "output_type": "stream",
     "text": [
      "Train on 13785 samples\n",
      "Epoch 1/100\n",
      "13785/13785 [==============================] - 0s 30us/sample - loss: 30.1449\n",
      "Epoch 2/100\n",
      "13785/13785 [==============================] - 0s 9us/sample - loss: 29.0103\n",
      "Epoch 3/100\n",
      "13785/13785 [==============================] - 0s 11us/sample - loss: 27.9062\n",
      "Epoch 4/100\n",
      "13785/13785 [==============================] - 0s 11us/sample - loss: 26.8239\n",
      "Epoch 5/100\n",
      "13785/13785 [==============================] - 0s 13us/sample - loss: 25.7683\n",
      "Epoch 6/100\n",
      "13785/13785 [==============================] - 0s 11us/sample - loss: 24.7313\n",
      "Epoch 7/100\n",
      "13785/13785 [==============================] - 0s 8us/sample - loss: 23.7192\n",
      "Epoch 8/100\n",
      "13785/13785 [==============================] - 0s 10us/sample - loss: 22.7303\n",
      "Epoch 9/100\n",
      "13785/13785 [==============================] - 0s 9us/sample - loss: 21.7672\n",
      "Epoch 10/100\n",
      "13785/13785 [==============================] - 0s 12us/sample - loss: 20.8245\n",
      "Epoch 11/100\n",
      "13785/13785 [==============================] - 0s 9us/sample - loss: 19.9060\n",
      "Epoch 12/100\n",
      "13785/13785 [==============================] - 0s 10us/sample - loss: 19.0113\n",
      "Epoch 13/100\n",
      "13785/13785 [==============================] - 0s 9us/sample - loss: 18.1393\n",
      "Epoch 14/100\n",
      "13785/13785 [==============================] - 0s 10us/sample - loss: 17.2911\n",
      "Epoch 15/100\n",
      "13785/13785 [==============================] - 0s 9us/sample - loss: 16.4648\n",
      "Epoch 16/100\n",
      "13785/13785 [==============================] - 0s 11us/sample - loss: 15.6631\n",
      "Epoch 17/100\n",
      "13785/13785 [==============================] - 0s 9us/sample - loss: 14.8845\n",
      "Epoch 18/100\n",
      "13785/13785 [==============================] - 0s 9us/sample - loss: 14.1280\n",
      "Epoch 19/100\n",
      "13785/13785 [==============================] - 0s 8us/sample - loss: 13.3956\n",
      "Epoch 20/100\n",
      "13785/13785 [==============================] - 0s 10us/sample - loss: 12.6867\n",
      "Epoch 21/100\n",
      "13785/13785 [==============================] - 0s 10us/sample - loss: 12.0003\n",
      "Epoch 22/100\n",
      "13785/13785 [==============================] - 0s 12us/sample - loss: 11.3390\n",
      "Epoch 23/100\n",
      "13785/13785 [==============================] - 0s 10us/sample - loss: 10.6983\n",
      "Epoch 24/100\n",
      "13785/13785 [==============================] - 0s 13us/sample - loss: 10.0829\n",
      "Epoch 25/100\n",
      "13785/13785 [==============================] - 0s 14us/sample - loss: 9.4897\n",
      "Epoch 26/100\n",
      "13785/13785 [==============================] - 0s 10us/sample - loss: 8.9211\n",
      "Epoch 27/100\n",
      "13785/13785 [==============================] - 0s 12us/sample - loss: 8.3746\n",
      "Epoch 28/100\n",
      "13785/13785 [==============================] - 0s 11us/sample - loss: 7.8510\n",
      "Epoch 29/100\n",
      "13785/13785 [==============================] - 0s 9us/sample - loss: 7.3516\n",
      "Epoch 30/100\n",
      "13785/13785 [==============================] - 0s 8us/sample - loss: 6.8762\n",
      "Epoch 31/100\n",
      "13785/13785 [==============================] - 0s 10us/sample - loss: 6.4218\n",
      "Epoch 32/100\n",
      "13785/13785 [==============================] - 0s 9us/sample - loss: 5.9914\n",
      "Epoch 33/100\n",
      "13785/13785 [==============================] - 0s 9us/sample - loss: 5.5847\n",
      "Epoch 34/100\n",
      "13785/13785 [==============================] - 0s 8us/sample - loss: 5.2007\n",
      "Epoch 35/100\n",
      "13785/13785 [==============================] - 0s 8us/sample - loss: 4.8408\n",
      "Epoch 36/100\n",
      "13785/13785 [==============================] - 0s 8us/sample - loss: 4.5035\n",
      "Epoch 37/100\n",
      "13785/13785 [==============================] - 0s 9us/sample - loss: 4.1900\n",
      "Epoch 38/100\n",
      "13785/13785 [==============================] - 0s 8us/sample - loss: 3.8984\n",
      "Epoch 39/100\n",
      "13785/13785 [==============================] - 0s 8us/sample - loss: 3.6304\n",
      "Epoch 40/100\n",
      "13785/13785 [==============================] - 0s 8us/sample - loss: 3.3850\n",
      "Epoch 41/100\n",
      "13785/13785 [==============================] - 0s 8us/sample - loss: 3.1657\n",
      "Epoch 42/100\n",
      "13785/13785 [==============================] - 0s 8us/sample - loss: 2.9652\n",
      "Epoch 43/100\n",
      "13785/13785 [==============================] - 0s 8us/sample - loss: 2.7898\n",
      "Epoch 44/100\n",
      "13785/13785 [==============================] - 0s 9us/sample - loss: 2.6383\n",
      "Epoch 45/100\n",
      "13785/13785 [==============================] - 0s 8us/sample - loss: 2.5091\n",
      "Epoch 46/100\n",
      "13785/13785 [==============================] - 0s 8us/sample - loss: 2.4023\n",
      "Epoch 47/100\n",
      "13785/13785 [==============================] - 0s 9us/sample - loss: 2.3191\n",
      "Epoch 48/100\n",
      "13785/13785 [==============================] - 0s 8us/sample - loss: 2.2567\n",
      "Epoch 49/100\n",
      "13785/13785 [==============================] - 0s 9us/sample - loss: 2.2168\n",
      "Epoch 50/100\n",
      "13785/13785 [==============================] - 0s 8us/sample - loss: 2.1953\n",
      "Epoch 51/100\n",
      "13785/13785 [==============================] - 0s 9us/sample - loss: 2.1874\n",
      "Epoch 52/100\n",
      "13785/13785 [==============================] - 0s 8us/sample - loss: 2.1854\n",
      "Epoch 53/100\n",
      "13785/13785 [==============================] - 0s 8us/sample - loss: 2.1851\n",
      "Epoch 54/100\n",
      "13785/13785 [==============================] - 0s 8us/sample - loss: 2.1850\n",
      "Epoch 55/100\n",
      "13785/13785 [==============================] - 0s 7us/sample - loss: 2.1849\n",
      "Epoch 56/100\n",
      "13785/13785 [==============================] - 0s 8us/sample - loss: 2.1850\n",
      "Epoch 57/100\n",
      "13785/13785 [==============================] - 0s 8us/sample - loss: 2.1849\n",
      "Epoch 58/100\n",
      "13785/13785 [==============================] - 0s 8us/sample - loss: 2.1849\n",
      "Epoch 59/100\n",
      "13785/13785 [==============================] - 0s 8us/sample - loss: 2.1850\n",
      "Epoch 60/100\n",
      "13785/13785 [==============================] - 0s 8us/sample - loss: 2.1849\n",
      "Epoch 61/100\n",
      "13785/13785 [==============================] - 0s 8us/sample - loss: 2.1849\n",
      "Epoch 62/100\n",
      "13785/13785 [==============================] - 0s 8us/sample - loss: 2.1849\n",
      "Epoch 63/100\n",
      "13785/13785 [==============================] - 0s 8us/sample - loss: 2.1849\n",
      "Epoch 64/100\n",
      "13785/13785 [==============================] - 0s 8us/sample - loss: 2.1849\n",
      "Epoch 65/100\n",
      "13785/13785 [==============================] - 0s 8us/sample - loss: 2.1850\n",
      "Epoch 66/100\n",
      "13785/13785 [==============================] - 0s 8us/sample - loss: 2.1849\n",
      "Epoch 67/100\n",
      "13785/13785 [==============================] - 0s 8us/sample - loss: 2.1850\n",
      "Epoch 68/100\n",
      "13785/13785 [==============================] - 0s 8us/sample - loss: 2.1849\n",
      "Epoch 69/100\n",
      "13785/13785 [==============================] - 0s 8us/sample - loss: 2.1849\n",
      "Epoch 70/100\n",
      "13785/13785 [==============================] - 0s 9us/sample - loss: 2.1849\n",
      "Epoch 71/100\n",
      "13785/13785 [==============================] - 0s 8us/sample - loss: 2.1850 0s - loss: 2.17\n",
      "Epoch 72/100\n",
      "13785/13785 [==============================] - 0s 8us/sample - loss: 2.1849\n",
      "Epoch 73/100\n",
      "13785/13785 [==============================] - 0s 8us/sample - loss: 2.1850\n",
      "Epoch 74/100\n",
      "13785/13785 [==============================] - 0s 8us/sample - loss: 2.1849\n",
      "Epoch 75/100\n",
      "13785/13785 [==============================] - 0s 8us/sample - loss: 2.1849\n",
      "Epoch 76/100\n",
      "13785/13785 [==============================] - 0s 8us/sample - loss: 2.1849\n",
      "Epoch 77/100\n",
      "13785/13785 [==============================] - 0s 8us/sample - loss: 2.1850\n",
      "Epoch 78/100\n",
      "13785/13785 [==============================] - 0s 8us/sample - loss: 2.1849\n",
      "Epoch 79/100\n",
      "13785/13785 [==============================] - 0s 8us/sample - loss: 2.1850\n",
      "Epoch 80/100\n",
      "13785/13785 [==============================] - 0s 8us/sample - loss: 2.1849\n",
      "Epoch 81/100\n",
      "13785/13785 [==============================] - 0s 8us/sample - loss: 2.1849\n",
      "Epoch 82/100\n",
      "13785/13785 [==============================] - 0s 8us/sample - loss: 2.1850\n",
      "Epoch 83/100\n",
      "13785/13785 [==============================] - 0s 8us/sample - loss: 2.1849\n",
      "Epoch 84/100\n",
      "13785/13785 [==============================] - 0s 8us/sample - loss: 2.1850\n",
      "Epoch 85/100\n",
      "13785/13785 [==============================] - 0s 8us/sample - loss: 2.1849\n",
      "Epoch 86/100\n",
      "13785/13785 [==============================] - 0s 8us/sample - loss: 2.1850\n",
      "Epoch 87/100\n",
      "13785/13785 [==============================] - 0s 8us/sample - loss: 2.1849\n",
      "Epoch 88/100\n",
      "13785/13785 [==============================] - 0s 8us/sample - loss: 2.1849\n",
      "Epoch 89/100\n",
      "13785/13785 [==============================] - 0s 9us/sample - loss: 2.1850\n",
      "Epoch 90/100\n",
      "13785/13785 [==============================] - 0s 8us/sample - loss: 2.1850\n",
      "Epoch 91/100\n",
      "13785/13785 [==============================] - 0s 8us/sample - loss: 2.1849\n",
      "Epoch 92/100\n",
      "13785/13785 [==============================] - 0s 8us/sample - loss: 2.1850\n",
      "Epoch 93/100\n",
      "13785/13785 [==============================] - 0s 8us/sample - loss: 2.1850\n",
      "Epoch 94/100\n",
      "13785/13785 [==============================] - 0s 8us/sample - loss: 2.1849\n",
      "Epoch 95/100\n",
      "13785/13785 [==============================] - 0s 8us/sample - loss: 2.1849\n",
      "Epoch 96/100\n",
      "13785/13785 [==============================] - 0s 8us/sample - loss: 2.1849\n",
      "Epoch 97/100\n",
      "13785/13785 [==============================] - 0s 8us/sample - loss: 2.1849\n",
      "Epoch 98/100\n",
      "13785/13785 [==============================] - 0s 8us/sample - loss: 2.1849\n",
      "Epoch 99/100\n",
      "13785/13785 [==============================] - 0s 8us/sample - loss: 2.1849\n",
      "Epoch 100/100\n",
      "13785/13785 [==============================] - 0s 8us/sample - loss: 2.1849\n"
     ]
    },
    {
     "data": {
      "text/plain": [
       "<tensorflow.python.keras.callbacks.History at 0x2c84a83bc88>"
      ]
     },
     "execution_count": 86,
     "metadata": {},
     "output_type": "execute_result"
    }
   ],
   "source": [
    "nn_sev_log = tf.keras.models.Sequential()\n",
    "nn_sev_log.add(tf.keras.layers.Dense(units = 1, activation = 'linear', input_shape = (1,), use_bias = False))\n",
    "nn_sev_log.compile(optimizer = 'RMSprop', loss = 'mse')\n",
    "nn_sev_log.fit(x = np.array(np.ones(df_claims.shape[0])),\n",
    "              y = np.log(np.array(df_claims['avg'])),\n",
    "              epochs = 100,\n",
    "              batch_size = 128,\n",
    "              validation_split = 0,\n",
    "              verbose = 1)"
   ]
  },
  {
   "cell_type": "code",
   "execution_count": 89,
   "metadata": {},
   "outputs": [
    {
     "data": {
      "text/plain": [
       "array([7.31612725, 7.26289458, 4.175876  , ..., 4.16861436, 8.80140121,\n",
       "       6.91710904])"
      ]
     },
     "execution_count": 89,
     "metadata": {},
     "output_type": "execute_result"
    }
   ],
   "source": [
    "np.log(np.array(df_claims['avg']))"
   ]
  },
  {
   "cell_type": "code",
   "execution_count": 91,
   "metadata": {},
   "outputs": [
    {
     "data": {
      "text/plain": [
       "array([    0,     1,     2, ..., 13782, 13783, 13784])"
      ]
     },
     "execution_count": 91,
     "metadata": {},
     "output_type": "execute_result"
    }
   ],
   "source": [
    "np.array(range(df_claims.shape[0]))"
   ]
  },
  {
   "cell_type": "code",
   "execution_count": 96,
   "metadata": {},
   "outputs": [
    {
     "data": {
      "text/plain": [
       "453.4446716308594"
      ]
     },
     "execution_count": 96,
     "metadata": {},
     "output_type": "execute_result"
    }
   ],
   "source": [
    "np.float(np.exp(nn_sev_log.predict(tf.cast([1], dtype = tf.float32))))"
   ]
  },
  {
   "cell_type": "code",
   "execution_count": 97,
   "metadata": {},
   "outputs": [
    {
     "data": {
      "text/plain": [
       "count    1.378500e+04\n",
       "mean     1.649423e+03\n",
       "std      1.865988e+04\n",
       "min      2.478935e-02\n",
       "25%      1.421917e+02\n",
       "50%      5.345080e+02\n",
       "75%      1.426379e+03\n",
       "max      1.989568e+06\n",
       "Name: avg, dtype: float64"
      ]
     },
     "execution_count": 97,
     "metadata": {},
     "output_type": "execute_result"
    }
   ],
   "source": [
    "df_claims['avg'].describe()"
   ]
  },
  {
   "cell_type": "code",
   "execution_count": 98,
   "metadata": {},
   "outputs": [],
   "source": [
    "def k_gamma(y_true, y_pred):\n",
    "    y_true = tf.cast(y_true, dtype = tf.float32)\n",
    "    y_pred = tf.cast(y_pred, dtype = tf.float32)\n",
    "    return ((y_true - y_pred) / y_pred) - tf.math.log(y_true / y_pred)"
   ]
  },
  {
   "cell_type": "code",
   "execution_count": 99,
   "metadata": {},
   "outputs": [
    {
     "name": "stdout",
     "output_type": "stream",
     "text": [
      "Train on 13785 samples\n",
      "Epoch 1/100\n",
      "13785/13785 [==============================] - 0s 29us/sample - loss: 1419.9667\n",
      "Epoch 2/100\n",
      "13785/13785 [==============================] - 0s 10us/sample - loss: 1313.5549\n",
      "Epoch 3/100\n",
      "13785/13785 [==============================] - 0s 8us/sample - loss: 1187.1669\n",
      "Epoch 4/100\n",
      "13785/13785 [==============================] - 0s 9us/sample - loss: 1097.9775\n",
      "Epoch 5/100\n",
      "13785/13785 [==============================] - 0s 9us/sample - loss: 1006.4835\n",
      "Epoch 6/100\n",
      "13785/13785 [==============================] - 0s 10us/sample - loss: 912.7667\n",
      "Epoch 7/100\n",
      "13785/13785 [==============================] - 0s 9us/sample - loss: 846.8450\n",
      "Epoch 8/100\n",
      "13785/13785 [==============================] - 0s 9us/sample - loss: 771.7519\n",
      "Epoch 9/100\n",
      "13785/13785 [==============================] - 0s 8us/sample - loss: 706.7449\n",
      "Epoch 10/100\n",
      "13785/13785 [==============================] - 0s 8us/sample - loss: 643.3032\n",
      "Epoch 11/100\n",
      "13785/13785 [==============================] - 0s 9us/sample - loss: 587.9837\n",
      "Epoch 12/100\n",
      "13785/13785 [==============================] - 0s 8us/sample - loss: 542.6704\n",
      "Epoch 13/100\n",
      "13785/13785 [==============================] - 0s 12us/sample - loss: 502.2646\n",
      "Epoch 14/100\n",
      "13785/13785 [==============================] - 0s 9us/sample - loss: 458.3071\n",
      "Epoch 15/100\n",
      "13785/13785 [==============================] - 0s 9us/sample - loss: 419.7862\n",
      "Epoch 16/100\n",
      "13785/13785 [==============================] - 0s 8us/sample - loss: 383.2486\n",
      "Epoch 17/100\n",
      "13785/13785 [==============================] - 0s 8us/sample - loss: 353.0947\n",
      "Epoch 18/100\n",
      "13785/13785 [==============================] - 0s 7us/sample - loss: 322.7529\n",
      "Epoch 19/100\n",
      "13785/13785 [==============================] - 0s 8us/sample - loss: 293.6523\n",
      "Epoch 20/100\n",
      "13785/13785 [==============================] - 0s 8us/sample - loss: 270.0567\n",
      "Epoch 21/100\n",
      "13785/13785 [==============================] - 0s 8us/sample - loss: 249.2264\n",
      "Epoch 22/100\n",
      "13785/13785 [==============================] - 0s 9us/sample - loss: 227.6191\n",
      "Epoch 23/100\n",
      "13785/13785 [==============================] - 0s 8us/sample - loss: 206.8622\n",
      "Epoch 24/100\n",
      "13785/13785 [==============================] - 0s 8us/sample - loss: 189.6098\n",
      "Epoch 25/100\n",
      "13785/13785 [==============================] - 0s 9us/sample - loss: 173.6874\n",
      "Epoch 26/100\n",
      "13785/13785 [==============================] - 0s 8us/sample - loss: 158.6513\n",
      "Epoch 27/100\n",
      "13785/13785 [==============================] - 0s 9us/sample - loss: 144.9413\n",
      "Epoch 28/100\n",
      "13785/13785 [==============================] - 0s 8us/sample - loss: 133.3124\n",
      "Epoch 29/100\n",
      "13785/13785 [==============================] - 0s 8us/sample - loss: 123.2089\n",
      "Epoch 30/100\n",
      "13785/13785 [==============================] - 0s 8us/sample - loss: 112.6065\n",
      "Epoch 31/100\n",
      "13785/13785 [==============================] - 0s 8us/sample - loss: 102.6894\n",
      "Epoch 32/100\n",
      "13785/13785 [==============================] - 0s 7us/sample - loss: 93.0211\n",
      "Epoch 33/100\n",
      "13785/13785 [==============================] - 0s 8us/sample - loss: 86.1485\n",
      "Epoch 34/100\n",
      "13785/13785 [==============================] - 0s 8us/sample - loss: 77.7428\n",
      "Epoch 35/100\n",
      "13785/13785 [==============================] - 0s 8us/sample - loss: 71.5766\n",
      "Epoch 36/100\n",
      "13785/13785 [==============================] - 0s 9us/sample - loss: 64.8476\n",
      "Epoch 37/100\n",
      "13785/13785 [==============================] - 0s 8us/sample - loss: 59.8868\n",
      "Epoch 38/100\n",
      "13785/13785 [==============================] - 0s 8us/sample - loss: 54.0089\n",
      "Epoch 39/100\n",
      "13785/13785 [==============================] - ETA: 0s - loss: 44.62 - 0s 8us/sample - loss: 49.1691\n",
      "Epoch 40/100\n",
      "13785/13785 [==============================] - 0s 9us/sample - loss: 45.3451\n",
      "Epoch 41/100\n",
      "13785/13785 [==============================] - 0s 8us/sample - loss: 41.4688\n",
      "Epoch 42/100\n",
      "13785/13785 [==============================] - 0s 8us/sample - loss: 37.4993\n",
      "Epoch 43/100\n",
      "13785/13785 [==============================] - 0s 9us/sample - loss: 34.4952\n",
      "Epoch 44/100\n",
      "13785/13785 [==============================] - 0s 9us/sample - loss: 31.1547\n",
      "Epoch 45/100\n",
      "13785/13785 [==============================] - 0s 9us/sample - loss: 28.40300s - loss: 25.\n",
      "Epoch 46/100\n",
      "13785/13785 [==============================] - 0s 8us/sample - loss: 25.9505\n",
      "Epoch 47/100\n",
      "13785/13785 [==============================] - 0s 9us/sample - loss: 23.7429\n",
      "Epoch 48/100\n",
      "13785/13785 [==============================] - 0s 8us/sample - loss: 21.5532\n",
      "Epoch 49/100\n",
      "13785/13785 [==============================] - 0s 8us/sample - loss: 19.5638\n",
      "Epoch 50/100\n",
      "13785/13785 [==============================] - 0s 9us/sample - loss: 18.0001\n",
      "Epoch 51/100\n",
      "13785/13785 [==============================] - 0s 8us/sample - loss: 16.4412\n",
      "Epoch 52/100\n",
      "13785/13785 [==============================] - 0s 9us/sample - loss: 14.9249\n",
      "Epoch 53/100\n",
      "13785/13785 [==============================] - 0s 8us/sample - loss: 13.6372\n",
      "Epoch 54/100\n",
      "13785/13785 [==============================] - 0s 10us/sample - loss: 12.3789\n",
      "Epoch 55/100\n",
      "13785/13785 [==============================] - 0s 8us/sample - loss: 11.1548\n",
      "Epoch 56/100\n",
      "13785/13785 [==============================] - 0s 9us/sample - loss: 10.1845\n",
      "Epoch 57/100\n",
      "13785/13785 [==============================] - 0s 9us/sample - loss: 9.1840\n",
      "Epoch 58/100\n",
      "13785/13785 [==============================] - 0s 8us/sample - loss: 8.3451\n",
      "Epoch 59/100\n",
      "13785/13785 [==============================] - 0s 9us/sample - loss: 7.6842\n",
      "Epoch 60/100\n",
      "13785/13785 [==============================] - 0s 8us/sample - loss: 6.9816\n",
      "Epoch 61/100\n",
      "13785/13785 [==============================] - 0s 8us/sample - loss: 6.4042\n",
      "Epoch 62/100\n",
      "13785/13785 [==============================] - 0s 9us/sample - loss: 5.8037\n",
      "Epoch 63/100\n",
      "13785/13785 [==============================] - 0s 8us/sample - loss: 5.2809\n",
      "Epoch 64/100\n",
      "13785/13785 [==============================] - 0s 8us/sample - loss: 4.8213\n",
      "Epoch 65/100\n",
      "13785/13785 [==============================] - 0s 8us/sample - loss: 4.3604\n",
      "Epoch 66/100\n",
      "13785/13785 [==============================] - 0s 8us/sample - loss: 4.0087\n",
      "Epoch 67/100\n",
      "13785/13785 [==============================] - 0s 8us/sample - loss: 3.7121\n",
      "Epoch 68/100\n",
      "13785/13785 [==============================] - 0s 9us/sample - loss: 3.3717\n",
      "Epoch 69/100\n",
      "13785/13785 [==============================] - 0s 8us/sample - loss: 3.1099\n",
      "Epoch 70/100\n",
      "13785/13785 [==============================] - 0s 9us/sample - loss: 2.8914\n",
      "Epoch 71/100\n",
      "13785/13785 [==============================] - 0s 8us/sample - loss: 2.6636\n",
      "Epoch 72/100\n",
      "13785/13785 [==============================] - ETA: 0s - loss: 2.500 - 0s 9us/sample - loss: 2.4530\n",
      "Epoch 73/100\n",
      "13785/13785 [==============================] - 0s 8us/sample - loss: 2.3054 0s - loss: 2.75\n",
      "Epoch 74/100\n",
      "13785/13785 [==============================] - 0s 8us/sample - loss: 2.1634\n",
      "Epoch 75/100\n",
      "13785/13785 [==============================] - 0s 9us/sample - loss: 2.0286\n",
      "Epoch 76/100\n",
      "13785/13785 [==============================] - 0s 8us/sample - loss: 1.9065 0s - loss: 1.65\n",
      "Epoch 77/100\n",
      "13785/13785 [==============================] - 0s 9us/sample - loss: 1.8182\n",
      "Epoch 78/100\n",
      "13785/13785 [==============================] - 0s 8us/sample - loss: 1.7301\n",
      "Epoch 79/100\n",
      "13785/13785 [==============================] - 0s 10us/sample - loss: 1.6496\n",
      "Epoch 80/100\n",
      "13785/13785 [==============================] - 0s 8us/sample - loss: 1.5790\n",
      "Epoch 81/100\n",
      "13785/13785 [==============================] - 0s 9us/sample - loss: 1.5214\n",
      "Epoch 82/100\n",
      "13785/13785 [==============================] - 0s 8us/sample - loss: 1.4770\n",
      "Epoch 83/100\n",
      "13785/13785 [==============================] - 0s 8us/sample - loss: 1.4388\n",
      "Epoch 84/100\n",
      "13785/13785 [==============================] - 0s 8us/sample - loss: 1.4085\n",
      "Epoch 85/100\n",
      "13785/13785 [==============================] - 0s 8us/sample - loss: 1.3822\n",
      "Epoch 86/100\n",
      "13785/13785 [==============================] - 0s 9us/sample - loss: 1.3666\n",
      "Epoch 87/100\n",
      "13785/13785 [==============================] - 0s 8us/sample - loss: 1.3472\n",
      "Epoch 88/100\n",
      "13785/13785 [==============================] - 0s 9us/sample - loss: 1.3384\n",
      "Epoch 89/100\n",
      "13785/13785 [==============================] - 0s 8us/sample - loss: 1.3274\n",
      "Epoch 90/100\n",
      "13785/13785 [==============================] - 0s 8us/sample - loss: 1.3222\n",
      "Epoch 91/100\n",
      "13785/13785 [==============================] - 0s 8us/sample - loss: 1.3189\n",
      "Epoch 92/100\n",
      "13785/13785 [==============================] - 0s 8us/sample - loss: 1.3136\n",
      "Epoch 93/100\n",
      "13785/13785 [==============================] - 0s 8us/sample - loss: 1.3109\n",
      "Epoch 94/100\n",
      "13785/13785 [==============================] - 0s 7us/sample - loss: 1.3091\n",
      "Epoch 95/100\n",
      "13785/13785 [==============================] - 0s 8us/sample - loss: 1.3068\n",
      "Epoch 96/100\n",
      "13785/13785 [==============================] - 0s 8us/sample - loss: 1.3046\n",
      "Epoch 97/100\n",
      "13785/13785 [==============================] - 0s 8us/sample - loss: 1.3029\n",
      "Epoch 98/100\n",
      "13785/13785 [==============================] - 0s 8us/sample - loss: 1.3027\n",
      "Epoch 99/100\n",
      "13785/13785 [==============================] - 0s 8us/sample - loss: 1.3029\n",
      "Epoch 100/100\n",
      "13785/13785 [==============================] - 0s 8us/sample - loss: 1.3019\n"
     ]
    },
    {
     "data": {
      "text/plain": [
       "<tensorflow.python.keras.callbacks.History at 0x2c84d1d8c08>"
      ]
     },
     "execution_count": 99,
     "metadata": {},
     "output_type": "execute_result"
    }
   ],
   "source": [
    "nn_sev_gamma = tf.keras.models.Sequential()\n",
    "nn_sev_gamma.add(tf.keras.layers.Dense(units = 1, activation = 'exponential', input_shape = (1,), use_bias = False))\n",
    "nn_sev_gamma.compile(optimizer = 'RMSprop', loss = k_gamma)\n",
    "nn_sev_gamma.fit(x = np.ones(df_claims.shape[0]),\n",
    "                 y = np.array(df_claims['avg']),\n",
    "                 epochs = 100,\n",
    "                 batch_size = 128,\n",
    "                 validation_split = 0)"
   ]
  },
  {
   "cell_type": "code",
   "execution_count": 104,
   "metadata": {},
   "outputs": [
    {
     "data": {
      "text/plain": [
       "1440.118896484375"
      ]
     },
     "execution_count": 104,
     "metadata": {},
     "output_type": "execute_result"
    }
   ],
   "source": [
    "np.float(nn_sev_gamma.predict(tf.cast([1], dtype = tf.float32)))"
   ]
  },
  {
   "cell_type": "code",
   "execution_count": 105,
   "metadata": {},
   "outputs": [
    {
     "data": {
      "text/plain": [
       "1159.6594613350771"
      ]
     },
     "execution_count": 105,
     "metadata": {},
     "output_type": "execute_result"
    }
   ],
   "source": [
    "np.mean(df_claims[df_claims['avg'] < 30000]['avg'])"
   ]
  },
  {
   "cell_type": "code",
   "execution_count": null,
   "metadata": {},
   "outputs": [],
   "source": []
  }
 ],
 "metadata": {
  "kernelspec": {
   "display_name": "Python 3",
   "language": "python",
   "name": "python3"
  },
  "language_info": {
   "codemirror_mode": {
    "name": "ipython",
    "version": 3
   },
   "file_extension": ".py",
   "mimetype": "text/x-python",
   "name": "python",
   "nbconvert_exporter": "python",
   "pygments_lexer": "ipython3",
   "version": "3.7.6"
  }
 },
 "nbformat": 4,
 "nbformat_minor": 4
}
