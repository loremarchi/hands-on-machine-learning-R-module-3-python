{
 "cells": [
  {
   "cell_type": "markdown",
   "metadata": {},
   "source": [
    "# 4. Convolutional neural networks (CNN)"
   ]
  },
  {
   "cell_type": "markdown",
   "metadata": {},
   "source": [
    "With ANNs, our first step in the MNIST analysis was to flatten the image matrix into a vector. This approach is not translation invariant: \n",
    "* a completely different set of nodes gets activated when the image is shifted.\n",
    "* ignores the dependency between nearby pixels.\n",
    "* requires a large number of parameters/weights aseach node in the first hidden layer is connected to all nodes in the input layer\n",
    "\n",
    "Convolutional layers allow to handle multidimensional data, without flattening!"
   ]
  },
  {
   "cell_type": "markdown",
   "metadata": {},
   "source": [
    "2d convolutional layers use 2 dimensional input (for example images) to construct 2 dimensional feature maps:\n",
    "* The weights in a 2d convolutional layer are structured in a small image, called the kernel or the filter:\n",
    "<img src=\"./imgs/cnn_1.png\" alt=\"cnn_1\" style=\"width: 300px;\"/>"
   ]
  },
  {
   "cell_type": "markdown",
   "metadata": {},
   "source": [
    "* We slide the kernel over the input image, multiply the selected part of the image and the kernel elementwise and sum:\n",
    "<img src=\"./imgs/cnn_2.png\" alt=\"cnn_2\" style=\"width: 300px;\"/>"
   ]
  },
  {
   "cell_type": "code",
   "execution_count": 1,
   "metadata": {},
   "outputs": [
    {
     "name": "stderr",
     "output_type": "stream",
     "text": [
      "Using TensorFlow backend.\n"
     ]
    }
   ],
   "source": [
    "# import libs\n",
    "import os\n",
    "import random\n",
    "import tensorflow as tf\n",
    "import pandas as pd\n",
    "import numpy as np\n",
    "import matplotlib.pyplot as plt\n",
    "from  matplotlib.colors import LinearSegmentedColormap\n",
    "from keras import backend as K\n",
    "\n",
    "seed = 123\n",
    "\n",
    "def reset_random_seeds(seed):\n",
    "    os.environ['PYTHONHASHSEED']=str(seed)\n",
    "    tf.random.set_seed(seed)\n",
    "    np.random.seed(seed)\n",
    "    random.seed(seed)\n",
    "    \n",
    "reset_random_seeds(seed)"
   ]
  },
  {
   "cell_type": "code",
   "execution_count": 3,
   "metadata": {},
   "outputs": [],
   "source": [
    "# load mnist data\n",
    "(x_train, y_train), (x_test, y_test) = tf.keras.datasets.mnist.load_data()"
   ]
  },
  {
   "cell_type": "code",
   "execution_count": 4,
   "metadata": {},
   "outputs": [],
   "source": [
    "x_train = x_train/255\n",
    "x_test = x_test/255"
   ]
  },
  {
   "cell_type": "code",
   "execution_count": 5,
   "metadata": {},
   "outputs": [
    {
     "data": {
      "text/plain": [
       "(60000, 28, 28)"
      ]
     },
     "execution_count": 5,
     "metadata": {},
     "output_type": "execute_result"
    }
   ],
   "source": [
    "x_train.shape"
   ]
  },
  {
   "cell_type": "code",
   "execution_count": 6,
   "metadata": {},
   "outputs": [
    {
     "data": {
      "text/plain": [
       "TensorShape([10000, 28, 28, 1])"
      ]
     },
     "execution_count": 6,
     "metadata": {},
     "output_type": "execute_result"
    }
   ],
   "source": [
    "# expand dimension to fourth axis\n",
    "x_train = tf.expand_dims(x_train, axis = -1, name=None); x_train.shape # -1 to add dimension 'on the right side'\n",
    "x_test = tf.expand_dims(x_test, axis = -1, name=None); x_test.shape"
   ]
  },
  {
   "cell_type": "code",
   "execution_count": 7,
   "metadata": {},
   "outputs": [
    {
     "name": "stdout",
     "output_type": "stream",
     "text": [
      "dim x_train:(60000, 28, 28, 1), dim x_test:(10000, 28, 28, 1)\n"
     ]
    }
   ],
   "source": [
    "print(f'dim x_train:{x_train.shape}, dim x_test:{x_test.shape}')"
   ]
  },
  {
   "cell_type": "code",
   "execution_count": 8,
   "metadata": {},
   "outputs": [],
   "source": [
    "# y_train\n",
    "output_train = tf.keras.utils.to_categorical(y_train, num_classes=10)\n",
    "output_test = tf.keras.utils.to_categorical(y_test, num_classes=10)"
   ]
  },
  {
   "cell_type": "markdown",
   "metadata": {},
   "source": [
    "### 4.1 Fitting a CNN"
   ]
  },
  {
   "cell_type": "markdown",
   "metadata": {},
   "source": [
    "In order to fit our CNN we need to add a 2D convolutional layer:\n",
    "\n",
    "```python\n",
    "model.add(tf.keras.layers.Conv2D(filters = 8, \n",
    "                                 kernel_size = 3,\n",
    "                                 strides = c(1, 1),\n",
    "                                 input_shape = (28, 28, 1)))\n",
    "```\n",
    "* **filters = 8**: We construct 8 feature maps associated to different kernels/filters.\n",
    "* **kernel_size = c(3, 3)**: The filter/kernel has a size of 3x3.\n",
    "* **strides = c(1, 1)**: We move the kernel in steps of 1 pixel in both the horizontal and vertical direction. This is a common choice.\n",
    "* **input_shape = (28, 28, 1)**: If this is the first layer of the model, we also have to specify the dimensions of the input data. The input consists of 1 image of size 28x28."
   ]
  },
  {
   "cell_type": "markdown",
   "metadata": {},
   "source": [
    "A convolution layer is typically followed by a pooling step, which reduces the size of feature maps. Pooling layers divide the image in blocks of equal size\n",
    "and then aggregate the data per block. Two common operations are:\n",
    "* average pooling\n",
    "* max pooling\n"
   ]
  },
  {
   "cell_type": "markdown",
   "metadata": {},
   "source": [
    "When all features are extracted, the data is flattened.This data can be seen as engineered features, automatically created by the CNN architecture. In a next step, a feed-forward ANN is used to analyze these local features."
   ]
  },
  {
   "cell_type": "code",
   "execution_count": 9,
   "metadata": {},
   "outputs": [],
   "source": [
    "reset_random_seeds(seed)\n",
    "session_conf = tf.compat.v1.ConfigProto(intra_op_parallelism_threads=1, inter_op_parallelism_threads=1)\n",
    "sess = tf.compat.v1.keras.backend.set_session(session_conf)\n",
    "\n",
    "# fitting convolutional neural netword\n",
    "model = tf.keras.models.Sequential()\n",
    "model.add(tf.keras.layers.Conv2D(filters = 8, \n",
    "                                 kernel_size = 3, \n",
    "                                 input_shape = (28, 28, 1)))\n",
    "model.add(tf.keras.layers.MaxPooling2D(pool_size = 2,\n",
    "                                      strides = 2))\n",
    "model.add(tf.keras.layers.Flatten())\n",
    "model.add(tf.keras.layers.Dense(units = 10, activation = 'softmax'))\n",
    "model.compile(loss = 'categorical_crossentropy',\n",
    "              optimizer = 'RMSprop',\n",
    "              metrics = ['accuracy'])\n",
    "\n",
    "tf.compat.v1.keras.backend.clear_session()"
   ]
  },
  {
   "cell_type": "code",
   "execution_count": 10,
   "metadata": {},
   "outputs": [
    {
     "name": "stdout",
     "output_type": "stream",
     "text": [
      "Model: \"sequential\"\n",
      "_________________________________________________________________\n",
      "Layer (type)                 Output Shape              Param #   \n",
      "=================================================================\n",
      "conv2d (Conv2D)              (None, 26, 26, 8)         80        \n",
      "_________________________________________________________________\n",
      "max_pooling2d (MaxPooling2D) (None, 13, 13, 8)         0         \n",
      "_________________________________________________________________\n",
      "flatten (Flatten)            (None, 1352)              0         \n",
      "_________________________________________________________________\n",
      "dense (Dense)                (None, 10)                13530     \n",
      "=================================================================\n",
      "Total params: 13,610\n",
      "Trainable params: 13,610\n",
      "Non-trainable params: 0\n",
      "_________________________________________________________________\n"
     ]
    }
   ],
   "source": [
    "model.summary()"
   ]
  },
  {
   "cell_type": "code",
   "execution_count": 11,
   "metadata": {},
   "outputs": [
    {
     "name": "stdout",
     "output_type": "stream",
     "text": [
      "Train on 48000 samples, validate on 12000 samples\n",
      "Epoch 1/10\n",
      "48000/48000 [==============================] - 5s 104us/sample - loss: 0.4929 - accuracy: 0.8677 - val_loss: 0.2869 - val_accuracy: 0.9162\n",
      "Epoch 2/10\n",
      "48000/48000 [==============================] - 5s 94us/sample - loss: 0.2859 - accuracy: 0.9169 - val_loss: 0.2582 - val_accuracy: 0.9259\n",
      "Epoch 3/10\n",
      "48000/48000 [==============================] - 4s 91us/sample - loss: 0.2528 - accuracy: 0.9274 - val_loss: 0.2263 - val_accuracy: 0.9366\n",
      "Epoch 4/10\n",
      "48000/48000 [==============================] - 4s 94us/sample - loss: 0.2254 - accuracy: 0.9355 - val_loss: 0.2027 - val_accuracy: 0.9448\n",
      "Epoch 5/10\n",
      "48000/48000 [==============================] - 4s 84us/sample - loss: 0.1970 - accuracy: 0.9436 - val_loss: 0.1802 - val_accuracy: 0.9518\n",
      "Epoch 6/10\n",
      "48000/48000 [==============================] - 4s 85us/sample - loss: 0.1720 - accuracy: 0.9508 - val_loss: 0.1629 - val_accuracy: 0.9578\n",
      "Epoch 7/10\n",
      "48000/48000 [==============================] - 4s 88us/sample - loss: 0.1501 - accuracy: 0.9571 - val_loss: 0.1443 - val_accuracy: 0.9620\n",
      "Epoch 8/10\n",
      "48000/48000 [==============================] - 4s 85us/sample - loss: 0.1330 - accuracy: 0.9617 - val_loss: 0.1327 - val_accuracy: 0.9638\n",
      "Epoch 9/10\n",
      "48000/48000 [==============================] - 4s 85us/sample - loss: 0.1204 - accuracy: 0.9659 - val_loss: 0.1244 - val_accuracy: 0.9672\n",
      "Epoch 10/10\n",
      "48000/48000 [==============================] - 4s 86us/sample - loss: 0.1093 - accuracy: 0.9688 - val_loss: 0.1126 - val_accuracy: 0.9697\n"
     ]
    },
    {
     "data": {
      "text/plain": [
       "<tensorflow.python.keras.callbacks.History at 0x23ffd4aef48>"
      ]
     },
     "execution_count": 11,
     "metadata": {},
     "output_type": "execute_result"
    }
   ],
   "source": [
    "model.fit(x = x_train,\n",
    "          y = output_train,\n",
    "          epochs = 10,\n",
    "          batch_size = 128,\n",
    "          validation_split = 0.2)"
   ]
  },
  {
   "cell_type": "code",
   "execution_count": 14,
   "metadata": {},
   "outputs": [
    {
     "name": "stdout",
     "output_type": "stream",
     "text": [
      "loss:0.11180946557745337, accuracy:0.967199981212616\n"
     ]
    }
   ],
   "source": [
    "# evaluate performance\n",
    "test_loss, test_accuracy = model.evaluate(x_test, output_test, verbose = 0)\n",
    "print(f'loss:{test_loss}, accuracy:{test_accuracy}')"
   ]
  },
  {
   "cell_type": "code",
   "execution_count": 13,
   "metadata": {},
   "outputs": [],
   "source": [
    "# test reproducibility\n",
    "# 10 epochs - loss:0.11180946557745337, accuracy:0.967199981212616"
   ]
  },
  {
   "cell_type": "code",
   "execution_count": 14,
   "metadata": {},
   "outputs": [],
   "source": [
    "# prediction using test set\n",
    "prediction = model.predict(x_test)"
   ]
  },
  {
   "cell_type": "code",
   "execution_count": 15,
   "metadata": {},
   "outputs": [],
   "source": [
    "# prediction vs actual\n",
    "predicted_category = np.argmax(prediction, axis = 1)\n",
    "actual_category = np.argmax(output_test, axis = 1)"
   ]
  },
  {
   "cell_type": "code",
   "execution_count": 16,
   "metadata": {},
   "outputs": [],
   "source": [
    "# mis-predicted values\n",
    "mask = np.equal(predicted_category,actual_category)\n",
    "index_mispred = np.where(~mask)"
   ]
  },
  {
   "cell_type": "markdown",
   "metadata": {},
   "source": [
    "The number of mis-predicted values"
   ]
  },
  {
   "cell_type": "code",
   "execution_count": 17,
   "metadata": {},
   "outputs": [
    {
     "data": {
      "text/plain": [
       "328"
      ]
     },
     "execution_count": 17,
     "metadata": {},
     "output_type": "execute_result"
    }
   ],
   "source": [
    "(~mask).sum()"
   ]
  },
  {
   "cell_type": "code",
   "execution_count": null,
   "metadata": {},
   "outputs": [],
   "source": [
    "# test reproducibility\n",
    "# 328"
   ]
  },
  {
   "cell_type": "code",
   "execution_count": 18,
   "metadata": {},
   "outputs": [],
   "source": [
    "# bulding df predicted/actual categories\n",
    "df = pd.DataFrame({'pred_cat':predicted_category,\n",
    "                   'actual_cat':actual_category})"
   ]
  },
  {
   "cell_type": "code",
   "execution_count": 19,
   "metadata": {},
   "outputs": [
    {
     "data": {
      "text/html": [
       "<div>\n",
       "<style scoped>\n",
       "    .dataframe tbody tr th:only-of-type {\n",
       "        vertical-align: middle;\n",
       "    }\n",
       "\n",
       "    .dataframe tbody tr th {\n",
       "        vertical-align: top;\n",
       "    }\n",
       "\n",
       "    .dataframe thead th {\n",
       "        text-align: right;\n",
       "    }\n",
       "</style>\n",
       "<table border=\"1\" class=\"dataframe\">\n",
       "  <thead>\n",
       "    <tr style=\"text-align: right;\">\n",
       "      <th></th>\n",
       "      <th>pred_cat</th>\n",
       "      <th>actual_cat</th>\n",
       "    </tr>\n",
       "  </thead>\n",
       "  <tbody>\n",
       "    <tr>\n",
       "      <th>0</th>\n",
       "      <td>7</td>\n",
       "      <td>7</td>\n",
       "    </tr>\n",
       "    <tr>\n",
       "      <th>1</th>\n",
       "      <td>2</td>\n",
       "      <td>2</td>\n",
       "    </tr>\n",
       "    <tr>\n",
       "      <th>2</th>\n",
       "      <td>1</td>\n",
       "      <td>1</td>\n",
       "    </tr>\n",
       "    <tr>\n",
       "      <th>3</th>\n",
       "      <td>0</td>\n",
       "      <td>0</td>\n",
       "    </tr>\n",
       "    <tr>\n",
       "      <th>4</th>\n",
       "      <td>4</td>\n",
       "      <td>4</td>\n",
       "    </tr>\n",
       "  </tbody>\n",
       "</table>\n",
       "</div>"
      ],
      "text/plain": [
       "   pred_cat  actual_cat\n",
       "0         7           7\n",
       "1         2           2\n",
       "2         1           1\n",
       "3         0           0\n",
       "4         4           4"
      ]
     },
     "execution_count": 19,
     "metadata": {},
     "output_type": "execute_result"
    }
   ],
   "source": [
    "df.head()"
   ]
  },
  {
   "cell_type": "code",
   "execution_count": 20,
   "metadata": {},
   "outputs": [],
   "source": [
    "def plot_img_3d_tensor(vector_picture, which, actual_v, predited_v):\n",
    "    pixels = np.array(vector_picture)[which][:][:][:]\n",
    "    plt.imshow(pixels, cmap='gray')\n",
    "    plt.title(f'actual:{actual_category[which]}, predicted:{predicted_category[which]}')\n",
    "    plt.show()"
   ]
  },
  {
   "cell_type": "code",
   "execution_count": 21,
   "metadata": {},
   "outputs": [
    {
     "data": {
      "image/png": "[encoded data removed]",
      "text/plain": [
       "<Figure size 432x288 with 1 Axes>"
      ]
     },
     "metadata": {
      "needs_background": "light"
     },
     "output_type": "display_data"
    }
   ],
   "source": [
    "plot_img_3d_tensor(x_test, 2, df['actual_cat'], df['pred_cat'])"
   ]
  },
  {
   "cell_type": "code",
   "execution_count": 22,
   "metadata": {},
   "outputs": [],
   "source": [
    "filters = model.get_weights()"
   ]
  },
  {
   "cell_type": "code",
   "execution_count": 23,
   "metadata": {},
   "outputs": [
    {
     "data": {
      "text/plain": [
       "[<tensorflow.python.keras.layers.convolutional.Conv2D at 0x236484a0d88>,\n",
       " <tensorflow.python.keras.layers.pooling.MaxPooling2D at 0x236484f1f88>,\n",
       " <tensorflow.python.keras.layers.core.Flatten at 0x236484f1ec8>,\n",
       " <tensorflow.python.keras.layers.core.Dense at 0x23647e0efc8>]"
      ]
     },
     "execution_count": 23,
     "metadata": {},
     "output_type": "execute_result"
    }
   ],
   "source": [
    "model.layers"
   ]
  },
  {
   "cell_type": "code",
   "execution_count": 24,
   "metadata": {},
   "outputs": [],
   "source": [
    "# retrieve weights from the second hidden layer\n",
    "filters, biases = model.layers[0].get_weights()"
   ]
  },
  {
   "cell_type": "code",
   "execution_count": 25,
   "metadata": {},
   "outputs": [
    {
     "data": {
      "text/plain": [
       "(3, 3, 1)"
      ]
     },
     "execution_count": 25,
     "metadata": {},
     "output_type": "execute_result"
    }
   ],
   "source": [
    "filters[:, :, :, 0].shape"
   ]
  },
  {
   "cell_type": "code",
   "execution_count": 26,
   "metadata": {},
   "outputs": [
    {
     "name": "stdout",
     "output_type": "stream",
     "text": [
      "conv2d (3, 3, 1, 8)\n"
     ]
    }
   ],
   "source": [
    "#Iterate through all the layers of the model\n",
    "for layer in model.layers:\n",
    "    if 'conv' in layer.name:\n",
    "        weights, bias= layer.get_weights()\n",
    "        print(layer.name, filters.shape)"
   ]
  },
  {
   "cell_type": "code",
   "execution_count": 27,
   "metadata": {},
   "outputs": [
    {
     "name": "stdout",
     "output_type": "stream",
     "text": [
      "8\n"
     ]
    }
   ],
   "source": [
    "#normalize filter values between 0 and 1 for visualization\n",
    "f_min, f_max = weights.min(), weights.max()\n",
    "filters = (weights - f_min) / (f_max - f_min)  \n",
    "print(filters.shape[3])\n",
    "filter_cnt=1"
   ]
  },
  {
   "cell_type": "code",
   "execution_count": 32,
   "metadata": {},
   "outputs": [
    {
     "data": {
      "image/png": "[encoded data removed]",
      "text/plain": [
       "<Figure size 432x288 with 24 Axes>"
      ]
     },
     "metadata": {},
     "output_type": "display_data"
    }
   ],
   "source": [
    "#plotting all the filters\n",
    "filter_cnt = 1\n",
    "for i in range(filters.shape[3]):\n",
    "    #get the filters\n",
    "    filt=filters[:,:,:,i]\n",
    "    #plotting each of the channel, color image RGB channels\n",
    "    for j in range(filters.shape[0]):\n",
    "        ax= plt.subplot(filters.shape[3], filters.shape[0], filter_cnt)\n",
    "        ax.set_xticks([])\n",
    "        ax.set_yticks([])\n",
    "        plt.imshow(filt[:,:,:], cmap = 'Blues')\n",
    "        filter_cnt+=1\n",
    "plt.show()"
   ]
  },
  {
   "cell_type": "code",
   "execution_count": 33,
   "metadata": {},
   "outputs": [
    {
     "data": {
      "text/plain": [
       "array([[[0.42008075],\n",
       "        [0.59515166],\n",
       "        [0.3518199 ]],\n",
       "\n",
       "       [[0.29819727],\n",
       "        [0.3070597 ],\n",
       "        [0.02418828]],\n",
       "\n",
       "       [[0.14303386],\n",
       "        [0.45222193],\n",
       "        [0.591597  ]]], dtype=float32)"
      ]
     },
     "execution_count": 33,
     "metadata": {},
     "output_type": "execute_result"
    }
   ],
   "source": [
    "filters[:, :, :, 0]"
   ]
  },
  {
   "cell_type": "code",
   "execution_count": null,
   "metadata": {},
   "outputs": [],
   "source": []
  }
 ],
 "metadata": {
  "kernelspec": {
   "display_name": "Python 3",
   "language": "python",
   "name": "python3"
  },
  "language_info": {
   "codemirror_mode": {
    "name": "ipython",
    "version": 3
   },
   "file_extension": ".py",
   "mimetype": "text/x-python",
   "name": "python",
   "nbconvert_exporter": "python",
   "pygments_lexer": "ipython3",
   "version": "3.7.6"
  }
 },
 "nbformat": 4,
 "nbformat_minor": 4
}
