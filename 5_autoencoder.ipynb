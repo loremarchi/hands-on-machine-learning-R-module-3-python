{
 "cells": [
  {
   "cell_type": "markdown",
   "metadata": {},
   "source": [
    "# Auto Encoders"
   ]
  },
  {
   "cell_type": "markdown",
   "metadata": {},
   "source": [
    "- Compress input data in limited number of features\n",
    "- Unsupervised learning\n",
    "- Dimensionality reduction\n",
    "- Few nodes in the center indicate lower-dimensional feature space\n",
    "- Similarly to PCA, we should be able to accurately generate the original data"
   ]
  },
  {
   "cell_type": "code",
   "execution_count": 13,
   "metadata": {},
   "outputs": [],
   "source": [
    "import pandas as pd\n",
    "import numpy as np\n",
    "import tensorflow as tf\n",
    "import matplotlib.pyplot as plt"
   ]
  },
  {
   "cell_type": "code",
   "execution_count": 2,
   "metadata": {},
   "outputs": [],
   "source": [
    "# load and normalize\n",
    "(x_train, y_train), (x_test, y_test) = tf.keras.datasets.mnist.load_data()\n",
    "x_train = x_train/255\n",
    "x_test = x_test/255"
   ]
  },
  {
   "cell_type": "code",
   "execution_count": 3,
   "metadata": {},
   "outputs": [],
   "source": [
    "x_train = x_train.reshape(60000, 784)"
   ]
  },
  {
   "cell_type": "code",
   "execution_count": 4,
   "metadata": {},
   "outputs": [],
   "source": [
    "# model set-up\n",
    "input_img = tf.keras.layers.Input(shape=(784,))\n",
    "# encoder\n",
    "encoder_1 = tf.keras.layers.Dense(units = 128, activation = 'sigmoid')(input_img)\n",
    "encoder_2 = tf.keras.layers.Dense(units = 32, activation = 'sigmoid')(encoder_1)\n",
    "# normalizer\n",
    "norm = tf.keras.layers.LayerNormalization()(encoder_2)\n",
    "# decoder\n",
    "decoder_1 = tf.keras.layers.Dense(units = 128, activation = 'sigmoid')(norm)\n",
    "decoder_2 = tf.keras.layers.Dense(units = 784, activation = 'sigmoid')(decoder_1) "
   ]
  },
  {
   "cell_type": "code",
   "execution_count": 5,
   "metadata": {},
   "outputs": [
    {
     "name": "stdout",
     "output_type": "stream",
     "text": [
      "Train on 48000 samples, validate on 12000 samples\n",
      "Epoch 1/10\n",
      "48000/48000 [==============================] - 3s 67us/sample - loss: 0.2608 - mse: 0.0642 - val_loss: 0.1997 - val_mse: 0.0456\n",
      "Epoch 2/10\n",
      "48000/48000 [==============================] - 2s 46us/sample - loss: 0.1825 - mse: 0.0398 - val_loss: 0.1685 - val_mse: 0.0349\n",
      "Epoch 3/10\n",
      "48000/48000 [==============================] - 2s 47us/sample - loss: 0.1619 - mse: 0.0328 - val_loss: 0.1567 - val_mse: 0.0313\n",
      "Epoch 4/10\n",
      "48000/48000 [==============================] - 2s 47us/sample - loss: 0.1511 - mse: 0.0292 - val_loss: 0.1477 - val_mse: 0.0281\n",
      "Epoch 5/10\n",
      "48000/48000 [==============================] - 2s 45us/sample - loss: 0.1421 - mse: 0.0261 - val_loss: 0.1377 - val_mse: 0.0246\n",
      "Epoch 6/10\n",
      "48000/48000 [==============================] - 2s 47us/sample - loss: 0.1337 - mse: 0.0232 - val_loss: 0.1308 - val_mse: 0.0223\n",
      "Epoch 7/10\n",
      "48000/48000 [==============================] - 2s 46us/sample - loss: 0.1275 - mse: 0.0212 - val_loss: 0.1256 - val_mse: 0.0206\n",
      "Epoch 8/10\n",
      "48000/48000 [==============================] - 2s 43us/sample - loss: 0.1229 - mse: 0.0197 - val_loss: 0.1215 - val_mse: 0.0194\n",
      "Epoch 9/10\n",
      "48000/48000 [==============================] - 2s 43us/sample - loss: 0.1188 - mse: 0.0184 - val_loss: 0.1178 - val_mse: 0.0179\n",
      "Epoch 10/10\n",
      "48000/48000 [==============================] - 2s 43us/sample - loss: 0.1155 - mse: 0.0173 - val_loss: 0.1142 - val_mse: 0.0167\n"
     ]
    },
    {
     "data": {
      "text/plain": [
       "<tensorflow.python.keras.callbacks.History at 0x21bdcd45648>"
      ]
     },
     "execution_count": 5,
     "metadata": {},
     "output_type": "execute_result"
    }
   ],
   "source": [
    "# maps input to its output (reconstructed input)\n",
    "autoencoder = tf.keras.models.Model(inputs=input_img, outputs=decoder_2)\n",
    "autoencoder.compile(optimizer = 'RMSprop', loss='binary_crossentropy', metrics = ['mse'])\n",
    "autoencoder.fit(x_train,\n",
    "                x_train,\n",
    "                epochs = 10,\n",
    "                batch_size = 256,\n",
    "                shuffle = True,\n",
    "                validation_split = 0.2)"
   ]
  },
  {
   "cell_type": "markdown",
   "metadata": {},
   "source": [
    "### The big test"
   ]
  },
  {
   "cell_type": "code",
   "execution_count": 71,
   "metadata": {},
   "outputs": [
    {
     "data": {
      "text/plain": [
       "(10000, 784)"
      ]
     },
     "execution_count": 71,
     "metadata": {},
     "output_type": "execute_result"
    }
   ],
   "source": [
    "# adjusting dim\n",
    "test_2d = test.reshape((test.shape[0], -1)); test_2d.shape"
   ]
  },
  {
   "cell_type": "code",
   "execution_count": 70,
   "metadata": {},
   "outputs": [],
   "source": [
    "# prediction\n",
    "result = autoencoder.predict(test_2d)"
   ]
  },
  {
   "cell_type": "code",
   "execution_count": 72,
   "metadata": {},
   "outputs": [
    {
     "data": {
      "image/png": "[encoded data removed]",
      "text/plain": [
       "<Figure size 432x288 with 2 Axes>"
      ]
     },
     "metadata": {
      "needs_background": "light"
     },
     "output_type": "display_data"
    }
   ],
   "source": [
    "# plotting original vs reconstructed\n",
    "index = 11\n",
    "_, ax = plt.subplots(1,2)\n",
    "ax[0].imshow(x_test[index], cmap='gray') # the original image\n",
    "ax[0].title.set_text('Original Image')\n",
    "ax[1].imshow(result[index,:].reshape((28,28)), cmap = 'gray') # the reconstruction of the model\n",
    "ax[1].title.set_text('Reconstructed image')"
   ]
  },
  {
   "cell_type": "markdown",
   "metadata": {},
   "source": [
    "### What happens with random noise?"
   ]
  },
  {
   "cell_type": "code",
   "execution_count": 73,
   "metadata": {},
   "outputs": [],
   "source": [
    "# generate random vector\n",
    "new_input = np.random.rand(1,28*28)"
   ]
  },
  {
   "cell_type": "code",
   "execution_count": 74,
   "metadata": {},
   "outputs": [],
   "source": [
    "# model prediction\n",
    "new_pred = autoencoder.predict(new_input)"
   ]
  },
  {
   "cell_type": "code",
   "execution_count": 75,
   "metadata": {},
   "outputs": [
    {
     "data": {
      "image/png": "[encoded data removed]",
      "text/plain": [
       "<Figure size 432x288 with 2 Axes>"
      ]
     },
     "metadata": {
      "needs_background": "light"
     },
     "output_type": "display_data"
    }
   ],
   "source": [
    "_, ax = plt.subplots(1,2)\n",
    "ax[0].imshow(new_input.reshape((28,28)), cmap='gray') # the original image\n",
    "ax[0].title.set_text('Original Image')\n",
    "ax[1].imshow(result_p.reshape((28,28)), cmap='gray') # the reconstruction of the model\n",
    "ax[1].title.set_text('Reconstructed image')"
   ]
  },
  {
   "cell_type": "code",
   "execution_count": null,
   "metadata": {},
   "outputs": [],
   "source": []
  }
 ],
 "metadata": {
  "kernelspec": {
   "display_name": "Python 3",
   "language": "python",
   "name": "python3"
  },
  "language_info": {
   "codemirror_mode": {
    "name": "ipython",
    "version": 3
   },
   "file_extension": ".py",
   "mimetype": "text/x-python",
   "name": "python",
   "nbconvert_exporter": "python",
   "pygments_lexer": "ipython3",
   "version": "3.7.6"
  }
 },
 "nbformat": 4,
 "nbformat_minor": 4
}
