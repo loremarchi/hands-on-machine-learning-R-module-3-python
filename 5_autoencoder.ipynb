{
 "cells": [
  {
   "cell_type": "markdown",
   "metadata": {},
   "source": [
    "# 5. Auto Encoders"
   ]
  },
  {
   "cell_type": "markdown",
   "metadata": {},
   "source": [
    "Auto encoders compress input data into a limited number of features. In details:\n",
    "* Unsupervised machine learning algorithm.\n",
    "* Dimension reduction of the input data, comparable with PCA.\n",
    "* Few nodes in the center indicate lower-dimensional feature space\n",
    "* Similarly to PCA, we should be able to accurately generate the original data\n"
   ]
  },
  {
   "cell_type": "markdown",
   "metadata": {},
   "source": [
    "<img src=\"./imgs/autoencoder.jpg\" alt=\"autoencoder_schema\" style=\"width: 600px;\"/>"
   ]
  },
  {
   "cell_type": "code",
   "execution_count": 3,
   "metadata": {},
   "outputs": [],
   "source": [
    "# loading packages\n",
    "import pandas as pd\n",
    "import numpy as np\n",
    "import tensorflow as tf\n",
    "import matplotlib.pyplot as plt"
   ]
  },
  {
   "cell_type": "code",
   "execution_count": 4,
   "metadata": {},
   "outputs": [],
   "source": [
    "# load mnist and data normalization\n",
    "(x_train, y_train), (x_test, y_test) = tf.keras.datasets.mnist.load_data()\n",
    "x_train = x_train/255\n",
    "x_test = x_test/255"
   ]
  },
  {
   "cell_type": "markdown",
   "metadata": {},
   "source": [
    "Note that x_train is a 3D numpy array:"
   ]
  },
  {
   "cell_type": "code",
   "execution_count": 9,
   "metadata": {},
   "outputs": [
    {
     "name": "stdout",
     "output_type": "stream",
     "text": [
      "data type: <class 'numpy.ndarray'>, data shape: (60000, 28, 28)\n"
     ]
    }
   ],
   "source": [
    "print(f'data type: {type(x_train)}, data shape: {x_train.shape}')"
   ]
  },
  {
   "cell_type": "markdown",
   "metadata": {},
   "source": [
    "The 3D numpy array is rearranged and a picture is represented as a single vector (and not as a \"matrix of pixels\"):"
   ]
  },
  {
   "cell_type": "code",
   "execution_count": 10,
   "metadata": {},
   "outputs": [],
   "source": [
    "# reshaping array from 3D to 2D\n",
    "x_train = x_train.reshape(60000, 784)"
   ]
  },
  {
   "cell_type": "markdown",
   "metadata": {},
   "source": [
    "### 5.1 Implementation"
   ]
  },
  {
   "cell_type": "markdown",
   "metadata": {},
   "source": [
    "The following steps guide you in constructing and training your personal auto encoder for the MNIST dataset:\n",
    "* Make a sketch of the neural network that you will implement\n",
    "* Define a neural network with 5 layers:\n",
    "    * Layer 1: input (784 nodes)\n",
    "    * Layer 2: Hidden layer (128 nodes)\n",
    "    * Layer 3: Hidden layer (32 nodes), this is the compressed feature space\n",
    "    * Layer 4: Hidden layer (128 nodes)\n",
    "    * Layer 5: Output layer (784 nodes)\n",
    "* Choose an appropriate activation function for each layer:\n",
    "    * identity\n",
    "    * ReLU\n",
    "    * sigmoid\n",
    "    * softmax\n",
    "* Which of these loss functions can we use to train the model?\n",
    "    * mse\n",
    "    * binary_crossentropy\n",
    "    * categorical_crossentropy\n",
    "* Fit the model on the MNIST data in 10 epochs.\n",
    "* Experiment with adding other layer types to the model:\n",
    "    * layer_gaussian_noise(stddev)\n",
    "    * layer_dropout(rate)\n",
    "    * layer_batch_normalization()\n"
   ]
  },
  {
   "cell_type": "markdown",
   "metadata": {},
   "source": [
    "The Auto encoder can be implemented using both Keras [_Sequential API_](https://www.tensorflow.org/api_docs/python/tf/keras/Sequential) and [_Functional API_](https://www.tensorflow.org/guide/keras/functional). The latter allows for more flexibility when implementing complex models that include shared layers, multiple inputs, etc. We show both implementations. Note that _tf.keras.Sequential()_ and _tf.keras.models.Sequential()_ deploy the same functionality. The difference is due to package renaming when transitioning from version 1.x to 2.x."
   ]
  },
  {
   "cell_type": "markdown",
   "metadata": {},
   "source": [
    "### 5.1.1 Implementation via Sequential API"
   ]
  },
  {
   "cell_type": "code",
   "execution_count": 22,
   "metadata": {},
   "outputs": [
    {
     "name": "stdout",
     "output_type": "stream",
     "text": [
      "Train on 48000 samples, validate on 12000 samples\n",
      "Epoch 1/10\n",
      "48000/48000 [==============================] - 3s 62us/sample - loss: 0.2613 - mse: 0.0644 - val_loss: 0.1990 - val_mse: 0.0448\n",
      "Epoch 2/10\n",
      "48000/48000 [==============================] - 2s 43us/sample - loss: 0.1811 - mse: 0.0392 - val_loss: 0.1680 - val_mse: 0.0348\n",
      "Epoch 3/10\n",
      "48000/48000 [==============================] - 2s 45us/sample - loss: 0.1612 - mse: 0.0326 - val_loss: 0.1562 - val_mse: 0.0308\n",
      "Epoch 4/10\n",
      "48000/48000 [==============================] - 2s 44us/sample - loss: 0.1509 - mse: 0.0291 - val_loss: 0.1471 - val_mse: 0.0276\n",
      "Epoch 5/10\n",
      "48000/48000 [==============================] - 2s 46us/sample - loss: 0.1415 - mse: 0.0259 - val_loss: 0.1384 - val_mse: 0.0250\n",
      "Epoch 6/10\n",
      "48000/48000 [==============================] - 2s 45us/sample - loss: 0.1335 - mse: 0.0232 - val_loss: 0.1307 - val_mse: 0.0222\n",
      "Epoch 7/10\n",
      "48000/48000 [==============================] - 2s 45us/sample - loss: 0.1280 - mse: 0.0214 - val_loss: 0.1260 - val_mse: 0.0206\n",
      "Epoch 8/10\n",
      "48000/48000 [==============================] - 2s 46us/sample - loss: 0.1233 - mse: 0.0198 - val_loss: 0.1220 - val_mse: 0.0193\n",
      "Epoch 9/10\n",
      "48000/48000 [==============================] - 2s 44us/sample - loss: 0.1192 - mse: 0.0185 - val_loss: 0.1183 - val_mse: 0.0181\n",
      "Epoch 10/10\n",
      "48000/48000 [==============================] - 2s 45us/sample - loss: 0.1158 - mse: 0.0174 - val_loss: 0.1157 - val_mse: 0.0174\n"
     ]
    },
    {
     "data": {
      "text/plain": [
       "<tensorflow.python.keras.callbacks.History at 0x1d574699d08>"
      ]
     },
     "execution_count": 22,
     "metadata": {},
     "output_type": "execute_result"
    }
   ],
   "source": [
    "autoencoder_sequential = tf.keras.models.Sequential() # or tf.keras.Sequential()\n",
    "autoencoder_sequential.add(tf.keras.layers.Dense(units = 128, activation = 'sigmoid', input_shape = (784,)))\n",
    "autoencoder_sequential.add(tf.keras.layers.Dense(units = 32, activation = 'sigmoid'))\n",
    "autoencoder_sequential.add(tf.keras.layers.LayerNormalization())\n",
    "autoencoder_sequential.add(tf.keras.layers.Dense(units = 128, activation = 'sigmoid'))\n",
    "autoencoder_sequential.add(tf.keras.layers.Dense(units = 784, activation = 'sigmoid'))\n",
    "autoencoder_sequential.compile(optimizer = 'RMSprop', loss='binary_crossentropy', metrics = ['mse'])\n",
    "autoencoder_sequential.fit(x_train,\n",
    "                x_train,\n",
    "                epochs = 10,\n",
    "                batch_size = 256,\n",
    "                shuffle = True, # shuffles the training dataset after each epoch\n",
    "                validation_split = 0.2)"
   ]
  },
  {
   "cell_type": "markdown",
   "metadata": {},
   "source": [
    "### 5.1.2 Implementation via Functional API"
   ]
  },
  {
   "cell_type": "code",
   "execution_count": 29,
   "metadata": {},
   "outputs": [
    {
     "name": "stdout",
     "output_type": "stream",
     "text": [
      "Train on 48000 samples, validate on 12000 samples\n",
      "Epoch 1/10\n",
      "48000/48000 [==============================] - 3s 61us/sample - loss: 0.2619 - mse: 0.0646 - val_loss: 0.2010 - val_mse: 0.0455\n",
      "Epoch 2/10\n",
      "48000/48000 [==============================] - 2s 35us/sample - loss: 0.1838 - mse: 0.0403 - val_loss: 0.1712 - val_mse: 0.0358\n",
      "Epoch 3/10\n",
      "48000/48000 [==============================] - 2s 36us/sample - loss: 0.1627 - mse: 0.0331 - val_loss: 0.1569 - val_mse: 0.0308\n",
      "Epoch 4/10\n",
      "48000/48000 [==============================] - 2s 36us/sample - loss: 0.1509 - mse: 0.0291 - val_loss: 0.1463 - val_mse: 0.0277\n",
      "Epoch 5/10\n",
      "48000/48000 [==============================] - 2s 37us/sample - loss: 0.1408 - mse: 0.0256 - val_loss: 0.1366 - val_mse: 0.0241\n",
      "Epoch 6/10\n",
      "48000/48000 [==============================] - 2s 36us/sample - loss: 0.1329 - mse: 0.0229 - val_loss: 0.1306 - val_mse: 0.0219\n",
      "Epoch 7/10\n",
      "48000/48000 [==============================] - 2s 35us/sample - loss: 0.1269 - mse: 0.0210 - val_loss: 0.1251 - val_mse: 0.0203\n",
      "Epoch 8/10\n",
      "48000/48000 [==============================] - 2s 38us/sample - loss: 0.1223 - mse: 0.0195 - val_loss: 0.1216 - val_mse: 0.0193\n",
      "Epoch 9/10\n",
      "48000/48000 [==============================] - 2s 38us/sample - loss: 0.1186 - mse: 0.0183 - val_loss: 0.1173 - val_mse: 0.0179\n",
      "Epoch 10/10\n",
      "48000/48000 [==============================] - 2s 36us/sample - loss: 0.1156 - mse: 0.0173 - val_loss: 0.1146 - val_mse: 0.0169\n"
     ]
    },
    {
     "data": {
      "text/plain": [
       "<tensorflow.python.keras.callbacks.History at 0x1d500238dc8>"
      ]
     },
     "execution_count": 29,
     "metadata": {},
     "output_type": "execute_result"
    }
   ],
   "source": [
    "# model set-up\n",
    "input_img = tf.keras.layers.Input(shape=(784,))\n",
    "\n",
    "# encoder\n",
    "encoder_bb_1 = tf.keras.layers.Dense(units = 128, activation = 'sigmoid')(input_img)\n",
    "encoder_bb_2 = tf.keras.layers.Dense(units = 32, activation = 'sigmoid')(encoder_bb_1)\n",
    "\n",
    "# normalizer\n",
    "norm_bb = tf.keras.layers.LayerNormalization()(encoder_bb_2)\n",
    "\n",
    "# decoder\n",
    "decoder_bb_1 = tf.keras.layers.Dense(units = 128, activation = 'sigmoid')(norm_bb)\n",
    "decoder_bb_2 = tf.keras.layers.Dense(units = 784, activation = 'sigmoid')(decoder_bb_1) \n",
    "\n",
    "# maps input to its output (reconstructed input)\n",
    "autoencoder_functional = tf.keras.models.Model(inputs=input_img, outputs=decoder_bb_2)\n",
    "autoencoder_functional.compile(optimizer = 'RMSprop', loss='binary_crossentropy', metrics = ['mse'])\n",
    "autoencoder_functional.fit(x_train,\n",
    "                x_train,\n",
    "                epochs = 10,\n",
    "                batch_size = 256,\n",
    "                shuffle = True,\n",
    "                validation_split = 0.2)"
   ]
  },
  {
   "cell_type": "markdown",
   "metadata": {},
   "source": [
    "### 5.2 The big test"
   ]
  },
  {
   "cell_type": "code",
   "execution_count": 89,
   "metadata": {},
   "outputs": [
    {
     "data": {
      "text/plain": [
       "(10000, 784)"
      ]
     },
     "execution_count": 89,
     "metadata": {},
     "output_type": "execute_result"
    }
   ],
   "source": [
    "# adjusting dim of test set\n",
    "x_test_2d = x_test.reshape((x_test.shape[0], -1)); x_test_2d.shape"
   ]
  },
  {
   "cell_type": "code",
   "execution_count": 90,
   "metadata": {},
   "outputs": [],
   "source": [
    "# pool fitted models in a list\n",
    "model_set = [autoencoder_sequential, autoencoder_functional]"
   ]
  },
  {
   "cell_type": "code",
   "execution_count": 91,
   "metadata": {},
   "outputs": [],
   "source": [
    "# prediction over x_test_2d using both sequential and functional implementations\n",
    "result = [x.predict(x_test_2d) for x in model_set]"
   ]
  },
  {
   "cell_type": "code",
   "execution_count": 99,
   "metadata": {},
   "outputs": [
    {
     "data": {
      "image/png": "[encoded data removed]",
      "text/plain": [
       "<Figure size 936x936 with 3 Axes>"
      ]
     },
     "metadata": {
      "needs_background": "light"
     },
     "output_type": "display_data"
    }
   ],
   "source": [
    "# plotting original vs reconstructed\n",
    "index = 58\n",
    "\n",
    "_, ax = plt.subplots(1,3,figsize=(13,13))\n",
    "_.tight_layout()\n",
    "\n",
    "# display prediction of fitted Sequential implementation vs original data\n",
    "ax[0].imshow(x_test[index], cmap='gray') # the original image\n",
    "ax[0].title.set_text('Original Image')\n",
    "ax[1].imshow(result[0][index,:].reshape((28,28)), cmap = 'gray') # reconstruction of the model (how the latest layer looks like)\n",
    "ax[1].title.set_text('Reconstructed image (Sequential)')\n",
    "\n",
    "# display prediction of fitted Functional implementation vs original data\n",
    "ax[2].imshow(result[1][index,:].reshape((28,28)), cmap = 'gray')\n",
    "ax[2].title.set_text('Reconstructed image (Functional)')"
   ]
  },
  {
   "cell_type": "markdown",
   "metadata": {},
   "source": [
    "### 5.3 What happens with random noise?"
   ]
  },
  {
   "cell_type": "code",
   "execution_count": 93,
   "metadata": {},
   "outputs": [],
   "source": [
    "# generate random vector\n",
    "new_input = np.random.rand(1,28*28)"
   ]
  },
  {
   "cell_type": "code",
   "execution_count": 94,
   "metadata": {},
   "outputs": [],
   "source": [
    "# model prediction\n",
    "pred_sequential = autoencoder_sequential.predict(new_input)\n",
    "pred_functional = autoencoder_functional.predict(new_input)"
   ]
  },
  {
   "cell_type": "code",
   "execution_count": 95,
   "metadata": {},
   "outputs": [
    {
     "data": {
      "image/png": "[encoded data removed]",
      "text/plain": [
       "<Figure size 936x936 with 3 Axes>"
      ]
     },
     "metadata": {
      "needs_background": "light"
     },
     "output_type": "display_data"
    }
   ],
   "source": [
    "_, ax = plt.subplots(1,3,figsize=(13,13))\n",
    "_.tight_layout()\n",
    "\n",
    "ax[0].imshow(new_input.reshape((28,28)), cmap='gray') # the original image\n",
    "ax[0].title.set_text('Original Image')\n",
    "ax[1].imshow(pred_sequential.reshape((28,28)), cmap='gray') # what the model reconstructs\n",
    "ax[1].title.set_text('Reconstructed image (Sequential)')\n",
    "ax[2].imshow(pred_functional.reshape((28,28)), cmap='gray')\n",
    "ax[2].title.set_text('Reconstructed image (Functional)')"
   ]
  }
 ],
 "metadata": {
  "kernelspec": {
   "display_name": "Python 3",
   "language": "python",
   "name": "python3"
  },
  "language_info": {
   "codemirror_mode": {
    "name": "ipython",
    "version": 3
   },
   "file_extension": ".py",
   "mimetype": "text/x-python",
   "name": "python",
   "nbconvert_exporter": "python",
   "pygments_lexer": "ipython3",
   "version": "3.7.6"
  }
 },
 "nbformat": 4,
 "nbformat_minor": 4
}
